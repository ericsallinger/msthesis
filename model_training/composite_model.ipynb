{
 "cells": [
  {
   "cell_type": "markdown",
   "metadata": {},
   "source": [
    "#### Human activity classification with composite feature representations"
   ]
  },
  {
   "cell_type": "code",
   "execution_count": 1,
   "metadata": {},
   "outputs": [],
   "source": [
    "import torch\n",
    "import numpy as np\n",
    "import os\n",
    "import pandas as pd\n",
    "import json\n",
    "import sys\n",
    "\n",
    "import torch\n",
    "import torch.nn.functional as F\n",
    "\n",
    "import skopt\n",
    "from skopt import gp_minimize\n",
    "from skopt.space import Integer, Real\n",
    "from skopt import callbacks\n",
    "from skopt.callbacks import CheckpointSaver\n",
    "\n",
    "import matplotlib.pyplot as plt\n",
    "import seaborn as sns\n",
    "%matplotlib inline"
   ]
  },
  {
   "cell_type": "code",
   "execution_count": 2,
   "metadata": {},
   "outputs": [
    {
     "data": {
      "text/plain": [
       "'c:\\\\Users\\\\arthu\\\\AppData\\\\Local\\\\Programs\\\\Python\\\\Python311\\\\python.exe'"
      ]
     },
     "execution_count": 2,
     "metadata": {},
     "output_type": "execute_result"
    }
   ],
   "source": [
    "sys.executable"
   ]
  },
  {
   "cell_type": "code",
   "execution_count": 3,
   "metadata": {},
   "outputs": [],
   "source": [
    "\n",
    "module_dir = \"../modules\"\n",
    "if module_dir not in sys.path:\n",
    "    sys.path.append(module_dir)  \n",
    "from composite_training_loop import train_and_save_comp_model\n",
    "from frame_dataloader_heavy import WorkloadFrame\n",
    "import utils\n",
    "\n",
    "# if there is trouble installing modules: compare python paths used in notebooks vs cmd\n",
    "# print(sys.executable)\n",
    "# !python -c \"import sys; print(sys.executable)\"\n",
    "\n",
    "# install modules to the currently used python path in cmd\n",
    "#%pip install scikit-optimize\n",
    "# OR\n",
    "#\"C:\\path\\to\\your\\jupyter\\python.exe\" -m pip install scikit-optimize\n",
    "\n",
    "# check what env jupyter is using, install the correct one\n",
    "# jupyter kernelspec list\n",
    "# python -m ipykernel install --user --name myenv --display-name \"Python (myenv)\"\n",
    "\n",
    "# saving project requirements:\n",
    "# pip freeze > requirements.txt\n",
    "# pip install -r requirements.txt\n",
    "\n"
   ]
  },
  {
   "cell_type": "code",
   "execution_count": 122,
   "metadata": {},
   "outputs": [],
   "source": [
    "# load dataset\n",
    "file_dir='..\\\\files'\n",
    "#  file group: 'phys', 'cog'\n",
    "group='cog'\n",
    "# signal channel to resample to: 'temp', 'hrv, 'hr', 'hbo', 'eda'\n",
    "resample='temp'\n",
    "# size of sliding window relative to shortest signal length; always 50% overlap between windows\n",
    "context_length=0.5\n",
    "frames = WorkloadFrame(dir=file_dir, group=group, resample=resample, context_length=context_length)"
   ]
  },
  {
   "cell_type": "code",
   "execution_count": 5,
   "metadata": {},
   "outputs": [],
   "source": [
    "#import model heads\n",
    "from stat_features.stat_features import StatFeatures\n",
    "from baseline.encoder_classifier import Conv\n",
    "from autoencoder.convolutional_autoencoder import ConvAE\n",
    "\n",
    "from frame_dataloader_heavy import WorkloadFrame\n",
    "from composite_training_loop import train_and_save_comp_model\n"
   ]
  },
  {
   "cell_type": "markdown",
   "metadata": {},
   "source": [
    "### Bayesian Parameter Optimization\n",
    "\n",
    "Finds objective Loss function of model hyperparameters \n",
    "\n",
    "- randomly samples parameter space via initial_point_generator for n_initialial_points\n",
    "- observes function values and approximates function with gaussian prior\n",
    "- updates prior based on observed values\n",
    "\n",
    "The optimization result returned as a OptimizeResult object. Saved attributes are:\n",
    "```\n",
    "x [list]: location of the minimum.\n",
    "\n",
    "fun [float]: function value at the minimum.\n",
    "\n",
    "x_iters [list of lists]: location of function evaluation for each iteration.\n",
    "\n",
    "func_vals [array]: function value for each iteration.\n",
    "\n",
    "space [Space]: the optimization space\n",
    "\n",
    "specs [dict]`: the call specifications.\n",
    "\n",
    "rng [RandomState instance]: State of the random state at the end of minimization.\n",
    "```\n",
    "For more details related to the OptimizeResult object, see [here](http://docs.scipy.org/doc/scipy/reference/generated/scipy.optimize.OptimizeResult.html)\n",
    "\n",
    "for more, see [Documentation](https://scikit-optimize.github.io/stable/modules/generated/skopt.gp_minimize.html#skopt.gp_minimize)"
   ]
  },
  {
   "cell_type": "markdown",
   "metadata": {},
   "source": [
    "#### Baseline Convolutional Model Training Hyperparam Search"
   ]
  },
  {
   "cell_type": "code",
   "execution_count": null,
   "metadata": {},
   "outputs": [],
   "source": [
    "torch.cuda.empty_cache()\n",
    "# single head model\n",
    "# -1: tune all layers | 0: tune no layers | i : tune only the last i layers; [:-i] are frozen\n",
    "tune_layers = -1\n",
    "num_epochs = 40\n",
    "batch_size = 64\n",
    "# initlr = 1e-3\n",
    "# step_size = 5\n",
    "gamma = 0.5\n",
    "\n",
    "save_filepath = \"..\\\\saved_models\\\\conv\\\\r1_initlr_stepsize\\\\\"# + f'tune_layers_{tune_layers!=0}\\\\'\n",
    "\n",
    "# bayesion parameter optimization\n",
    "optim_name = 'testforblog'\n",
    "checkpoint_saver = CheckpointSaver(save_filepath+optim_name+'.pkl', compress=9)\n",
    "\n",
    "param_space = [\n",
    "    Real(1e-3, 1e-1, name='initlr'), # latent dimension\n",
    "    Integer(1,  20, name='step_size'), # hidden layer dimension\n",
    "]\n",
    "\n",
    "def objective_error_param_search(x):\n",
    "    initlr, step_size = float(x[0]), int(x[1])\n",
    "\n",
    "    conv_cfg = {'input_shape':frames[0][0].shape[-2:], 'latent_dim':24, 'channels':[1, 8, 16], 'kernel':(10, 2)}\n",
    "    conv = {'model': Conv(**conv_cfg), 'output_fn': 'encode', 'output_dim':24, 'tune_layers':tune_layers}\n",
    "\n",
    "    comp_cfg = {\n",
    "        'metadata':[conv_cfg],\n",
    "        'hidden_dim':36,\n",
    "        'num_epochs':num_epochs, \n",
    "        'batch_size':batch_size,\n",
    "        'initlr':initlr\n",
    "    }\n",
    "\n",
    "    accuracy = train_and_save_comp_model(comp_cfg, model_list=[conv], dataset=frames, save_filepath=save_filepath, id=f\"{'-'.join([str(initlr), str(step_size)])}\", step_size=step_size, gamma=gamma)\n",
    "    print(f'Achieved final accuracy of {accuracy}')\n",
    "    error = 1-accuracy\n",
    "    return error"
   ]
  },
  {
   "cell_type": "code",
   "execution_count": 107,
   "metadata": {},
   "outputs": [
    {
     "name": "stdout",
     "output_type": "stream",
     "text": [
      "Iteration No: 1 started. Evaluating function at random point.\n",
      "Modell initialised. Shapes: \n",
      " torch.Size([64, 1, 129, 5]) torch.Size([64, 4]) 1.4967658519744873\n",
      "No existing log data found for comp_classifier_0.02350656890282006-7_hdim19_param19629 in ..\\saved_models\\conv\\r1_initlr_stepsize\\. Creating new one\n",
      "Ready to begin training from 0 epoch. \n",
      " (device(type='cuda', index=0), '..\\\\saved_models\\\\conv\\\\r1_initlr_stepsize\\\\', 'comp_classifier_0.02350656890282006-7_hdim19_param19629')\n"
     ]
    },
    {
     "name": "stderr",
     "output_type": "stream",
     "text": [
      "                                                                       \r"
     ]
    },
    {
     "name": "stdout",
     "output_type": "stream",
     "text": [
      "Achieved final accuracy of 0.7454068064689636\n",
      "Iteration No: 1 ended. Evaluation done at random point.\n",
      "Time taken: 31.2747\n",
      "Function value obtained: 0.2546\n",
      "Current minimum: 0.2546\n",
      "Iteration No: 2 started. Evaluating function at random point.\n",
      "Modell initialised. Shapes: \n",
      " torch.Size([64, 1, 129, 5]) torch.Size([64, 4]) 1.4119727611541748\n",
      "No existing log data found for comp_classifier_0.09784406681077969-10_hdim19_param19629 in ..\\saved_models\\conv\\r1_initlr_stepsize\\. Creating new one\n",
      "Ready to begin training from 0 epoch. \n",
      " (device(type='cuda', index=0), '..\\\\saved_models\\\\conv\\\\r1_initlr_stepsize\\\\', 'comp_classifier_0.09784406681077969-10_hdim19_param19629')\n"
     ]
    },
    {
     "name": "stderr",
     "output_type": "stream",
     "text": [
      "                                                                       \r"
     ]
    },
    {
     "name": "stdout",
     "output_type": "stream",
     "text": [
      "Achieved final accuracy of 0.7191600799560547\n",
      "Iteration No: 2 ended. Evaluation done at random point.\n",
      "Time taken: 33.4608\n",
      "Function value obtained: 0.2808\n",
      "Current minimum: 0.2546\n",
      "Iteration No: 3 started. Evaluating function at random point.\n",
      "Modell initialised. Shapes: \n",
      " torch.Size([64, 1, 129, 5]) torch.Size([64, 4]) 1.5035455226898193\n",
      "No existing log data found for comp_classifier_0.0314932637535862-6_hdim19_param19629 in ..\\saved_models\\conv\\r1_initlr_stepsize\\. Creating new one\n",
      "Ready to begin training from 0 epoch. \n",
      " (device(type='cuda', index=0), '..\\\\saved_models\\\\conv\\\\r1_initlr_stepsize\\\\', 'comp_classifier_0.0314932637535862-6_hdim19_param19629')\n"
     ]
    },
    {
     "name": "stderr",
     "output_type": "stream",
     "text": [
      "                                                                       \r"
     ]
    },
    {
     "name": "stdout",
     "output_type": "stream",
     "text": [
      "Achieved final accuracy of 0.6692913174629211\n",
      "Iteration No: 3 ended. Evaluation done at random point.\n",
      "Time taken: 32.8921\n",
      "Function value obtained: 0.3307\n",
      "Current minimum: 0.2546\n",
      "Iteration No: 4 started. Evaluating function at random point.\n",
      "Modell initialised. Shapes: \n",
      " torch.Size([64, 1, 129, 5]) torch.Size([64, 4]) 1.4054055213928223\n",
      "No existing log data found for comp_classifier_0.009587599554159203-9_hdim19_param19629 in ..\\saved_models\\conv\\r1_initlr_stepsize\\. Creating new one\n",
      "Ready to begin training from 0 epoch. \n",
      " (device(type='cuda', index=0), '..\\\\saved_models\\\\conv\\\\r1_initlr_stepsize\\\\', 'comp_classifier_0.009587599554159203-9_hdim19_param19629')\n"
     ]
    },
    {
     "name": "stderr",
     "output_type": "stream",
     "text": [
      "                                                                       \r"
     ]
    },
    {
     "name": "stdout",
     "output_type": "stream",
     "text": [
      "Achieved final accuracy of 0.7979002594947815\n",
      "Iteration No: 4 ended. Evaluation done at random point.\n",
      "Time taken: 34.8289\n",
      "Function value obtained: 0.2021\n",
      "Current minimum: 0.2021\n",
      "Iteration No: 5 started. Evaluating function at random point.\n",
      "Modell initialised. Shapes: \n",
      " torch.Size([64, 1, 129, 5]) torch.Size([64, 4]) 1.5117261409759521\n",
      "No existing log data found for comp_classifier_0.0025751257351664192-11_hdim19_param19629 in ..\\saved_models\\conv\\r1_initlr_stepsize\\. Creating new one\n",
      "Ready to begin training from 0 epoch. \n",
      " (device(type='cuda', index=0), '..\\\\saved_models\\\\conv\\\\r1_initlr_stepsize\\\\', 'comp_classifier_0.0025751257351664192-11_hdim19_param19629')\n"
     ]
    },
    {
     "name": "stderr",
     "output_type": "stream",
     "text": [
      "                                                                       \r"
     ]
    },
    {
     "name": "stdout",
     "output_type": "stream",
     "text": [
      "Achieved final accuracy of 0.7952755689620972\n",
      "Iteration No: 5 ended. Evaluation done at random point.\n",
      "Time taken: 40.2848\n",
      "Function value obtained: 0.2047\n",
      "Current minimum: 0.2021\n",
      "Iteration No: 6 started. Evaluating function at random point.\n",
      "Modell initialised. Shapes: \n",
      " torch.Size([64, 1, 129, 5]) torch.Size([64, 4]) 1.4179141521453857\n",
      "No existing log data found for comp_classifier_0.08701134436257309-7_hdim19_param19629 in ..\\saved_models\\conv\\r1_initlr_stepsize\\. Creating new one\n",
      "Ready to begin training from 0 epoch. \n",
      " (device(type='cuda', index=0), '..\\\\saved_models\\\\conv\\\\r1_initlr_stepsize\\\\', 'comp_classifier_0.08701134436257309-7_hdim19_param19629')\n"
     ]
    },
    {
     "name": "stderr",
     "output_type": "stream",
     "text": [
      "                                                                       \r"
     ]
    },
    {
     "name": "stdout",
     "output_type": "stream",
     "text": [
      "Achieved final accuracy of 0.595800518989563\n",
      "Iteration No: 6 ended. Evaluation done at random point.\n",
      "Time taken: 41.7445\n",
      "Function value obtained: 0.4042\n",
      "Current minimum: 0.2021\n",
      "Iteration No: 7 started. Evaluating function at random point.\n",
      "Modell initialised. Shapes: \n",
      " torch.Size([64, 1, 129, 5]) torch.Size([64, 4]) 1.434794545173645\n",
      "No existing log data found for comp_classifier_0.03990128867721334-14_hdim19_param19629 in ..\\saved_models\\conv\\r1_initlr_stepsize\\. Creating new one\n",
      "Ready to begin training from 0 epoch. \n",
      " (device(type='cuda', index=0), '..\\\\saved_models\\\\conv\\\\r1_initlr_stepsize\\\\', 'comp_classifier_0.03990128867721334-14_hdim19_param19629')\n"
     ]
    },
    {
     "name": "stderr",
     "output_type": "stream",
     "text": [
      "                                                                       \r"
     ]
    },
    {
     "name": "stdout",
     "output_type": "stream",
     "text": [
      "Achieved final accuracy of 0.6509186029434204\n",
      "Iteration No: 7 ended. Evaluation done at random point.\n",
      "Time taken: 36.6339\n",
      "Function value obtained: 0.3491\n",
      "Current minimum: 0.2021\n",
      "Iteration No: 8 started. Evaluating function at random point.\n",
      "Modell initialised. Shapes: \n",
      " torch.Size([64, 1, 129, 5]) torch.Size([64, 4]) 1.4970557689666748\n",
      "No existing log data found for comp_classifier_0.0675594100508821-14_hdim19_param19629 in ..\\saved_models\\conv\\r1_initlr_stepsize\\. Creating new one\n",
      "Ready to begin training from 0 epoch. \n",
      " (device(type='cuda', index=0), '..\\\\saved_models\\\\conv\\\\r1_initlr_stepsize\\\\', 'comp_classifier_0.0675594100508821-14_hdim19_param19629')\n"
     ]
    },
    {
     "name": "stderr",
     "output_type": "stream",
     "text": [
      "                                                                       \r"
     ]
    },
    {
     "name": "stdout",
     "output_type": "stream",
     "text": [
      "Achieved final accuracy of 0.6430445909500122\n",
      "Iteration No: 8 ended. Evaluation done at random point.\n",
      "Time taken: 39.4524\n",
      "Function value obtained: 0.3570\n",
      "Current minimum: 0.2021\n",
      "Iteration No: 9 started. Evaluating function at random point.\n",
      "Modell initialised. Shapes: \n",
      " torch.Size([64, 1, 129, 5]) torch.Size([64, 4]) 1.491600751876831\n",
      "No existing log data found for comp_classifier_0.0352513206881305-19_hdim19_param19629 in ..\\saved_models\\conv\\r1_initlr_stepsize\\. Creating new one\n",
      "Ready to begin training from 0 epoch. \n",
      " (device(type='cuda', index=0), '..\\\\saved_models\\\\conv\\\\r1_initlr_stepsize\\\\', 'comp_classifier_0.0352513206881305-19_hdim19_param19629')\n"
     ]
    },
    {
     "name": "stderr",
     "output_type": "stream",
     "text": [
      "                                                                       \r"
     ]
    },
    {
     "name": "stdout",
     "output_type": "stream",
     "text": [
      "Achieved final accuracy of 0.7060367465019226\n",
      "Iteration No: 9 ended. Evaluation done at random point.\n",
      "Time taken: 38.8297\n",
      "Function value obtained: 0.2940\n",
      "Current minimum: 0.2021\n",
      "Iteration No: 10 started. Evaluating function at random point.\n",
      "Modell initialised. Shapes: \n",
      " torch.Size([64, 1, 129, 5]) torch.Size([64, 4]) 1.4075957536697388\n",
      "No existing log data found for comp_classifier_0.026995793234296316-15_hdim19_param19629 in ..\\saved_models\\conv\\r1_initlr_stepsize\\. Creating new one\n",
      "Ready to begin training from 0 epoch. \n",
      " (device(type='cuda', index=0), '..\\\\saved_models\\\\conv\\\\r1_initlr_stepsize\\\\', 'comp_classifier_0.026995793234296316-15_hdim19_param19629')\n"
     ]
    },
    {
     "name": "stderr",
     "output_type": "stream",
     "text": [
      "                                                                       \r"
     ]
    },
    {
     "name": "stdout",
     "output_type": "stream",
     "text": [
      "Achieved final accuracy of 0.7637795209884644\n",
      "Iteration No: 10 ended. Evaluation done at random point.\n",
      "Time taken: 38.9513\n",
      "Function value obtained: 0.2362\n",
      "Current minimum: 0.2021\n",
      "Iteration No: 11 started. Evaluating function at random point.\n",
      "Modell initialised. Shapes: \n",
      " torch.Size([64, 1, 129, 5]) torch.Size([64, 4]) 1.426235556602478\n",
      "No existing log data found for comp_classifier_0.026234512188008582-17_hdim19_param19629 in ..\\saved_models\\conv\\r1_initlr_stepsize\\. Creating new one\n",
      "Ready to begin training from 0 epoch. \n",
      " (device(type='cuda', index=0), '..\\\\saved_models\\\\conv\\\\r1_initlr_stepsize\\\\', 'comp_classifier_0.026234512188008582-17_hdim19_param19629')\n"
     ]
    },
    {
     "name": "stderr",
     "output_type": "stream",
     "text": [
      "                                                                       \r"
     ]
    },
    {
     "name": "stdout",
     "output_type": "stream",
     "text": [
      "Achieved final accuracy of 0.7454068064689636\n",
      "Iteration No: 11 ended. Evaluation done at random point.\n",
      "Time taken: 40.1646\n",
      "Function value obtained: 0.2546\n",
      "Current minimum: 0.2021\n",
      "Iteration No: 12 started. Evaluating function at random point.\n",
      "Modell initialised. Shapes: \n",
      " torch.Size([64, 1, 129, 5]) torch.Size([64, 4]) 1.435860514640808\n",
      "No existing log data found for comp_classifier_0.018231223645064996-16_hdim19_param19629 in ..\\saved_models\\conv\\r1_initlr_stepsize\\. Creating new one\n",
      "Ready to begin training from 0 epoch. \n",
      " (device(type='cuda', index=0), '..\\\\saved_models\\\\conv\\\\r1_initlr_stepsize\\\\', 'comp_classifier_0.018231223645064996-16_hdim19_param19629')\n"
     ]
    },
    {
     "name": "stderr",
     "output_type": "stream",
     "text": [
      "                                                                       \r"
     ]
    },
    {
     "name": "stdout",
     "output_type": "stream",
     "text": [
      "Achieved final accuracy of 0.7244094610214233\n",
      "Iteration No: 12 ended. Evaluation done at random point.\n",
      "Time taken: 38.7138\n",
      "Function value obtained: 0.2756\n",
      "Current minimum: 0.2021\n",
      "Iteration No: 13 started. Evaluating function at random point.\n",
      "Modell initialised. Shapes: \n",
      " torch.Size([64, 1, 129, 5]) torch.Size([64, 4]) 1.476670265197754\n",
      "No existing log data found for comp_classifier_0.09382530422645642-10_hdim19_param19629 in ..\\saved_models\\conv\\r1_initlr_stepsize\\. Creating new one\n",
      "Ready to begin training from 0 epoch. \n",
      " (device(type='cuda', index=0), '..\\\\saved_models\\\\conv\\\\r1_initlr_stepsize\\\\', 'comp_classifier_0.09382530422645642-10_hdim19_param19629')\n"
     ]
    },
    {
     "name": "stderr",
     "output_type": "stream",
     "text": [
      "                                                                       \r"
     ]
    },
    {
     "name": "stdout",
     "output_type": "stream",
     "text": [
      "Achieved final accuracy of 0.6404199600219727\n",
      "Iteration No: 13 ended. Evaluation done at random point.\n",
      "Time taken: 38.5988\n",
      "Function value obtained: 0.3596\n",
      "Current minimum: 0.2021\n",
      "Iteration No: 14 started. Evaluating function at random point.\n",
      "Modell initialised. Shapes: \n",
      " torch.Size([64, 1, 129, 5]) torch.Size([64, 4]) 1.4201512336730957\n",
      "No existing log data found for comp_classifier_0.039080306979198585-8_hdim19_param19629 in ..\\saved_models\\conv\\r1_initlr_stepsize\\. Creating new one\n",
      "Ready to begin training from 0 epoch. \n",
      " (device(type='cuda', index=0), '..\\\\saved_models\\\\conv\\\\r1_initlr_stepsize\\\\', 'comp_classifier_0.039080306979198585-8_hdim19_param19629')\n"
     ]
    },
    {
     "name": "stderr",
     "output_type": "stream",
     "text": [
      "                                                                       \r"
     ]
    },
    {
     "name": "stdout",
     "output_type": "stream",
     "text": [
      "Achieved final accuracy of 0.76115483045578\n",
      "Iteration No: 14 ended. Evaluation done at random point.\n",
      "Time taken: 40.3654\n",
      "Function value obtained: 0.2388\n",
      "Current minimum: 0.2021\n",
      "Iteration No: 15 started. Evaluating function at random point.\n",
      "Modell initialised. Shapes: \n",
      " torch.Size([64, 1, 129, 5]) torch.Size([64, 4]) 1.4392468929290771\n",
      "No existing log data found for comp_classifier_0.02014220671584855-3_hdim19_param19629 in ..\\saved_models\\conv\\r1_initlr_stepsize\\. Creating new one\n",
      "Ready to begin training from 0 epoch. \n",
      " (device(type='cuda', index=0), '..\\\\saved_models\\\\conv\\\\r1_initlr_stepsize\\\\', 'comp_classifier_0.02014220671584855-3_hdim19_param19629')\n"
     ]
    },
    {
     "name": "stderr",
     "output_type": "stream",
     "text": [
      "                                                                       \r"
     ]
    },
    {
     "name": "stdout",
     "output_type": "stream",
     "text": [
      "Achieved final accuracy of 0.6325459480285645\n",
      "Iteration No: 15 ended. Evaluation done at random point.\n",
      "Time taken: 38.4007\n",
      "Function value obtained: 0.3675\n",
      "Current minimum: 0.2021\n",
      "Iteration No: 16 started. Evaluating function at random point.\n",
      "Modell initialised. Shapes: \n",
      " torch.Size([64, 1, 129, 5]) torch.Size([64, 4]) 1.460402011871338\n",
      "No existing log data found for comp_classifier_0.048781053338839295-13_hdim19_param19629 in ..\\saved_models\\conv\\r1_initlr_stepsize\\. Creating new one\n",
      "Ready to begin training from 0 epoch. \n",
      " (device(type='cuda', index=0), '..\\\\saved_models\\\\conv\\\\r1_initlr_stepsize\\\\', 'comp_classifier_0.048781053338839295-13_hdim19_param19629')\n"
     ]
    },
    {
     "name": "stderr",
     "output_type": "stream",
     "text": [
      "                                                                       \r"
     ]
    },
    {
     "name": "stdout",
     "output_type": "stream",
     "text": [
      "Achieved final accuracy of 0.6955380439758301\n",
      "Iteration No: 16 ended. Evaluation done at random point.\n",
      "Time taken: 37.8017\n",
      "Function value obtained: 0.3045\n",
      "Current minimum: 0.2021\n",
      "Iteration No: 17 started. Evaluating function at random point.\n",
      "Modell initialised. Shapes: \n",
      " torch.Size([64, 1, 129, 5]) torch.Size([64, 4]) 1.4324325323104858\n",
      "No existing log data found for comp_classifier_0.09517358604269265-8_hdim19_param19629 in ..\\saved_models\\conv\\r1_initlr_stepsize\\. Creating new one\n",
      "Ready to begin training from 0 epoch. \n",
      " (device(type='cuda', index=0), '..\\\\saved_models\\\\conv\\\\r1_initlr_stepsize\\\\', 'comp_classifier_0.09517358604269265-8_hdim19_param19629')\n"
     ]
    },
    {
     "name": "stderr",
     "output_type": "stream",
     "text": [
      "                                                                       \r"
     ]
    },
    {
     "name": "stdout",
     "output_type": "stream",
     "text": [
      "Achieved final accuracy of 0.6115485429763794\n",
      "Iteration No: 17 ended. Evaluation done at random point.\n",
      "Time taken: 47.2696\n",
      "Function value obtained: 0.3885\n",
      "Current minimum: 0.2021\n",
      "Iteration No: 18 started. Evaluating function at random point.\n",
      "Modell initialised. Shapes: \n",
      " torch.Size([64, 1, 129, 5]) torch.Size([64, 4]) 1.3984342813491821\n",
      "No existing log data found for comp_classifier_0.02837495607103319-9_hdim19_param19629 in ..\\saved_models\\conv\\r1_initlr_stepsize\\. Creating new one\n",
      "Ready to begin training from 0 epoch. \n",
      " (device(type='cuda', index=0), '..\\\\saved_models\\\\conv\\\\r1_initlr_stepsize\\\\', 'comp_classifier_0.02837495607103319-9_hdim19_param19629')\n"
     ]
    },
    {
     "name": "stderr",
     "output_type": "stream",
     "text": [
      "                                                                       \r"
     ]
    },
    {
     "name": "stdout",
     "output_type": "stream",
     "text": [
      "Achieved final accuracy of 0.6377952694892883\n",
      "Iteration No: 18 ended. Evaluation done at random point.\n",
      "Time taken: 40.4057\n",
      "Function value obtained: 0.3622\n",
      "Current minimum: 0.2021\n",
      "Iteration No: 19 started. Evaluating function at random point.\n",
      "Modell initialised. Shapes: \n",
      " torch.Size([64, 1, 129, 5]) torch.Size([64, 4]) 1.520741581916809\n",
      "No existing log data found for comp_classifier_0.09583345916185883-4_hdim19_param19629 in ..\\saved_models\\conv\\r1_initlr_stepsize\\. Creating new one\n",
      "Ready to begin training from 0 epoch. \n",
      " (device(type='cuda', index=0), '..\\\\saved_models\\\\conv\\\\r1_initlr_stepsize\\\\', 'comp_classifier_0.09583345916185883-4_hdim19_param19629')\n"
     ]
    },
    {
     "name": "stderr",
     "output_type": "stream",
     "text": [
      "                                                                       \r"
     ]
    },
    {
     "name": "stdout",
     "output_type": "stream",
     "text": [
      "Achieved final accuracy of 0.5931758284568787\n",
      "Iteration No: 19 ended. Evaluation done at random point.\n",
      "Time taken: 41.3595\n",
      "Function value obtained: 0.4068\n",
      "Current minimum: 0.2021\n",
      "Iteration No: 20 started. Evaluating function at random point.\n",
      "Modell initialised. Shapes: \n",
      " torch.Size([64, 1, 129, 5]) torch.Size([64, 4]) 1.4125274419784546\n",
      "No existing log data found for comp_classifier_0.015128858926362218-3_hdim19_param19629 in ..\\saved_models\\conv\\r1_initlr_stepsize\\. Creating new one\n",
      "Ready to begin training from 0 epoch. \n",
      " (device(type='cuda', index=0), '..\\\\saved_models\\\\conv\\\\r1_initlr_stepsize\\\\', 'comp_classifier_0.015128858926362218-3_hdim19_param19629')\n"
     ]
    },
    {
     "name": "stderr",
     "output_type": "stream",
     "text": [
      "                                                                       \r"
     ]
    },
    {
     "name": "stdout",
     "output_type": "stream",
     "text": [
      "Achieved final accuracy of 0.7165354490280151\n",
      "Iteration No: 20 ended. Evaluation done at random point.\n",
      "Time taken: 38.6377\n",
      "Function value obtained: 0.2835\n",
      "Current minimum: 0.2021\n",
      "Iteration No: 21 started. Evaluating function at random point.\n",
      "Modell initialised. Shapes: \n",
      " torch.Size([64, 1, 129, 5]) torch.Size([64, 4]) 1.415199637413025\n",
      "No existing log data found for comp_classifier_0.055176277517861576-7_hdim19_param19629 in ..\\saved_models\\conv\\r1_initlr_stepsize\\. Creating new one\n",
      "Ready to begin training from 0 epoch. \n",
      " (device(type='cuda', index=0), '..\\\\saved_models\\\\conv\\\\r1_initlr_stepsize\\\\', 'comp_classifier_0.055176277517861576-7_hdim19_param19629')\n"
     ]
    },
    {
     "name": "stderr",
     "output_type": "stream",
     "text": [
      "                                                                       \r"
     ]
    },
    {
     "name": "stdout",
     "output_type": "stream",
     "text": [
      "Achieved final accuracy of 0.6246719360351562\n",
      "Iteration No: 21 ended. Evaluation done at random point.\n",
      "Time taken: 37.4864\n",
      "Function value obtained: 0.3753\n",
      "Current minimum: 0.2021\n",
      "Iteration No: 22 started. Evaluating function at random point.\n",
      "Modell initialised. Shapes: \n",
      " torch.Size([64, 1, 129, 5]) torch.Size([64, 4]) 1.4590229988098145\n",
      "No existing log data found for comp_classifier_0.02898925293732254-18_hdim19_param19629 in ..\\saved_models\\conv\\r1_initlr_stepsize\\. Creating new one\n",
      "Ready to begin training from 0 epoch. \n",
      " (device(type='cuda', index=0), '..\\\\saved_models\\\\conv\\\\r1_initlr_stepsize\\\\', 'comp_classifier_0.02898925293732254-18_hdim19_param19629')\n"
     ]
    },
    {
     "name": "stderr",
     "output_type": "stream",
     "text": [
      "                                                                       \r"
     ]
    },
    {
     "name": "stdout",
     "output_type": "stream",
     "text": [
      "Achieved final accuracy of 0.6902887225151062\n",
      "Iteration No: 22 ended. Evaluation done at random point.\n",
      "Time taken: 38.5428\n",
      "Function value obtained: 0.3097\n",
      "Current minimum: 0.2021\n",
      "Iteration No: 23 started. Evaluating function at random point.\n",
      "Modell initialised. Shapes: \n",
      " torch.Size([64, 1, 129, 5]) torch.Size([64, 4]) 1.4082210063934326\n",
      "No existing log data found for comp_classifier_0.04390087425122476-9_hdim19_param19629 in ..\\saved_models\\conv\\r1_initlr_stepsize\\. Creating new one\n",
      "Ready to begin training from 0 epoch. \n",
      " (device(type='cuda', index=0), '..\\\\saved_models\\\\conv\\\\r1_initlr_stepsize\\\\', 'comp_classifier_0.04390087425122476-9_hdim19_param19629')\n"
     ]
    },
    {
     "name": "stderr",
     "output_type": "stream",
     "text": [
      "                                                                       \r"
     ]
    },
    {
     "name": "stdout",
     "output_type": "stream",
     "text": [
      "Achieved final accuracy of 0.6036745309829712\n",
      "Iteration No: 23 ended. Evaluation done at random point.\n",
      "Time taken: 40.7795\n",
      "Function value obtained: 0.3963\n",
      "Current minimum: 0.2021\n",
      "Iteration No: 24 started. Evaluating function at random point.\n",
      "Modell initialised. Shapes: \n",
      " torch.Size([64, 1, 129, 5]) torch.Size([64, 4]) 1.4538366794586182\n",
      "No existing log data found for comp_classifier_0.09863609141659667-16_hdim19_param19629 in ..\\saved_models\\conv\\r1_initlr_stepsize\\. Creating new one\n",
      "Ready to begin training from 0 epoch. \n",
      " (device(type='cuda', index=0), '..\\\\saved_models\\\\conv\\\\r1_initlr_stepsize\\\\', 'comp_classifier_0.09863609141659667-16_hdim19_param19629')\n"
     ]
    },
    {
     "name": "stderr",
     "output_type": "stream",
     "text": [
      "                                                                       \r"
     ]
    },
    {
     "name": "stdout",
     "output_type": "stream",
     "text": [
      "Achieved final accuracy of 0.6141732335090637\n",
      "Iteration No: 24 ended. Evaluation done at random point.\n",
      "Time taken: 44.3320\n",
      "Function value obtained: 0.3858\n",
      "Current minimum: 0.2021\n",
      "Iteration No: 25 started. Evaluating function at random point.\n",
      "Modell initialised. Shapes: \n",
      " torch.Size([64, 1, 129, 5]) torch.Size([64, 4]) 1.5063081979751587\n",
      "No existing log data found for comp_classifier_0.03498720505364812-7_hdim19_param19629 in ..\\saved_models\\conv\\r1_initlr_stepsize\\. Creating new one\n",
      "Ready to begin training from 0 epoch. \n",
      " (device(type='cuda', index=0), '..\\\\saved_models\\\\conv\\\\r1_initlr_stepsize\\\\', 'comp_classifier_0.03498720505364812-7_hdim19_param19629')\n"
     ]
    },
    {
     "name": "stderr",
     "output_type": "stream",
     "text": [
      "                                                                       \r"
     ]
    },
    {
     "name": "stdout",
     "output_type": "stream",
     "text": [
      "Achieved final accuracy of 0.6614173054695129\n",
      "Iteration No: 25 ended. Evaluation done at random point.\n",
      "Time taken: 41.4929\n",
      "Function value obtained: 0.3386\n",
      "Current minimum: 0.2021\n",
      "Iteration No: 26 started. Evaluating function at random point.\n",
      "Modell initialised. Shapes: \n",
      " torch.Size([64, 1, 129, 5]) torch.Size([64, 4]) 1.4661462306976318\n",
      "No existing log data found for comp_classifier_0.05089155924483318-13_hdim19_param19629 in ..\\saved_models\\conv\\r1_initlr_stepsize\\. Creating new one\n",
      "Ready to begin training from 0 epoch. \n",
      " (device(type='cuda', index=0), '..\\\\saved_models\\\\conv\\\\r1_initlr_stepsize\\\\', 'comp_classifier_0.05089155924483318-13_hdim19_param19629')\n"
     ]
    },
    {
     "name": "stderr",
     "output_type": "stream",
     "text": [
      "                                                                       \r"
     ]
    },
    {
     "name": "stdout",
     "output_type": "stream",
     "text": [
      "Achieved final accuracy of 0.7375327944755554\n",
      "Iteration No: 26 ended. Evaluation done at random point.\n",
      "Time taken: 40.7297\n",
      "Function value obtained: 0.2625\n",
      "Current minimum: 0.2021\n",
      "Iteration No: 27 started. Evaluating function at random point.\n",
      "Modell initialised. Shapes: \n",
      " torch.Size([64, 1, 129, 5]) torch.Size([64, 4]) 1.4739904403686523\n",
      "No existing log data found for comp_classifier_0.0660402592179754-6_hdim19_param19629 in ..\\saved_models\\conv\\r1_initlr_stepsize\\. Creating new one\n",
      "Ready to begin training from 0 epoch. \n",
      " (device(type='cuda', index=0), '..\\\\saved_models\\\\conv\\\\r1_initlr_stepsize\\\\', 'comp_classifier_0.0660402592179754-6_hdim19_param19629')\n"
     ]
    },
    {
     "name": "stderr",
     "output_type": "stream",
     "text": [
      "                                                                       \r"
     ]
    },
    {
     "name": "stdout",
     "output_type": "stream",
     "text": [
      "Achieved final accuracy of 0.7034120559692383\n",
      "Iteration No: 27 ended. Evaluation done at random point.\n",
      "Time taken: 42.3557\n",
      "Function value obtained: 0.2966\n",
      "Current minimum: 0.2021\n",
      "Iteration No: 28 started. Evaluating function at random point.\n",
      "Modell initialised. Shapes: \n",
      " torch.Size([64, 1, 129, 5]) torch.Size([64, 4]) 1.4766018390655518\n",
      "No existing log data found for comp_classifier_0.04111470677808868-14_hdim19_param19629 in ..\\saved_models\\conv\\r1_initlr_stepsize\\. Creating new one\n",
      "Ready to begin training from 0 epoch. \n",
      " (device(type='cuda', index=0), '..\\\\saved_models\\\\conv\\\\r1_initlr_stepsize\\\\', 'comp_classifier_0.04111470677808868-14_hdim19_param19629')\n"
     ]
    },
    {
     "name": "stderr",
     "output_type": "stream",
     "text": [
      "                                                                       \r"
     ]
    },
    {
     "name": "stdout",
     "output_type": "stream",
     "text": [
      "Achieved final accuracy of 0.6692913174629211\n",
      "Iteration No: 28 ended. Evaluation done at random point.\n",
      "Time taken: 39.7121\n",
      "Function value obtained: 0.3307\n",
      "Current minimum: 0.2021\n",
      "Iteration No: 29 started. Evaluating function at random point.\n",
      "Modell initialised. Shapes: \n",
      " torch.Size([64, 1, 129, 5]) torch.Size([64, 4]) 1.510237455368042\n",
      "No existing log data found for comp_classifier_0.04451063000582192-16_hdim19_param19629 in ..\\saved_models\\conv\\r1_initlr_stepsize\\. Creating new one\n",
      "Ready to begin training from 0 epoch. \n",
      " (device(type='cuda', index=0), '..\\\\saved_models\\\\conv\\\\r1_initlr_stepsize\\\\', 'comp_classifier_0.04451063000582192-16_hdim19_param19629')\n"
     ]
    },
    {
     "name": "stderr",
     "output_type": "stream",
     "text": [
      "                                                                       \r"
     ]
    },
    {
     "name": "stdout",
     "output_type": "stream",
     "text": [
      "Achieved final accuracy of 0.635170578956604\n",
      "Iteration No: 29 ended. Evaluation done at random point.\n",
      "Time taken: 37.1502\n",
      "Function value obtained: 0.3648\n",
      "Current minimum: 0.2021\n",
      "Iteration No: 30 started. Evaluating function at random point.\n",
      "Modell initialised. Shapes: \n",
      " torch.Size([64, 1, 129, 5]) torch.Size([64, 4]) 1.421670913696289\n",
      "No existing log data found for comp_classifier_0.06877826347142374-15_hdim19_param19629 in ..\\saved_models\\conv\\r1_initlr_stepsize\\. Creating new one\n",
      "Ready to begin training from 0 epoch. \n",
      " (device(type='cuda', index=0), '..\\\\saved_models\\\\conv\\\\r1_initlr_stepsize\\\\', 'comp_classifier_0.06877826347142374-15_hdim19_param19629')\n"
     ]
    },
    {
     "name": "stderr",
     "output_type": "stream",
     "text": [
      "                                                                       \r"
     ]
    },
    {
     "name": "stdout",
     "output_type": "stream",
     "text": [
      "Achieved final accuracy of 0.6955380439758301\n",
      "Iteration No: 30 ended. Evaluation done at random point.\n",
      "Time taken: 38.1562\n",
      "Function value obtained: 0.3045\n",
      "Current minimum: 0.2021\n",
      "Iteration No: 31 started. Searching for the next optimal point.\n",
      "Modell initialised. Shapes: \n",
      " torch.Size([64, 1, 129, 5]) torch.Size([64, 4]) 1.4775080680847168\n",
      "No existing log data found for comp_classifier_0.007639300446554246-9_hdim19_param19629 in ..\\saved_models\\conv\\r1_initlr_stepsize\\. Creating new one\n",
      "Ready to begin training from 0 epoch. \n",
      " (device(type='cuda', index=0), '..\\\\saved_models\\\\conv\\\\r1_initlr_stepsize\\\\', 'comp_classifier_0.007639300446554246-9_hdim19_param19629')\n"
     ]
    },
    {
     "name": "stderr",
     "output_type": "stream",
     "text": [
      "                                                                       \r"
     ]
    },
    {
     "name": "stdout",
     "output_type": "stream",
     "text": [
      "Achieved final accuracy of 0.7165354490280151\n",
      "Iteration No: 31 ended. Search finished for the next optimal point.\n",
      "Time taken: 38.1848\n",
      "Function value obtained: 0.2835\n",
      "Current minimum: 0.2021\n",
      "Iteration No: 32 started. Searching for the next optimal point.\n",
      "Modell initialised. Shapes: \n",
      " torch.Size([64, 1, 129, 5]) torch.Size([64, 4]) 1.4235432147979736\n",
      "No existing log data found for comp_classifier_0.00998340162988209-8_hdim19_param19629 in ..\\saved_models\\conv\\r1_initlr_stepsize\\. Creating new one\n",
      "Ready to begin training from 0 epoch. \n",
      " (device(type='cuda', index=0), '..\\\\saved_models\\\\conv\\\\r1_initlr_stepsize\\\\', 'comp_classifier_0.00998340162988209-8_hdim19_param19629')\n"
     ]
    },
    {
     "name": "stderr",
     "output_type": "stream",
     "text": [
      "                                                                       \r"
     ]
    },
    {
     "name": "stdout",
     "output_type": "stream",
     "text": [
      "Achieved final accuracy of 0.7296587824821472\n",
      "Iteration No: 32 ended. Search finished for the next optimal point.\n",
      "Time taken: 37.4110\n",
      "Function value obtained: 0.2703\n",
      "Current minimum: 0.2021\n",
      "Iteration No: 33 started. Searching for the next optimal point.\n",
      "Modell initialised. Shapes: \n",
      " torch.Size([64, 1, 129, 5]) torch.Size([64, 4]) 1.4313774108886719\n",
      "No existing log data found for comp_classifier_0.009506268983559454-9_hdim19_param19629 in ..\\saved_models\\conv\\r1_initlr_stepsize\\. Creating new one\n",
      "Ready to begin training from 0 epoch. \n",
      " (device(type='cuda', index=0), '..\\\\saved_models\\\\conv\\\\r1_initlr_stepsize\\\\', 'comp_classifier_0.009506268983559454-9_hdim19_param19629')\n"
     ]
    },
    {
     "name": "stderr",
     "output_type": "stream",
     "text": [
      "                                                                       \r"
     ]
    },
    {
     "name": "stdout",
     "output_type": "stream",
     "text": [
      "Achieved final accuracy of 0.7191600799560547\n",
      "Iteration No: 33 ended. Search finished for the next optimal point.\n",
      "Time taken: 37.7563\n",
      "Function value obtained: 0.2808\n",
      "Current minimum: 0.2021\n",
      "Iteration No: 34 started. Searching for the next optimal point.\n",
      "Modell initialised. Shapes: \n",
      " torch.Size([64, 1, 129, 5]) torch.Size([64, 4]) 1.50949227809906\n",
      "No existing log data found for comp_classifier_0.010444681861669615-9_hdim19_param19629 in ..\\saved_models\\conv\\r1_initlr_stepsize\\. Creating new one\n",
      "Ready to begin training from 0 epoch. \n",
      " (device(type='cuda', index=0), '..\\\\saved_models\\\\conv\\\\r1_initlr_stepsize\\\\', 'comp_classifier_0.010444681861669615-9_hdim19_param19629')\n"
     ]
    },
    {
     "name": "stderr",
     "output_type": "stream",
     "text": [
      "                                                                       \r"
     ]
    },
    {
     "name": "stdout",
     "output_type": "stream",
     "text": [
      "Achieved final accuracy of 0.748031497001648\n",
      "Iteration No: 34 ended. Search finished for the next optimal point.\n",
      "Time taken: 37.8761\n",
      "Function value obtained: 0.2520\n",
      "Current minimum: 0.2021\n",
      "Iteration No: 35 started. Searching for the next optimal point.\n",
      "Modell initialised. Shapes: \n",
      " torch.Size([64, 1, 129, 5]) torch.Size([64, 4]) 1.4577794075012207\n",
      "No existing log data found for comp_classifier_0.009660428513997392-9_hdim19_param19629 in ..\\saved_models\\conv\\r1_initlr_stepsize\\. Creating new one\n",
      "Ready to begin training from 0 epoch. \n",
      " (device(type='cuda', index=0), '..\\\\saved_models\\\\conv\\\\r1_initlr_stepsize\\\\', 'comp_classifier_0.009660428513997392-9_hdim19_param19629')\n"
     ]
    },
    {
     "name": "stderr",
     "output_type": "stream",
     "text": [
      "                                                                       \r"
     ]
    },
    {
     "name": "stdout",
     "output_type": "stream",
     "text": [
      "Achieved final accuracy of 0.7296587824821472\n",
      "Iteration No: 35 ended. Search finished for the next optimal point.\n",
      "Time taken: 40.0958\n",
      "Function value obtained: 0.2703\n",
      "Current minimum: 0.2021\n",
      "Iteration No: 36 started. Searching for the next optimal point.\n",
      "Modell initialised. Shapes: \n",
      " torch.Size([64, 1, 129, 5]) torch.Size([64, 4]) 1.4024431705474854\n",
      "No existing log data found for comp_classifier_0.011280581459721349-9_hdim19_param19629 in ..\\saved_models\\conv\\r1_initlr_stepsize\\. Creating new one\n",
      "Ready to begin training from 0 epoch. \n",
      " (device(type='cuda', index=0), '..\\\\saved_models\\\\conv\\\\r1_initlr_stepsize\\\\', 'comp_classifier_0.011280581459721349-9_hdim19_param19629')\n"
     ]
    },
    {
     "name": "stderr",
     "output_type": "stream",
     "text": [
      "                                                                       \r"
     ]
    },
    {
     "name": "stdout",
     "output_type": "stream",
     "text": [
      "Achieved final accuracy of 0.7244094610214233\n",
      "Iteration No: 36 ended. Search finished for the next optimal point.\n",
      "Time taken: 41.1048\n",
      "Function value obtained: 0.2756\n",
      "Current minimum: 0.2021\n",
      "Iteration No: 37 started. Searching for the next optimal point.\n",
      "Modell initialised. Shapes: \n",
      " torch.Size([64, 1, 129, 5]) torch.Size([64, 4]) 1.3822981119155884\n",
      "No existing log data found for comp_classifier_0.010620787098865856-9_hdim19_param19629 in ..\\saved_models\\conv\\r1_initlr_stepsize\\. Creating new one\n",
      "Ready to begin training from 0 epoch. \n",
      " (device(type='cuda', index=0), '..\\\\saved_models\\\\conv\\\\r1_initlr_stepsize\\\\', 'comp_classifier_0.010620787098865856-9_hdim19_param19629')\n"
     ]
    },
    {
     "name": "stderr",
     "output_type": "stream",
     "text": [
      "                                                                       \r"
     ]
    },
    {
     "name": "stdout",
     "output_type": "stream",
     "text": [
      "Achieved final accuracy of 0.7559055089950562\n",
      "Iteration No: 37 ended. Search finished for the next optimal point.\n",
      "Time taken: 40.4225\n",
      "Function value obtained: 0.2441\n",
      "Current minimum: 0.2021\n",
      "Iteration No: 38 started. Searching for the next optimal point.\n",
      "Modell initialised. Shapes: \n",
      " torch.Size([64, 1, 129, 5]) torch.Size([64, 4]) 1.474090576171875\n",
      "No existing log data found for comp_classifier_0.006442514296924605-9_hdim19_param19629 in ..\\saved_models\\conv\\r1_initlr_stepsize\\. Creating new one\n",
      "Ready to begin training from 0 epoch. \n",
      " (device(type='cuda', index=0), '..\\\\saved_models\\\\conv\\\\r1_initlr_stepsize\\\\', 'comp_classifier_0.006442514296924605-9_hdim19_param19629')\n"
     ]
    },
    {
     "name": "stderr",
     "output_type": "stream",
     "text": [
      "                                                                       \r"
     ]
    },
    {
     "name": "stdout",
     "output_type": "stream",
     "text": [
      "Achieved final accuracy of 0.7506561875343323\n",
      "Iteration No: 38 ended. Search finished for the next optimal point.\n",
      "Time taken: 39.0074\n",
      "Function value obtained: 0.2493\n",
      "Current minimum: 0.2021\n",
      "Iteration No: 39 started. Searching for the next optimal point.\n",
      "Modell initialised. Shapes: \n",
      " torch.Size([64, 1, 129, 5]) torch.Size([64, 4]) 1.4017298221588135\n",
      "No existing log data found for comp_classifier_0.007293223717578712-9_hdim19_param19629 in ..\\saved_models\\conv\\r1_initlr_stepsize\\. Creating new one\n",
      "Ready to begin training from 0 epoch. \n",
      " (device(type='cuda', index=0), '..\\\\saved_models\\\\conv\\\\r1_initlr_stepsize\\\\', 'comp_classifier_0.007293223717578712-9_hdim19_param19629')\n"
     ]
    },
    {
     "name": "stderr",
     "output_type": "stream",
     "text": [
      "                                                                       \r"
     ]
    },
    {
     "name": "stdout",
     "output_type": "stream",
     "text": [
      "Achieved final accuracy of 0.6929134130477905\n",
      "Iteration No: 39 ended. Search finished for the next optimal point.\n",
      "Time taken: 38.1898\n",
      "Function value obtained: 0.3071\n",
      "Current minimum: 0.2021\n",
      "Iteration No: 40 started. Searching for the next optimal point.\n",
      "Modell initialised. Shapes: \n",
      " torch.Size([64, 1, 129, 5]) torch.Size([64, 4]) 1.447275161743164\n",
      "No existing log data found for comp_classifier_0.011956882530978926-9_hdim19_param19629 in ..\\saved_models\\conv\\r1_initlr_stepsize\\. Creating new one\n",
      "Ready to begin training from 0 epoch. \n",
      " (device(type='cuda', index=0), '..\\\\saved_models\\\\conv\\\\r1_initlr_stepsize\\\\', 'comp_classifier_0.011956882530978926-9_hdim19_param19629')\n"
     ]
    },
    {
     "name": "stderr",
     "output_type": "stream",
     "text": [
      "                                                                       \r"
     ]
    },
    {
     "name": "stdout",
     "output_type": "stream",
     "text": [
      "Achieved final accuracy of 0.748031497001648\n",
      "Iteration No: 40 ended. Search finished for the next optimal point.\n",
      "Time taken: 38.5433\n",
      "Function value obtained: 0.2520\n",
      "Current minimum: 0.2021\n",
      "Iteration No: 41 started. Searching for the next optimal point.\n",
      "Modell initialised. Shapes: \n",
      " torch.Size([64, 1, 129, 5]) torch.Size([64, 4]) 1.4236090183258057\n",
      "No existing log data found for comp_classifier_0.005860982856602852-9_hdim19_param19629 in ..\\saved_models\\conv\\r1_initlr_stepsize\\. Creating new one\n",
      "Ready to begin training from 0 epoch. \n",
      " (device(type='cuda', index=0), '..\\\\saved_models\\\\conv\\\\r1_initlr_stepsize\\\\', 'comp_classifier_0.005860982856602852-9_hdim19_param19629')\n"
     ]
    },
    {
     "name": "stderr",
     "output_type": "stream",
     "text": [
      "                                                                       \r"
     ]
    },
    {
     "name": "stdout",
     "output_type": "stream",
     "text": [
      "Achieved final accuracy of 0.7454068064689636\n",
      "Iteration No: 41 ended. Search finished for the next optimal point.\n",
      "Time taken: 38.4204\n",
      "Function value obtained: 0.2546\n",
      "Current minimum: 0.2021\n",
      "Iteration No: 42 started. Searching for the next optimal point.\n",
      "Modell initialised. Shapes: \n",
      " torch.Size([64, 1, 129, 5]) torch.Size([64, 4]) 1.4001665115356445\n",
      "No existing log data found for comp_classifier_0.002185905614018292-11_hdim19_param19629 in ..\\saved_models\\conv\\r1_initlr_stepsize\\. Creating new one\n",
      "Ready to begin training from 0 epoch. \n",
      " (device(type='cuda', index=0), '..\\\\saved_models\\\\conv\\\\r1_initlr_stepsize\\\\', 'comp_classifier_0.002185905614018292-11_hdim19_param19629')\n"
     ]
    },
    {
     "name": "stderr",
     "output_type": "stream",
     "text": [
      "                                                                       \r"
     ]
    },
    {
     "name": "stdout",
     "output_type": "stream",
     "text": [
      "Achieved final accuracy of 0.7427821755409241\n",
      "Iteration No: 42 ended. Search finished for the next optimal point.\n",
      "Time taken: 38.9519\n",
      "Function value obtained: 0.2572\n",
      "Current minimum: 0.2021\n",
      "Iteration No: 43 started. Searching for the next optimal point.\n",
      "Modell initialised. Shapes: \n",
      " torch.Size([64, 1, 129, 5]) torch.Size([64, 4]) 1.3878231048583984\n",
      "No existing log data found for comp_classifier_0.002854855482279835-11_hdim19_param19629 in ..\\saved_models\\conv\\r1_initlr_stepsize\\. Creating new one\n",
      "Ready to begin training from 0 epoch. \n",
      " (device(type='cuda', index=0), '..\\\\saved_models\\\\conv\\\\r1_initlr_stepsize\\\\', 'comp_classifier_0.002854855482279835-11_hdim19_param19629')\n"
     ]
    },
    {
     "name": "stderr",
     "output_type": "stream",
     "text": [
      "                                                                       \r"
     ]
    },
    {
     "name": "stdout",
     "output_type": "stream",
     "text": [
      "Achieved final accuracy of 0.7900262475013733\n",
      "Iteration No: 43 ended. Search finished for the next optimal point.\n",
      "Time taken: 38.5346\n",
      "Function value obtained: 0.2100\n",
      "Current minimum: 0.2021\n",
      "Iteration No: 44 started. Searching for the next optimal point.\n",
      "Modell initialised. Shapes: \n",
      " torch.Size([64, 1, 129, 5]) torch.Size([64, 4]) 1.333229660987854\n",
      "No existing log data found for comp_classifier_0.02612168267430039-15_hdim19_param19629 in ..\\saved_models\\conv\\r1_initlr_stepsize\\. Creating new one\n",
      "Ready to begin training from 0 epoch. \n",
      " (device(type='cuda', index=0), '..\\\\saved_models\\\\conv\\\\r1_initlr_stepsize\\\\', 'comp_classifier_0.02612168267430039-15_hdim19_param19629')\n"
     ]
    },
    {
     "name": "stderr",
     "output_type": "stream",
     "text": [
      "                                                                       \r"
     ]
    },
    {
     "name": "stdout",
     "output_type": "stream",
     "text": [
      "Achieved final accuracy of 0.7112860679626465\n",
      "Iteration No: 44 ended. Search finished for the next optimal point.\n",
      "Time taken: 38.7651\n",
      "Function value obtained: 0.2887\n",
      "Current minimum: 0.2021\n",
      "Iteration No: 45 started. Searching for the next optimal point.\n",
      "Modell initialised. Shapes: \n",
      " torch.Size([64, 1, 129, 5]) torch.Size([64, 4]) 1.467214584350586\n",
      "No existing log data found for comp_classifier_0.027834621819619296-15_hdim19_param19629 in ..\\saved_models\\conv\\r1_initlr_stepsize\\. Creating new one\n",
      "Ready to begin training from 0 epoch. \n",
      " (device(type='cuda', index=0), '..\\\\saved_models\\\\conv\\\\r1_initlr_stepsize\\\\', 'comp_classifier_0.027834621819619296-15_hdim19_param19629')\n"
     ]
    },
    {
     "name": "stderr",
     "output_type": "stream",
     "text": [
      "                                                                       \r"
     ]
    },
    {
     "name": "stdout",
     "output_type": "stream",
     "text": [
      "Achieved final accuracy of 0.6981627345085144\n",
      "Iteration No: 45 ended. Search finished for the next optimal point.\n",
      "Time taken: 38.2474\n",
      "Function value obtained: 0.3018\n",
      "Current minimum: 0.2021\n",
      "Iteration No: 46 started. Searching for the next optimal point.\n",
      "Modell initialised. Shapes: \n",
      " torch.Size([64, 1, 129, 5]) torch.Size([64, 4]) 1.5358902215957642\n",
      "No existing log data found for comp_classifier_0.03816499061186859-8_hdim19_param19629 in ..\\saved_models\\conv\\r1_initlr_stepsize\\. Creating new one\n",
      "Ready to begin training from 0 epoch. \n",
      " (device(type='cuda', index=0), '..\\\\saved_models\\\\conv\\\\r1_initlr_stepsize\\\\', 'comp_classifier_0.03816499061186859-8_hdim19_param19629')\n"
     ]
    },
    {
     "name": "stderr",
     "output_type": "stream",
     "text": [
      "                                                                       \r"
     ]
    },
    {
     "name": "stdout",
     "output_type": "stream",
     "text": [
      "Achieved final accuracy of 0.6010498404502869\n",
      "Iteration No: 46 ended. Search finished for the next optimal point.\n",
      "Time taken: 38.4129\n",
      "Function value obtained: 0.3990\n",
      "Current minimum: 0.2021\n",
      "Iteration No: 47 started. Searching for the next optimal point.\n",
      "Modell initialised. Shapes: \n",
      " torch.Size([64, 1, 129, 5]) torch.Size([64, 4]) 1.5242092609405518\n",
      "No existing log data found for comp_classifier_0.010002746818814929-7_hdim19_param19629 in ..\\saved_models\\conv\\r1_initlr_stepsize\\. Creating new one\n",
      "Ready to begin training from 0 epoch. \n",
      " (device(type='cuda', index=0), '..\\\\saved_models\\\\conv\\\\r1_initlr_stepsize\\\\', 'comp_classifier_0.010002746818814929-7_hdim19_param19629')\n"
     ]
    },
    {
     "name": "stderr",
     "output_type": "stream",
     "text": [
      "                                                                       \r"
     ]
    },
    {
     "name": "stdout",
     "output_type": "stream",
     "text": [
      "Achieved final accuracy of 0.7559055089950562\n",
      "Iteration No: 47 ended. Search finished for the next optimal point.\n",
      "Time taken: 38.9182\n",
      "Function value obtained: 0.2441\n",
      "Current minimum: 0.2021\n",
      "Iteration No: 48 started. Searching for the next optimal point.\n",
      "Modell initialised. Shapes: \n",
      " torch.Size([64, 1, 129, 5]) torch.Size([64, 4]) 1.5077106952667236\n",
      "No existing log data found for comp_classifier_0.010466252506817549-8_hdim19_param19629 in ..\\saved_models\\conv\\r1_initlr_stepsize\\. Creating new one\n",
      "Ready to begin training from 0 epoch. \n",
      " (device(type='cuda', index=0), '..\\\\saved_models\\\\conv\\\\r1_initlr_stepsize\\\\', 'comp_classifier_0.010466252506817549-8_hdim19_param19629')\n"
     ]
    },
    {
     "name": "stderr",
     "output_type": "stream",
     "text": [
      "                                                                       \r"
     ]
    },
    {
     "name": "stdout",
     "output_type": "stream",
     "text": [
      "Achieved final accuracy of 0.7532808184623718\n",
      "Iteration No: 48 ended. Search finished for the next optimal point.\n",
      "Time taken: 38.6466\n",
      "Function value obtained: 0.2467\n",
      "Current minimum: 0.2021\n",
      "Iteration No: 49 started. Searching for the next optimal point.\n",
      "Modell initialised. Shapes: \n",
      " torch.Size([64, 1, 129, 5]) torch.Size([64, 4]) 1.434720516204834\n",
      "No existing log data found for comp_classifier_0.040539271205055766-3_hdim19_param19629 in ..\\saved_models\\conv\\r1_initlr_stepsize\\. Creating new one\n",
      "Ready to begin training from 0 epoch. \n",
      " (device(type='cuda', index=0), '..\\\\saved_models\\\\conv\\\\r1_initlr_stepsize\\\\', 'comp_classifier_0.040539271205055766-3_hdim19_param19629')\n"
     ]
    },
    {
     "name": "stderr",
     "output_type": "stream",
     "text": [
      "                                                                       \r"
     ]
    },
    {
     "name": "stdout",
     "output_type": "stream",
     "text": [
      "Achieved final accuracy of 0.6587926745414734\n",
      "Iteration No: 49 ended. Search finished for the next optimal point.\n",
      "Time taken: 38.2210\n",
      "Function value obtained: 0.3412\n",
      "Current minimum: 0.2021\n",
      "Iteration No: 50 started. Searching for the next optimal point.\n",
      "Modell initialised. Shapes: \n",
      " torch.Size([64, 1, 129, 5]) torch.Size([64, 4]) 1.4803099632263184\n",
      "No existing log data found for comp_classifier_0.03969148568801108-8_hdim19_param19629 in ..\\saved_models\\conv\\r1_initlr_stepsize\\. Creating new one\n",
      "Ready to begin training from 0 epoch. \n",
      " (device(type='cuda', index=0), '..\\\\saved_models\\\\conv\\\\r1_initlr_stepsize\\\\', 'comp_classifier_0.03969148568801108-8_hdim19_param19629')\n"
     ]
    },
    {
     "name": "stderr",
     "output_type": "stream",
     "text": [
      "                                                                       \r"
     ]
    },
    {
     "name": "stdout",
     "output_type": "stream",
     "text": [
      "Achieved final accuracy of 0.7086614370346069\n",
      "Iteration No: 50 ended. Search finished for the next optimal point.\n",
      "Time taken: 38.7303\n",
      "Function value obtained: 0.2913\n",
      "Current minimum: 0.2021\n"
     ]
    }
   ],
   "source": [
    "torch.cuda.empty_cache()\n",
    "param_result = gp_minimize(\n",
    "    objective_error_param_search, # the objective function which is observed n_calls times\n",
    "    param_space, # the parameter search space\n",
    "    n_calls=50, # total function calls\n",
    "    n_initial_points=30, # number of observations before approximating the function\n",
    "    random_state=7, \n",
    "    verbose=True,\n",
    "    callback=[checkpoint_saver],\n",
    "    noise=1e-10\n",
    ")"
   ]
  },
  {
   "cell_type": "code",
   "execution_count": 111,
   "metadata": {},
   "outputs": [
    {
     "data": {
      "text/plain": [
       "([0.009587599554159203, np.int64(9)], np.float64(0.2020997405052185))"
      ]
     },
     "execution_count": 111,
     "metadata": {},
     "output_type": "execute_result"
    }
   ],
   "source": [
    "param_result.x, param_result.fun"
   ]
  },
  {
   "cell_type": "code",
   "execution_count": 59,
   "metadata": {},
   "outputs": [
    {
     "data": {
      "image/png": "[encoded data removed]",
      "text/plain": [
       "<Figure size 600x400 with 1 Axes>"
      ]
     },
     "metadata": {},
     "output_type": "display_data"
    }
   ],
   "source": [
    "worst_model_name = \"comp_classifier_0.0660402592179754-6_hdim36_param22826\"\n",
    "worst_model_loss = pd.read_csv(save_filepath+worst_model_name+'.csv')\n",
    "\n",
    "sns.set_context(\"paper\", font_scale=1.4)\n",
    "sns.set_style(\"whitegrid\")\n",
    "\n",
    "plt.figure(figsize=(6, 4))\n",
    "plt.plot(worst_model_loss['Epoch'], worst_model_loss['Training Loss'], label='Training Loss', linewidth=2)\n",
    "plt.plot(worst_model_loss['Epoch'], worst_model_loss['Validation Loss'], label='Validation Loss', linewidth=2)\n",
    "plt.plot(worst_model_loss['Epoch'], worst_model_loss['Accuracy'], label='Accuracy', linewidth=2)\n",
    "\n",
    "plt.xlabel('Epoch')\n",
    "plt.ylabel('Loss / Accuracy')\n",
    "plt.legend(frameon=False)\n",
    "plt.tight_layout()\n",
    "plt.savefig('training_plot.pdf', dpi=300)  # Save as vector format\n",
    "plt.show()"
   ]
  },
  {
   "cell_type": "code",
   "execution_count": 114,
   "metadata": {},
   "outputs": [
    {
     "data": {
      "image/png": "[encoded data removed]",
      "text/plain": [
       "<Figure size 600x400 with 1 Axes>"
      ]
     },
     "metadata": {},
     "output_type": "display_data"
    }
   ],
   "source": [
    "best_model_name = \"comp_classifier_0.009587599554159203-9_hdim19_param19629\"\n",
    "best_model_loss = pd.read_csv(save_filepath+best_model_name+'.csv')\n",
    "\n",
    "sns.set_context(\"paper\", font_scale=1.4)\n",
    "sns.set_style(\"whitegrid\")\n",
    "\n",
    "plt.figure(figsize=(6, 4))\n",
    "plt.plot(best_model_loss['Epoch'], best_model_loss['Training Loss'], label='Training Loss', linewidth=2)\n",
    "plt.plot(best_model_loss['Epoch'], best_model_loss['Validation Loss'], label='Validation Loss', linewidth=2)\n",
    "plt.plot(best_model_loss['Epoch'], best_model_loss['Accuracy'], label='Accuracy', linewidth=2)\n",
    "\n",
    "plt.xlabel('Epoch')\n",
    "plt.ylabel('Loss / Accuracy')\n",
    "plt.legend(frameon=False)\n",
    "plt.tight_layout()\n",
    "plt.savefig('training_plot.pdf', dpi=300)  # Save as vector format\n",
    "plt.show()"
   ]
  },
  {
   "cell_type": "markdown",
   "metadata": {},
   "source": [
    "#### Hyperparameter Analysis"
   ]
  },
  {
   "cell_type": "code",
   "execution_count": 60,
   "metadata": {},
   "outputs": [],
   "source": [
    "from skopt.plots import plot_convergence, plot_gaussian_process, plot_evaluations, plot_objective, plot_objective_2D"
   ]
  },
  {
   "cell_type": "code",
   "execution_count": 61,
   "metadata": {},
   "outputs": [
    {
     "data": {
      "text/plain": [
       "<Axes: title={'center': 'Convergence plot'}, xlabel='Number of calls $n$', ylabel='$\\\\min f(x)$ after $n$ calls'>"
      ]
     },
     "execution_count": 61,
     "metadata": {},
     "output_type": "execute_result"
    },
    {
     "data": {
      "image/png": "[encoded data removed]",
      "text/plain": [
       "<Figure size 640x480 with 1 Axes>"
      ]
     },
     "metadata": {},
     "output_type": "display_data"
    }
   ],
   "source": [
    "plot_convergence(param_result)"
   ]
  },
  {
   "cell_type": "code",
   "execution_count": 62,
   "metadata": {},
   "outputs": [
    {
     "data": {
      "text/plain": [
       "<Axes: >"
      ]
     },
     "execution_count": 62,
     "metadata": {},
     "output_type": "execute_result"
    },
    {
     "data": {
      "image/png": "[encoded data removed]",
      "text/plain": [
       "<Figure size 400x400 with 5 Axes>"
      ]
     },
     "metadata": {},
     "output_type": "display_data"
    }
   ],
   "source": [
    "plot_evaluations(param_result)"
   ]
  },
  {
   "cell_type": "code",
   "execution_count": 63,
   "metadata": {},
   "outputs": [
    {
     "data": {
      "text/plain": [
       "<Axes: >"
      ]
     },
     "execution_count": 63,
     "metadata": {},
     "output_type": "execute_result"
    },
    {
     "data": {
      "image/png": "[encoded data removed]",
      "text/plain": [
       "<Figure size 400x400 with 5 Axes>"
      ]
     },
     "metadata": {},
     "output_type": "display_data"
    }
   ],
   "source": [
    "plot_objective(param_result)"
   ]
  },
  {
   "cell_type": "code",
   "execution_count": null,
   "metadata": {},
   "outputs": [
    {
     "data": {
      "text/plain": [
       "<Axes: xlabel='initlr', ylabel='step_size'>"
      ]
     },
     "execution_count": 64,
     "metadata": {},
     "output_type": "execute_result"
    },
    {
     "data": {
      "image/png": "[encoded data removed]",
      "text/plain": [
       "<Figure size 640x480 with 1 Axes>"
      ]
     },
     "metadata": {},
     "output_type": "display_data"
    }
   ],
   "source": [
    "plot_objective_2D(param_result, dimension_identifier1='initlr', dimension_identifier2='step_size')"
   ]
  },
  {
   "cell_type": "markdown",
   "metadata": {},
   "source": [
    "#### Convolutional model hyperparameter search"
   ]
  },
  {
   "cell_type": "code",
   "execution_count": 127,
   "metadata": {},
   "outputs": [],
   "source": [
    "import random\n",
    "torch.cuda.empty_cache()\n",
    "# single head model\n",
    "# -1: tune all layers | 0: tune no layers | i : tune only the last i layers; [:-i] are frozen\n",
    "# training hyperparameter search found: [0.009234786623517212, np.int64(13)]\n",
    "\n",
    "# NOTE: this is currently not in use\n",
    "tune_layers = -1\n",
    "num_epochs = 40\n",
    "batch_size = 64\n",
    "\n",
    "initlr = 0.009234786623517212\n",
    "step_size = 13\n",
    "gamma = 0.5\n",
    "\n",
    "save_filepath = \"..\\\\saved_models\\\\cognitive_workload\\\\conv\\\\ldim_hdim\\\\\"# + f'tune_layers_{tune_layers!=0}\\\\'\n",
    "\n",
    "# bayesion parameter optimization\n",
    "optim_name = 'testforblog'\n",
    "checkpoint_saver = CheckpointSaver(save_filepath+optim_name+'.pkl', compress=9)\n",
    "\n",
    "param_space = [\n",
    "    Integer(8, 48, name='latent_dim'), # latent dimension\n",
    "    Integer(8,  48, name='hidden_dim'), # hidden layer dimension\n",
    "]\n",
    "\n",
    "def objective_error(x):\n",
    "    ldim, hdim = [int(p) for p in x]\n",
    "\n",
    "    conv_cfg = {'input_shape':frames[0][0].shape[-2:], 'latent_dim':ldim, 'channels':[1, 8, 16], 'kernel':(10, 2)}\n",
    "    conv = {'model': Conv(**conv_cfg), 'output_fn': 'encode', 'output_dim':ldim, 'tune_layers':tune_layers}\n",
    "\n",
    "    comp_cfg = {\n",
    "        'metadata':[conv_cfg],\n",
    "        'hidden_dim':hdim,\n",
    "        'num_epochs':num_epochs, \n",
    "        'batch_size':batch_size,\n",
    "        'initlr':initlr\n",
    "    }\n",
    "\n",
    "    accuracy = train_and_save_comp_model(comp_cfg, model_list=[conv], dataset=frames, save_filepath=save_filepath, id=f\"{'-'.join([str(int(p)) for p in x])}-r{random.randint(1, 50)}\", step_size=step_size, gamma=gamma)\n",
    "    print(f'Achieved final accuracy of {accuracy}')\n",
    "    error = 1-accuracy\n",
    "    return error"
   ]
  },
  {
   "cell_type": "code",
   "execution_count": 128,
   "metadata": {},
   "outputs": [
    {
     "name": "stdout",
     "output_type": "stream",
     "text": [
      "Iteration No: 1 started. Evaluating function at random point.\n",
      "Modell initialised. Shapes: \n",
      " torch.Size([64, 1, 129, 5]) torch.Size([64, 4]) 1.4776275157928467\n",
      "No existing log data found for comp_classifier_17-21-r26_hdim21_param18609 in ..\\saved_models\\cognitive_workload\\conv\\ldim_hdim\\. Creating new one\n",
      "Ready to begin training from 0 epoch. \n",
      " (device(type='cuda', index=0), '..\\\\saved_models\\\\cognitive_workload\\\\conv\\\\ldim_hdim\\\\', 'comp_classifier_17-21-r26_hdim21_param18609')\n"
     ]
    },
    {
     "name": "stderr",
     "output_type": "stream",
     "text": [
      "                                                                       \r"
     ]
    },
    {
     "name": "stdout",
     "output_type": "stream",
     "text": [
      "Achieved final accuracy of 0.2729658782482147\n",
      "Iteration No: 1 ended. Evaluation done at random point.\n",
      "Time taken: 32.1910\n",
      "Function value obtained: 0.7270\n",
      "Current minimum: 0.7270\n",
      "Iteration No: 2 started. Evaluating function at random point.\n",
      "Modell initialised. Shapes: \n",
      " torch.Size([64, 1, 129, 5]) torch.Size([64, 4]) 1.4416313171386719\n",
      "No existing log data found for comp_classifier_47-26-r44_hdim26_param34959 in ..\\saved_models\\cognitive_workload\\conv\\ldim_hdim\\. Creating new one\n",
      "Ready to begin training from 0 epoch. \n",
      " (device(type='cuda', index=0), '..\\\\saved_models\\\\cognitive_workload\\\\conv\\\\ldim_hdim\\\\', 'comp_classifier_47-26-r44_hdim26_param34959')\n"
     ]
    },
    {
     "name": "stderr",
     "output_type": "stream",
     "text": [
      "                                                                       \r"
     ]
    },
    {
     "name": "stdout",
     "output_type": "stream",
     "text": [
      "Achieved final accuracy of 0.2808398902416229\n",
      "Iteration No: 2 ended. Evaluation done at random point.\n",
      "Time taken: 31.6216\n",
      "Function value obtained: 0.7192\n",
      "Current minimum: 0.7192\n",
      "Iteration No: 3 started. Evaluating function at random point.\n",
      "Modell initialised. Shapes: \n",
      " torch.Size([64, 1, 129, 5]) torch.Size([64, 4]) 1.3975169658660889\n",
      "No existing log data found for comp_classifier_20-19-r40_hdim19_param20163 in ..\\saved_models\\cognitive_workload\\conv\\ldim_hdim\\. Creating new one\n",
      "Ready to begin training from 0 epoch. \n",
      " (device(type='cuda', index=0), '..\\\\saved_models\\\\cognitive_workload\\\\conv\\\\ldim_hdim\\\\', 'comp_classifier_20-19-r40_hdim19_param20163')\n"
     ]
    },
    {
     "name": "stderr",
     "output_type": "stream",
     "text": [
      "                                                                       \r"
     ]
    },
    {
     "name": "stdout",
     "output_type": "stream",
     "text": [
      "Achieved final accuracy of 0.3097112774848938\n",
      "Iteration No: 3 ended. Evaluation done at random point.\n",
      "Time taken: 31.4717\n",
      "Function value obtained: 0.6903\n",
      "Current minimum: 0.6903\n",
      "Iteration No: 4 started. Evaluating function at random point.\n",
      "Modell initialised. Shapes: \n",
      " torch.Size([64, 1, 129, 5]) torch.Size([64, 4]) 1.4504244327545166\n",
      "No existing log data found for comp_classifier_11-25-r28_hdim25_param15465 in ..\\saved_models\\cognitive_workload\\conv\\ldim_hdim\\. Creating new one\n",
      "Ready to begin training from 0 epoch. \n",
      " (device(type='cuda', index=0), '..\\\\saved_models\\\\cognitive_workload\\\\conv\\\\ldim_hdim\\\\', 'comp_classifier_11-25-r28_hdim25_param15465')\n"
     ]
    },
    {
     "name": "stderr",
     "output_type": "stream",
     "text": [
      "                                                                       \r"
     ]
    },
    {
     "name": "stdout",
     "output_type": "stream",
     "text": [
      "Achieved final accuracy of 0.2729658782482147\n",
      "Iteration No: 4 ended. Evaluation done at random point.\n",
      "Time taken: 32.2281\n",
      "Function value obtained: 0.7270\n",
      "Current minimum: 0.6903\n",
      "Iteration No: 5 started. Evaluating function at random point.\n",
      "Modell initialised. Shapes: \n",
      " torch.Size([64, 1, 129, 5]) torch.Size([64, 4]) 1.5185301303863525\n",
      "No existing log data found for comp_classifier_9-29-r32_hdim29_param14449 in ..\\saved_models\\cognitive_workload\\conv\\ldim_hdim\\. Creating new one\n",
      "Ready to begin training from 0 epoch. \n",
      " (device(type='cuda', index=0), '..\\\\saved_models\\\\cognitive_workload\\\\conv\\\\ldim_hdim\\\\', 'comp_classifier_9-29-r32_hdim29_param14449')\n"
     ]
    },
    {
     "name": "stderr",
     "output_type": "stream",
     "text": [
      "                                                                       \r"
     ]
    },
    {
     "name": "stdout",
     "output_type": "stream",
     "text": [
      "Achieved final accuracy of 0.30708661675453186\n",
      "Iteration No: 5 ended. Evaluation done at random point.\n",
      "Time taken: 33.1389\n",
      "Function value obtained: 0.6929\n",
      "Current minimum: 0.6903\n",
      "Iteration No: 6 started. Evaluating function at random point.\n",
      "Modell initialised. Shapes: \n",
      " torch.Size([64, 1, 129, 5]) torch.Size([64, 4]) 1.4609150886535645\n",
      "No existing log data found for comp_classifier_43-21-r47_hdim21_param32545 in ..\\saved_models\\cognitive_workload\\conv\\ldim_hdim\\. Creating new one\n",
      "Ready to begin training from 0 epoch. \n",
      " (device(type='cuda', index=0), '..\\\\saved_models\\\\cognitive_workload\\\\conv\\\\ldim_hdim\\\\', 'comp_classifier_43-21-r47_hdim21_param32545')\n"
     ]
    },
    {
     "name": "stderr",
     "output_type": "stream",
     "text": [
      "                                                                       \r"
     ]
    },
    {
     "name": "stdout",
     "output_type": "stream",
     "text": [
      "Achieved final accuracy of 0.2808398902416229\n",
      "Iteration No: 6 ended. Evaluation done at random point.\n",
      "Time taken: 34.4229\n",
      "Function value obtained: 0.7192\n",
      "Current minimum: 0.6903\n",
      "Iteration No: 7 started. Evaluating function at random point.\n",
      "Modell initialised. Shapes: \n",
      " torch.Size([64, 1, 129, 5]) torch.Size([64, 4]) 1.425473690032959\n",
      "No existing log data found for comp_classifier_24-35-r32_hdim35_param22795 in ..\\saved_models\\cognitive_workload\\conv\\ldim_hdim\\. Creating new one\n",
      "Ready to begin training from 0 epoch. \n",
      " (device(type='cuda', index=0), '..\\\\saved_models\\\\cognitive_workload\\\\conv\\\\ldim_hdim\\\\', 'comp_classifier_24-35-r32_hdim35_param22795')\n"
     ]
    },
    {
     "name": "stderr",
     "output_type": "stream",
     "text": [
      "                                                                       \r"
     ]
    },
    {
     "name": "stdout",
     "output_type": "stream",
     "text": [
      "Achieved final accuracy of 0.3018372654914856\n",
      "Iteration No: 7 ended. Evaluation done at random point.\n",
      "Time taken: 34.9930\n",
      "Function value obtained: 0.6982\n",
      "Current minimum: 0.6903\n",
      "Iteration No: 8 started. Evaluating function at random point.\n",
      "Modell initialised. Shapes: \n",
      " torch.Size([64, 1, 129, 5]) torch.Size([64, 4]) 1.586021065711975\n",
      "No existing log data found for comp_classifier_35-36-r1_hdim36_param28887 in ..\\saved_models\\cognitive_workload\\conv\\ldim_hdim\\. Creating new one\n",
      "Ready to begin training from 0 epoch. \n",
      " (device(type='cuda', index=0), '..\\\\saved_models\\\\cognitive_workload\\\\conv\\\\ldim_hdim\\\\', 'comp_classifier_35-36-r1_hdim36_param28887')\n"
     ]
    },
    {
     "name": "stderr",
     "output_type": "stream",
     "text": [
      "                                                                       \r"
     ]
    },
    {
     "name": "stdout",
     "output_type": "stream",
     "text": [
      "Achieved final accuracy of 0.2860892415046692\n",
      "Iteration No: 8 ended. Evaluation done at random point.\n",
      "Time taken: 35.3184\n",
      "Function value obtained: 0.7139\n",
      "Current minimum: 0.6903\n",
      "Iteration No: 9 started. Evaluating function at random point.\n",
      "Modell initialised. Shapes: \n",
      " torch.Size([64, 1, 129, 5]) torch.Size([64, 4]) 1.5340299606323242\n",
      "No existing log data found for comp_classifier_22-45-r29_hdim45_param21985 in ..\\saved_models\\cognitive_workload\\conv\\ldim_hdim\\. Creating new one\n",
      "Ready to begin training from 0 epoch. \n",
      " (device(type='cuda', index=0), '..\\\\saved_models\\\\cognitive_workload\\\\conv\\\\ldim_hdim\\\\', 'comp_classifier_22-45-r29_hdim45_param21985')\n"
     ]
    },
    {
     "name": "stderr",
     "output_type": "stream",
     "text": [
      "                                                                       \r"
     ]
    },
    {
     "name": "stdout",
     "output_type": "stream",
     "text": [
      "Achieved final accuracy of 0.2335958033800125\n",
      "Iteration No: 9 ended. Evaluation done at random point.\n",
      "Time taken: 35.2949\n",
      "Function value obtained: 0.7664\n",
      "Current minimum: 0.6903\n",
      "Iteration No: 10 started. Evaluating function at random point.\n",
      "Modell initialised. Shapes: \n",
      " torch.Size([64, 1, 129, 5]) torch.Size([64, 4]) 1.3749706745147705\n",
      "No existing log data found for comp_classifier_19-38-r49_hdim38_param20123 in ..\\saved_models\\cognitive_workload\\conv\\ldim_hdim\\. Creating new one\n",
      "Ready to begin training from 0 epoch. \n",
      " (device(type='cuda', index=0), '..\\\\saved_models\\\\cognitive_workload\\\\conv\\\\ldim_hdim\\\\', 'comp_classifier_19-38-r49_hdim38_param20123')\n"
     ]
    },
    {
     "name": "stderr",
     "output_type": "stream",
     "text": [
      "                                                                       \r"
     ]
    },
    {
     "name": "stdout",
     "output_type": "stream",
     "text": [
      "Achieved final accuracy of 0.23622047901153564\n",
      "Iteration No: 10 ended. Evaluation done at random point.\n",
      "Time taken: 35.3904\n",
      "Function value obtained: 0.7638\n",
      "Current minimum: 0.6903\n",
      "Iteration No: 11 started. Evaluating function at random point.\n",
      "Modell initialised. Shapes: \n",
      " torch.Size([64, 1, 129, 5]) torch.Size([64, 4]) 1.3675358295440674\n",
      "No existing log data found for comp_classifier_18-42-r46_hdim42_param19670 in ..\\saved_models\\cognitive_workload\\conv\\ldim_hdim\\. Creating new one\n",
      "Ready to begin training from 0 epoch. \n",
      " (device(type='cuda', index=0), '..\\\\saved_models\\\\cognitive_workload\\\\conv\\\\ldim_hdim\\\\', 'comp_classifier_18-42-r46_hdim42_param19670')\n"
     ]
    },
    {
     "name": "stderr",
     "output_type": "stream",
     "text": [
      "                                                                       \r"
     ]
    },
    {
     "name": "stdout",
     "output_type": "stream",
     "text": [
      "Achieved final accuracy of 0.2939632534980774\n",
      "Iteration No: 11 ended. Evaluation done at random point.\n",
      "Time taken: 35.7351\n",
      "Function value obtained: 0.7060\n",
      "Current minimum: 0.6903\n",
      "Iteration No: 12 started. Evaluating function at random point.\n",
      "Modell initialised. Shapes: \n",
      " torch.Size([64, 1, 129, 5]) torch.Size([64, 4]) 1.405140995979309\n",
      "No existing log data found for comp_classifier_15-40-r39_hdim40_param17955 in ..\\saved_models\\cognitive_workload\\conv\\ldim_hdim\\. Creating new one\n",
      "Ready to begin training from 0 epoch. \n",
      " (device(type='cuda', index=0), '..\\\\saved_models\\\\cognitive_workload\\\\conv\\\\ldim_hdim\\\\', 'comp_classifier_15-40-r39_hdim40_param17955')\n"
     ]
    },
    {
     "name": "stderr",
     "output_type": "stream",
     "text": [
      "                                                                       \r"
     ]
    },
    {
     "name": "stdout",
     "output_type": "stream",
     "text": [
      "Achieved final accuracy of 0.28871390223503113\n",
      "Iteration No: 12 ended. Evaluation done at random point.\n",
      "Time taken: 36.6249\n",
      "Function value obtained: 0.7113\n",
      "Current minimum: 0.6903\n",
      "Iteration No: 13 started. Evaluating function at random point.\n",
      "Modell initialised. Shapes: \n",
      " torch.Size([64, 1, 129, 5]) torch.Size([64, 4]) 1.5106803178787231\n",
      "No existing log data found for comp_classifier_46-26-r40_hdim26_param34418 in ..\\saved_models\\cognitive_workload\\conv\\ldim_hdim\\. Creating new one\n",
      "Ready to begin training from 0 epoch. \n",
      " (device(type='cuda', index=0), '..\\\\saved_models\\\\cognitive_workload\\\\conv\\\\ldim_hdim\\\\', 'comp_classifier_46-26-r40_hdim26_param34418')\n"
     ]
    },
    {
     "name": "stderr",
     "output_type": "stream",
     "text": [
      "                                                                       \r"
     ]
    },
    {
     "name": "stdout",
     "output_type": "stream",
     "text": [
      "Achieved final accuracy of 0.3097112774848938\n",
      "Iteration No: 13 ended. Evaluation done at random point.\n",
      "Time taken: 36.7219\n",
      "Function value obtained: 0.6903\n",
      "Current minimum: 0.6903\n",
      "Iteration No: 14 started. Evaluating function at random point.\n",
      "Modell initialised. Shapes: \n",
      " torch.Size([64, 1, 129, 5]) torch.Size([64, 4]) 1.5019690990447998\n",
      "No existing log data found for comp_classifier_23-22-r29_hdim22_param21855 in ..\\saved_models\\cognitive_workload\\conv\\ldim_hdim\\. Creating new one\n",
      "Ready to begin training from 0 epoch. \n",
      " (device(type='cuda', index=0), '..\\\\saved_models\\\\cognitive_workload\\\\conv\\\\ldim_hdim\\\\', 'comp_classifier_23-22-r29_hdim22_param21855')\n"
     ]
    },
    {
     "name": "stderr",
     "output_type": "stream",
     "text": [
      "                                                                       \r"
     ]
    },
    {
     "name": "stdout",
     "output_type": "stream",
     "text": [
      "Achieved final accuracy of 0.3044619560241699\n",
      "Iteration No: 14 ended. Evaluation done at random point.\n",
      "Time taken: 36.1136\n",
      "Function value obtained: 0.6955\n",
      "Current minimum: 0.6903\n",
      "Iteration No: 15 started. Evaluating function at random point.\n",
      "Modell initialised. Shapes: \n",
      " torch.Size([64, 1, 129, 5]) torch.Size([64, 4]) 1.51334810256958\n",
      "No existing log data found for comp_classifier_16-12-r27_hdim12_param17866 in ..\\saved_models\\cognitive_workload\\conv\\ldim_hdim\\. Creating new one\n",
      "Ready to begin training from 0 epoch. \n",
      " (device(type='cuda', index=0), '..\\\\saved_models\\\\cognitive_workload\\\\conv\\\\ldim_hdim\\\\', 'comp_classifier_16-12-r27_hdim12_param17866')\n"
     ]
    },
    {
     "name": "stderr",
     "output_type": "stream",
     "text": [
      "                                                                       \r"
     ]
    },
    {
     "name": "stdout",
     "output_type": "stream",
     "text": [
      "Achieved final accuracy of 0.2650918662548065\n",
      "Iteration No: 15 ended. Evaluation done at random point.\n",
      "Time taken: 36.5720\n",
      "Function value obtained: 0.7349\n",
      "Current minimum: 0.6903\n",
      "Iteration No: 16 started. Evaluating function at random point.\n",
      "Modell initialised. Shapes: \n",
      " torch.Size([64, 1, 129, 5]) torch.Size([64, 4]) 1.414851427078247\n",
      "No existing log data found for comp_classifier_27-33-r48_hdim33_param24377 in ..\\saved_models\\cognitive_workload\\conv\\ldim_hdim\\. Creating new one\n",
      "Ready to begin training from 0 epoch. \n",
      " (device(type='cuda', index=0), '..\\\\saved_models\\\\cognitive_workload\\\\conv\\\\ldim_hdim\\\\', 'comp_classifier_27-33-r48_hdim33_param24377')\n"
     ]
    },
    {
     "name": "stderr",
     "output_type": "stream",
     "text": [
      "                                                                       \r"
     ]
    },
    {
     "name": "stdout",
     "output_type": "stream",
     "text": [
      "Achieved final accuracy of 0.25984251499176025\n",
      "Iteration No: 16 ended. Evaluation done at random point.\n",
      "Time taken: 36.8369\n",
      "Function value obtained: 0.7402\n",
      "Current minimum: 0.6903\n",
      "Iteration No: 17 started. Evaluating function at random point.\n",
      "Modell initialised. Shapes: \n",
      " torch.Size([64, 1, 129, 5]) torch.Size([64, 4]) 1.5849764347076416\n",
      "No existing log data found for comp_classifier_46-22-r6_hdim22_param34206 in ..\\saved_models\\cognitive_workload\\conv\\ldim_hdim\\. Creating new one\n",
      "Ready to begin training from 0 epoch. \n",
      " (device(type='cuda', index=0), '..\\\\saved_models\\\\cognitive_workload\\\\conv\\\\ldim_hdim\\\\', 'comp_classifier_46-22-r6_hdim22_param34206')\n"
     ]
    },
    {
     "name": "stderr",
     "output_type": "stream",
     "text": [
      "                                                                       \r"
     ]
    },
    {
     "name": "stdout",
     "output_type": "stream",
     "text": [
      "Achieved final accuracy of 0.278215229511261\n",
      "Iteration No: 17 ended. Evaluation done at random point.\n",
      "Time taken: 37.6565\n",
      "Function value obtained: 0.7218\n",
      "Current minimum: 0.6903\n",
      "Iteration No: 18 started. Evaluating function at random point.\n",
      "Modell initialised. Shapes: \n",
      " torch.Size([64, 1, 129, 5]) torch.Size([64, 4]) 1.486643671989441\n",
      "No existing log data found for comp_classifier_19-26-r11_hdim26_param19811 in ..\\saved_models\\cognitive_workload\\conv\\ldim_hdim\\. Creating new one\n",
      "Ready to begin training from 0 epoch. \n",
      " (device(type='cuda', index=0), '..\\\\saved_models\\\\cognitive_workload\\\\conv\\\\ldim_hdim\\\\', 'comp_classifier_19-26-r11_hdim26_param19811')\n"
     ]
    },
    {
     "name": "stderr",
     "output_type": "stream",
     "text": [
      "                                                                       \r"
     ]
    },
    {
     "name": "stdout",
     "output_type": "stream",
     "text": [
      "Achieved final accuracy of 0.25196850299835205\n",
      "Iteration No: 18 ended. Evaluation done at random point.\n",
      "Time taken: 37.0219\n",
      "Function value obtained: 0.7480\n",
      "Current minimum: 0.6903\n",
      "Iteration No: 19 started. Evaluating function at random point.\n",
      "Modell initialised. Shapes: \n",
      " torch.Size([64, 1, 129, 5]) torch.Size([64, 4]) 1.5132912397384644\n",
      "No existing log data found for comp_classifier_46-15-r34_hdim15_param33835 in ..\\saved_models\\cognitive_workload\\conv\\ldim_hdim\\. Creating new one\n",
      "Ready to begin training from 0 epoch. \n",
      " (device(type='cuda', index=0), '..\\\\saved_models\\\\cognitive_workload\\\\conv\\\\ldim_hdim\\\\', 'comp_classifier_46-15-r34_hdim15_param33835')\n"
     ]
    },
    {
     "name": "stderr",
     "output_type": "stream",
     "text": [
      "                                                                       \r"
     ]
    },
    {
     "name": "stdout",
     "output_type": "stream",
     "text": [
      "Achieved final accuracy of 0.27559053897857666\n",
      "Iteration No: 19 ended. Evaluation done at random point.\n",
      "Time taken: 37.2457\n",
      "Function value obtained: 0.7244\n",
      "Current minimum: 0.6903\n",
      "Iteration No: 20 started. Evaluating function at random point.\n",
      "Modell initialised. Shapes: \n",
      " torch.Size([64, 1, 129, 5]) torch.Size([64, 4]) 1.4635231494903564\n",
      "No existing log data found for comp_classifier_14-11-r45_hdim11_param16791 in ..\\saved_models\\cognitive_workload\\conv\\ldim_hdim\\. Creating new one\n",
      "Ready to begin training from 0 epoch. \n",
      " (device(type='cuda', index=0), '..\\\\saved_models\\\\cognitive_workload\\\\conv\\\\ldim_hdim\\\\', 'comp_classifier_14-11-r45_hdim11_param16791')\n"
     ]
    },
    {
     "name": "stderr",
     "output_type": "stream",
     "text": [
      "                                                                       \r"
     ]
    },
    {
     "name": "stdout",
     "output_type": "stream",
     "text": [
      "Achieved final accuracy of 0.28346455097198486\n",
      "Iteration No: 20 ended. Evaluation done at random point.\n",
      "Time taken: 37.0016\n",
      "Function value obtained: 0.7165\n",
      "Current minimum: 0.6903\n",
      "Iteration No: 21 started. Evaluating function at random point.\n",
      "Modell initialised. Shapes: \n",
      " torch.Size([64, 1, 129, 5]) torch.Size([64, 4]) 1.5123201608657837\n",
      "No existing log data found for comp_classifier_30-20-r12_hdim20_param25540 in ..\\saved_models\\cognitive_workload\\conv\\ldim_hdim\\. Creating new one\n",
      "Ready to begin training from 0 epoch. \n",
      " (device(type='cuda', index=0), '..\\\\saved_models\\\\cognitive_workload\\\\conv\\\\ldim_hdim\\\\', 'comp_classifier_30-20-r12_hdim20_param25540')\n"
     ]
    },
    {
     "name": "stderr",
     "output_type": "stream",
     "text": [
      "                                                                       \r"
     ]
    },
    {
     "name": "stdout",
     "output_type": "stream",
     "text": [
      "Achieved final accuracy of 0.2939632534980774\n",
      "Iteration No: 21 ended. Evaluation done at random point.\n",
      "Time taken: 37.8162\n",
      "Function value obtained: 0.7060\n",
      "Current minimum: 0.6903\n",
      "Iteration No: 22 started. Evaluating function at random point.\n",
      "Modell initialised. Shapes: \n",
      " torch.Size([64, 1, 129, 5]) torch.Size([64, 4]) 1.445072889328003\n",
      "No existing log data found for comp_classifier_19-45-r28_hdim45_param20305 in ..\\saved_models\\cognitive_workload\\conv\\ldim_hdim\\. Creating new one\n",
      "Ready to begin training from 0 epoch. \n",
      " (device(type='cuda', index=0), '..\\\\saved_models\\\\cognitive_workload\\\\conv\\\\ldim_hdim\\\\', 'comp_classifier_19-45-r28_hdim45_param20305')\n"
     ]
    },
    {
     "name": "stderr",
     "output_type": "stream",
     "text": [
      "                                                                       \r"
     ]
    },
    {
     "name": "stdout",
     "output_type": "stream",
     "text": [
      "Achieved final accuracy of 0.25984251499176025\n",
      "Iteration No: 22 ended. Evaluation done at random point.\n",
      "Time taken: 37.0863\n",
      "Function value obtained: 0.7402\n",
      "Current minimum: 0.6903\n",
      "Iteration No: 23 started. Evaluating function at random point.\n",
      "Modell initialised. Shapes: \n",
      " torch.Size([64, 1, 129, 5]) torch.Size([64, 4]) 1.4109731912612915\n",
      "No existing log data found for comp_classifier_25-25-r40_hdim25_param23025 in ..\\saved_models\\cognitive_workload\\conv\\ldim_hdim\\. Creating new one\n",
      "Ready to begin training from 0 epoch. \n",
      " (device(type='cuda', index=0), '..\\\\saved_models\\\\cognitive_workload\\\\conv\\\\ldim_hdim\\\\', 'comp_classifier_25-25-r40_hdim25_param23025')\n"
     ]
    },
    {
     "name": "stderr",
     "output_type": "stream",
     "text": [
      "                                                                       \r"
     ]
    },
    {
     "name": "stdout",
     "output_type": "stream",
     "text": [
      "Achieved final accuracy of 0.23622047901153564\n",
      "Iteration No: 23 ended. Evaluation done at random point.\n",
      "Time taken: 38.5852\n",
      "Function value obtained: 0.7638\n",
      "Current minimum: 0.6903\n",
      "Iteration No: 24 started. Evaluating function at random point.\n",
      "Modell initialised. Shapes: \n",
      " torch.Size([64, 1, 129, 5]) torch.Size([64, 4]) 1.4251291751861572\n",
      "No existing log data found for comp_classifier_47-40-r28_hdim40_param35715 in ..\\saved_models\\cognitive_workload\\conv\\ldim_hdim\\. Creating new one\n",
      "Ready to begin training from 0 epoch. \n",
      " (device(type='cuda', index=0), '..\\\\saved_models\\\\cognitive_workload\\\\conv\\\\ldim_hdim\\\\', 'comp_classifier_47-40-r28_hdim40_param35715')\n"
     ]
    },
    {
     "name": "stderr",
     "output_type": "stream",
     "text": [
      "                                                                       \r"
     ]
    },
    {
     "name": "stdout",
     "output_type": "stream",
     "text": [
      "Achieved final accuracy of 0.2572178542613983\n",
      "Iteration No: 24 ended. Evaluation done at random point.\n",
      "Time taken: 38.4821\n",
      "Function value obtained: 0.7428\n",
      "Current minimum: 0.6903\n",
      "Iteration No: 25 started. Evaluating function at random point.\n",
      "Modell initialised. Shapes: \n",
      " torch.Size([64, 1, 129, 5]) torch.Size([64, 4]) 1.377168893814087\n",
      "No existing log data found for comp_classifier_22-20-r43_hdim20_param21260 in ..\\saved_models\\cognitive_workload\\conv\\ldim_hdim\\. Creating new one\n",
      "Ready to begin training from 0 epoch. \n",
      " (device(type='cuda', index=0), '..\\\\saved_models\\\\cognitive_workload\\\\conv\\\\ldim_hdim\\\\', 'comp_classifier_22-20-r43_hdim20_param21260')\n"
     ]
    },
    {
     "name": "stderr",
     "output_type": "stream",
     "text": [
      "                                                                       \r"
     ]
    },
    {
     "name": "stdout",
     "output_type": "stream",
     "text": [
      "Achieved final accuracy of 0.2703412175178528\n",
      "Iteration No: 25 ended. Evaluation done at random point.\n",
      "Time taken: 38.0460\n",
      "Function value obtained: 0.7297\n",
      "Current minimum: 0.6903\n",
      "Iteration No: 26 started. Evaluating function at random point.\n",
      "Modell initialised. Shapes: \n",
      " torch.Size([64, 1, 129, 5]) torch.Size([64, 4]) 1.334427833557129\n",
      "No existing log data found for comp_classifier_28-33-r1_hdim33_param24925 in ..\\saved_models\\cognitive_workload\\conv\\ldim_hdim\\. Creating new one\n",
      "Ready to begin training from 0 epoch. \n",
      " (device(type='cuda', index=0), '..\\\\saved_models\\\\cognitive_workload\\\\conv\\\\ldim_hdim\\\\', 'comp_classifier_28-33-r1_hdim33_param24925')\n"
     ]
    },
    {
     "name": "stderr",
     "output_type": "stream",
     "text": [
      "                                                                       \r"
     ]
    },
    {
     "name": "stdout",
     "output_type": "stream",
     "text": [
      "Achieved final accuracy of 0.2703412175178528\n",
      "Iteration No: 26 ended. Evaluation done at random point.\n",
      "Time taken: 38.2742\n",
      "Function value obtained: 0.7297\n",
      "Current minimum: 0.6903\n",
      "Iteration No: 27 started. Evaluating function at random point.\n",
      "Modell initialised. Shapes: \n",
      " torch.Size([64, 1, 129, 5]) torch.Size([64, 4]) 1.4253129959106445\n",
      "No existing log data found for comp_classifier_34-18-r40_hdim18_param27598 in ..\\saved_models\\cognitive_workload\\conv\\ldim_hdim\\. Creating new one\n",
      "Ready to begin training from 0 epoch. \n",
      " (device(type='cuda', index=0), '..\\\\saved_models\\\\cognitive_workload\\\\conv\\\\ldim_hdim\\\\', 'comp_classifier_34-18-r40_hdim18_param27598')\n"
     ]
    },
    {
     "name": "stderr",
     "output_type": "stream",
     "text": [
      "                                                                       \r"
     ]
    },
    {
     "name": "stdout",
     "output_type": "stream",
     "text": [
      "Achieved final accuracy of 0.28346455097198486\n",
      "Iteration No: 27 ended. Evaluation done at random point.\n",
      "Time taken: 38.0780\n",
      "Function value obtained: 0.7165\n",
      "Current minimum: 0.6903\n",
      "Iteration No: 28 started. Evaluating function at random point.\n",
      "Modell initialised. Shapes: \n",
      " torch.Size([64, 1, 129, 5]) torch.Size([64, 4]) 1.4388036727905273\n",
      "No existing log data found for comp_classifier_24-35-r24_hdim35_param22795 in ..\\saved_models\\cognitive_workload\\conv\\ldim_hdim\\. Creating new one\n",
      "Ready to begin training from 0 epoch. \n",
      " (device(type='cuda', index=0), '..\\\\saved_models\\\\cognitive_workload\\\\conv\\\\ldim_hdim\\\\', 'comp_classifier_24-35-r24_hdim35_param22795')\n"
     ]
    },
    {
     "name": "stderr",
     "output_type": "stream",
     "text": [
      "                                                                       \r"
     ]
    },
    {
     "name": "stdout",
     "output_type": "stream",
     "text": [
      "Achieved final accuracy of 0.27559053897857666\n",
      "Iteration No: 28 ended. Evaluation done at random point.\n",
      "Time taken: 38.5675\n",
      "Function value obtained: 0.7244\n",
      "Current minimum: 0.6903\n",
      "Iteration No: 29 started. Evaluating function at random point.\n",
      "Modell initialised. Shapes: \n",
      " torch.Size([64, 1, 129, 5]) torch.Size([64, 4]) 1.4461369514465332\n",
      "No existing log data found for comp_classifier_26-39-r7_hdim39_param24027 in ..\\saved_models\\cognitive_workload\\conv\\ldim_hdim\\. Creating new one\n",
      "Ready to begin training from 0 epoch. \n",
      " (device(type='cuda', index=0), '..\\\\saved_models\\\\cognitive_workload\\\\conv\\\\ldim_hdim\\\\', 'comp_classifier_26-39-r7_hdim39_param24027')\n"
     ]
    },
    {
     "name": "stderr",
     "output_type": "stream",
     "text": [
      "                                                                       \r"
     ]
    },
    {
     "name": "stdout",
     "output_type": "stream",
     "text": [
      "Achieved final accuracy of 0.32283464074134827\n",
      "Iteration No: 29 ended. Evaluation done at random point.\n",
      "Time taken: 38.4275\n",
      "Function value obtained: 0.6772\n",
      "Current minimum: 0.6772\n",
      "Iteration No: 30 started. Evaluating function at random point.\n",
      "Modell initialised. Shapes: \n",
      " torch.Size([64, 1, 129, 5]) torch.Size([64, 4]) 1.406775951385498\n",
      "No existing log data found for comp_classifier_35-37-r44_hdim37_param28929 in ..\\saved_models\\cognitive_workload\\conv\\ldim_hdim\\. Creating new one\n",
      "Ready to begin training from 0 epoch. \n",
      " (device(type='cuda', index=0), '..\\\\saved_models\\\\cognitive_workload\\\\conv\\\\ldim_hdim\\\\', 'comp_classifier_35-37-r44_hdim37_param28929')\n"
     ]
    },
    {
     "name": "stderr",
     "output_type": "stream",
     "text": [
      "                                                                       \r"
     ]
    },
    {
     "name": "stdout",
     "output_type": "stream",
     "text": [
      "Achieved final accuracy of 0.2703412175178528\n",
      "Iteration No: 30 ended. Evaluation done at random point.\n",
      "Time taken: 38.7280\n",
      "Function value obtained: 0.7297\n",
      "Current minimum: 0.6772\n",
      "Iteration No: 31 started. Searching for the next optimal point.\n",
      "Modell initialised. Shapes: \n",
      " torch.Size([64, 1, 129, 5]) torch.Size([64, 4]) 1.3984229564666748\n",
      "No existing log data found for comp_classifier_27-40-r17_hdim40_param24615 in ..\\saved_models\\cognitive_workload\\conv\\ldim_hdim\\. Creating new one\n",
      "Ready to begin training from 0 epoch. \n",
      " (device(type='cuda', index=0), '..\\\\saved_models\\\\cognitive_workload\\\\conv\\\\ldim_hdim\\\\', 'comp_classifier_27-40-r17_hdim40_param24615')\n"
     ]
    },
    {
     "name": "stderr",
     "output_type": "stream",
     "text": [
      "                                                                       \r"
     ]
    },
    {
     "name": "stdout",
     "output_type": "stream",
     "text": [
      "Achieved final accuracy of 0.26771652698516846\n",
      "Iteration No: 31 ended. Search finished for the next optimal point.\n",
      "Time taken: 39.0526\n",
      "Function value obtained: 0.7323\n",
      "Current minimum: 0.6772\n",
      "Iteration No: 32 started. Searching for the next optimal point.\n",
      "Modell initialised. Shapes: \n",
      " torch.Size([64, 1, 129, 5]) torch.Size([64, 4]) 1.4179582595825195\n",
      "No existing log data found for comp_classifier_25-39-r17_hdim39_param23473 in ..\\saved_models\\cognitive_workload\\conv\\ldim_hdim\\. Creating new one\n",
      "Ready to begin training from 0 epoch. \n",
      " (device(type='cuda', index=0), '..\\\\saved_models\\\\cognitive_workload\\\\conv\\\\ldim_hdim\\\\', 'comp_classifier_25-39-r17_hdim39_param23473')\n"
     ]
    },
    {
     "name": "stderr",
     "output_type": "stream",
     "text": [
      "                                                                       \r"
     ]
    },
    {
     "name": "stdout",
     "output_type": "stream",
     "text": [
      "Achieved final accuracy of 0.3044619560241699\n",
      "Iteration No: 32 ended. Search finished for the next optimal point.\n",
      "Time taken: 38.5014\n",
      "Function value obtained: 0.6955\n",
      "Current minimum: 0.6772\n",
      "Iteration No: 33 started. Searching for the next optimal point.\n",
      "Modell initialised. Shapes: \n",
      " torch.Size([64, 1, 129, 5]) torch.Size([64, 4]) 1.4381299018859863\n",
      "No existing log data found for comp_classifier_44-39-r30_hdim39_param33999 in ..\\saved_models\\cognitive_workload\\conv\\ldim_hdim\\. Creating new one\n",
      "Ready to begin training from 0 epoch. \n",
      " (device(type='cuda', index=0), '..\\\\saved_models\\\\cognitive_workload\\\\conv\\\\ldim_hdim\\\\', 'comp_classifier_44-39-r30_hdim39_param33999')\n"
     ]
    },
    {
     "name": "stderr",
     "output_type": "stream",
     "text": [
      "                                                                       \r"
     ]
    },
    {
     "name": "stdout",
     "output_type": "stream",
     "text": [
      "Achieved final accuracy of 0.278215229511261\n",
      "Iteration No: 33 ended. Search finished for the next optimal point.\n",
      "Time taken: 39.4113\n",
      "Function value obtained: 0.7218\n",
      "Current minimum: 0.6772\n",
      "Iteration No: 34 started. Searching for the next optimal point.\n",
      "Modell initialised. Shapes: \n",
      " torch.Size([64, 1, 129, 5]) torch.Size([64, 4]) 1.449653148651123\n",
      "No existing log data found for comp_classifier_26-38-r45_hdim38_param23994 in ..\\saved_models\\cognitive_workload\\conv\\ldim_hdim\\. Creating new one\n",
      "Ready to begin training from 0 epoch. \n",
      " (device(type='cuda', index=0), '..\\\\saved_models\\\\cognitive_workload\\\\conv\\\\ldim_hdim\\\\', 'comp_classifier_26-38-r45_hdim38_param23994')\n"
     ]
    },
    {
     "name": "stderr",
     "output_type": "stream",
     "text": [
      "                                                                       \r"
     ]
    },
    {
     "name": "stdout",
     "output_type": "stream",
     "text": [
      "Achieved final accuracy of 0.2467191517353058\n",
      "Iteration No: 34 ended. Search finished for the next optimal point.\n",
      "Time taken: 39.2985\n",
      "Function value obtained: 0.7533\n",
      "Current minimum: 0.6772\n",
      "Iteration No: 35 started. Searching for the next optimal point.\n",
      "Modell initialised. Shapes: \n",
      " torch.Size([64, 1, 129, 5]) torch.Size([64, 4]) 1.5025615692138672\n",
      "No existing log data found for comp_classifier_26-40-r9_hdim40_param24060 in ..\\saved_models\\cognitive_workload\\conv\\ldim_hdim\\. Creating new one\n",
      "Ready to begin training from 0 epoch. \n",
      " (device(type='cuda', index=0), '..\\\\saved_models\\\\cognitive_workload\\\\conv\\\\ldim_hdim\\\\', 'comp_classifier_26-40-r9_hdim40_param24060')\n"
     ]
    },
    {
     "name": "stderr",
     "output_type": "stream",
     "text": [
      "                                                                       \r"
     ]
    },
    {
     "name": "stdout",
     "output_type": "stream",
     "text": [
      "Achieved final accuracy of 0.25984251499176025\n",
      "Iteration No: 35 ended. Search finished for the next optimal point.\n",
      "Time taken: 39.1052\n",
      "Function value obtained: 0.7402\n",
      "Current minimum: 0.6772\n",
      "Iteration No: 36 started. Searching for the next optimal point.\n",
      "Modell initialised. Shapes: \n",
      " torch.Size([64, 1, 129, 5]) torch.Size([64, 4]) 1.402614712715149\n",
      "No existing log data found for comp_classifier_48-8-r28_hdim8_param34510 in ..\\saved_models\\cognitive_workload\\conv\\ldim_hdim\\. Creating new one\n",
      "Ready to begin training from 0 epoch. \n",
      " (device(type='cuda', index=0), '..\\\\saved_models\\\\cognitive_workload\\\\conv\\\\ldim_hdim\\\\', 'comp_classifier_48-8-r28_hdim8_param34510')\n"
     ]
    },
    {
     "name": "stderr",
     "output_type": "stream",
     "text": [
      "                                                                       \r"
     ]
    },
    {
     "name": "stdout",
     "output_type": "stream",
     "text": [
      "Achieved final accuracy of 0.254593163728714\n",
      "Iteration No: 36 ended. Search finished for the next optimal point.\n",
      "Time taken: 39.4501\n",
      "Function value obtained: 0.7454\n",
      "Current minimum: 0.6772\n",
      "Iteration No: 37 started. Searching for the next optimal point.\n",
      "Modell initialised. Shapes: \n",
      " torch.Size([64, 1, 129, 5]) torch.Size([64, 4]) 1.4760856628417969\n",
      "No existing log data found for comp_classifier_44-26-r7_hdim26_param33336 in ..\\saved_models\\cognitive_workload\\conv\\ldim_hdim\\. Creating new one\n",
      "Ready to begin training from 0 epoch. \n",
      " (device(type='cuda', index=0), '..\\\\saved_models\\\\cognitive_workload\\\\conv\\\\ldim_hdim\\\\', 'comp_classifier_44-26-r7_hdim26_param33336')\n"
     ]
    },
    {
     "name": "stderr",
     "output_type": "stream",
     "text": [
      "                                                                       \r"
     ]
    },
    {
     "name": "stdout",
     "output_type": "stream",
     "text": [
      "Achieved final accuracy of 0.2650918662548065\n",
      "Iteration No: 37 ended. Search finished for the next optimal point.\n",
      "Time taken: 40.3598\n",
      "Function value obtained: 0.7349\n",
      "Current minimum: 0.6772\n",
      "Iteration No: 38 started. Searching for the next optimal point.\n",
      "Modell initialised. Shapes: \n",
      " torch.Size([64, 1, 129, 5]) torch.Size([64, 4]) 1.5805463790893555\n",
      "No existing log data found for comp_classifier_48-48-r44_hdim48_param36710 in ..\\saved_models\\cognitive_workload\\conv\\ldim_hdim\\. Creating new one\n",
      "Ready to begin training from 0 epoch. \n",
      " (device(type='cuda', index=0), '..\\\\saved_models\\\\cognitive_workload\\\\conv\\\\ldim_hdim\\\\', 'comp_classifier_48-48-r44_hdim48_param36710')\n"
     ]
    },
    {
     "name": "stderr",
     "output_type": "stream",
     "text": [
      "                                                                       \r"
     ]
    },
    {
     "name": "stdout",
     "output_type": "stream",
     "text": [
      "Achieved final accuracy of 0.28346455097198486\n",
      "Iteration No: 38 ended. Search finished for the next optimal point.\n",
      "Time taken: 39.4457\n",
      "Function value obtained: 0.7165\n",
      "Current minimum: 0.6772\n",
      "Iteration No: 39 started. Searching for the next optimal point.\n",
      "Modell initialised. Shapes: \n",
      " torch.Size([64, 1, 129, 5]) torch.Size([64, 4]) 1.38795006275177\n",
      "No existing log data found for comp_classifier_29-39-r14_hdim39_param25689 in ..\\saved_models\\cognitive_workload\\conv\\ldim_hdim\\. Creating new one\n",
      "Ready to begin training from 0 epoch. \n",
      " (device(type='cuda', index=0), '..\\\\saved_models\\\\cognitive_workload\\\\conv\\\\ldim_hdim\\\\', 'comp_classifier_29-39-r14_hdim39_param25689')\n"
     ]
    },
    {
     "name": "stderr",
     "output_type": "stream",
     "text": [
      "                                                                       \r"
     ]
    },
    {
     "name": "stdout",
     "output_type": "stream",
     "text": [
      "Achieved final accuracy of 0.2939632534980774\n",
      "Iteration No: 39 ended. Search finished for the next optimal point.\n",
      "Time taken: 36.6008\n",
      "Function value obtained: 0.7060\n",
      "Current minimum: 0.6772\n",
      "Iteration No: 40 started. Searching for the next optimal point.\n",
      "Modell initialised. Shapes: \n",
      " torch.Size([64, 1, 129, 5]) torch.Size([64, 4]) 1.3629844188690186\n",
      "No existing log data found for comp_classifier_20-18-r50_hdim18_param20136 in ..\\saved_models\\cognitive_workload\\conv\\ldim_hdim\\. Creating new one\n",
      "Ready to begin training from 0 epoch. \n",
      " (device(type='cuda', index=0), '..\\\\saved_models\\\\cognitive_workload\\\\conv\\\\ldim_hdim\\\\', 'comp_classifier_20-18-r50_hdim18_param20136')\n"
     ]
    },
    {
     "name": "stderr",
     "output_type": "stream",
     "text": [
      "                                                                       \r"
     ]
    },
    {
     "name": "stdout",
     "output_type": "stream",
     "text": [
      "Achieved final accuracy of 0.26771652698516846\n",
      "Iteration No: 40 ended. Search finished for the next optimal point.\n",
      "Time taken: 37.8818\n",
      "Function value obtained: 0.7323\n",
      "Current minimum: 0.6772\n",
      "Iteration No: 41 started. Searching for the next optimal point.\n",
      "Modell initialised. Shapes: \n",
      " torch.Size([64, 1, 129, 5]) torch.Size([64, 4]) 1.4290071725845337\n",
      "No existing log data found for comp_classifier_20-20-r38_hdim20_param20190 in ..\\saved_models\\cognitive_workload\\conv\\ldim_hdim\\. Creating new one\n",
      "Ready to begin training from 0 epoch. \n",
      " (device(type='cuda', index=0), '..\\\\saved_models\\\\cognitive_workload\\\\conv\\\\ldim_hdim\\\\', 'comp_classifier_20-20-r38_hdim20_param20190')\n"
     ]
    },
    {
     "name": "stderr",
     "output_type": "stream",
     "text": [
      "                                                                       \r"
     ]
    },
    {
     "name": "stdout",
     "output_type": "stream",
     "text": [
      "Achieved final accuracy of 0.3018372654914856\n",
      "Iteration No: 41 ended. Search finished for the next optimal point.\n",
      "Time taken: 37.9617\n",
      "Function value obtained: 0.6982\n",
      "Current minimum: 0.6772\n",
      "Iteration No: 42 started. Searching for the next optimal point.\n",
      "Modell initialised. Shapes: \n",
      " torch.Size([64, 1, 129, 5]) torch.Size([64, 4]) 1.4458177089691162\n",
      "No existing log data found for comp_classifier_8-33-r39_hdim33_param13965 in ..\\saved_models\\cognitive_workload\\conv\\ldim_hdim\\. Creating new one\n",
      "Ready to begin training from 0 epoch. \n",
      " (device(type='cuda', index=0), '..\\\\saved_models\\\\cognitive_workload\\\\conv\\\\ldim_hdim\\\\', 'comp_classifier_8-33-r39_hdim33_param13965')\n"
     ]
    },
    {
     "name": "stderr",
     "output_type": "stream",
     "text": [
      "                                                                       \r"
     ]
    },
    {
     "name": "stdout",
     "output_type": "stream",
     "text": [
      "Achieved final accuracy of 0.23884513974189758\n",
      "Iteration No: 42 ended. Search finished for the next optimal point.\n",
      "Time taken: 36.8629\n",
      "Function value obtained: 0.7612\n",
      "Current minimum: 0.6772\n",
      "Iteration No: 43 started. Searching for the next optimal point.\n",
      "Modell initialised. Shapes: \n",
      " torch.Size([64, 1, 129, 5]) torch.Size([64, 4]) 1.4284992218017578\n",
      "No existing log data found for comp_classifier_8-27-r40_hdim27_param13875 in ..\\saved_models\\cognitive_workload\\conv\\ldim_hdim\\. Creating new one\n",
      "Ready to begin training from 0 epoch. \n",
      " (device(type='cuda', index=0), '..\\\\saved_models\\\\cognitive_workload\\\\conv\\\\ldim_hdim\\\\', 'comp_classifier_8-27-r40_hdim27_param13875')\n"
     ]
    },
    {
     "name": "stderr",
     "output_type": "stream",
     "text": [
      "                                                                       \r"
     ]
    },
    {
     "name": "stdout",
     "output_type": "stream",
     "text": [
      "Achieved final accuracy of 0.3123359680175781\n",
      "Iteration No: 43 ended. Search finished for the next optimal point.\n",
      "Time taken: 37.9484\n",
      "Function value obtained: 0.6877\n",
      "Current minimum: 0.6772\n",
      "Iteration No: 44 started. Searching for the next optimal point.\n",
      "Modell initialised. Shapes: \n",
      " torch.Size([64, 1, 129, 5]) torch.Size([64, 4]) 1.3634705543518066\n",
      "No existing log data found for comp_classifier_27-8-r28_hdim8_param23527 in ..\\saved_models\\cognitive_workload\\conv\\ldim_hdim\\. Creating new one\n",
      "Ready to begin training from 0 epoch. \n",
      " (device(type='cuda', index=0), '..\\\\saved_models\\\\cognitive_workload\\\\conv\\\\ldim_hdim\\\\', 'comp_classifier_27-8-r28_hdim8_param23527')\n"
     ]
    },
    {
     "name": "stderr",
     "output_type": "stream",
     "text": [
      "                                                                       \r"
     ]
    },
    {
     "name": "stdout",
     "output_type": "stream",
     "text": [
      "Achieved final accuracy of 0.2729658782482147\n",
      "Iteration No: 44 ended. Search finished for the next optimal point.\n",
      "Time taken: 38.0926\n",
      "Function value obtained: 0.7270\n",
      "Current minimum: 0.6772\n",
      "Iteration No: 45 started. Searching for the next optimal point.\n",
      "Modell initialised. Shapes: \n",
      " torch.Size([64, 1, 129, 5]) torch.Size([64, 4]) 1.4365824460983276\n",
      "No existing log data found for comp_classifier_34-30-r22_hdim30_param28090 in ..\\saved_models\\cognitive_workload\\conv\\ldim_hdim\\. Creating new one\n",
      "Ready to begin training from 0 epoch. \n",
      " (device(type='cuda', index=0), '..\\\\saved_models\\\\cognitive_workload\\\\conv\\\\ldim_hdim\\\\', 'comp_classifier_34-30-r22_hdim30_param28090')\n"
     ]
    },
    {
     "name": "stderr",
     "output_type": "stream",
     "text": [
      "                                                                       \r"
     ]
    },
    {
     "name": "stdout",
     "output_type": "stream",
     "text": [
      "Achieved final accuracy of 0.2572178542613983\n",
      "Iteration No: 45 ended. Search finished for the next optimal point.\n",
      "Time taken: 37.9506\n",
      "Function value obtained: 0.7428\n",
      "Current minimum: 0.6772\n",
      "Iteration No: 46 started. Searching for the next optimal point.\n",
      "Modell initialised. Shapes: \n",
      " torch.Size([64, 1, 129, 5]) torch.Size([64, 4]) 1.4923535585403442\n",
      "No existing log data found for comp_classifier_10-41-r11_hdim41_param15197 in ..\\saved_models\\cognitive_workload\\conv\\ldim_hdim\\. Creating new one\n",
      "Ready to begin training from 0 epoch. \n",
      " (device(type='cuda', index=0), '..\\\\saved_models\\\\cognitive_workload\\\\conv\\\\ldim_hdim\\\\', 'comp_classifier_10-41-r11_hdim41_param15197')\n"
     ]
    },
    {
     "name": "stderr",
     "output_type": "stream",
     "text": [
      "                                                                       \r"
     ]
    },
    {
     "name": "stdout",
     "output_type": "stream",
     "text": [
      "Achieved final accuracy of 0.27559053897857666\n",
      "Iteration No: 46 ended. Search finished for the next optimal point.\n",
      "Time taken: 38.1006\n",
      "Function value obtained: 0.7244\n",
      "Current minimum: 0.6772\n",
      "Iteration No: 47 started. Searching for the next optimal point.\n",
      "Modell initialised. Shapes: \n",
      " torch.Size([64, 1, 129, 5]) torch.Size([64, 4]) 1.5303208827972412\n",
      "No existing log data found for comp_classifier_8-28-r38_hdim28_param13890 in ..\\saved_models\\cognitive_workload\\conv\\ldim_hdim\\. Creating new one\n",
      "Ready to begin training from 0 epoch. \n",
      " (device(type='cuda', index=0), '..\\\\saved_models\\\\cognitive_workload\\\\conv\\\\ldim_hdim\\\\', 'comp_classifier_8-28-r38_hdim28_param13890')\n"
     ]
    },
    {
     "name": "stderr",
     "output_type": "stream",
     "text": [
      "                                                                       \r"
     ]
    },
    {
     "name": "stdout",
     "output_type": "stream",
     "text": [
      "Achieved final accuracy of 0.30708661675453186\n",
      "Iteration No: 47 ended. Search finished for the next optimal point.\n",
      "Time taken: 37.5640\n",
      "Function value obtained: 0.6929\n",
      "Current minimum: 0.6772\n",
      "Iteration No: 48 started. Searching for the next optimal point.\n",
      "Modell initialised. Shapes: \n",
      " torch.Size([64, 1, 129, 5]) torch.Size([64, 4]) 1.5329394340515137\n",
      "No existing log data found for comp_classifier_39-8-r37_hdim8_param29803 in ..\\saved_models\\cognitive_workload\\conv\\ldim_hdim\\. Creating new one\n",
      "Ready to begin training from 0 epoch. \n",
      " (device(type='cuda', index=0), '..\\\\saved_models\\\\cognitive_workload\\\\conv\\\\ldim_hdim\\\\', 'comp_classifier_39-8-r37_hdim8_param29803')\n"
     ]
    },
    {
     "name": "stderr",
     "output_type": "stream",
     "text": [
      "                                                                       \r"
     ]
    },
    {
     "name": "stdout",
     "output_type": "stream",
     "text": [
      "Achieved final accuracy of 0.22572177648544312\n",
      "Iteration No: 48 ended. Search finished for the next optimal point.\n",
      "Time taken: 37.9086\n",
      "Function value obtained: 0.7743\n",
      "Current minimum: 0.6772\n",
      "Iteration No: 49 started. Searching for the next optimal point.\n",
      "Modell initialised. Shapes: \n",
      " torch.Size([64, 1, 129, 5]) torch.Size([64, 4]) 1.3706202507019043\n",
      "No existing log data found for comp_classifier_23-36-r47_hdim36_param22275 in ..\\saved_models\\cognitive_workload\\conv\\ldim_hdim\\. Creating new one\n",
      "Ready to begin training from 0 epoch. \n",
      " (device(type='cuda', index=0), '..\\\\saved_models\\\\cognitive_workload\\\\conv\\\\ldim_hdim\\\\', 'comp_classifier_23-36-r47_hdim36_param22275')\n"
     ]
    },
    {
     "name": "stderr",
     "output_type": "stream",
     "text": [
      "                                                                       \r"
     ]
    },
    {
     "name": "stdout",
     "output_type": "stream",
     "text": [
      "Achieved final accuracy of 0.2860892415046692\n",
      "Iteration No: 49 ended. Search finished for the next optimal point.\n",
      "Time taken: 37.7853\n",
      "Function value obtained: 0.7139\n",
      "Current minimum: 0.6772\n",
      "Iteration No: 50 started. Searching for the next optimal point.\n",
      "Modell initialised. Shapes: \n",
      " torch.Size([64, 1, 129, 5]) torch.Size([64, 4]) 1.4326064586639404\n",
      "No existing log data found for comp_classifier_11-28-r41_hdim28_param15519 in ..\\saved_models\\cognitive_workload\\conv\\ldim_hdim\\. Creating new one\n",
      "Ready to begin training from 0 epoch. \n",
      " (device(type='cuda', index=0), '..\\\\saved_models\\\\cognitive_workload\\\\conv\\\\ldim_hdim\\\\', 'comp_classifier_11-28-r41_hdim28_param15519')\n"
     ]
    },
    {
     "name": "stderr",
     "output_type": "stream",
     "text": [
      "                                                                       \r"
     ]
    },
    {
     "name": "stdout",
     "output_type": "stream",
     "text": [
      "Achieved final accuracy of 0.2729658782482147\n",
      "Iteration No: 50 ended. Search finished for the next optimal point.\n",
      "Time taken: 37.9797\n",
      "Function value obtained: 0.7270\n",
      "Current minimum: 0.6772\n"
     ]
    }
   ],
   "source": [
    "torch.cuda.empty_cache()\n",
    "hyperparam_result = gp_minimize(\n",
    "    objective_error, # the objective function which is observed n_calls times\n",
    "    param_space, # the parameter search space\n",
    "    n_calls=50, # total function calls\n",
    "    n_initial_points=30, # number of observations before approximating the function\n",
    "    random_state=7, \n",
    "    verbose=True,\n",
    "    callback=[checkpoint_saver],\n",
    "    noise=1e-10\n",
    ")"
   ]
  },
  {
   "cell_type": "code",
   "execution_count": 130,
   "metadata": {},
   "outputs": [
    {
     "data": {
      "text/plain": [
       "([np.int64(26), np.int64(39)], np.float64(0.6771653592586517))"
      ]
     },
     "execution_count": 130,
     "metadata": {},
     "output_type": "execute_result"
    }
   ],
   "source": [
    "hyperparam_result.x, hyperparam_result.fun"
   ]
  },
  {
   "cell_type": "code",
   "execution_count": 134,
   "metadata": {},
   "outputs": [
    {
     "data": {
      "text/plain": [
       "[np.int64(39), np.int64(8)]"
      ]
     },
     "execution_count": 134,
     "metadata": {},
     "output_type": "execute_result"
    }
   ],
   "source": [
    "hyperparam_result.x_iters[47]"
   ]
  },
  {
   "cell_type": "code",
   "execution_count": 101,
   "metadata": {},
   "outputs": [
    {
     "name": "stdout",
     "output_type": "stream",
     "text": [
      "Modell initialised. Shapes: \n",
      " torch.Size([64, 1, 129, 5]) torch.Size([64, 4]) 1.4373753070831299\n",
      "No existing log data found for comp_classifier_26-31-r40_hdim31_param23763 in ..\\saved_models\\conv\\ldim_hdim\\. Creating new one\n",
      "Ready to begin training from 0 epoch. \n",
      " (device(type='cuda', index=0), '..\\\\saved_models\\\\conv\\\\ldim_hdim\\\\', 'comp_classifier_26-31-r40_hdim31_param23763')\n"
     ]
    },
    {
     "name": "stderr",
     "output_type": "stream",
     "text": [
      "Epoch 1/40 [Training]:   0%|          | 0/48 [00:00<?, ?it/s]"
     ]
    },
    {
     "name": "stderr",
     "output_type": "stream",
     "text": [
      "                                                                       "
     ]
    },
    {
     "name": "stdout",
     "output_type": "stream",
     "text": [
      "Achieved final accuracy of 0.6771653294563293\n"
     ]
    },
    {
     "name": "stderr",
     "output_type": "stream",
     "text": [
      "\r"
     ]
    },
    {
     "data": {
      "text/plain": [
       "0.32283467054367065"
      ]
     },
     "execution_count": 101,
     "metadata": {},
     "output_type": "execute_result"
    }
   ],
   "source": [
    "objective_error([26, 31])"
   ]
  },
  {
   "cell_type": "code",
   "execution_count": 135,
   "metadata": {},
   "outputs": [
    {
     "data": {
      "image/png": "[encoded data removed]",
      "text/plain": [
       "<Figure size 600x400 with 1 Axes>"
      ]
     },
     "metadata": {},
     "output_type": "display_data"
    }
   ],
   "source": [
    "worst_model_name = \"comp_classifier_39-8-r37_hdim8_param29803\"\n",
    "worst_model_loss = pd.read_csv(save_filepath+worst_model_name+'.csv')\n",
    "\n",
    "sns.set_context(\"paper\", font_scale=1.4)\n",
    "sns.set_style(\"whitegrid\")\n",
    "\n",
    "plt.figure(figsize=(6, 4))\n",
    "plt.plot(worst_model_loss['Epoch'], worst_model_loss['Training Loss'], label='Training Loss', linewidth=2)\n",
    "plt.plot(worst_model_loss['Epoch'], worst_model_loss['Validation Loss'], label='Validation Loss', linewidth=2)\n",
    "plt.plot(worst_model_loss['Epoch'], worst_model_loss['Accuracy'], label='Accuracy', linewidth=2)\n",
    "\n",
    "plt.xlabel('Epoch')\n",
    "plt.ylabel('Loss / Accuracy')\n",
    "plt.legend(frameon=False)\n",
    "plt.tight_layout()\n",
    "plt.savefig('training_plot.pdf', dpi=300)  # Save as vector format\n",
    "plt.show()"
   ]
  },
  {
   "cell_type": "code",
   "execution_count": 131,
   "metadata": {},
   "outputs": [
    {
     "data": {
      "image/png": "[encoded data removed]",
      "text/plain": [
       "<Figure size 600x400 with 1 Axes>"
      ]
     },
     "metadata": {},
     "output_type": "display_data"
    }
   ],
   "source": [
    "best_model_name = \"comp_classifier_26-39-r7_hdim39_param24027\"\n",
    "best_model_loss = pd.read_csv(save_filepath+best_model_name+'.csv')\n",
    "\n",
    "sns.set_context(\"paper\", font_scale=1.4)\n",
    "sns.set_style(\"whitegrid\")\n",
    "\n",
    "plt.figure(figsize=(6, 4))\n",
    "plt.plot(best_model_loss['Epoch'], best_model_loss['Training Loss'], label='Training Loss', linewidth=2)\n",
    "plt.plot(best_model_loss['Epoch'], best_model_loss['Validation Loss'], label='Validation Loss', linewidth=2)\n",
    "plt.plot(best_model_loss['Epoch'], best_model_loss['Accuracy'], label='Accuracy', linewidth=2)\n",
    "\n",
    "plt.xlabel('Epoch')\n",
    "plt.ylabel('Loss / Accuracy')\n",
    "plt.legend(frameon=False)\n",
    "plt.tight_layout()\n",
    "plt.savefig('training_plot.pdf', dpi=300)  # Save as vector format\n",
    "plt.show()"
   ]
  },
  {
   "cell_type": "markdown",
   "metadata": {},
   "source": [
    "#### Hyperparameter Analysis"
   ]
  },
  {
   "cell_type": "code",
   "execution_count": 136,
   "metadata": {},
   "outputs": [],
   "source": [
    "from skopt.plots import plot_convergence, plot_gaussian_process, plot_evaluations, plot_objective, plot_objective_2D"
   ]
  },
  {
   "cell_type": "code",
   "execution_count": 137,
   "metadata": {},
   "outputs": [
    {
     "data": {
      "text/plain": [
       "<Axes: title={'center': 'Convergence plot'}, xlabel='Number of calls $n$', ylabel='$\\\\min f(x)$ after $n$ calls'>"
      ]
     },
     "execution_count": 137,
     "metadata": {},
     "output_type": "execute_result"
    },
    {
     "data": {
      "image/png": "[encoded data removed]",
      "text/plain": [
       "<Figure size 640x480 with 1 Axes>"
      ]
     },
     "metadata": {},
     "output_type": "display_data"
    }
   ],
   "source": [
    "plot_convergence(hyperparam_result)"
   ]
  },
  {
   "cell_type": "code",
   "execution_count": 138,
   "metadata": {},
   "outputs": [
    {
     "data": {
      "text/plain": [
       "<Axes: >"
      ]
     },
     "execution_count": 138,
     "metadata": {},
     "output_type": "execute_result"
    },
    {
     "data": {
      "image/png": "[encoded data removed]",
      "text/plain": [
       "<Figure size 400x400 with 5 Axes>"
      ]
     },
     "metadata": {},
     "output_type": "display_data"
    }
   ],
   "source": [
    "plot_evaluations(hyperparam_result)"
   ]
  },
  {
   "cell_type": "code",
   "execution_count": 139,
   "metadata": {},
   "outputs": [
    {
     "data": {
      "text/plain": [
       "<Axes: >"
      ]
     },
     "execution_count": 139,
     "metadata": {},
     "output_type": "execute_result"
    },
    {
     "data": {
      "image/png": "[encoded data removed]",
      "text/plain": [
       "<Figure size 400x400 with 5 Axes>"
      ]
     },
     "metadata": {},
     "output_type": "display_data"
    }
   ],
   "source": [
    "plot_objective(hyperparam_result)"
   ]
  },
  {
   "cell_type": "code",
   "execution_count": 140,
   "metadata": {},
   "outputs": [
    {
     "data": {
      "text/plain": [
       "<Axes: xlabel='latent_dim', ylabel='hidden_dim'>"
      ]
     },
     "execution_count": 140,
     "metadata": {},
     "output_type": "execute_result"
    },
    {
     "data": {
      "image/png": "[encoded data removed]",
      "text/plain": [
       "<Figure size 640x480 with 1 Axes>"
      ]
     },
     "metadata": {},
     "output_type": "display_data"
    }
   ],
   "source": [
    "plot_objective_2D(hyperparam_result, dimension_identifier1='latent_dim', dimension_identifier2='hidden_dim')"
   ]
  },
  {
   "cell_type": "markdown",
   "metadata": {},
   "source": [
    "#### Candidate Feature Model"
   ]
  },
  {
   "cell_type": "code",
   "execution_count": null,
   "metadata": {},
   "outputs": [],
   "source": [
    "torch.cuda.empty_cache()\n",
    "# single head model\n",
    "# -1: tune all layers | 0: tune no layers | i : tune only the last i layers; [:-i] are frozen\n",
    "tune_layers = 0\n",
    "num_epochs = 40\n",
    "batch_size = 64\n",
    "initlr = 1e-2\n",
    "step_size = 15\n",
    "gamma = 0.5\n",
    "\n",
    "save_filepath = \"..\\\\saved_models\\\\cognitive_workload\\\\stat\\\\hdim\\\\\"# + f'tune_layers_{tune_layers!=0}\\\\'\n",
    "\n",
    "# bayesion parameter optimization\n",
    "optim_name = 'testforblog'\n",
    "checkpoint_saver = CheckpointSaver(save_filepath+optim_name+'.pkl', compress=9)\n",
    "\n",
    "param_space = [\n",
    "    Integer(8,  48, name='hidden_dim'), # hidden layer dimension\n",
    "]\n",
    "\n",
    "def objective_error(x):\n",
    "    hdim = int(x[0])\n",
    "\n",
    "    stats_cfg = {'cand_features':None}\n",
    "    stats = {'model':StatFeatures(**stats_cfg), 'output_fn':'compute', 'output_dim':25, 'tune_layers':tune_layers}\n",
    "\n",
    "    comp_cfg = {\n",
    "        'metadata':[stats_cfg],\n",
    "        'hidden_dim':hdim,\n",
    "        'num_epochs':num_epochs, \n",
    "        'batch_size':batch_size,\n",
    "        'initlr':initlr\n",
    "    }\n",
    "\n",
    "    accuracy = train_and_save_comp_model(comp_cfg, model_list=[stats], dataset=frames, save_filepath=save_filepath, id=f\"{'-'.join([str(int(p)) for p in x])}\", step_size=step_size, gamma=gamma)\n",
    "    print(f'Achieved final accuracy of {accuracy}')\n",
    "    error = 1-accuracy\n",
    "    return error"
   ]
  },
  {
   "cell_type": "code",
   "execution_count": 44,
   "metadata": {},
   "outputs": [
    {
     "name": "stdout",
     "output_type": "stream",
     "text": [
      "Iteration No: 1 started. Evaluating function at random point.\n",
      "Modell initialised. Shapes: \n",
      " torch.Size([64, 1, 129, 5]) torch.Size([64, 4]) 1.4844528436660767\n",
      "No existing log data found for comp_classifier_17_hdim17_param548 in ..\\saved_models\\stat\\hdim\\. Creating new one\n",
      "Ready to begin training from 0 epoch. \n",
      " (device(type='cuda', index=0), '..\\\\saved_models\\\\stat\\\\hdim\\\\', 'comp_classifier_17_hdim17_param548')\n"
     ]
    },
    {
     "name": "stderr",
     "output_type": "stream",
     "text": [
      "                                                                        \r"
     ]
    },
    {
     "name": "stdout",
     "output_type": "stream",
     "text": [
      "Achieved final accuracy of 0.5590550899505615\n",
      "Iteration No: 1 ended. Evaluation done at random point.\n",
      "Time taken: 14.4806\n",
      "Function value obtained: 0.4409\n",
      "Current minimum: 0.4409\n",
      "Iteration No: 2 started. Evaluating function at random point.\n",
      "Modell initialised. Shapes: \n",
      " torch.Size([64, 1, 129, 5]) torch.Size([64, 4]) 1.4441938400268555\n",
      "No existing log data found for comp_classifier_21_hdim21_param676 in ..\\saved_models\\stat\\hdim\\. Creating new one\n",
      "Ready to begin training from 0 epoch. \n",
      " (device(type='cuda', index=0), '..\\\\saved_models\\\\stat\\\\hdim\\\\', 'comp_classifier_21_hdim21_param676')\n"
     ]
    },
    {
     "name": "stderr",
     "output_type": "stream",
     "text": [
      "                                                                        \r"
     ]
    },
    {
     "name": "stdout",
     "output_type": "stream",
     "text": [
      "Achieved final accuracy of 0.5774278044700623\n",
      "Iteration No: 2 ended. Evaluation done at random point.\n",
      "Time taken: 13.5865\n",
      "Function value obtained: 0.4226\n",
      "Current minimum: 0.4226\n",
      "Iteration No: 3 started. Evaluating function at random point.\n",
      "Modell initialised. Shapes: \n",
      " torch.Size([64, 1, 129, 5]) torch.Size([64, 4]) 1.4938777685165405\n",
      "No existing log data found for comp_classifier_47_hdim47_param1508 in ..\\saved_models\\stat\\hdim\\. Creating new one\n",
      "Ready to begin training from 0 epoch. \n",
      " (device(type='cuda', index=0), '..\\\\saved_models\\\\stat\\\\hdim\\\\', 'comp_classifier_47_hdim47_param1508')\n"
     ]
    },
    {
     "name": "stderr",
     "output_type": "stream",
     "text": [
      "                                                                        \r"
     ]
    },
    {
     "name": "stdout",
     "output_type": "stream",
     "text": [
      "Achieved final accuracy of 0.5538057684898376\n",
      "Iteration No: 3 ended. Evaluation done at random point.\n",
      "Time taken: 13.2280\n",
      "Function value obtained: 0.4462\n",
      "Current minimum: 0.4226\n",
      "Iteration No: 4 started. Evaluating function at random point.\n",
      "Modell initialised. Shapes: \n",
      " torch.Size([64, 1, 129, 5]) torch.Size([64, 4]) 1.4179127216339111\n",
      "No existing log data found for comp_classifier_26_hdim26_param836 in ..\\saved_models\\stat\\hdim\\. Creating new one\n",
      "Ready to begin training from 0 epoch. \n",
      " (device(type='cuda', index=0), '..\\\\saved_models\\\\stat\\\\hdim\\\\', 'comp_classifier_26_hdim26_param836')\n"
     ]
    },
    {
     "name": "stderr",
     "output_type": "stream",
     "text": [
      "                                                                        \r"
     ]
    },
    {
     "name": "stdout",
     "output_type": "stream",
     "text": [
      "Achieved final accuracy of 0.5643044710159302\n",
      "Iteration No: 4 ended. Evaluation done at random point.\n",
      "Time taken: 12.8937\n",
      "Function value obtained: 0.4357\n",
      "Current minimum: 0.4226\n",
      "Iteration No: 5 started. Evaluating function at random point.\n",
      "Modell initialised. Shapes: \n",
      " torch.Size([64, 1, 129, 5]) torch.Size([64, 4]) 1.4528477191925049\n",
      "No existing log data found for comp_classifier_20_hdim20_param644 in ..\\saved_models\\stat\\hdim\\. Creating new one\n",
      "Ready to begin training from 0 epoch. \n",
      " (device(type='cuda', index=0), '..\\\\saved_models\\\\stat\\\\hdim\\\\', 'comp_classifier_20_hdim20_param644')\n"
     ]
    },
    {
     "name": "stderr",
     "output_type": "stream",
     "text": [
      "                                                                        \r"
     ]
    },
    {
     "name": "stdout",
     "output_type": "stream",
     "text": [
      "Achieved final accuracy of 0.5879265069961548\n",
      "Iteration No: 5 ended. Evaluation done at random point.\n",
      "Time taken: 13.0027\n",
      "Function value obtained: 0.4121\n",
      "Current minimum: 0.4121\n",
      "Iteration No: 6 started. Evaluating function at random point.\n",
      "Modell initialised. Shapes: \n",
      " torch.Size([64, 1, 129, 5]) torch.Size([64, 4]) 1.473805546760559\n",
      "No existing log data found for comp_classifier_19_hdim19_param612 in ..\\saved_models\\stat\\hdim\\. Creating new one\n",
      "Ready to begin training from 0 epoch. \n",
      " (device(type='cuda', index=0), '..\\\\saved_models\\\\stat\\\\hdim\\\\', 'comp_classifier_19_hdim19_param612')\n"
     ]
    },
    {
     "name": "stderr",
     "output_type": "stream",
     "text": [
      "                                                                        \r"
     ]
    },
    {
     "name": "stdout",
     "output_type": "stream",
     "text": [
      "Achieved final accuracy of 0.5748031735420227\n",
      "Iteration No: 6 ended. Evaluation done at random point.\n",
      "Time taken: 12.9491\n",
      "Function value obtained: 0.4252\n",
      "Current minimum: 0.4121\n",
      "Iteration No: 7 started. Evaluating function at random point.\n",
      "Modell initialised. Shapes: \n",
      " torch.Size([64, 1, 129, 5]) torch.Size([64, 4]) 1.4793236255645752\n",
      "No existing log data found for comp_classifier_11_hdim11_param356 in ..\\saved_models\\stat\\hdim\\. Creating new one\n",
      "Ready to begin training from 0 epoch. \n",
      " (device(type='cuda', index=0), '..\\\\saved_models\\\\stat\\\\hdim\\\\', 'comp_classifier_11_hdim11_param356')\n"
     ]
    },
    {
     "name": "stderr",
     "output_type": "stream",
     "text": [
      "                                                                        \r"
     ]
    },
    {
     "name": "stdout",
     "output_type": "stream",
     "text": [
      "Achieved final accuracy of 0.5931758284568787\n",
      "Iteration No: 7 ended. Evaluation done at random point.\n",
      "Time taken: 12.9055\n",
      "Function value obtained: 0.4068\n",
      "Current minimum: 0.4068\n",
      "Iteration No: 8 started. Evaluating function at random point.\n",
      "Modell initialised. Shapes: \n",
      " torch.Size([64, 1, 129, 5]) torch.Size([64, 4]) 1.3653807640075684\n",
      "No existing log data found for comp_classifier_25_hdim25_param804 in ..\\saved_models\\stat\\hdim\\. Creating new one\n",
      "Ready to begin training from 0 epoch. \n",
      " (device(type='cuda', index=0), '..\\\\saved_models\\\\stat\\\\hdim\\\\', 'comp_classifier_25_hdim25_param804')\n"
     ]
    },
    {
     "name": "stderr",
     "output_type": "stream",
     "text": [
      "                                                                        \r"
     ]
    },
    {
     "name": "stdout",
     "output_type": "stream",
     "text": [
      "Achieved final accuracy of 0.5853018164634705\n",
      "Iteration No: 8 ended. Evaluation done at random point.\n",
      "Time taken: 12.9570\n",
      "Function value obtained: 0.4147\n",
      "Current minimum: 0.4068\n",
      "Iteration No: 9 started. Evaluating function at random point.\n",
      "Modell initialised. Shapes: \n",
      " torch.Size([64, 1, 129, 5]) torch.Size([64, 4]) 1.3692878484725952\n",
      "No existing log data found for comp_classifier_9_hdim9_param292 in ..\\saved_models\\stat\\hdim\\. Creating new one\n",
      "Ready to begin training from 0 epoch. \n",
      " (device(type='cuda', index=0), '..\\\\saved_models\\\\stat\\\\hdim\\\\', 'comp_classifier_9_hdim9_param292')\n"
     ]
    },
    {
     "name": "stderr",
     "output_type": "stream",
     "text": [
      "                                                                        \r"
     ]
    },
    {
     "name": "stdout",
     "output_type": "stream",
     "text": [
      "Achieved final accuracy of 0.5590550899505615\n",
      "Iteration No: 9 ended. Evaluation done at random point.\n",
      "Time taken: 12.9457\n",
      "Function value obtained: 0.4409\n",
      "Current minimum: 0.4068\n",
      "Iteration No: 10 started. Evaluating function at random point.\n",
      "Modell initialised. Shapes: \n",
      " torch.Size([64, 1, 129, 5]) torch.Size([64, 4]) 1.5076228380203247\n",
      "No existing log data found for comp_classifier_29_hdim29_param932 in ..\\saved_models\\stat\\hdim\\. Creating new one\n",
      "Ready to begin training from 0 epoch. \n",
      " (device(type='cuda', index=0), '..\\\\saved_models\\\\stat\\\\hdim\\\\', 'comp_classifier_29_hdim29_param932')\n"
     ]
    },
    {
     "name": "stderr",
     "output_type": "stream",
     "text": [
      "                                                                        \r"
     ]
    },
    {
     "name": "stdout",
     "output_type": "stream",
     "text": [
      "Achieved final accuracy of 0.6089239120483398\n"
     ]
    },
    {
     "name": "stderr",
     "output_type": "stream",
     "text": [
      "c:\\Users\\arthu\\AppData\\Local\\Programs\\Python\\Python311\\Lib\\site-packages\\skopt\\optimizer\\optimizer.py:517: UserWarning: The objective has been evaluated at point [np.int64(29)] before, using random point [np.int64(28)]\n",
      "  warnings.warn(\n"
     ]
    },
    {
     "name": "stdout",
     "output_type": "stream",
     "text": [
      "Iteration No: 10 ended. Evaluation done at random point.\n",
      "Time taken: 13.2535\n",
      "Function value obtained: 0.3911\n",
      "Current minimum: 0.3911\n",
      "Iteration No: 11 started. Searching for the next optimal point.\n",
      "Modell initialised. Shapes: \n",
      " torch.Size([64, 1, 129, 5]) torch.Size([64, 4]) 1.4635409116744995\n",
      "No existing log data found for comp_classifier_28_hdim28_param900 in ..\\saved_models\\stat\\hdim\\. Creating new one\n",
      "Ready to begin training from 0 epoch. \n",
      " (device(type='cuda', index=0), '..\\\\saved_models\\\\stat\\\\hdim\\\\', 'comp_classifier_28_hdim28_param900')\n"
     ]
    },
    {
     "name": "stderr",
     "output_type": "stream",
     "text": [
      "                                                                        \r"
     ]
    },
    {
     "name": "stdout",
     "output_type": "stream",
     "text": [
      "Achieved final accuracy of 0.5931758284568787\n",
      "Iteration No: 11 ended. Search finished for the next optimal point.\n",
      "Time taken: 13.0407\n",
      "Function value obtained: 0.4068\n",
      "Current minimum: 0.3911\n",
      "Iteration No: 12 started. Searching for the next optimal point.\n",
      "Modell initialised. Shapes: \n",
      " torch.Size([64, 1, 129, 5]) torch.Size([64, 4]) 1.4803777933120728\n",
      "No existing log data found for comp_classifier_30_hdim30_param964 in ..\\saved_models\\stat\\hdim\\. Creating new one\n",
      "Ready to begin training from 0 epoch. \n",
      " (device(type='cuda', index=0), '..\\\\saved_models\\\\stat\\\\hdim\\\\', 'comp_classifier_30_hdim30_param964')\n"
     ]
    },
    {
     "name": "stderr",
     "output_type": "stream",
     "text": [
      "                                                                        \r"
     ]
    },
    {
     "name": "stdout",
     "output_type": "stream",
     "text": [
      "Achieved final accuracy of 0.5459317564964294\n",
      "Iteration No: 12 ended. Search finished for the next optimal point.\n",
      "Time taken: 13.1795\n",
      "Function value obtained: 0.4541\n",
      "Current minimum: 0.3911\n",
      "Iteration No: 13 started. Searching for the next optimal point.\n",
      "Modell initialised. Shapes: \n",
      " torch.Size([64, 1, 129, 5]) torch.Size([64, 4]) 1.350419282913208\n",
      "No existing log data found for comp_classifier_12_hdim12_param388 in ..\\saved_models\\stat\\hdim\\. Creating new one\n",
      "Ready to begin training from 0 epoch. \n",
      " (device(type='cuda', index=0), '..\\\\saved_models\\\\stat\\\\hdim\\\\', 'comp_classifier_12_hdim12_param388')\n"
     ]
    },
    {
     "name": "stderr",
     "output_type": "stream",
     "text": [
      "                                                                        \r"
     ]
    },
    {
     "name": "stdout",
     "output_type": "stream",
     "text": [
      "Achieved final accuracy of 0.5853018164634705\n",
      "Iteration No: 13 ended. Search finished for the next optimal point.\n",
      "Time taken: 13.2806\n",
      "Function value obtained: 0.4147\n",
      "Current minimum: 0.3911\n",
      "Iteration No: 14 started. Searching for the next optimal point.\n",
      "Modell initialised. Shapes: \n",
      " torch.Size([64, 1, 129, 5]) torch.Size([64, 4]) 1.368435263633728\n",
      "No existing log data found for comp_classifier_24_hdim24_param772 in ..\\saved_models\\stat\\hdim\\. Creating new one\n",
      "Ready to begin training from 0 epoch. \n",
      " (device(type='cuda', index=0), '..\\\\saved_models\\\\stat\\\\hdim\\\\', 'comp_classifier_24_hdim24_param772')\n"
     ]
    },
    {
     "name": "stderr",
     "output_type": "stream",
     "text": [
      "                                                                        \r"
     ]
    },
    {
     "name": "stdout",
     "output_type": "stream",
     "text": [
      "Achieved final accuracy of 0.6010498404502869\n",
      "Iteration No: 14 ended. Search finished for the next optimal point.\n",
      "Time taken: 13.2124\n",
      "Function value obtained: 0.3990\n",
      "Current minimum: 0.3911\n",
      "Iteration No: 15 started. Searching for the next optimal point.\n",
      "Modell initialised. Shapes: \n",
      " torch.Size([64, 1, 129, 5]) torch.Size([64, 4]) 1.4374170303344727\n"
     ]
    },
    {
     "name": "stderr",
     "output_type": "stream",
     "text": [
      "c:\\Users\\arthu\\AppData\\Local\\Programs\\Python\\Python311\\Lib\\site-packages\\skopt\\optimizer\\optimizer.py:517: UserWarning: The objective has been evaluated at point [np.int64(24)] before, using random point [np.int64(9)]\n",
      "  warnings.warn(\n"
     ]
    },
    {
     "ename": "Exception",
     "evalue": "Model name exists in directory! Choose another ID",
     "output_type": "error",
     "traceback": [
      "\u001b[31m---------------------------------------------------------------------------\u001b[39m",
      "\u001b[31mException\u001b[39m                                 Traceback (most recent call last)",
      "\u001b[36mCell\u001b[39m\u001b[36m \u001b[39m\u001b[32mIn[44]\u001b[39m\u001b[32m, line 2\u001b[39m\n\u001b[32m      1\u001b[39m torch.cuda.empty_cache()\n\u001b[32m----> \u001b[39m\u001b[32m2\u001b[39m hyperparam_stat_result = \u001b[43mgp_minimize\u001b[49m\u001b[43m(\u001b[49m\n\u001b[32m      3\u001b[39m \u001b[43m    \u001b[49m\u001b[43mobjective_error\u001b[49m\u001b[43m,\u001b[49m\u001b[43m \u001b[49m\u001b[38;5;66;43;03m# the objective function which is observed n_calls times\u001b[39;49;00m\n\u001b[32m      4\u001b[39m \u001b[43m    \u001b[49m\u001b[43mparam_space\u001b[49m\u001b[43m,\u001b[49m\u001b[43m \u001b[49m\u001b[38;5;66;43;03m# the parameter search space\u001b[39;49;00m\n\u001b[32m      5\u001b[39m \u001b[43m    \u001b[49m\u001b[43mn_calls\u001b[49m\u001b[43m=\u001b[49m\u001b[32;43m30\u001b[39;49m\u001b[43m,\u001b[49m\u001b[43m \u001b[49m\u001b[38;5;66;43;03m# total function calls\u001b[39;49;00m\n\u001b[32m      6\u001b[39m \u001b[43m    \u001b[49m\u001b[43mn_initial_points\u001b[49m\u001b[43m=\u001b[49m\u001b[32;43m10\u001b[39;49m\u001b[43m,\u001b[49m\u001b[43m \u001b[49m\u001b[38;5;66;43;03m# number of observations before approximating the function\u001b[39;49;00m\n\u001b[32m      7\u001b[39m \u001b[43m    \u001b[49m\u001b[43mrandom_state\u001b[49m\u001b[43m=\u001b[49m\u001b[32;43m7\u001b[39;49m\u001b[43m,\u001b[49m\u001b[43m \u001b[49m\n\u001b[32m      8\u001b[39m \u001b[43m    \u001b[49m\u001b[43mverbose\u001b[49m\u001b[43m=\u001b[49m\u001b[38;5;28;43;01mTrue\u001b[39;49;00m\u001b[43m,\u001b[49m\n\u001b[32m      9\u001b[39m \u001b[43m    \u001b[49m\u001b[43mcallback\u001b[49m\u001b[43m=\u001b[49m\u001b[43m[\u001b[49m\u001b[43mcheckpoint_saver\u001b[49m\u001b[43m]\u001b[49m\u001b[43m,\u001b[49m\n\u001b[32m     10\u001b[39m \u001b[43m    \u001b[49m\u001b[43mnoise\u001b[49m\u001b[43m=\u001b[49m\u001b[32;43m1e-10\u001b[39;49m\n\u001b[32m     11\u001b[39m \u001b[43m)\u001b[49m\n",
      "\u001b[36mFile \u001b[39m\u001b[32mc:\\Users\\arthu\\AppData\\Local\\Programs\\Python\\Python311\\Lib\\site-packages\\skopt\\optimizer\\gp.py:281\u001b[39m, in \u001b[36mgp_minimize\u001b[39m\u001b[34m(func, dimensions, base_estimator, n_calls, n_random_starts, n_initial_points, initial_point_generator, acq_func, acq_optimizer, x0, y0, random_state, verbose, callback, n_points, n_restarts_optimizer, xi, kappa, noise, n_jobs, model_queue_size, space_constraint)\u001b[39m\n\u001b[32m    273\u001b[39m \u001b[38;5;28;01mif\u001b[39;00m base_estimator \u001b[38;5;129;01mis\u001b[39;00m \u001b[38;5;28;01mNone\u001b[39;00m:\n\u001b[32m    274\u001b[39m     base_estimator = cook_estimator(\n\u001b[32m    275\u001b[39m         \u001b[33m\"\u001b[39m\u001b[33mGP\u001b[39m\u001b[33m\"\u001b[39m,\n\u001b[32m    276\u001b[39m         space=space,\n\u001b[32m    277\u001b[39m         random_state=rng.randint(\u001b[32m0\u001b[39m, np.iinfo(np.int32).max),\n\u001b[32m    278\u001b[39m         noise=noise,\n\u001b[32m    279\u001b[39m     )\n\u001b[32m--> \u001b[39m\u001b[32m281\u001b[39m \u001b[38;5;28;01mreturn\u001b[39;00m \u001b[43mbase_minimize\u001b[49m\u001b[43m(\u001b[49m\n\u001b[32m    282\u001b[39m \u001b[43m    \u001b[49m\u001b[43mfunc\u001b[49m\u001b[43m,\u001b[49m\n\u001b[32m    283\u001b[39m \u001b[43m    \u001b[49m\u001b[43mspace\u001b[49m\u001b[43m,\u001b[49m\n\u001b[32m    284\u001b[39m \u001b[43m    \u001b[49m\u001b[43mbase_estimator\u001b[49m\u001b[43m=\u001b[49m\u001b[43mbase_estimator\u001b[49m\u001b[43m,\u001b[49m\n\u001b[32m    285\u001b[39m \u001b[43m    \u001b[49m\u001b[43macq_func\u001b[49m\u001b[43m=\u001b[49m\u001b[43macq_func\u001b[49m\u001b[43m,\u001b[49m\n\u001b[32m    286\u001b[39m \u001b[43m    \u001b[49m\u001b[43mxi\u001b[49m\u001b[43m=\u001b[49m\u001b[43mxi\u001b[49m\u001b[43m,\u001b[49m\n\u001b[32m    287\u001b[39m \u001b[43m    \u001b[49m\u001b[43mkappa\u001b[49m\u001b[43m=\u001b[49m\u001b[43mkappa\u001b[49m\u001b[43m,\u001b[49m\n\u001b[32m    288\u001b[39m \u001b[43m    \u001b[49m\u001b[43macq_optimizer\u001b[49m\u001b[43m=\u001b[49m\u001b[43macq_optimizer\u001b[49m\u001b[43m,\u001b[49m\n\u001b[32m    289\u001b[39m \u001b[43m    \u001b[49m\u001b[43mn_calls\u001b[49m\u001b[43m=\u001b[49m\u001b[43mn_calls\u001b[49m\u001b[43m,\u001b[49m\n\u001b[32m    290\u001b[39m \u001b[43m    \u001b[49m\u001b[43mn_points\u001b[49m\u001b[43m=\u001b[49m\u001b[43mn_points\u001b[49m\u001b[43m,\u001b[49m\n\u001b[32m    291\u001b[39m \u001b[43m    \u001b[49m\u001b[43mn_random_starts\u001b[49m\u001b[43m=\u001b[49m\u001b[43mn_random_starts\u001b[49m\u001b[43m,\u001b[49m\n\u001b[32m    292\u001b[39m \u001b[43m    \u001b[49m\u001b[43mn_initial_points\u001b[49m\u001b[43m=\u001b[49m\u001b[43mn_initial_points\u001b[49m\u001b[43m,\u001b[49m\n\u001b[32m    293\u001b[39m \u001b[43m    \u001b[49m\u001b[43minitial_point_generator\u001b[49m\u001b[43m=\u001b[49m\u001b[43minitial_point_generator\u001b[49m\u001b[43m,\u001b[49m\n\u001b[32m    294\u001b[39m \u001b[43m    \u001b[49m\u001b[43mn_restarts_optimizer\u001b[49m\u001b[43m=\u001b[49m\u001b[43mn_restarts_optimizer\u001b[49m\u001b[43m,\u001b[49m\n\u001b[32m    295\u001b[39m \u001b[43m    \u001b[49m\u001b[43mx0\u001b[49m\u001b[43m=\u001b[49m\u001b[43mx0\u001b[49m\u001b[43m,\u001b[49m\n\u001b[32m    296\u001b[39m \u001b[43m    \u001b[49m\u001b[43my0\u001b[49m\u001b[43m=\u001b[49m\u001b[43my0\u001b[49m\u001b[43m,\u001b[49m\n\u001b[32m    297\u001b[39m \u001b[43m    \u001b[49m\u001b[43mrandom_state\u001b[49m\u001b[43m=\u001b[49m\u001b[43mrng\u001b[49m\u001b[43m,\u001b[49m\n\u001b[32m    298\u001b[39m \u001b[43m    \u001b[49m\u001b[43mverbose\u001b[49m\u001b[43m=\u001b[49m\u001b[43mverbose\u001b[49m\u001b[43m,\u001b[49m\n\u001b[32m    299\u001b[39m \u001b[43m    \u001b[49m\u001b[43mspace_constraint\u001b[49m\u001b[43m=\u001b[49m\u001b[43mspace_constraint\u001b[49m\u001b[43m,\u001b[49m\n\u001b[32m    300\u001b[39m \u001b[43m    \u001b[49m\u001b[43mcallback\u001b[49m\u001b[43m=\u001b[49m\u001b[43mcallback\u001b[49m\u001b[43m,\u001b[49m\n\u001b[32m    301\u001b[39m \u001b[43m    \u001b[49m\u001b[43mn_jobs\u001b[49m\u001b[43m=\u001b[49m\u001b[43mn_jobs\u001b[49m\u001b[43m,\u001b[49m\n\u001b[32m    302\u001b[39m \u001b[43m    \u001b[49m\u001b[43mmodel_queue_size\u001b[49m\u001b[43m=\u001b[49m\u001b[43mmodel_queue_size\u001b[49m\u001b[43m,\u001b[49m\n\u001b[32m    303\u001b[39m \u001b[43m\u001b[49m\u001b[43m)\u001b[49m\n",
      "\u001b[36mFile \u001b[39m\u001b[32mc:\\Users\\arthu\\AppData\\Local\\Programs\\Python\\Python311\\Lib\\site-packages\\skopt\\optimizer\\base.py:332\u001b[39m, in \u001b[36mbase_minimize\u001b[39m\u001b[34m(func, dimensions, base_estimator, n_calls, n_random_starts, n_initial_points, initial_point_generator, acq_func, acq_optimizer, x0, y0, random_state, verbose, callback, n_points, n_restarts_optimizer, xi, kappa, n_jobs, model_queue_size, space_constraint)\u001b[39m\n\u001b[32m    330\u001b[39m \u001b[38;5;28;01mfor\u001b[39;00m _ \u001b[38;5;129;01min\u001b[39;00m \u001b[38;5;28mrange\u001b[39m(n_calls):\n\u001b[32m    331\u001b[39m     next_x = optimizer.ask()\n\u001b[32m--> \u001b[39m\u001b[32m332\u001b[39m     next_y = \u001b[43mfunc\u001b[49m\u001b[43m(\u001b[49m\u001b[43mnext_x\u001b[49m\u001b[43m)\u001b[49m\n\u001b[32m    333\u001b[39m     result = optimizer.tell(next_x, next_y)\n\u001b[32m    334\u001b[39m     result.specs = specs\n",
      "\u001b[36mCell\u001b[39m\u001b[36m \u001b[39m\u001b[32mIn[43]\u001b[39m\u001b[32m, line 35\u001b[39m, in \u001b[36mobjective_error\u001b[39m\u001b[34m(x)\u001b[39m\n\u001b[32m     25\u001b[39m stats = {\u001b[33m'\u001b[39m\u001b[33mmodel\u001b[39m\u001b[33m'\u001b[39m:StatFeatures(**stats_cfg), \u001b[33m'\u001b[39m\u001b[33moutput_fn\u001b[39m\u001b[33m'\u001b[39m:\u001b[33m'\u001b[39m\u001b[33mcompute\u001b[39m\u001b[33m'\u001b[39m, \u001b[33m'\u001b[39m\u001b[33moutput_dim\u001b[39m\u001b[33m'\u001b[39m:\u001b[32m25\u001b[39m, \u001b[33m'\u001b[39m\u001b[33mtune_layers\u001b[39m\u001b[33m'\u001b[39m:tune_layers}\n\u001b[32m     27\u001b[39m comp_cfg = {\n\u001b[32m     28\u001b[39m     \u001b[33m'\u001b[39m\u001b[33mmetadata\u001b[39m\u001b[33m'\u001b[39m:[stats_cfg],\n\u001b[32m     29\u001b[39m     \u001b[33m'\u001b[39m\u001b[33mhidden_dim\u001b[39m\u001b[33m'\u001b[39m:hdim,\n\u001b[32m   (...)\u001b[39m\u001b[32m     32\u001b[39m     \u001b[33m'\u001b[39m\u001b[33minitlr\u001b[39m\u001b[33m'\u001b[39m:initlr\n\u001b[32m     33\u001b[39m }\n\u001b[32m---> \u001b[39m\u001b[32m35\u001b[39m accuracy = \u001b[43mtrain_and_save_comp_model\u001b[49m\u001b[43m(\u001b[49m\u001b[43mcomp_cfg\u001b[49m\u001b[43m,\u001b[49m\u001b[43m \u001b[49m\u001b[43mmodel_list\u001b[49m\u001b[43m=\u001b[49m\u001b[43m[\u001b[49m\u001b[43mstats\u001b[49m\u001b[43m]\u001b[49m\u001b[43m,\u001b[49m\u001b[43m \u001b[49m\u001b[43mdataset\u001b[49m\u001b[43m=\u001b[49m\u001b[43mframes\u001b[49m\u001b[43m,\u001b[49m\u001b[43m \u001b[49m\u001b[43msave_filepath\u001b[49m\u001b[43m=\u001b[49m\u001b[43msave_filepath\u001b[49m\u001b[43m,\u001b[49m\u001b[43m \u001b[49m\u001b[38;5;28;43mid\u001b[39;49m\u001b[43m=\u001b[49m\u001b[33;43mf\u001b[39;49m\u001b[33;43m\"\u001b[39;49m\u001b[38;5;132;43;01m{\u001b[39;49;00m\u001b[33;43m'\u001b[39;49m\u001b[33;43m-\u001b[39;49m\u001b[33;43m'\u001b[39;49m\u001b[43m.\u001b[49m\u001b[43mjoin\u001b[49m\u001b[43m(\u001b[49m\u001b[43m[\u001b[49m\u001b[38;5;28;43mstr\u001b[39;49m\u001b[43m(\u001b[49m\u001b[38;5;28;43mint\u001b[39;49m\u001b[43m(\u001b[49m\u001b[43mp\u001b[49m\u001b[43m)\u001b[49m\u001b[43m)\u001b[49m\u001b[38;5;250;43m \u001b[39;49m\u001b[38;5;28;43;01mfor\u001b[39;49;00m\u001b[38;5;250;43m \u001b[39;49m\u001b[43mp\u001b[49m\u001b[38;5;250;43m \u001b[39;49m\u001b[38;5;129;43;01min\u001b[39;49;00m\u001b[38;5;250;43m \u001b[39;49m\u001b[43mx\u001b[49m\u001b[43m]\u001b[49m\u001b[43m)\u001b[49m\u001b[38;5;132;43;01m}\u001b[39;49;00m\u001b[33;43m\"\u001b[39;49m\u001b[43m,\u001b[49m\u001b[43m \u001b[49m\u001b[43mstep_size\u001b[49m\u001b[43m=\u001b[49m\u001b[43mstep_size\u001b[49m\u001b[43m,\u001b[49m\u001b[43m \u001b[49m\u001b[43mgamma\u001b[49m\u001b[43m=\u001b[49m\u001b[43mgamma\u001b[49m\u001b[43m)\u001b[49m\n\u001b[32m     36\u001b[39m \u001b[38;5;28mprint\u001b[39m(\u001b[33mf\u001b[39m\u001b[33m'\u001b[39m\u001b[33mAchieved final accuracy of \u001b[39m\u001b[38;5;132;01m{\u001b[39;00maccuracy\u001b[38;5;132;01m}\u001b[39;00m\u001b[33m'\u001b[39m)\n\u001b[32m     37\u001b[39m error = \u001b[32m1\u001b[39m-accuracy\n",
      "\u001b[36mFile \u001b[39m\u001b[32mc:\\Users\\arthu\\repo\\msthesis\\model_training\\../modules\\composite_training_loop.py:90\u001b[39m, in \u001b[36mtrain_and_save_comp_model\u001b[39m\u001b[34m(config, model_list, dataset, save_filepath, id, step_size, gamma)\u001b[39m\n\u001b[32m     87\u001b[39m model_name = \u001b[33mf\u001b[39m\u001b[33m'\u001b[39m\u001b[33mcomp_classifier_\u001b[39m\u001b[38;5;132;01m{\u001b[39;00m\u001b[38;5;28mid\u001b[39m\u001b[38;5;132;01m}\u001b[39;00m\u001b[33m_hdim\u001b[39m\u001b[38;5;132;01m{\u001b[39;00mhidden_dim\u001b[38;5;132;01m}\u001b[39;00m\u001b[33m_param\u001b[39m\u001b[38;5;132;01m{\u001b[39;00mutils.num_parameters(classifier)\u001b[38;5;132;01m}\u001b[39;00m\u001b[33m'\u001b[39m\n\u001b[32m     89\u001b[39m \u001b[38;5;28;01mif\u001b[39;00m os.path.exists(model_filepath) \u001b[38;5;129;01mand\u001b[39;00m \u001b[38;5;28many\u001b[39m([(model_name \u001b[38;5;129;01min\u001b[39;00m f) \u001b[38;5;28;01mfor\u001b[39;00m f \u001b[38;5;129;01min\u001b[39;00m os.listdir(model_filepath)]):\n\u001b[32m---> \u001b[39m\u001b[32m90\u001b[39m     \u001b[38;5;28;01mraise\u001b[39;00m \u001b[38;5;167;01mException\u001b[39;00m(\u001b[33m'\u001b[39m\u001b[33mModel name exists in directory! Choose another ID\u001b[39m\u001b[33m'\u001b[39m)\n\u001b[32m     93\u001b[39m \u001b[38;5;66;03m# NOTE: logging dir must be created first\u001b[39;00m\n\u001b[32m     94\u001b[39m \u001b[38;5;66;03m# create a tensorboard writer object that logs to /tensorboard_logs subdir\u001b[39;00m\n\u001b[32m     95\u001b[39m writer = SummaryWriter(log_dir=os.path.join(model_filepath, \u001b[33m\"\u001b[39m\u001b[33mtensorboard_logs\u001b[39m\u001b[33m\"\u001b[39m, model_name))\n",
      "\u001b[31mException\u001b[39m: Model name exists in directory! Choose another ID"
     ]
    }
   ],
   "source": [
    "torch.cuda.empty_cache()\n",
    "hyperparam_stat_result = gp_minimize(\n",
    "    objective_error, # the objective function which is observed n_calls times\n",
    "    param_space, # the parameter search space\n",
    "    n_calls=30, # total function calls\n",
    "    n_initial_points=10, # number of observations before approximating the function\n",
    "    random_state=7, \n",
    "    verbose=True,\n",
    "    callback=[checkpoint_saver],\n",
    "    noise=1e-10\n",
    ")"
   ]
  },
  {
   "cell_type": "code",
   "execution_count": 68,
   "metadata": {},
   "outputs": [
    {
     "name": "stdout",
     "output_type": "stream",
     "text": [
      "Hyperparameter space [hdim]: \n",
      " Space([Integer(low=8, high=48, prior='uniform', transform='normalize')])\n",
      "Best hyperparameters: [np.int64(29)]\n",
      "Best objective function value: 0.39107608795166016\n",
      "Worst Hyperparameters: [np.int64(30)]\n",
      "Worst objective function value: 0.45406824350357056\n"
     ]
    }
   ],
   "source": [
    "# results\n",
    "res = skopt.load(\"../saved_models/stat/hdim/testforblog.pkl\")\n",
    "print(f'Hyperparameter space [hdim]: \\n {res.space}')\n",
    "print(f'Best hyperparameters: {res.x}')\n",
    "print(f'Best objective function value: {res.fun}')\n",
    "worst_index = np.argmax(res.func_vals)\n",
    "print(f'Worst Hyperparameters: {res.x_iters[worst_index]}')\n",
    "print(f'Worst objective function value: {res.func_vals[worst_index]}')"
   ]
  },
  {
   "cell_type": "code",
   "execution_count": 141,
   "metadata": {},
   "outputs": [],
   "source": [
    "torch.cuda.empty_cache()\n",
    "# single head model\n",
    "# -1: tune all layers | 0: tune no layers | i : tune only the last i layers; [:-i] are frozen\n",
    "# NOTE: this argument is no longer in use\n",
    "tune_layers = 0\n",
    "num_epochs = 40\n",
    "batch_size = 64\n",
    "# initlr = 1e-2\n",
    "# step_size = 15\n",
    "gamma = 0.5\n",
    "\n",
    "save_filepath = \"..\\\\saved_models\\\\cognitive_workload\\\\stat\\\\initlr_stepsize\\\\\"# + f'tune_layers_{tune_layers!=0}\\\\'\n",
    "\n",
    "# bayesion parameter optimization\n",
    "optim_name = 'testforblog'\n",
    "checkpoint_saver = CheckpointSaver(save_filepath+optim_name+'.pkl', compress=9)\n",
    "\n",
    "param_space = [\n",
    "    Real(1e-3, 1e-1, name='initlr'), # latent dimension\n",
    "    Integer(1,  20, name='step_size'), \n",
    "]\n",
    "\n",
    "def objective_error_param_search(x):\n",
    "    initlr, step_size = float(x[0]), int(x[1])\n",
    "\n",
    "    stats_cfg = {'cand_features':None}\n",
    "    stats = {'model':StatFeatures(**stats_cfg), 'output_fn':'compute', 'output_dim':25, 'tune_layers':tune_layers}\n",
    "\n",
    "    comp_cfg = {\n",
    "        'metadata':[stats_cfg],\n",
    "        'hidden_dim':30,\n",
    "        'num_epochs':num_epochs, \n",
    "        'batch_size':batch_size,\n",
    "        'initlr':initlr\n",
    "    }\n",
    "\n",
    "    accuracy = train_and_save_comp_model(comp_cfg, model_list=[stats], dataset=frames, save_filepath=save_filepath, id=f\"{'-'.join([str(initlr), str(step_size)])}\", step_size=step_size, gamma=gamma)\n",
    "    print(f'Achieved final accuracy of {accuracy}')\n",
    "    error = 1-accuracy\n",
    "    return error"
   ]
  },
  {
   "cell_type": "code",
   "execution_count": 142,
   "metadata": {},
   "outputs": [
    {
     "name": "stdout",
     "output_type": "stream",
     "text": [
      "Iteration No: 1 started. Evaluating function at random point.\n",
      "Modell initialised. Shapes: \n",
      " torch.Size([64, 1, 129, 5]) torch.Size([64, 4]) 1.4129868745803833\n",
      "No existing log data found for comp_classifier_0.02350656890282006-7_hdim30_param964 in ..\\saved_models\\cognitive_workload\\stat\\initlr_stepsize\\. Creating new one\n",
      "Ready to begin training from 0 epoch. \n",
      " (device(type='cuda', index=0), '..\\\\saved_models\\\\cognitive_workload\\\\stat\\\\initlr_stepsize\\\\', 'comp_classifier_0.02350656890282006-7_hdim30_param964')\n"
     ]
    },
    {
     "name": "stderr",
     "output_type": "stream",
     "text": [
      "                                                                        \r"
     ]
    },
    {
     "name": "stdout",
     "output_type": "stream",
     "text": [
      "Achieved final accuracy of 0.2860892415046692\n",
      "Iteration No: 1 ended. Evaluation done at random point.\n",
      "Time taken: 14.3654\n",
      "Function value obtained: 0.7139\n",
      "Current minimum: 0.7139\n",
      "Iteration No: 2 started. Evaluating function at random point.\n",
      "Modell initialised. Shapes: \n",
      " torch.Size([64, 1, 129, 5]) torch.Size([64, 4]) 1.3957231044769287\n",
      "No existing log data found for comp_classifier_0.09784406681077969-10_hdim30_param964 in ..\\saved_models\\cognitive_workload\\stat\\initlr_stepsize\\. Creating new one\n",
      "Ready to begin training from 0 epoch. \n",
      " (device(type='cuda', index=0), '..\\\\saved_models\\\\cognitive_workload\\\\stat\\\\initlr_stepsize\\\\', 'comp_classifier_0.09784406681077969-10_hdim30_param964')\n"
     ]
    },
    {
     "name": "stderr",
     "output_type": "stream",
     "text": [
      "                                                                        \r"
     ]
    },
    {
     "name": "stdout",
     "output_type": "stream",
     "text": [
      "Achieved final accuracy of 0.28871390223503113\n",
      "Iteration No: 2 ended. Evaluation done at random point.\n",
      "Time taken: 14.2182\n",
      "Function value obtained: 0.7113\n",
      "Current minimum: 0.7113\n",
      "Iteration No: 3 started. Evaluating function at random point.\n",
      "Modell initialised. Shapes: \n",
      " torch.Size([64, 1, 129, 5]) torch.Size([64, 4]) 1.4929378032684326\n",
      "No existing log data found for comp_classifier_0.0314932637535862-6_hdim30_param964 in ..\\saved_models\\cognitive_workload\\stat\\initlr_stepsize\\. Creating new one\n",
      "Ready to begin training from 0 epoch. \n",
      " (device(type='cuda', index=0), '..\\\\saved_models\\\\cognitive_workload\\\\stat\\\\initlr_stepsize\\\\', 'comp_classifier_0.0314932637535862-6_hdim30_param964')\n"
     ]
    },
    {
     "name": "stderr",
     "output_type": "stream",
     "text": [
      "                                                                        \r"
     ]
    },
    {
     "name": "stdout",
     "output_type": "stream",
     "text": [
      "Achieved final accuracy of 0.2624672055244446\n",
      "Iteration No: 3 ended. Evaluation done at random point.\n",
      "Time taken: 13.2572\n",
      "Function value obtained: 0.7375\n",
      "Current minimum: 0.7113\n",
      "Iteration No: 4 started. Evaluating function at random point.\n",
      "Modell initialised. Shapes: \n",
      " torch.Size([64, 1, 129, 5]) torch.Size([64, 4]) 1.3184700012207031\n",
      "No existing log data found for comp_classifier_0.009587599554159203-9_hdim30_param964 in ..\\saved_models\\cognitive_workload\\stat\\initlr_stepsize\\. Creating new one\n",
      "Ready to begin training from 0 epoch. \n",
      " (device(type='cuda', index=0), '..\\\\saved_models\\\\cognitive_workload\\\\stat\\\\initlr_stepsize\\\\', 'comp_classifier_0.009587599554159203-9_hdim30_param964')\n"
     ]
    },
    {
     "name": "stderr",
     "output_type": "stream",
     "text": [
      "                                                                        \r"
     ]
    },
    {
     "name": "stdout",
     "output_type": "stream",
     "text": [
      "Achieved final accuracy of 0.254593163728714\n",
      "Iteration No: 4 ended. Evaluation done at random point.\n",
      "Time taken: 14.6674\n",
      "Function value obtained: 0.7454\n",
      "Current minimum: 0.7113\n",
      "Iteration No: 5 started. Evaluating function at random point.\n",
      "Modell initialised. Shapes: \n",
      " torch.Size([64, 1, 129, 5]) torch.Size([64, 4]) 1.497018575668335\n",
      "No existing log data found for comp_classifier_0.0025751257351664192-11_hdim30_param964 in ..\\saved_models\\cognitive_workload\\stat\\initlr_stepsize\\. Creating new one\n",
      "Ready to begin training from 0 epoch. \n",
      " (device(type='cuda', index=0), '..\\\\saved_models\\\\cognitive_workload\\\\stat\\\\initlr_stepsize\\\\', 'comp_classifier_0.0025751257351664192-11_hdim30_param964')\n"
     ]
    },
    {
     "name": "stderr",
     "output_type": "stream",
     "text": [
      "                                                                        \r"
     ]
    },
    {
     "name": "stdout",
     "output_type": "stream",
     "text": [
      "Achieved final accuracy of 0.28871390223503113\n",
      "Iteration No: 5 ended. Evaluation done at random point.\n",
      "Time taken: 13.9169\n",
      "Function value obtained: 0.7113\n",
      "Current minimum: 0.7113\n",
      "Iteration No: 6 started. Evaluating function at random point.\n",
      "Modell initialised. Shapes: \n",
      " torch.Size([64, 1, 129, 5]) torch.Size([64, 4]) 1.4200692176818848\n",
      "No existing log data found for comp_classifier_0.08701134436257309-7_hdim30_param964 in ..\\saved_models\\cognitive_workload\\stat\\initlr_stepsize\\. Creating new one\n",
      "Ready to begin training from 0 epoch. \n",
      " (device(type='cuda', index=0), '..\\\\saved_models\\\\cognitive_workload\\\\stat\\\\initlr_stepsize\\\\', 'comp_classifier_0.08701134436257309-7_hdim30_param964')\n"
     ]
    },
    {
     "name": "stderr",
     "output_type": "stream",
     "text": [
      "                                                                        \r"
     ]
    },
    {
     "name": "stdout",
     "output_type": "stream",
     "text": [
      "Achieved final accuracy of 0.29133859276771545\n",
      "Iteration No: 6 ended. Evaluation done at random point.\n",
      "Time taken: 13.9116\n",
      "Function value obtained: 0.7087\n",
      "Current minimum: 0.7087\n",
      "Iteration No: 7 started. Evaluating function at random point.\n",
      "Modell initialised. Shapes: \n",
      " torch.Size([64, 1, 129, 5]) torch.Size([64, 4]) 1.420423984527588\n",
      "No existing log data found for comp_classifier_0.03990128867721334-14_hdim30_param964 in ..\\saved_models\\cognitive_workload\\stat\\initlr_stepsize\\. Creating new one\n",
      "Ready to begin training from 0 epoch. \n",
      " (device(type='cuda', index=0), '..\\\\saved_models\\\\cognitive_workload\\\\stat\\\\initlr_stepsize\\\\', 'comp_classifier_0.03990128867721334-14_hdim30_param964')\n"
     ]
    },
    {
     "name": "stderr",
     "output_type": "stream",
     "text": [
      "                                                                        \r"
     ]
    },
    {
     "name": "stdout",
     "output_type": "stream",
     "text": [
      "Achieved final accuracy of 0.2939632534980774\n",
      "Iteration No: 7 ended. Evaluation done at random point.\n",
      "Time taken: 13.9615\n",
      "Function value obtained: 0.7060\n",
      "Current minimum: 0.7060\n",
      "Iteration No: 8 started. Evaluating function at random point.\n",
      "Modell initialised. Shapes: \n",
      " torch.Size([64, 1, 129, 5]) torch.Size([64, 4]) 1.449023962020874\n",
      "No existing log data found for comp_classifier_0.0675594100508821-14_hdim30_param964 in ..\\saved_models\\cognitive_workload\\stat\\initlr_stepsize\\. Creating new one\n",
      "Ready to begin training from 0 epoch. \n",
      " (device(type='cuda', index=0), '..\\\\saved_models\\\\cognitive_workload\\\\stat\\\\initlr_stepsize\\\\', 'comp_classifier_0.0675594100508821-14_hdim30_param964')\n"
     ]
    },
    {
     "name": "stderr",
     "output_type": "stream",
     "text": [
      "                                                                        \r"
     ]
    },
    {
     "name": "stdout",
     "output_type": "stream",
     "text": [
      "Achieved final accuracy of 0.29921260476112366\n",
      "Iteration No: 8 ended. Evaluation done at random point.\n",
      "Time taken: 13.8385\n",
      "Function value obtained: 0.7008\n",
      "Current minimum: 0.7008\n",
      "Iteration No: 9 started. Evaluating function at random point.\n",
      "Modell initialised. Shapes: \n",
      " torch.Size([64, 1, 129, 5]) torch.Size([64, 4]) 1.349606990814209\n",
      "No existing log data found for comp_classifier_0.0352513206881305-19_hdim30_param964 in ..\\saved_models\\cognitive_workload\\stat\\initlr_stepsize\\. Creating new one\n",
      "Ready to begin training from 0 epoch. \n",
      " (device(type='cuda', index=0), '..\\\\saved_models\\\\cognitive_workload\\\\stat\\\\initlr_stepsize\\\\', 'comp_classifier_0.0352513206881305-19_hdim30_param964')\n"
     ]
    },
    {
     "name": "stderr",
     "output_type": "stream",
     "text": [
      "                                                                        \r"
     ]
    },
    {
     "name": "stdout",
     "output_type": "stream",
     "text": [
      "Achieved final accuracy of 0.28871390223503113\n",
      "Iteration No: 9 ended. Evaluation done at random point.\n",
      "Time taken: 17.9043\n",
      "Function value obtained: 0.7113\n",
      "Current minimum: 0.7008\n",
      "Iteration No: 10 started. Evaluating function at random point.\n",
      "Modell initialised. Shapes: \n",
      " torch.Size([64, 1, 129, 5]) torch.Size([64, 4]) 1.5097200870513916\n",
      "No existing log data found for comp_classifier_0.026995793234296316-15_hdim30_param964 in ..\\saved_models\\cognitive_workload\\stat\\initlr_stepsize\\. Creating new one\n",
      "Ready to begin training from 0 epoch. \n",
      " (device(type='cuda', index=0), '..\\\\saved_models\\\\cognitive_workload\\\\stat\\\\initlr_stepsize\\\\', 'comp_classifier_0.026995793234296316-15_hdim30_param964')\n"
     ]
    },
    {
     "name": "stderr",
     "output_type": "stream",
     "text": [
      "                                                                        \r"
     ]
    },
    {
     "name": "stdout",
     "output_type": "stream",
     "text": [
      "Achieved final accuracy of 0.29133859276771545\n",
      "Iteration No: 10 ended. Evaluation done at random point.\n",
      "Time taken: 17.6882\n",
      "Function value obtained: 0.7087\n",
      "Current minimum: 0.7008\n",
      "Iteration No: 11 started. Evaluating function at random point.\n",
      "Modell initialised. Shapes: \n",
      " torch.Size([64, 1, 129, 5]) torch.Size([64, 4]) 1.3528265953063965\n",
      "No existing log data found for comp_classifier_0.026234512188008582-17_hdim30_param964 in ..\\saved_models\\cognitive_workload\\stat\\initlr_stepsize\\. Creating new one\n",
      "Ready to begin training from 0 epoch. \n",
      " (device(type='cuda', index=0), '..\\\\saved_models\\\\cognitive_workload\\\\stat\\\\initlr_stepsize\\\\', 'comp_classifier_0.026234512188008582-17_hdim30_param964')\n"
     ]
    },
    {
     "name": "stderr",
     "output_type": "stream",
     "text": [
      "                                                                        \r"
     ]
    },
    {
     "name": "stdout",
     "output_type": "stream",
     "text": [
      "Achieved final accuracy of 0.2729658782482147\n",
      "Iteration No: 11 ended. Evaluation done at random point.\n",
      "Time taken: 14.6693\n",
      "Function value obtained: 0.7270\n",
      "Current minimum: 0.7008\n",
      "Iteration No: 12 started. Evaluating function at random point.\n",
      "Modell initialised. Shapes: \n",
      " torch.Size([64, 1, 129, 5]) torch.Size([64, 4]) 1.459510087966919\n",
      "No existing log data found for comp_classifier_0.018231223645064996-16_hdim30_param964 in ..\\saved_models\\cognitive_workload\\stat\\initlr_stepsize\\. Creating new one\n",
      "Ready to begin training from 0 epoch. \n",
      " (device(type='cuda', index=0), '..\\\\saved_models\\\\cognitive_workload\\\\stat\\\\initlr_stepsize\\\\', 'comp_classifier_0.018231223645064996-16_hdim30_param964')\n"
     ]
    },
    {
     "name": "stderr",
     "output_type": "stream",
     "text": [
      "                                                                        \r"
     ]
    },
    {
     "name": "stdout",
     "output_type": "stream",
     "text": [
      "Achieved final accuracy of 0.23884513974189758\n",
      "Iteration No: 12 ended. Evaluation done at random point.\n",
      "Time taken: 15.0021\n",
      "Function value obtained: 0.7612\n",
      "Current minimum: 0.7008\n",
      "Iteration No: 13 started. Evaluating function at random point.\n",
      "Modell initialised. Shapes: \n",
      " torch.Size([64, 1, 129, 5]) torch.Size([64, 4]) 1.4531261920928955\n",
      "No existing log data found for comp_classifier_0.09382530422645642-10_hdim30_param964 in ..\\saved_models\\cognitive_workload\\stat\\initlr_stepsize\\. Creating new one\n",
      "Ready to begin training from 0 epoch. \n",
      " (device(type='cuda', index=0), '..\\\\saved_models\\\\cognitive_workload\\\\stat\\\\initlr_stepsize\\\\', 'comp_classifier_0.09382530422645642-10_hdim30_param964')\n"
     ]
    },
    {
     "name": "stderr",
     "output_type": "stream",
     "text": [
      "                                                                        \r"
     ]
    },
    {
     "name": "stdout",
     "output_type": "stream",
     "text": [
      "Achieved final accuracy of 0.21259842813014984\n",
      "Iteration No: 13 ended. Evaluation done at random point.\n",
      "Time taken: 19.5894\n",
      "Function value obtained: 0.7874\n",
      "Current minimum: 0.7008\n",
      "Iteration No: 14 started. Evaluating function at random point.\n",
      "Modell initialised. Shapes: \n",
      " torch.Size([64, 1, 129, 5]) torch.Size([64, 4]) 1.3521784543991089\n",
      "No existing log data found for comp_classifier_0.039080306979198585-8_hdim30_param964 in ..\\saved_models\\cognitive_workload\\stat\\initlr_stepsize\\. Creating new one\n",
      "Ready to begin training from 0 epoch. \n",
      " (device(type='cuda', index=0), '..\\\\saved_models\\\\cognitive_workload\\\\stat\\\\initlr_stepsize\\\\', 'comp_classifier_0.039080306979198585-8_hdim30_param964')\n"
     ]
    },
    {
     "name": "stderr",
     "output_type": "stream",
     "text": [
      "                                                                        \r"
     ]
    },
    {
     "name": "stdout",
     "output_type": "stream",
     "text": [
      "Achieved final accuracy of 0.27559053897857666\n",
      "Iteration No: 14 ended. Evaluation done at random point.\n",
      "Time taken: 23.0632\n",
      "Function value obtained: 0.7244\n",
      "Current minimum: 0.7008\n",
      "Iteration No: 15 started. Evaluating function at random point.\n",
      "Modell initialised. Shapes: \n",
      " torch.Size([64, 1, 129, 5]) torch.Size([64, 4]) 1.5011191368103027\n",
      "No existing log data found for comp_classifier_0.02014220671584855-3_hdim30_param964 in ..\\saved_models\\cognitive_workload\\stat\\initlr_stepsize\\. Creating new one\n",
      "Ready to begin training from 0 epoch. \n",
      " (device(type='cuda', index=0), '..\\\\saved_models\\\\cognitive_workload\\\\stat\\\\initlr_stepsize\\\\', 'comp_classifier_0.02014220671584855-3_hdim30_param964')\n"
     ]
    },
    {
     "name": "stderr",
     "output_type": "stream",
     "text": [
      "                                                                        \r"
     ]
    },
    {
     "name": "stdout",
     "output_type": "stream",
     "text": [
      "Achieved final accuracy of 0.29133859276771545\n",
      "Iteration No: 15 ended. Evaluation done at random point.\n",
      "Time taken: 21.7460\n",
      "Function value obtained: 0.7087\n",
      "Current minimum: 0.7008\n",
      "Iteration No: 16 started. Evaluating function at random point.\n",
      "Modell initialised. Shapes: \n",
      " torch.Size([64, 1, 129, 5]) torch.Size([64, 4]) 1.448943853378296\n",
      "No existing log data found for comp_classifier_0.048781053338839295-13_hdim30_param964 in ..\\saved_models\\cognitive_workload\\stat\\initlr_stepsize\\. Creating new one\n",
      "Ready to begin training from 0 epoch. \n",
      " (device(type='cuda', index=0), '..\\\\saved_models\\\\cognitive_workload\\\\stat\\\\initlr_stepsize\\\\', 'comp_classifier_0.048781053338839295-13_hdim30_param964')\n"
     ]
    },
    {
     "name": "stderr",
     "output_type": "stream",
     "text": [
      "                                                                        \r"
     ]
    },
    {
     "name": "stdout",
     "output_type": "stream",
     "text": [
      "Achieved final accuracy of 0.3123359680175781\n",
      "Iteration No: 16 ended. Evaluation done at random point.\n",
      "Time taken: 27.0431\n",
      "Function value obtained: 0.6877\n",
      "Current minimum: 0.6877\n",
      "Iteration No: 17 started. Evaluating function at random point.\n",
      "Modell initialised. Shapes: \n",
      " torch.Size([64, 1, 129, 5]) torch.Size([64, 4]) 1.4545128345489502\n",
      "No existing log data found for comp_classifier_0.09517358604269265-8_hdim30_param964 in ..\\saved_models\\cognitive_workload\\stat\\initlr_stepsize\\. Creating new one\n",
      "Ready to begin training from 0 epoch. \n",
      " (device(type='cuda', index=0), '..\\\\saved_models\\\\cognitive_workload\\\\stat\\\\initlr_stepsize\\\\', 'comp_classifier_0.09517358604269265-8_hdim30_param964')\n"
     ]
    },
    {
     "name": "stderr",
     "output_type": "stream",
     "text": [
      "                                                                        \r"
     ]
    },
    {
     "name": "stdout",
     "output_type": "stream",
     "text": [
      "Achieved final accuracy of 0.28871390223503113\n",
      "Iteration No: 17 ended. Evaluation done at random point.\n",
      "Time taken: 21.2601\n",
      "Function value obtained: 0.7113\n",
      "Current minimum: 0.6877\n",
      "Iteration No: 18 started. Evaluating function at random point.\n",
      "Modell initialised. Shapes: \n",
      " torch.Size([64, 1, 129, 5]) torch.Size([64, 4]) 1.4030309915542603\n",
      "No existing log data found for comp_classifier_0.02837495607103319-9_hdim30_param964 in ..\\saved_models\\cognitive_workload\\stat\\initlr_stepsize\\. Creating new one\n",
      "Ready to begin training from 0 epoch. \n",
      " (device(type='cuda', index=0), '..\\\\saved_models\\\\cognitive_workload\\\\stat\\\\initlr_stepsize\\\\', 'comp_classifier_0.02837495607103319-9_hdim30_param964')\n"
     ]
    },
    {
     "name": "stderr",
     "output_type": "stream",
     "text": [
      "                                                                        \r"
     ]
    },
    {
     "name": "stdout",
     "output_type": "stream",
     "text": [
      "Achieved final accuracy of 0.29133859276771545\n",
      "Iteration No: 18 ended. Evaluation done at random point.\n",
      "Time taken: 20.9476\n",
      "Function value obtained: 0.7087\n",
      "Current minimum: 0.6877\n",
      "Iteration No: 19 started. Evaluating function at random point.\n",
      "Modell initialised. Shapes: \n",
      " torch.Size([64, 1, 129, 5]) torch.Size([64, 4]) 1.4012647867202759\n",
      "No existing log data found for comp_classifier_0.09583345916185883-4_hdim30_param964 in ..\\saved_models\\cognitive_workload\\stat\\initlr_stepsize\\. Creating new one\n",
      "Ready to begin training from 0 epoch. \n",
      " (device(type='cuda', index=0), '..\\\\saved_models\\\\cognitive_workload\\\\stat\\\\initlr_stepsize\\\\', 'comp_classifier_0.09583345916185883-4_hdim30_param964')\n"
     ]
    },
    {
     "name": "stderr",
     "output_type": "stream",
     "text": [
      "                                                                        \r"
     ]
    },
    {
     "name": "stdout",
     "output_type": "stream",
     "text": [
      "Achieved final accuracy of 0.2939632534980774\n",
      "Iteration No: 19 ended. Evaluation done at random point.\n",
      "Time taken: 20.3841\n",
      "Function value obtained: 0.7060\n",
      "Current minimum: 0.6877\n",
      "Iteration No: 20 started. Evaluating function at random point.\n",
      "Modell initialised. Shapes: \n",
      " torch.Size([64, 1, 129, 5]) torch.Size([64, 4]) 1.4969593286514282\n",
      "No existing log data found for comp_classifier_0.015128858926362218-3_hdim30_param964 in ..\\saved_models\\cognitive_workload\\stat\\initlr_stepsize\\. Creating new one\n",
      "Ready to begin training from 0 epoch. \n",
      " (device(type='cuda', index=0), '..\\\\saved_models\\\\cognitive_workload\\\\stat\\\\initlr_stepsize\\\\', 'comp_classifier_0.015128858926362218-3_hdim30_param964')\n"
     ]
    },
    {
     "name": "stderr",
     "output_type": "stream",
     "text": [
      "                                                                        \r"
     ]
    },
    {
     "name": "stdout",
     "output_type": "stream",
     "text": [
      "Achieved final accuracy of 0.3018372654914856\n",
      "Iteration No: 20 ended. Evaluation done at random point.\n",
      "Time taken: 20.4630\n",
      "Function value obtained: 0.6982\n",
      "Current minimum: 0.6877\n",
      "Iteration No: 21 started. Evaluating function at random point.\n",
      "Modell initialised. Shapes: \n",
      " torch.Size([64, 1, 129, 5]) torch.Size([64, 4]) 1.456681251525879\n",
      "No existing log data found for comp_classifier_0.055176277517861576-7_hdim30_param964 in ..\\saved_models\\cognitive_workload\\stat\\initlr_stepsize\\. Creating new one\n",
      "Ready to begin training from 0 epoch. \n",
      " (device(type='cuda', index=0), '..\\\\saved_models\\\\cognitive_workload\\\\stat\\\\initlr_stepsize\\\\', 'comp_classifier_0.055176277517861576-7_hdim30_param964')\n"
     ]
    },
    {
     "name": "stderr",
     "output_type": "stream",
     "text": [
      "                                                                        \r"
     ]
    },
    {
     "name": "stdout",
     "output_type": "stream",
     "text": [
      "Achieved final accuracy of 0.26771652698516846\n",
      "Iteration No: 21 ended. Evaluation done at random point.\n",
      "Time taken: 20.4203\n",
      "Function value obtained: 0.7323\n",
      "Current minimum: 0.6877\n",
      "Iteration No: 22 started. Evaluating function at random point.\n",
      "Modell initialised. Shapes: \n",
      " torch.Size([64, 1, 129, 5]) torch.Size([64, 4]) 1.505767583847046\n",
      "No existing log data found for comp_classifier_0.02898925293732254-18_hdim30_param964 in ..\\saved_models\\cognitive_workload\\stat\\initlr_stepsize\\. Creating new one\n",
      "Ready to begin training from 0 epoch. \n",
      " (device(type='cuda', index=0), '..\\\\saved_models\\\\cognitive_workload\\\\stat\\\\initlr_stepsize\\\\', 'comp_classifier_0.02898925293732254-18_hdim30_param964')\n"
     ]
    },
    {
     "name": "stderr",
     "output_type": "stream",
     "text": [
      "                                                                        \r"
     ]
    },
    {
     "name": "stdout",
     "output_type": "stream",
     "text": [
      "Achieved final accuracy of 0.2650918662548065\n",
      "Iteration No: 22 ended. Evaluation done at random point.\n",
      "Time taken: 21.2491\n",
      "Function value obtained: 0.7349\n",
      "Current minimum: 0.6877\n",
      "Iteration No: 23 started. Evaluating function at random point.\n",
      "Modell initialised. Shapes: \n",
      " torch.Size([64, 1, 129, 5]) torch.Size([64, 4]) 1.4383764266967773\n",
      "No existing log data found for comp_classifier_0.04390087425122476-9_hdim30_param964 in ..\\saved_models\\cognitive_workload\\stat\\initlr_stepsize\\. Creating new one\n",
      "Ready to begin training from 0 epoch. \n",
      " (device(type='cuda', index=0), '..\\\\saved_models\\\\cognitive_workload\\\\stat\\\\initlr_stepsize\\\\', 'comp_classifier_0.04390087425122476-9_hdim30_param964')\n"
     ]
    },
    {
     "name": "stderr",
     "output_type": "stream",
     "text": [
      "                                                                        \r"
     ]
    },
    {
     "name": "stdout",
     "output_type": "stream",
     "text": [
      "Achieved final accuracy of 0.2729658782482147\n",
      "Iteration No: 23 ended. Evaluation done at random point.\n",
      "Time taken: 21.1839\n",
      "Function value obtained: 0.7270\n",
      "Current minimum: 0.6877\n",
      "Iteration No: 24 started. Evaluating function at random point.\n",
      "Modell initialised. Shapes: \n",
      " torch.Size([64, 1, 129, 5]) torch.Size([64, 4]) 1.4851605892181396\n",
      "No existing log data found for comp_classifier_0.09863609141659667-16_hdim30_param964 in ..\\saved_models\\cognitive_workload\\stat\\initlr_stepsize\\. Creating new one\n",
      "Ready to begin training from 0 epoch. \n",
      " (device(type='cuda', index=0), '..\\\\saved_models\\\\cognitive_workload\\\\stat\\\\initlr_stepsize\\\\', 'comp_classifier_0.09863609141659667-16_hdim30_param964')\n"
     ]
    },
    {
     "name": "stderr",
     "output_type": "stream",
     "text": [
      "                                                                        \r"
     ]
    },
    {
     "name": "stdout",
     "output_type": "stream",
     "text": [
      "Achieved final accuracy of 0.21259842813014984\n",
      "Iteration No: 24 ended. Evaluation done at random point.\n",
      "Time taken: 21.1908\n",
      "Function value obtained: 0.7874\n",
      "Current minimum: 0.6877\n",
      "Iteration No: 25 started. Evaluating function at random point.\n",
      "Modell initialised. Shapes: \n",
      " torch.Size([64, 1, 129, 5]) torch.Size([64, 4]) 1.4889593124389648\n",
      "No existing log data found for comp_classifier_0.03498720505364812-7_hdim30_param964 in ..\\saved_models\\cognitive_workload\\stat\\initlr_stepsize\\. Creating new one\n",
      "Ready to begin training from 0 epoch. \n",
      " (device(type='cuda', index=0), '..\\\\saved_models\\\\cognitive_workload\\\\stat\\\\initlr_stepsize\\\\', 'comp_classifier_0.03498720505364812-7_hdim30_param964')\n"
     ]
    },
    {
     "name": "stderr",
     "output_type": "stream",
     "text": [
      "                                                                        \r"
     ]
    },
    {
     "name": "stdout",
     "output_type": "stream",
     "text": [
      "Achieved final accuracy of 0.25984251499176025\n",
      "Iteration No: 25 ended. Evaluation done at random point.\n",
      "Time taken: 22.4607\n",
      "Function value obtained: 0.7402\n",
      "Current minimum: 0.6877\n",
      "Iteration No: 26 started. Evaluating function at random point.\n",
      "Modell initialised. Shapes: \n",
      " torch.Size([64, 1, 129, 5]) torch.Size([64, 4]) 1.4932398796081543\n",
      "No existing log data found for comp_classifier_0.05089155924483318-13_hdim30_param964 in ..\\saved_models\\cognitive_workload\\stat\\initlr_stepsize\\. Creating new one\n",
      "Ready to begin training from 0 epoch. \n",
      " (device(type='cuda', index=0), '..\\\\saved_models\\\\cognitive_workload\\\\stat\\\\initlr_stepsize\\\\', 'comp_classifier_0.05089155924483318-13_hdim30_param964')\n"
     ]
    },
    {
     "name": "stderr",
     "output_type": "stream",
     "text": [
      "                                                                        \r"
     ]
    },
    {
     "name": "stdout",
     "output_type": "stream",
     "text": [
      "Achieved final accuracy of 0.29658791422843933\n",
      "Iteration No: 26 ended. Evaluation done at random point.\n",
      "Time taken: 21.4234\n",
      "Function value obtained: 0.7034\n",
      "Current minimum: 0.6877\n",
      "Iteration No: 27 started. Evaluating function at random point.\n",
      "Modell initialised. Shapes: \n",
      " torch.Size([64, 1, 129, 5]) torch.Size([64, 4]) 1.51790189743042\n",
      "No existing log data found for comp_classifier_0.0660402592179754-6_hdim30_param964 in ..\\saved_models\\cognitive_workload\\stat\\initlr_stepsize\\. Creating new one\n",
      "Ready to begin training from 0 epoch. \n",
      " (device(type='cuda', index=0), '..\\\\saved_models\\\\cognitive_workload\\\\stat\\\\initlr_stepsize\\\\', 'comp_classifier_0.0660402592179754-6_hdim30_param964')\n"
     ]
    },
    {
     "name": "stderr",
     "output_type": "stream",
     "text": [
      "                                                                        \r"
     ]
    },
    {
     "name": "stdout",
     "output_type": "stream",
     "text": [
      "Achieved final accuracy of 0.29921260476112366\n",
      "Iteration No: 27 ended. Evaluation done at random point.\n",
      "Time taken: 22.4282\n",
      "Function value obtained: 0.7008\n",
      "Current minimum: 0.6877\n",
      "Iteration No: 28 started. Evaluating function at random point.\n",
      "Modell initialised. Shapes: \n",
      " torch.Size([64, 1, 129, 5]) torch.Size([64, 4]) 1.5068390369415283\n",
      "No existing log data found for comp_classifier_0.04111470677808868-14_hdim30_param964 in ..\\saved_models\\cognitive_workload\\stat\\initlr_stepsize\\. Creating new one\n",
      "Ready to begin training from 0 epoch. \n",
      " (device(type='cuda', index=0), '..\\\\saved_models\\\\cognitive_workload\\\\stat\\\\initlr_stepsize\\\\', 'comp_classifier_0.04111470677808868-14_hdim30_param964')\n"
     ]
    },
    {
     "name": "stderr",
     "output_type": "stream",
     "text": [
      "                                                                        \r"
     ]
    },
    {
     "name": "stdout",
     "output_type": "stream",
     "text": [
      "Achieved final accuracy of 0.2703412175178528\n",
      "Iteration No: 28 ended. Evaluation done at random point.\n",
      "Time taken: 23.6222\n",
      "Function value obtained: 0.7297\n",
      "Current minimum: 0.6877\n",
      "Iteration No: 29 started. Evaluating function at random point.\n",
      "Modell initialised. Shapes: \n",
      " torch.Size([64, 1, 129, 5]) torch.Size([64, 4]) 1.4301860332489014\n",
      "No existing log data found for comp_classifier_0.04451063000582192-16_hdim30_param964 in ..\\saved_models\\cognitive_workload\\stat\\initlr_stepsize\\. Creating new one\n",
      "Ready to begin training from 0 epoch. \n",
      " (device(type='cuda', index=0), '..\\\\saved_models\\\\cognitive_workload\\\\stat\\\\initlr_stepsize\\\\', 'comp_classifier_0.04451063000582192-16_hdim30_param964')\n"
     ]
    },
    {
     "name": "stderr",
     "output_type": "stream",
     "text": [
      "                                                                        \r"
     ]
    },
    {
     "name": "stdout",
     "output_type": "stream",
     "text": [
      "Achieved final accuracy of 0.3097112774848938\n",
      "Iteration No: 29 ended. Evaluation done at random point.\n",
      "Time taken: 22.7998\n",
      "Function value obtained: 0.6903\n",
      "Current minimum: 0.6877\n",
      "Iteration No: 30 started. Evaluating function at random point.\n",
      "Modell initialised. Shapes: \n",
      " torch.Size([64, 1, 129, 5]) torch.Size([64, 4]) 1.5073518753051758\n",
      "No existing log data found for comp_classifier_0.06877826347142374-15_hdim30_param964 in ..\\saved_models\\cognitive_workload\\stat\\initlr_stepsize\\. Creating new one\n",
      "Ready to begin training from 0 epoch. \n",
      " (device(type='cuda', index=0), '..\\\\saved_models\\\\cognitive_workload\\\\stat\\\\initlr_stepsize\\\\', 'comp_classifier_0.06877826347142374-15_hdim30_param964')\n"
     ]
    },
    {
     "name": "stderr",
     "output_type": "stream",
     "text": [
      "                                                                        \r"
     ]
    },
    {
     "name": "stdout",
     "output_type": "stream",
     "text": [
      "Achieved final accuracy of 0.30708661675453186\n",
      "Iteration No: 30 ended. Evaluation done at random point.\n",
      "Time taken: 23.7985\n",
      "Function value obtained: 0.6929\n",
      "Current minimum: 0.6877\n",
      "Iteration No: 31 started. Searching for the next optimal point.\n",
      "Modell initialised. Shapes: \n",
      " torch.Size([64, 1, 129, 5]) torch.Size([64, 4]) 1.4261069297790527\n",
      "No existing log data found for comp_classifier_0.04900910488279257-14_hdim30_param964 in ..\\saved_models\\cognitive_workload\\stat\\initlr_stepsize\\. Creating new one\n",
      "Ready to begin training from 0 epoch. \n",
      " (device(type='cuda', index=0), '..\\\\saved_models\\\\cognitive_workload\\\\stat\\\\initlr_stepsize\\\\', 'comp_classifier_0.04900910488279257-14_hdim30_param964')\n"
     ]
    },
    {
     "name": "stderr",
     "output_type": "stream",
     "text": [
      "                                                                        \r"
     ]
    },
    {
     "name": "stdout",
     "output_type": "stream",
     "text": [
      "Achieved final accuracy of 0.28346455097198486\n",
      "Iteration No: 31 ended. Search finished for the next optimal point.\n",
      "Time taken: 16.4838\n",
      "Function value obtained: 0.7165\n",
      "Current minimum: 0.6877\n",
      "Iteration No: 32 started. Searching for the next optimal point.\n",
      "Modell initialised. Shapes: \n",
      " torch.Size([64, 1, 129, 5]) torch.Size([64, 4]) 1.4425809383392334\n",
      "No existing log data found for comp_classifier_0.049153722420100215-13_hdim30_param964 in ..\\saved_models\\cognitive_workload\\stat\\initlr_stepsize\\. Creating new one\n",
      "Ready to begin training from 0 epoch. \n",
      " (device(type='cuda', index=0), '..\\\\saved_models\\\\cognitive_workload\\\\stat\\\\initlr_stepsize\\\\', 'comp_classifier_0.049153722420100215-13_hdim30_param964')\n"
     ]
    },
    {
     "name": "stderr",
     "output_type": "stream",
     "text": [
      "                                                                        \r"
     ]
    },
    {
     "name": "stdout",
     "output_type": "stream",
     "text": [
      "Achieved final accuracy of 0.28346455097198486\n",
      "Iteration No: 32 ended. Search finished for the next optimal point.\n",
      "Time taken: 16.3803\n",
      "Function value obtained: 0.7165\n",
      "Current minimum: 0.6877\n",
      "Iteration No: 33 started. Searching for the next optimal point.\n",
      "Modell initialised. Shapes: \n",
      " torch.Size([64, 1, 129, 5]) torch.Size([64, 4]) 1.3940845727920532\n",
      "No existing log data found for comp_classifier_0.04844682916419898-13_hdim30_param964 in ..\\saved_models\\cognitive_workload\\stat\\initlr_stepsize\\. Creating new one\n",
      "Ready to begin training from 0 epoch. \n",
      " (device(type='cuda', index=0), '..\\\\saved_models\\\\cognitive_workload\\\\stat\\\\initlr_stepsize\\\\', 'comp_classifier_0.04844682916419898-13_hdim30_param964')\n"
     ]
    },
    {
     "name": "stderr",
     "output_type": "stream",
     "text": [
      "                                                                        \r"
     ]
    },
    {
     "name": "stdout",
     "output_type": "stream",
     "text": [
      "Achieved final accuracy of 0.2703412175178528\n",
      "Iteration No: 33 ended. Search finished for the next optimal point.\n",
      "Time taken: 16.0556\n",
      "Function value obtained: 0.7297\n",
      "Current minimum: 0.6877\n",
      "Iteration No: 34 started. Searching for the next optimal point.\n",
      "Modell initialised. Shapes: \n",
      " torch.Size([64, 1, 129, 5]) torch.Size([64, 4]) 1.5448260307312012\n",
      "No existing log data found for comp_classifier_0.0522500235981938-13_hdim30_param964 in ..\\saved_models\\cognitive_workload\\stat\\initlr_stepsize\\. Creating new one\n",
      "Ready to begin training from 0 epoch. \n",
      " (device(type='cuda', index=0), '..\\\\saved_models\\\\cognitive_workload\\\\stat\\\\initlr_stepsize\\\\', 'comp_classifier_0.0522500235981938-13_hdim30_param964')\n"
     ]
    },
    {
     "name": "stderr",
     "output_type": "stream",
     "text": [
      "                                                                        \r"
     ]
    },
    {
     "name": "stdout",
     "output_type": "stream",
     "text": [
      "Achieved final accuracy of 0.3123359680175781\n",
      "Iteration No: 34 ended. Search finished for the next optimal point.\n",
      "Time taken: 15.0126\n",
      "Function value obtained: 0.6877\n",
      "Current minimum: 0.6877\n",
      "Iteration No: 35 started. Searching for the next optimal point.\n",
      "Modell initialised. Shapes: \n",
      " torch.Size([64, 1, 129, 5]) torch.Size([64, 4]) 1.401188850402832\n",
      "No existing log data found for comp_classifier_0.0517181139540699-12_hdim30_param964 in ..\\saved_models\\cognitive_workload\\stat\\initlr_stepsize\\. Creating new one\n",
      "Ready to begin training from 0 epoch. \n",
      " (device(type='cuda', index=0), '..\\\\saved_models\\\\cognitive_workload\\\\stat\\\\initlr_stepsize\\\\', 'comp_classifier_0.0517181139540699-12_hdim30_param964')\n"
     ]
    },
    {
     "name": "stderr",
     "output_type": "stream",
     "text": [
      "                                                                        \r"
     ]
    },
    {
     "name": "stdout",
     "output_type": "stream",
     "text": [
      "Achieved final accuracy of 0.3044619560241699\n",
      "Iteration No: 35 ended. Search finished for the next optimal point.\n",
      "Time taken: 25.3827\n",
      "Function value obtained: 0.6955\n",
      "Current minimum: 0.6877\n",
      "Iteration No: 36 started. Searching for the next optimal point.\n",
      "Modell initialised. Shapes: \n",
      " torch.Size([64, 1, 129, 5]) torch.Size([64, 4]) 1.4177104234695435\n",
      "No existing log data found for comp_classifier_0.05188817681878877-16_hdim30_param964 in ..\\saved_models\\cognitive_workload\\stat\\initlr_stepsize\\. Creating new one\n",
      "Ready to begin training from 0 epoch. \n",
      " (device(type='cuda', index=0), '..\\\\saved_models\\\\cognitive_workload\\\\stat\\\\initlr_stepsize\\\\', 'comp_classifier_0.05188817681878877-16_hdim30_param964')\n"
     ]
    },
    {
     "name": "stderr",
     "output_type": "stream",
     "text": [
      "                                                                        \r"
     ]
    },
    {
     "name": "stdout",
     "output_type": "stream",
     "text": [
      "Achieved final accuracy of 0.2939632534980774\n",
      "Iteration No: 36 ended. Search finished for the next optimal point.\n",
      "Time taken: 23.2022\n",
      "Function value obtained: 0.7060\n",
      "Current minimum: 0.6877\n",
      "Iteration No: 37 started. Searching for the next optimal point.\n",
      "Modell initialised. Shapes: \n",
      " torch.Size([64, 1, 129, 5]) torch.Size([64, 4]) 1.4561278820037842\n",
      "No existing log data found for comp_classifier_0.04883704812156022-12_hdim30_param964 in ..\\saved_models\\cognitive_workload\\stat\\initlr_stepsize\\. Creating new one\n",
      "Ready to begin training from 0 epoch. \n",
      " (device(type='cuda', index=0), '..\\\\saved_models\\\\cognitive_workload\\\\stat\\\\initlr_stepsize\\\\', 'comp_classifier_0.04883704812156022-12_hdim30_param964')\n"
     ]
    },
    {
     "name": "stderr",
     "output_type": "stream",
     "text": [
      "                                                                        \r"
     ]
    },
    {
     "name": "stdout",
     "output_type": "stream",
     "text": [
      "Achieved final accuracy of 0.2729658782482147\n",
      "Iteration No: 37 ended. Search finished for the next optimal point.\n",
      "Time taken: 24.2886\n",
      "Function value obtained: 0.7270\n",
      "Current minimum: 0.6877\n",
      "Iteration No: 38 started. Searching for the next optimal point.\n",
      "Modell initialised. Shapes: \n",
      " torch.Size([64, 1, 129, 5]) torch.Size([64, 4]) 1.4187192916870117\n",
      "No existing log data found for comp_classifier_0.05169634084632701-14_hdim30_param964 in ..\\saved_models\\cognitive_workload\\stat\\initlr_stepsize\\. Creating new one\n",
      "Ready to begin training from 0 epoch. \n",
      " (device(type='cuda', index=0), '..\\\\saved_models\\\\cognitive_workload\\\\stat\\\\initlr_stepsize\\\\', 'comp_classifier_0.05169634084632701-14_hdim30_param964')\n"
     ]
    },
    {
     "name": "stderr",
     "output_type": "stream",
     "text": [
      "                                                                        \r"
     ]
    },
    {
     "name": "stdout",
     "output_type": "stream",
     "text": [
      "Achieved final accuracy of 0.29658791422843933\n",
      "Iteration No: 38 ended. Search finished for the next optimal point.\n",
      "Time taken: 23.1177\n",
      "Function value obtained: 0.7034\n",
      "Current minimum: 0.6877\n",
      "Iteration No: 39 started. Searching for the next optimal point.\n",
      "Modell initialised. Shapes: \n",
      " torch.Size([64, 1, 129, 5]) torch.Size([64, 4]) 1.3703758716583252\n",
      "No existing log data found for comp_classifier_0.053196415319575384-12_hdim30_param964 in ..\\saved_models\\cognitive_workload\\stat\\initlr_stepsize\\. Creating new one\n",
      "Ready to begin training from 0 epoch. \n",
      " (device(type='cuda', index=0), '..\\\\saved_models\\\\cognitive_workload\\\\stat\\\\initlr_stepsize\\\\', 'comp_classifier_0.053196415319575384-12_hdim30_param964')\n"
     ]
    },
    {
     "name": "stderr",
     "output_type": "stream",
     "text": [
      "                                                                        \r"
     ]
    },
    {
     "name": "stdout",
     "output_type": "stream",
     "text": [
      "Achieved final accuracy of 0.29133859276771545\n",
      "Iteration No: 39 ended. Search finished for the next optimal point.\n",
      "Time taken: 21.1086\n",
      "Function value obtained: 0.7087\n",
      "Current minimum: 0.6877\n",
      "Iteration No: 40 started. Searching for the next optimal point.\n",
      "Modell initialised. Shapes: \n",
      " torch.Size([64, 1, 129, 5]) torch.Size([64, 4]) 1.5784580707550049\n",
      "No existing log data found for comp_classifier_0.044331882191543937-18_hdim30_param964 in ..\\saved_models\\cognitive_workload\\stat\\initlr_stepsize\\. Creating new one\n",
      "Ready to begin training from 0 epoch. \n",
      " (device(type='cuda', index=0), '..\\\\saved_models\\\\cognitive_workload\\\\stat\\\\initlr_stepsize\\\\', 'comp_classifier_0.044331882191543937-18_hdim30_param964')\n"
     ]
    },
    {
     "name": "stderr",
     "output_type": "stream",
     "text": [
      "                                                                        \r"
     ]
    },
    {
     "name": "stdout",
     "output_type": "stream",
     "text": [
      "Achieved final accuracy of 0.26771652698516846\n",
      "Iteration No: 40 ended. Search finished for the next optimal point.\n",
      "Time taken: 14.6346\n",
      "Function value obtained: 0.7323\n",
      "Current minimum: 0.6877\n",
      "Iteration No: 41 started. Searching for the next optimal point.\n",
      "Modell initialised. Shapes: \n",
      " torch.Size([64, 1, 129, 5]) torch.Size([64, 4]) 1.451772928237915\n",
      "No existing log data found for comp_classifier_0.044497462764681056-15_hdim30_param964 in ..\\saved_models\\cognitive_workload\\stat\\initlr_stepsize\\. Creating new one\n",
      "Ready to begin training from 0 epoch. \n",
      " (device(type='cuda', index=0), '..\\\\saved_models\\\\cognitive_workload\\\\stat\\\\initlr_stepsize\\\\', 'comp_classifier_0.044497462764681056-15_hdim30_param964')\n"
     ]
    },
    {
     "name": "stderr",
     "output_type": "stream",
     "text": [
      "                                                                        \r"
     ]
    },
    {
     "name": "stdout",
     "output_type": "stream",
     "text": [
      "Achieved final accuracy of 0.2860892415046692\n",
      "Iteration No: 41 ended. Search finished for the next optimal point.\n",
      "Time taken: 14.0890\n",
      "Function value obtained: 0.7139\n",
      "Current minimum: 0.6877\n",
      "Iteration No: 42 started. Searching for the next optimal point.\n",
      "Modell initialised. Shapes: \n",
      " torch.Size([64, 1, 129, 5]) torch.Size([64, 4]) 1.370523452758789\n",
      "No existing log data found for comp_classifier_0.06905138987483582-13_hdim30_param964 in ..\\saved_models\\cognitive_workload\\stat\\initlr_stepsize\\. Creating new one\n",
      "Ready to begin training from 0 epoch. \n",
      " (device(type='cuda', index=0), '..\\\\saved_models\\\\cognitive_workload\\\\stat\\\\initlr_stepsize\\\\', 'comp_classifier_0.06905138987483582-13_hdim30_param964')\n"
     ]
    },
    {
     "name": "stderr",
     "output_type": "stream",
     "text": [
      "                                                                        \r"
     ]
    },
    {
     "name": "stdout",
     "output_type": "stream",
     "text": [
      "Achieved final accuracy of 0.29133859276771545\n",
      "Iteration No: 42 ended. Search finished for the next optimal point.\n",
      "Time taken: 14.5354\n",
      "Function value obtained: 0.7087\n",
      "Current minimum: 0.6877\n",
      "Iteration No: 43 started. Searching for the next optimal point.\n",
      "Modell initialised. Shapes: \n",
      " torch.Size([64, 1, 129, 5]) torch.Size([64, 4]) 1.377752661705017\n",
      "No existing log data found for comp_classifier_0.06805475318974538-16_hdim30_param964 in ..\\saved_models\\cognitive_workload\\stat\\initlr_stepsize\\. Creating new one\n",
      "Ready to begin training from 0 epoch. \n",
      " (device(type='cuda', index=0), '..\\\\saved_models\\\\cognitive_workload\\\\stat\\\\initlr_stepsize\\\\', 'comp_classifier_0.06805475318974538-16_hdim30_param964')\n"
     ]
    },
    {
     "name": "stderr",
     "output_type": "stream",
     "text": [
      "                                                                        \r"
     ]
    },
    {
     "name": "stdout",
     "output_type": "stream",
     "text": [
      "Achieved final accuracy of 0.3044619560241699\n",
      "Iteration No: 43 ended. Search finished for the next optimal point.\n",
      "Time taken: 15.8489\n",
      "Function value obtained: 0.6955\n",
      "Current minimum: 0.6877\n",
      "Iteration No: 44 started. Searching for the next optimal point.\n",
      "Modell initialised. Shapes: \n",
      " torch.Size([64, 1, 129, 5]) torch.Size([64, 4]) 1.3684115409851074\n",
      "No existing log data found for comp_classifier_0.06947573853535888-17_hdim30_param964 in ..\\saved_models\\cognitive_workload\\stat\\initlr_stepsize\\. Creating new one\n",
      "Ready to begin training from 0 epoch. \n",
      " (device(type='cuda', index=0), '..\\\\saved_models\\\\cognitive_workload\\\\stat\\\\initlr_stepsize\\\\', 'comp_classifier_0.06947573853535888-17_hdim30_param964')\n"
     ]
    },
    {
     "name": "stderr",
     "output_type": "stream",
     "text": [
      "                                                                        \r"
     ]
    },
    {
     "name": "stdout",
     "output_type": "stream",
     "text": [
      "Achieved final accuracy of 0.3018372654914856\n",
      "Iteration No: 44 ended. Search finished for the next optimal point.\n",
      "Time taken: 14.6377\n",
      "Function value obtained: 0.6982\n",
      "Current minimum: 0.6877\n",
      "Iteration No: 45 started. Searching for the next optimal point.\n",
      "Modell initialised. Shapes: \n",
      " torch.Size([64, 1, 129, 5]) torch.Size([64, 4]) 1.4089535474777222\n",
      "No existing log data found for comp_classifier_0.07023262258397503-15_hdim30_param964 in ..\\saved_models\\cognitive_workload\\stat\\initlr_stepsize\\. Creating new one\n",
      "Ready to begin training from 0 epoch. \n",
      " (device(type='cuda', index=0), '..\\\\saved_models\\\\cognitive_workload\\\\stat\\\\initlr_stepsize\\\\', 'comp_classifier_0.07023262258397503-15_hdim30_param964')\n"
     ]
    },
    {
     "name": "stderr",
     "output_type": "stream",
     "text": [
      "                                                                        \r"
     ]
    },
    {
     "name": "stdout",
     "output_type": "stream",
     "text": [
      "Achieved final accuracy of 0.3044619560241699\n",
      "Iteration No: 45 ended. Search finished for the next optimal point.\n",
      "Time taken: 14.3053\n",
      "Function value obtained: 0.6955\n",
      "Current minimum: 0.6877\n",
      "Iteration No: 46 started. Searching for the next optimal point.\n",
      "Modell initialised. Shapes: \n",
      " torch.Size([64, 1, 129, 5]) torch.Size([64, 4]) 1.4843723773956299\n",
      "No existing log data found for comp_classifier_0.07124571850157034-17_hdim30_param964 in ..\\saved_models\\cognitive_workload\\stat\\initlr_stepsize\\. Creating new one\n",
      "Ready to begin training from 0 epoch. \n",
      " (device(type='cuda', index=0), '..\\\\saved_models\\\\cognitive_workload\\\\stat\\\\initlr_stepsize\\\\', 'comp_classifier_0.07124571850157034-17_hdim30_param964')\n"
     ]
    },
    {
     "name": "stderr",
     "output_type": "stream",
     "text": [
      "                                                                        \r"
     ]
    },
    {
     "name": "stdout",
     "output_type": "stream",
     "text": [
      "Achieved final accuracy of 0.2939632534980774\n",
      "Iteration No: 46 ended. Search finished for the next optimal point.\n",
      "Time taken: 14.3404\n",
      "Function value obtained: 0.7060\n",
      "Current minimum: 0.6877\n",
      "Iteration No: 47 started. Searching for the next optimal point.\n",
      "Modell initialised. Shapes: \n",
      " torch.Size([64, 1, 129, 5]) torch.Size([64, 4]) 1.4442877769470215\n",
      "No existing log data found for comp_classifier_0.053193319111110936-15_hdim30_param964 in ..\\saved_models\\cognitive_workload\\stat\\initlr_stepsize\\. Creating new one\n",
      "Ready to begin training from 0 epoch. \n",
      " (device(type='cuda', index=0), '..\\\\saved_models\\\\cognitive_workload\\\\stat\\\\initlr_stepsize\\\\', 'comp_classifier_0.053193319111110936-15_hdim30_param964')\n"
     ]
    },
    {
     "name": "stderr",
     "output_type": "stream",
     "text": [
      "                                                                        \r"
     ]
    },
    {
     "name": "stdout",
     "output_type": "stream",
     "text": [
      "Achieved final accuracy of 0.3097112774848938\n",
      "Iteration No: 47 ended. Search finished for the next optimal point.\n",
      "Time taken: 14.3153\n",
      "Function value obtained: 0.6903\n",
      "Current minimum: 0.6877\n",
      "Iteration No: 48 started. Searching for the next optimal point.\n",
      "Modell initialised. Shapes: \n",
      " torch.Size([64, 1, 129, 5]) torch.Size([64, 4]) 1.3623175621032715\n",
      "No existing log data found for comp_classifier_0.05371162843374846-17_hdim30_param964 in ..\\saved_models\\cognitive_workload\\stat\\initlr_stepsize\\. Creating new one\n",
      "Ready to begin training from 0 epoch. \n",
      " (device(type='cuda', index=0), '..\\\\saved_models\\\\cognitive_workload\\\\stat\\\\initlr_stepsize\\\\', 'comp_classifier_0.05371162843374846-17_hdim30_param964')\n"
     ]
    },
    {
     "name": "stderr",
     "output_type": "stream",
     "text": [
      "                                                                        \r"
     ]
    },
    {
     "name": "stdout",
     "output_type": "stream",
     "text": [
      "Achieved final accuracy of 0.3385826647281647\n",
      "Iteration No: 48 ended. Search finished for the next optimal point.\n",
      "Time taken: 14.3346\n",
      "Function value obtained: 0.6614\n",
      "Current minimum: 0.6614\n",
      "Iteration No: 49 started. Searching for the next optimal point.\n",
      "Modell initialised. Shapes: \n",
      " torch.Size([64, 1, 129, 5]) torch.Size([64, 4]) 1.3851608037948608\n",
      "No existing log data found for comp_classifier_0.05439503315790757-17_hdim30_param964 in ..\\saved_models\\cognitive_workload\\stat\\initlr_stepsize\\. Creating new one\n",
      "Ready to begin training from 0 epoch. \n",
      " (device(type='cuda', index=0), '..\\\\saved_models\\\\cognitive_workload\\\\stat\\\\initlr_stepsize\\\\', 'comp_classifier_0.05439503315790757-17_hdim30_param964')\n"
     ]
    },
    {
     "name": "stderr",
     "output_type": "stream",
     "text": [
      "                                                                        \r"
     ]
    },
    {
     "name": "stdout",
     "output_type": "stream",
     "text": [
      "Achieved final accuracy of 0.30708661675453186\n",
      "Iteration No: 49 ended. Search finished for the next optimal point.\n",
      "Time taken: 14.2839\n",
      "Function value obtained: 0.6929\n",
      "Current minimum: 0.6614\n",
      "Iteration No: 50 started. Searching for the next optimal point.\n",
      "Modell initialised. Shapes: \n",
      " torch.Size([64, 1, 129, 5]) torch.Size([64, 4]) 1.4058806896209717\n",
      "No existing log data found for comp_classifier_0.05329745945715067-17_hdim30_param964 in ..\\saved_models\\cognitive_workload\\stat\\initlr_stepsize\\. Creating new one\n",
      "Ready to begin training from 0 epoch. \n",
      " (device(type='cuda', index=0), '..\\\\saved_models\\\\cognitive_workload\\\\stat\\\\initlr_stepsize\\\\', 'comp_classifier_0.05329745945715067-17_hdim30_param964')\n"
     ]
    },
    {
     "name": "stderr",
     "output_type": "stream",
     "text": [
      "                                                                        \r"
     ]
    },
    {
     "name": "stdout",
     "output_type": "stream",
     "text": [
      "Achieved final accuracy of 0.3044619560241699\n",
      "Iteration No: 50 ended. Search finished for the next optimal point.\n",
      "Time taken: 14.5679\n",
      "Function value obtained: 0.6955\n",
      "Current minimum: 0.6614\n"
     ]
    }
   ],
   "source": [
    "torch.cuda.empty_cache()\n",
    "param_stat_result = gp_minimize(\n",
    "    objective_error_param_search, # the objective function which is observed n_calls times\n",
    "    param_space, # the parameter search space\n",
    "    n_calls=50, # total function calls\n",
    "    n_initial_points=30, # number of observations before approximating the function\n",
    "    random_state=7, \n",
    "    verbose=True,\n",
    "    callback=[checkpoint_saver],\n",
    "    noise=1e-10\n",
    ")"
   ]
  },
  {
   "cell_type": "code",
   "execution_count": 144,
   "metadata": {},
   "outputs": [
    {
     "data": {
      "text/plain": [
       "([0.05371162843374846, np.int64(17)], np.float64(0.6614173352718353))"
      ]
     },
     "execution_count": 144,
     "metadata": {},
     "output_type": "execute_result"
    }
   ],
   "source": [
    "param_stat_result.x, param_stat_result.fun"
   ]
  },
  {
   "cell_type": "code",
   "execution_count": 148,
   "metadata": {},
   "outputs": [
    {
     "data": {
      "text/plain": [
       "[0.09382530422645642, np.int64(10)]"
      ]
     },
     "execution_count": 148,
     "metadata": {},
     "output_type": "execute_result"
    }
   ],
   "source": [
    "param_stat_result.x_iters[12]"
   ]
  },
  {
   "cell_type": "code",
   "execution_count": 145,
   "metadata": {},
   "outputs": [
    {
     "data": {
      "image/png": "[encoded data removed]",
      "text/plain": [
       "<Figure size 600x400 with 1 Axes>"
      ]
     },
     "metadata": {},
     "output_type": "display_data"
    }
   ],
   "source": [
    "best_model_name = \"comp_classifier_0.05371162843374846-17_hdim30_param964\"\n",
    "best_model_loss = pd.read_csv(save_filepath+best_model_name+'.csv')\n",
    "\n",
    "sns.set_context(\"paper\", font_scale=1.4)\n",
    "sns.set_style(\"whitegrid\")\n",
    "\n",
    "plt.figure(figsize=(6, 4))\n",
    "plt.plot(best_model_loss['Epoch'], best_model_loss['Training Loss'], label='Training Loss', linewidth=2)\n",
    "plt.plot(best_model_loss['Epoch'], best_model_loss['Validation Loss'], label='Validation Loss', linewidth=2)\n",
    "plt.plot(best_model_loss['Epoch'], best_model_loss['Accuracy'], label='Accuracy', linewidth=2)\n",
    "\n",
    "plt.xlabel('Epoch')\n",
    "plt.ylabel('Loss / Accuracy')\n",
    "plt.legend(frameon=False)\n",
    "plt.tight_layout()\n",
    "plt.savefig('training_plot.pdf', dpi=300)  # Save as vector format\n",
    "plt.show()"
   ]
  },
  {
   "cell_type": "code",
   "execution_count": 149,
   "metadata": {},
   "outputs": [
    {
     "data": {
      "image/png": "[encoded data removed]",
      "text/plain": [
       "<Figure size 600x400 with 1 Axes>"
      ]
     },
     "metadata": {},
     "output_type": "display_data"
    }
   ],
   "source": [
    "\n",
    "\n",
    "best_model_name = \"comp_classifier_0.09382530422645642-10_hdim30_param964\"\n",
    "best_model_loss = pd.read_csv(save_filepath+best_model_name+'.csv')\n",
    "\n",
    "sns.set_context(\"paper\", font_scale=1.4)\n",
    "sns.set_style(\"whitegrid\")\n",
    "\n",
    "plt.figure(figsize=(6, 4))\n",
    "plt.plot(best_model_loss['Epoch'], best_model_loss['Training Loss'], label='Training Loss', linewidth=2)\n",
    "plt.plot(best_model_loss['Epoch'], best_model_loss['Validation Loss'], label='Validation Loss', linewidth=2)\n",
    "plt.plot(best_model_loss['Epoch'], best_model_loss['Accuracy'], label='Accuracy', linewidth=2)\n",
    "\n",
    "plt.xlabel('Epoch')\n",
    "plt.ylabel('Loss / Accuracy')\n",
    "plt.legend(frameon=False)\n",
    "plt.tight_layout()\n",
    "plt.savefig('training_plot.pdf', dpi=300)  # Save as vector format\n",
    "plt.show()"
   ]
  },
  {
   "cell_type": "code",
   "execution_count": 119,
   "metadata": {},
   "outputs": [],
   "source": [
    "from skopt.plots import plot_convergence, plot_gaussian_process, plot_evaluations, plot_objective, plot_objective_2D"
   ]
  },
  {
   "cell_type": "code",
   "execution_count": 120,
   "metadata": {},
   "outputs": [
    {
     "data": {
      "text/plain": [
       "<Axes: >"
      ]
     },
     "execution_count": 120,
     "metadata": {},
     "output_type": "execute_result"
    },
    {
     "data": {
      "image/png": "[encoded data removed]",
      "text/plain": [
       "<Figure size 400x400 with 5 Axes>"
      ]
     },
     "metadata": {},
     "output_type": "display_data"
    }
   ],
   "source": [
    "plot_evaluations(param_stat_result)"
   ]
  },
  {
   "cell_type": "code",
   "execution_count": 121,
   "metadata": {},
   "outputs": [
    {
     "data": {
      "text/plain": [
       "<Axes: >"
      ]
     },
     "execution_count": 121,
     "metadata": {},
     "output_type": "execute_result"
    },
    {
     "data": {
      "image/png": "[encoded data removed]",
      "text/plain": [
       "<Figure size 400x400 with 5 Axes>"
      ]
     },
     "metadata": {},
     "output_type": "display_data"
    }
   ],
   "source": [
    "plot_objective(param_stat_result)"
   ]
  },
  {
   "cell_type": "code",
   "execution_count": 12,
   "metadata": {},
   "outputs": [
    {
     "data": {
      "text/plain": [
       "Reusing TensorBoard on port 6006 (pid 15184), started 1:38:00 ago. (Use '!kill 15184' to kill it.)"
      ]
     },
     "metadata": {},
     "output_type": "display_data"
    },
    {
     "data": {
      "text/html": [
       "\n",
       "      <iframe id=\"tensorboard-frame-6f26d3412c5676cb\" width=\"100%\" height=\"800\" frameborder=\"0\">\n",
       "      </iframe>\n",
       "      <script>\n",
       "        (function() {\n",
       "          const frame = document.getElementById(\"tensorboard-frame-6f26d3412c5676cb\");\n",
       "          const url = new URL(\"http://localhost\");\n",
       "          const port = 6006;\n",
       "          if (port) {\n",
       "            url.port = port;\n",
       "          }\n",
       "          frame.src = url;\n",
       "        })();\n",
       "      </script>\n",
       "    "
      ],
      "text/plain": [
       "<IPython.core.display.HTML object>"
      ]
     },
     "metadata": {},
     "output_type": "display_data"
    }
   ],
   "source": [
    "# launches tensorboard at localhost:6006\n",
    "#tensorboard --logdir=saved_models\\\\classifier\\\\bayes_opt4\\\\tensorboard_logs\n",
    "%reload_ext tensorboard\n",
    "%tensorboard --logdir=f\"{save_filepath}+tensorboard_logs\""
   ]
  },
  {
   "cell_type": "markdown",
   "metadata": {},
   "source": [
    "### Ablative Analysis: Top-n composite model"
   ]
  },
  {
   "cell_type": "code",
   "execution_count": 26,
   "metadata": {},
   "outputs": [],
   "source": [
    "torch.cuda.empty_cache()\n",
    "# single head model\n",
    "# -1: tune all layers | 0: tune no layers | i : tune only the last i layers; [:-i] are frozen\n",
    "tune_layers = -1  #TODO: currently inactive parameter (commented out)\n",
    "num_epochs = 50\n",
    "batch_size = 64\n",
    "initlr = 1e-3\n",
    "step_size = 5\n",
    "gamma = 0.5\n",
    "\n",
    "save_filepath = \"..\\\\saved_models\\\\composite\\\\tests\\\\\"# + f'tune_layers_{tune_layers!=0}\\\\'\n",
    "\n",
    "# bayesion parameter optimization\n",
    "optim_name = 'testforblog'\n",
    "checkpoint_saver = CheckpointSaver(save_filepath+optim_name+'.pkl', compress=9)\n",
    "\n",
    "param_space = [\n",
    "    Integer(8, 48, name='latent_dim'), # latent dimension\n",
    "    Integer(8,  48, name='hidden_dim'), # hidden layer dimension\n",
    "]\n",
    "\n",
    "def objective_error(x):\n",
    "    ldim, hdim = [int(p) for p in x]\n",
    "\n",
    "    conv_cfg = {'input_shape':frames[0][0].shape[-2:], 'latent_dim':ldim, 'channels':[1, 8, 16], 'kernel':(10, 2)}\n",
    "    conv = {'model': Conv(**conv_cfg), 'output_fn': 'encode', 'output_dim':ldim, 'tune_layers':tune_layers}\n",
    "\n",
    "    stats_cfg = {'cand_features':[\"hr_mean\", \"hr_std\", \"hr_skewness\", \"hr_kurtosis\", \"hr_slope\", \"hbo_std\", \"hbo_slope\", \"hbo_skewness\", \"eda_mean\", \"eda_std\", \"eda_skewness\", \"hrv_mean\", \"hrv_std\", \"hrv_skewness\", \"temp_slope\"]}\n",
    "    stats = {'model':StatFeatures(**stats_cfg), 'output_fn':'compute', 'output_dim':len(stats_cfg['cand_features']), 'tune_layers':tune_layers}\n",
    "\n",
    "\n",
    "    comp_cfg = {\n",
    "        'metadata':[conv_cfg, stats_cfg],\n",
    "        'hidden_dim':hdim,\n",
    "        'num_epochs':num_epochs, \n",
    "        'batch_size':batch_size,\n",
    "        'initlr':initlr\n",
    "    }\n",
    "\n",
    "    accuracy = train_and_save_comp_model(comp_cfg, model_list=[conv, stats], dataset=frames, save_filepath=save_filepath, id=f\"{'-'.join([str(int(p)) for p in x])}\", step_size=step_size, gamma=gamma)\n",
    "    print(f'Achieved final accuracy of {accuracy}')\n",
    "    error = 1-accuracy\n",
    "    return error"
   ]
  },
  {
   "cell_type": "code",
   "execution_count": 27,
   "metadata": {},
   "outputs": [
    {
     "name": "stdout",
     "output_type": "stream",
     "text": [
      "Modell initialised. Shapes: \n",
      " torch.Size([64, 1, 129, 5]) torch.Size([64, 4]) 1.5128283500671387\n",
      "No existing log data found for comp_classifier_24-36_hdim36_param23366 in ..\\saved_models\\composite\\tests\\. Creating new one\n",
      "Ready to begin training from 0 epoch. \n",
      " (device(type='cuda', index=0), '..\\\\saved_models\\\\composite\\\\tests\\\\', 'comp_classifier_24-36_hdim36_param23366')\n"
     ]
    },
    {
     "name": "stderr",
     "output_type": "stream",
     "text": [
      "                                                                       "
     ]
    },
    {
     "name": "stdout",
     "output_type": "stream",
     "text": [
      "Achieved final accuracy of 0.7270340919494629\n"
     ]
    },
    {
     "name": "stderr",
     "output_type": "stream",
     "text": [
      "\r"
     ]
    },
    {
     "data": {
      "text/plain": [
       "0.2729659080505371"
      ]
     },
     "execution_count": 27,
     "metadata": {},
     "output_type": "execute_result"
    }
   ],
   "source": [
    "objective_error([24, 36])"
   ]
  },
  {
   "cell_type": "code",
   "execution_count": 9,
   "metadata": {},
   "outputs": [
    {
     "name": "stdout",
     "output_type": "stream",
     "text": [
      "Iteration No: 1 started. Evaluating function at random point.\n",
      "Modell initialised. Shapes: \n",
      " torch.Size([64, 1, 129, 5]) torch.Size([64, 4]) 1.4047021865844727\n",
      "No existing log data found for comp_classifier_17-21_hdim21_param18924 in ..\\saved_models\\composite\\tests\\. Creating new one\n",
      "Ready to begin training from 0 epoch. \n",
      " (device(type='cuda', index=0), '..\\\\saved_models\\\\composite\\\\tests\\\\', 'comp_classifier_17-21_hdim21_param18924')\n"
     ]
    },
    {
     "name": "stderr",
     "output_type": "stream",
     "text": [
      "                                                                       \r"
     ]
    },
    {
     "name": "stdout",
     "output_type": "stream",
     "text": [
      "Achieved final accuracy of 0.7637795209884644\n",
      "Iteration No: 1 ended. Evaluation done at random point.\n",
      "Time taken: 42.5641\n",
      "Function value obtained: 0.2362\n",
      "Current minimum: 0.2362\n",
      "Iteration No: 2 started. Evaluating function at random point.\n",
      "Modell initialised. Shapes: \n",
      " torch.Size([64, 1, 129, 5]) torch.Size([64, 4]) 1.4365307092666626\n",
      "No existing log data found for comp_classifier_47-26_hdim26_param35349 in ..\\saved_models\\composite\\tests\\. Creating new one\n",
      "Ready to begin training from 0 epoch. \n",
      " (device(type='cuda', index=0), '..\\\\saved_models\\\\composite\\\\tests\\\\', 'comp_classifier_47-26_hdim26_param35349')\n"
     ]
    },
    {
     "name": "stderr",
     "output_type": "stream",
     "text": [
      "                                                                       \r"
     ]
    },
    {
     "name": "stdout",
     "output_type": "stream",
     "text": [
      "Achieved final accuracy of 0.7506561875343323\n",
      "Iteration No: 2 ended. Evaluation done at random point.\n",
      "Time taken: 47.3965\n",
      "Function value obtained: 0.2493\n",
      "Current minimum: 0.2362\n",
      "Iteration No: 3 started. Evaluating function at random point.\n",
      "Modell initialised. Shapes: \n",
      " torch.Size([64, 1, 129, 5]) torch.Size([64, 4]) 1.4051246643066406\n",
      "No existing log data found for comp_classifier_20-19_hdim19_param20448 in ..\\saved_models\\composite\\tests\\. Creating new one\n",
      "Ready to begin training from 0 epoch. \n",
      " (device(type='cuda', index=0), '..\\\\saved_models\\\\composite\\\\tests\\\\', 'comp_classifier_20-19_hdim19_param20448')\n"
     ]
    },
    {
     "name": "stderr",
     "output_type": "stream",
     "text": [
      "                                                                       \r"
     ]
    },
    {
     "name": "stdout",
     "output_type": "stream",
     "text": [
      "Achieved final accuracy of 0.6745406985282898\n",
      "Iteration No: 3 ended. Evaluation done at random point.\n",
      "Time taken: 48.3393\n",
      "Function value obtained: 0.3255\n",
      "Current minimum: 0.2362\n",
      "Iteration No: 4 started. Evaluating function at random point.\n",
      "Modell initialised. Shapes: \n",
      " torch.Size([64, 1, 129, 5]) torch.Size([64, 4]) 1.372795581817627\n",
      "No existing log data found for comp_classifier_11-25_hdim25_param15840 in ..\\saved_models\\composite\\tests\\. Creating new one\n",
      "Ready to begin training from 0 epoch. \n",
      " (device(type='cuda', index=0), '..\\\\saved_models\\\\composite\\\\tests\\\\', 'comp_classifier_11-25_hdim25_param15840')\n"
     ]
    },
    {
     "name": "stderr",
     "output_type": "stream",
     "text": [
      "                                                                       \r"
     ]
    },
    {
     "name": "stdout",
     "output_type": "stream",
     "text": [
      "Achieved final accuracy of 0.7795275449752808\n",
      "Iteration No: 4 ended. Evaluation done at random point.\n",
      "Time taken: 47.7208\n",
      "Function value obtained: 0.2205\n",
      "Current minimum: 0.2205\n",
      "Iteration No: 5 started. Evaluating function at random point.\n",
      "Modell initialised. Shapes: \n",
      " torch.Size([64, 1, 129, 5]) torch.Size([64, 4]) 1.4384537935256958\n",
      "No existing log data found for comp_classifier_9-29_hdim29_param14884 in ..\\saved_models\\composite\\tests\\. Creating new one\n",
      "Ready to begin training from 0 epoch. \n",
      " (device(type='cuda', index=0), '..\\\\saved_models\\\\composite\\\\tests\\\\', 'comp_classifier_9-29_hdim29_param14884')\n"
     ]
    },
    {
     "name": "stderr",
     "output_type": "stream",
     "text": [
      "                                                                       \r"
     ]
    },
    {
     "name": "stdout",
     "output_type": "stream",
     "text": [
      "Achieved final accuracy of 0.7322834730148315\n",
      "Iteration No: 5 ended. Evaluation done at random point.\n",
      "Time taken: 51.8649\n",
      "Function value obtained: 0.2677\n",
      "Current minimum: 0.2205\n",
      "Iteration No: 6 started. Evaluating function at random point.\n",
      "Modell initialised. Shapes: \n",
      " torch.Size([64, 1, 129, 5]) torch.Size([64, 4]) 1.3773794174194336\n",
      "No existing log data found for comp_classifier_43-21_hdim21_param32860 in ..\\saved_models\\composite\\tests\\. Creating new one\n",
      "Ready to begin training from 0 epoch. \n",
      " (device(type='cuda', index=0), '..\\\\saved_models\\\\composite\\\\tests\\\\', 'comp_classifier_43-21_hdim21_param32860')\n"
     ]
    },
    {
     "name": "stderr",
     "output_type": "stream",
     "text": [
      "                                                                       \r"
     ]
    },
    {
     "name": "stdout",
     "output_type": "stream",
     "text": [
      "Achieved final accuracy of 0.7375327944755554\n",
      "Iteration No: 6 ended. Evaluation done at random point.\n",
      "Time taken: 53.5898\n",
      "Function value obtained: 0.2625\n",
      "Current minimum: 0.2205\n",
      "Iteration No: 7 started. Evaluating function at random point.\n",
      "Modell initialised. Shapes: \n",
      " torch.Size([64, 1, 129, 5]) torch.Size([64, 4]) 1.5292773246765137\n",
      "No existing log data found for comp_classifier_24-35_hdim35_param23320 in ..\\saved_models\\composite\\tests\\. Creating new one\n",
      "Ready to begin training from 0 epoch. \n",
      " (device(type='cuda', index=0), '..\\\\saved_models\\\\composite\\\\tests\\\\', 'comp_classifier_24-35_hdim35_param23320')\n"
     ]
    },
    {
     "name": "stderr",
     "output_type": "stream",
     "text": [
      "                                                                       \r"
     ]
    },
    {
     "ename": "KeyboardInterrupt",
     "evalue": "",
     "output_type": "error",
     "traceback": [
      "\u001b[31m---------------------------------------------------------------------------\u001b[39m",
      "\u001b[31mKeyboardInterrupt\u001b[39m                         Traceback (most recent call last)",
      "\u001b[36mCell\u001b[39m\u001b[36m \u001b[39m\u001b[32mIn[9]\u001b[39m\u001b[32m, line 2\u001b[39m\n\u001b[32m      1\u001b[39m torch.cuda.empty_cache()\n\u001b[32m----> \u001b[39m\u001b[32m2\u001b[39m result = \u001b[43mgp_minimize\u001b[49m\u001b[43m(\u001b[49m\n\u001b[32m      3\u001b[39m \u001b[43m    \u001b[49m\u001b[43mobjective_error\u001b[49m\u001b[43m,\u001b[49m\u001b[43m \u001b[49m\u001b[38;5;66;43;03m# the objective function which is observed n_calls times\u001b[39;49;00m\n\u001b[32m      4\u001b[39m \u001b[43m    \u001b[49m\u001b[43mparam_space\u001b[49m\u001b[43m,\u001b[49m\u001b[43m \u001b[49m\u001b[38;5;66;43;03m# the parameter search space\u001b[39;49;00m\n\u001b[32m      5\u001b[39m \u001b[43m    \u001b[49m\u001b[43mn_calls\u001b[49m\u001b[43m=\u001b[49m\u001b[32;43m50\u001b[39;49m\u001b[43m,\u001b[49m\u001b[43m \u001b[49m\u001b[38;5;66;43;03m# total function calls\u001b[39;49;00m\n\u001b[32m      6\u001b[39m \u001b[43m    \u001b[49m\u001b[43mn_initial_points\u001b[49m\u001b[43m=\u001b[49m\u001b[32;43m30\u001b[39;49m\u001b[43m,\u001b[49m\u001b[43m \u001b[49m\u001b[38;5;66;43;03m# number of observations before approximating the function\u001b[39;49;00m\n\u001b[32m      7\u001b[39m \u001b[43m    \u001b[49m\u001b[43mrandom_state\u001b[49m\u001b[43m=\u001b[49m\u001b[32;43m7\u001b[39;49m\u001b[43m,\u001b[49m\u001b[43m \u001b[49m\n\u001b[32m      8\u001b[39m \u001b[43m    \u001b[49m\u001b[43mverbose\u001b[49m\u001b[43m=\u001b[49m\u001b[38;5;28;43;01mTrue\u001b[39;49;00m\u001b[43m,\u001b[49m\n\u001b[32m      9\u001b[39m \u001b[43m    \u001b[49m\u001b[43mcallback\u001b[49m\u001b[43m=\u001b[49m\u001b[43m[\u001b[49m\u001b[43mcheckpoint_saver\u001b[49m\u001b[43m]\u001b[49m\u001b[43m,\u001b[49m\n\u001b[32m     10\u001b[39m \u001b[43m    \u001b[49m\u001b[43mnoise\u001b[49m\u001b[43m=\u001b[49m\u001b[32;43m1e-10\u001b[39;49m\n\u001b[32m     11\u001b[39m \u001b[43m)\u001b[49m\n",
      "\u001b[36mFile \u001b[39m\u001b[32mc:\\Users\\arthu\\AppData\\Local\\Programs\\Python\\Python311\\Lib\\site-packages\\skopt\\optimizer\\gp.py:281\u001b[39m, in \u001b[36mgp_minimize\u001b[39m\u001b[34m(func, dimensions, base_estimator, n_calls, n_random_starts, n_initial_points, initial_point_generator, acq_func, acq_optimizer, x0, y0, random_state, verbose, callback, n_points, n_restarts_optimizer, xi, kappa, noise, n_jobs, model_queue_size, space_constraint)\u001b[39m\n\u001b[32m    273\u001b[39m \u001b[38;5;28;01mif\u001b[39;00m base_estimator \u001b[38;5;129;01mis\u001b[39;00m \u001b[38;5;28;01mNone\u001b[39;00m:\n\u001b[32m    274\u001b[39m     base_estimator = cook_estimator(\n\u001b[32m    275\u001b[39m         \u001b[33m\"\u001b[39m\u001b[33mGP\u001b[39m\u001b[33m\"\u001b[39m,\n\u001b[32m    276\u001b[39m         space=space,\n\u001b[32m    277\u001b[39m         random_state=rng.randint(\u001b[32m0\u001b[39m, np.iinfo(np.int32).max),\n\u001b[32m    278\u001b[39m         noise=noise,\n\u001b[32m    279\u001b[39m     )\n\u001b[32m--> \u001b[39m\u001b[32m281\u001b[39m \u001b[38;5;28;01mreturn\u001b[39;00m \u001b[43mbase_minimize\u001b[49m\u001b[43m(\u001b[49m\n\u001b[32m    282\u001b[39m \u001b[43m    \u001b[49m\u001b[43mfunc\u001b[49m\u001b[43m,\u001b[49m\n\u001b[32m    283\u001b[39m \u001b[43m    \u001b[49m\u001b[43mspace\u001b[49m\u001b[43m,\u001b[49m\n\u001b[32m    284\u001b[39m \u001b[43m    \u001b[49m\u001b[43mbase_estimator\u001b[49m\u001b[43m=\u001b[49m\u001b[43mbase_estimator\u001b[49m\u001b[43m,\u001b[49m\n\u001b[32m    285\u001b[39m \u001b[43m    \u001b[49m\u001b[43macq_func\u001b[49m\u001b[43m=\u001b[49m\u001b[43macq_func\u001b[49m\u001b[43m,\u001b[49m\n\u001b[32m    286\u001b[39m \u001b[43m    \u001b[49m\u001b[43mxi\u001b[49m\u001b[43m=\u001b[49m\u001b[43mxi\u001b[49m\u001b[43m,\u001b[49m\n\u001b[32m    287\u001b[39m \u001b[43m    \u001b[49m\u001b[43mkappa\u001b[49m\u001b[43m=\u001b[49m\u001b[43mkappa\u001b[49m\u001b[43m,\u001b[49m\n\u001b[32m    288\u001b[39m \u001b[43m    \u001b[49m\u001b[43macq_optimizer\u001b[49m\u001b[43m=\u001b[49m\u001b[43macq_optimizer\u001b[49m\u001b[43m,\u001b[49m\n\u001b[32m    289\u001b[39m \u001b[43m    \u001b[49m\u001b[43mn_calls\u001b[49m\u001b[43m=\u001b[49m\u001b[43mn_calls\u001b[49m\u001b[43m,\u001b[49m\n\u001b[32m    290\u001b[39m \u001b[43m    \u001b[49m\u001b[43mn_points\u001b[49m\u001b[43m=\u001b[49m\u001b[43mn_points\u001b[49m\u001b[43m,\u001b[49m\n\u001b[32m    291\u001b[39m \u001b[43m    \u001b[49m\u001b[43mn_random_starts\u001b[49m\u001b[43m=\u001b[49m\u001b[43mn_random_starts\u001b[49m\u001b[43m,\u001b[49m\n\u001b[32m    292\u001b[39m \u001b[43m    \u001b[49m\u001b[43mn_initial_points\u001b[49m\u001b[43m=\u001b[49m\u001b[43mn_initial_points\u001b[49m\u001b[43m,\u001b[49m\n\u001b[32m    293\u001b[39m \u001b[43m    \u001b[49m\u001b[43minitial_point_generator\u001b[49m\u001b[43m=\u001b[49m\u001b[43minitial_point_generator\u001b[49m\u001b[43m,\u001b[49m\n\u001b[32m    294\u001b[39m \u001b[43m    \u001b[49m\u001b[43mn_restarts_optimizer\u001b[49m\u001b[43m=\u001b[49m\u001b[43mn_restarts_optimizer\u001b[49m\u001b[43m,\u001b[49m\n\u001b[32m    295\u001b[39m \u001b[43m    \u001b[49m\u001b[43mx0\u001b[49m\u001b[43m=\u001b[49m\u001b[43mx0\u001b[49m\u001b[43m,\u001b[49m\n\u001b[32m    296\u001b[39m \u001b[43m    \u001b[49m\u001b[43my0\u001b[49m\u001b[43m=\u001b[49m\u001b[43my0\u001b[49m\u001b[43m,\u001b[49m\n\u001b[32m    297\u001b[39m \u001b[43m    \u001b[49m\u001b[43mrandom_state\u001b[49m\u001b[43m=\u001b[49m\u001b[43mrng\u001b[49m\u001b[43m,\u001b[49m\n\u001b[32m    298\u001b[39m \u001b[43m    \u001b[49m\u001b[43mverbose\u001b[49m\u001b[43m=\u001b[49m\u001b[43mverbose\u001b[49m\u001b[43m,\u001b[49m\n\u001b[32m    299\u001b[39m \u001b[43m    \u001b[49m\u001b[43mspace_constraint\u001b[49m\u001b[43m=\u001b[49m\u001b[43mspace_constraint\u001b[49m\u001b[43m,\u001b[49m\n\u001b[32m    300\u001b[39m \u001b[43m    \u001b[49m\u001b[43mcallback\u001b[49m\u001b[43m=\u001b[49m\u001b[43mcallback\u001b[49m\u001b[43m,\u001b[49m\n\u001b[32m    301\u001b[39m \u001b[43m    \u001b[49m\u001b[43mn_jobs\u001b[49m\u001b[43m=\u001b[49m\u001b[43mn_jobs\u001b[49m\u001b[43m,\u001b[49m\n\u001b[32m    302\u001b[39m \u001b[43m    \u001b[49m\u001b[43mmodel_queue_size\u001b[49m\u001b[43m=\u001b[49m\u001b[43mmodel_queue_size\u001b[49m\u001b[43m,\u001b[49m\n\u001b[32m    303\u001b[39m \u001b[43m\u001b[49m\u001b[43m)\u001b[49m\n",
      "\u001b[36mFile \u001b[39m\u001b[32mc:\\Users\\arthu\\AppData\\Local\\Programs\\Python\\Python311\\Lib\\site-packages\\skopt\\optimizer\\base.py:332\u001b[39m, in \u001b[36mbase_minimize\u001b[39m\u001b[34m(func, dimensions, base_estimator, n_calls, n_random_starts, n_initial_points, initial_point_generator, acq_func, acq_optimizer, x0, y0, random_state, verbose, callback, n_points, n_restarts_optimizer, xi, kappa, n_jobs, model_queue_size, space_constraint)\u001b[39m\n\u001b[32m    330\u001b[39m \u001b[38;5;28;01mfor\u001b[39;00m _ \u001b[38;5;129;01min\u001b[39;00m \u001b[38;5;28mrange\u001b[39m(n_calls):\n\u001b[32m    331\u001b[39m     next_x = optimizer.ask()\n\u001b[32m--> \u001b[39m\u001b[32m332\u001b[39m     next_y = \u001b[43mfunc\u001b[49m\u001b[43m(\u001b[49m\u001b[43mnext_x\u001b[49m\u001b[43m)\u001b[49m\n\u001b[32m    333\u001b[39m     result = optimizer.tell(next_x, next_y)\n\u001b[32m    334\u001b[39m     result.specs = specs\n",
      "\u001b[36mCell\u001b[39m\u001b[36m \u001b[39m\u001b[32mIn[8]\u001b[39m\u001b[32m, line 38\u001b[39m, in \u001b[36mobjective_error\u001b[39m\u001b[34m(x)\u001b[39m\n\u001b[32m     27\u001b[39m stats = {\u001b[33m'\u001b[39m\u001b[33mmodel\u001b[39m\u001b[33m'\u001b[39m:StatFeatures(**stats_cfg), \u001b[33m'\u001b[39m\u001b[33moutput_fn\u001b[39m\u001b[33m'\u001b[39m:\u001b[33m'\u001b[39m\u001b[33mcompute\u001b[39m\u001b[33m'\u001b[39m, \u001b[33m'\u001b[39m\u001b[33moutput_dim\u001b[39m\u001b[33m'\u001b[39m:\u001b[38;5;28mlen\u001b[39m(stats_cfg[\u001b[33m'\u001b[39m\u001b[33mcand_features\u001b[39m\u001b[33m'\u001b[39m]), \u001b[33m'\u001b[39m\u001b[33mtune_layers\u001b[39m\u001b[33m'\u001b[39m:tune_layers}\n\u001b[32m     30\u001b[39m comp_cfg = {\n\u001b[32m     31\u001b[39m     \u001b[33m'\u001b[39m\u001b[33mmetadata\u001b[39m\u001b[33m'\u001b[39m:[conv_cfg, stats_cfg],\n\u001b[32m     32\u001b[39m     \u001b[33m'\u001b[39m\u001b[33mhidden_dim\u001b[39m\u001b[33m'\u001b[39m:hdim,\n\u001b[32m   (...)\u001b[39m\u001b[32m     35\u001b[39m     \u001b[33m'\u001b[39m\u001b[33minitlr\u001b[39m\u001b[33m'\u001b[39m:initlr\n\u001b[32m     36\u001b[39m }\n\u001b[32m---> \u001b[39m\u001b[32m38\u001b[39m accuracy = \u001b[43mtrain_and_save_comp_model\u001b[49m\u001b[43m(\u001b[49m\u001b[43mcomp_cfg\u001b[49m\u001b[43m,\u001b[49m\u001b[43m \u001b[49m\u001b[43mmodel_list\u001b[49m\u001b[43m=\u001b[49m\u001b[43m[\u001b[49m\u001b[43mconv\u001b[49m\u001b[43m,\u001b[49m\u001b[43m \u001b[49m\u001b[43mstats\u001b[49m\u001b[43m]\u001b[49m\u001b[43m,\u001b[49m\u001b[43m \u001b[49m\u001b[43mdataset\u001b[49m\u001b[43m=\u001b[49m\u001b[43mframes\u001b[49m\u001b[43m,\u001b[49m\u001b[43m \u001b[49m\u001b[43msave_filepath\u001b[49m\u001b[43m=\u001b[49m\u001b[43msave_filepath\u001b[49m\u001b[43m,\u001b[49m\u001b[43m \u001b[49m\u001b[38;5;28;43mid\u001b[39;49m\u001b[43m=\u001b[49m\u001b[33;43mf\u001b[39;49m\u001b[33;43m\"\u001b[39;49m\u001b[38;5;132;43;01m{\u001b[39;49;00m\u001b[33;43m'\u001b[39;49m\u001b[33;43m-\u001b[39;49m\u001b[33;43m'\u001b[39;49m\u001b[43m.\u001b[49m\u001b[43mjoin\u001b[49m\u001b[43m(\u001b[49m\u001b[43m[\u001b[49m\u001b[38;5;28;43mstr\u001b[39;49m\u001b[43m(\u001b[49m\u001b[38;5;28;43mint\u001b[39;49m\u001b[43m(\u001b[49m\u001b[43mp\u001b[49m\u001b[43m)\u001b[49m\u001b[43m)\u001b[49m\u001b[38;5;250;43m \u001b[39;49m\u001b[38;5;28;43;01mfor\u001b[39;49;00m\u001b[38;5;250;43m \u001b[39;49m\u001b[43mp\u001b[49m\u001b[38;5;250;43m \u001b[39;49m\u001b[38;5;129;43;01min\u001b[39;49;00m\u001b[38;5;250;43m \u001b[39;49m\u001b[43mx\u001b[49m\u001b[43m]\u001b[49m\u001b[43m)\u001b[49m\u001b[38;5;132;43;01m}\u001b[39;49;00m\u001b[33;43m\"\u001b[39;49m\u001b[43m)\u001b[49m\n\u001b[32m     39\u001b[39m \u001b[38;5;28mprint\u001b[39m(\u001b[33mf\u001b[39m\u001b[33m'\u001b[39m\u001b[33mAchieved final accuracy of \u001b[39m\u001b[38;5;132;01m{\u001b[39;00maccuracy\u001b[38;5;132;01m}\u001b[39;00m\u001b[33m'\u001b[39m)\n\u001b[32m     40\u001b[39m error = \u001b[32m1\u001b[39m-accuracy\n",
      "\u001b[36mFile \u001b[39m\u001b[32mc:\\Users\\arthu\\repo\\msthesis\\model_training\\../modules\\composite_training_loop.py:142\u001b[39m, in \u001b[36mtrain_and_save_comp_model\u001b[39m\u001b[34m(config, model_list, dataset, save_filepath, id)\u001b[39m\n\u001b[32m    139\u001b[39m target = target.to(device)\n\u001b[32m    141\u001b[39m optimizer.zero_grad()\n\u001b[32m--> \u001b[39m\u001b[32m142\u001b[39m encoded = \u001b[43mclassifier\u001b[49m\u001b[43m.\u001b[49m\u001b[43mencode\u001b[49m\u001b[43m(\u001b[49m\u001b[43mdata\u001b[49m\u001b[43m)\u001b[49m\n\u001b[32m    143\u001b[39m classification = classifier.classify(encoded)\n\u001b[32m    144\u001b[39m loss = criterion(classification, target.float())\n",
      "\u001b[36mFile \u001b[39m\u001b[32mc:\\Users\\arthu\\repo\\msthesis\\model_training\\../modules\\composite_model.py:44\u001b[39m, in \u001b[36mCompModel.encode\u001b[39m\u001b[34m(self, x)\u001b[39m\n\u001b[32m     43\u001b[39m \u001b[38;5;28;01mdef\u001b[39;00m\u001b[38;5;250m \u001b[39m\u001b[34mencode\u001b[39m(\u001b[38;5;28mself\u001b[39m, x):\n\u001b[32m---> \u001b[39m\u001b[32m44\u001b[39m     outputs = \u001b[43m[\u001b[49m\u001b[38;5;28;43mself\u001b[39;49m\u001b[43m.\u001b[49m\u001b[43mflatten\u001b[49m\u001b[43m(\u001b[49m\u001b[43mmodel\u001b[49m\u001b[43m(\u001b[49m\u001b[43mx\u001b[49m\u001b[43m)\u001b[49m\u001b[43m)\u001b[49m\u001b[43m \u001b[49m\u001b[38;5;28;43;01mfor\u001b[39;49;00m\u001b[43m \u001b[49m\u001b[43mmodel\u001b[49m\u001b[43m \u001b[49m\u001b[38;5;129;43;01min\u001b[39;49;00m\u001b[43m \u001b[49m\u001b[38;5;28;43mself\u001b[39;49m\u001b[43m.\u001b[49m\u001b[43mmodel_list\u001b[49m\u001b[43m]\u001b[49m\n\u001b[32m     45\u001b[39m     concat = torch.cat(outputs, dim=-\u001b[32m1\u001b[39m)\n\u001b[32m     46\u001b[39m     \u001b[38;5;28;01mreturn\u001b[39;00m concat\n",
      "\u001b[36mFile \u001b[39m\u001b[32mc:\\Users\\arthu\\repo\\msthesis\\model_training\\../modules\\composite_model.py:44\u001b[39m, in \u001b[36m<listcomp>\u001b[39m\u001b[34m(.0)\u001b[39m\n\u001b[32m     43\u001b[39m \u001b[38;5;28;01mdef\u001b[39;00m\u001b[38;5;250m \u001b[39m\u001b[34mencode\u001b[39m(\u001b[38;5;28mself\u001b[39m, x):\n\u001b[32m---> \u001b[39m\u001b[32m44\u001b[39m     outputs = [\u001b[38;5;28mself\u001b[39m.flatten(\u001b[43mmodel\u001b[49m\u001b[43m(\u001b[49m\u001b[43mx\u001b[49m\u001b[43m)\u001b[49m) \u001b[38;5;28;01mfor\u001b[39;00m model \u001b[38;5;129;01min\u001b[39;00m \u001b[38;5;28mself\u001b[39m.model_list]\n\u001b[32m     45\u001b[39m     concat = torch.cat(outputs, dim=-\u001b[32m1\u001b[39m)\n\u001b[32m     46\u001b[39m     \u001b[38;5;28;01mreturn\u001b[39;00m concat\n",
      "\u001b[36mFile \u001b[39m\u001b[32mc:\\Users\\arthu\\AppData\\Local\\Programs\\Python\\Python311\\Lib\\site-packages\\torch\\nn\\modules\\module.py:1736\u001b[39m, in \u001b[36mModule._wrapped_call_impl\u001b[39m\u001b[34m(self, *args, **kwargs)\u001b[39m\n\u001b[32m   1734\u001b[39m     \u001b[38;5;28;01mreturn\u001b[39;00m \u001b[38;5;28mself\u001b[39m._compiled_call_impl(*args, **kwargs)  \u001b[38;5;66;03m# type: ignore[misc]\u001b[39;00m\n\u001b[32m   1735\u001b[39m \u001b[38;5;28;01melse\u001b[39;00m:\n\u001b[32m-> \u001b[39m\u001b[32m1736\u001b[39m     \u001b[38;5;28;01mreturn\u001b[39;00m \u001b[38;5;28;43mself\u001b[39;49m\u001b[43m.\u001b[49m\u001b[43m_call_impl\u001b[49m\u001b[43m(\u001b[49m\u001b[43m*\u001b[49m\u001b[43margs\u001b[49m\u001b[43m,\u001b[49m\u001b[43m \u001b[49m\u001b[43m*\u001b[49m\u001b[43m*\u001b[49m\u001b[43mkwargs\u001b[49m\u001b[43m)\u001b[49m\n",
      "\u001b[36mFile \u001b[39m\u001b[32mc:\\Users\\arthu\\AppData\\Local\\Programs\\Python\\Python311\\Lib\\site-packages\\torch\\nn\\modules\\module.py:1747\u001b[39m, in \u001b[36mModule._call_impl\u001b[39m\u001b[34m(self, *args, **kwargs)\u001b[39m\n\u001b[32m   1742\u001b[39m \u001b[38;5;66;03m# If we don't have any hooks, we want to skip the rest of the logic in\u001b[39;00m\n\u001b[32m   1743\u001b[39m \u001b[38;5;66;03m# this function, and just call forward.\u001b[39;00m\n\u001b[32m   1744\u001b[39m \u001b[38;5;28;01mif\u001b[39;00m \u001b[38;5;129;01mnot\u001b[39;00m (\u001b[38;5;28mself\u001b[39m._backward_hooks \u001b[38;5;129;01mor\u001b[39;00m \u001b[38;5;28mself\u001b[39m._backward_pre_hooks \u001b[38;5;129;01mor\u001b[39;00m \u001b[38;5;28mself\u001b[39m._forward_hooks \u001b[38;5;129;01mor\u001b[39;00m \u001b[38;5;28mself\u001b[39m._forward_pre_hooks\n\u001b[32m   1745\u001b[39m         \u001b[38;5;129;01mor\u001b[39;00m _global_backward_pre_hooks \u001b[38;5;129;01mor\u001b[39;00m _global_backward_hooks\n\u001b[32m   1746\u001b[39m         \u001b[38;5;129;01mor\u001b[39;00m _global_forward_hooks \u001b[38;5;129;01mor\u001b[39;00m _global_forward_pre_hooks):\n\u001b[32m-> \u001b[39m\u001b[32m1747\u001b[39m     \u001b[38;5;28;01mreturn\u001b[39;00m \u001b[43mforward_call\u001b[49m\u001b[43m(\u001b[49m\u001b[43m*\u001b[49m\u001b[43margs\u001b[49m\u001b[43m,\u001b[49m\u001b[43m \u001b[49m\u001b[43m*\u001b[49m\u001b[43m*\u001b[49m\u001b[43mkwargs\u001b[49m\u001b[43m)\u001b[49m\n\u001b[32m   1749\u001b[39m result = \u001b[38;5;28;01mNone\u001b[39;00m\n\u001b[32m   1750\u001b[39m called_always_called_hooks = \u001b[38;5;28mset\u001b[39m()\n",
      "\u001b[36mFile \u001b[39m\u001b[32mc:\\Users\\arthu\\repo\\msthesis\\model_training\\../modules\\wrapper_class.py:29\u001b[39m, in \u001b[36mModelHead.forward\u001b[39m\u001b[34m(self, x)\u001b[39m\n\u001b[32m     27\u001b[39m     \u001b[38;5;28;01mreturn\u001b[39;00m \u001b[38;5;28mself\u001b[39m.output_fn(\u001b[38;5;28mself\u001b[39m.model, x)\n\u001b[32m     28\u001b[39m \u001b[38;5;28;01melif\u001b[39;00m \u001b[38;5;28misinstance\u001b[39m(\u001b[38;5;28mself\u001b[39m.output_fn, \u001b[38;5;28mstr\u001b[39m):\n\u001b[32m---> \u001b[39m\u001b[32m29\u001b[39m     \u001b[38;5;28;01mreturn\u001b[39;00m \u001b[38;5;28;43mgetattr\u001b[39;49m\u001b[43m(\u001b[49m\u001b[38;5;28;43mself\u001b[39;49m\u001b[43m.\u001b[49m\u001b[43mmodel\u001b[49m\u001b[43m,\u001b[49m\u001b[43m \u001b[49m\u001b[38;5;28;43mself\u001b[39;49m\u001b[43m.\u001b[49m\u001b[43moutput_fn\u001b[49m\u001b[43m)\u001b[49m\u001b[43m(\u001b[49m\u001b[43mx\u001b[49m\u001b[43m)\u001b[49m\n\u001b[32m     30\u001b[39m \u001b[38;5;28;01melse\u001b[39;00m:\n\u001b[32m     31\u001b[39m     \u001b[38;5;28;01mraise\u001b[39;00m \u001b[38;5;167;01mValueError\u001b[39;00m(\u001b[33m\"\u001b[39m\u001b[33mInvalid output_fn: must be string or callable\u001b[39m\u001b[33m\"\u001b[39m)\n",
      "\u001b[36mFile \u001b[39m\u001b[32mc:\\Users\\arthu\\repo\\msthesis\\model_training\\../modules\\baseline\\encoder_classifier.py:88\u001b[39m, in \u001b[36mConv.encode\u001b[39m\u001b[34m(self, x)\u001b[39m\n\u001b[32m     86\u001b[39m     \u001b[38;5;28mself\u001b[39m.shapes.append(x.shape[-\u001b[32m2\u001b[39m:]) \n\u001b[32m     87\u001b[39m     \u001b[38;5;66;03m#print(f'Encoded tensor of shape: {x.shape}')\u001b[39;00m\n\u001b[32m---> \u001b[39m\u001b[32m88\u001b[39m     x = \u001b[43mencoder\u001b[49m\u001b[43m(\u001b[49m\u001b[43mx\u001b[49m\u001b[43m)\u001b[49m\n\u001b[32m     89\u001b[39m     \u001b[38;5;66;03m#print(f'----> {x.shape}')\u001b[39;00m\n\u001b[32m     91\u001b[39m x = \u001b[38;5;28mself\u001b[39m.flatten(x)\n",
      "\u001b[36mFile \u001b[39m\u001b[32mc:\\Users\\arthu\\AppData\\Local\\Programs\\Python\\Python311\\Lib\\site-packages\\torch\\nn\\modules\\module.py:1736\u001b[39m, in \u001b[36mModule._wrapped_call_impl\u001b[39m\u001b[34m(self, *args, **kwargs)\u001b[39m\n\u001b[32m   1734\u001b[39m     \u001b[38;5;28;01mreturn\u001b[39;00m \u001b[38;5;28mself\u001b[39m._compiled_call_impl(*args, **kwargs)  \u001b[38;5;66;03m# type: ignore[misc]\u001b[39;00m\n\u001b[32m   1735\u001b[39m \u001b[38;5;28;01melse\u001b[39;00m:\n\u001b[32m-> \u001b[39m\u001b[32m1736\u001b[39m     \u001b[38;5;28;01mreturn\u001b[39;00m \u001b[38;5;28;43mself\u001b[39;49m\u001b[43m.\u001b[49m\u001b[43m_call_impl\u001b[49m\u001b[43m(\u001b[49m\u001b[43m*\u001b[49m\u001b[43margs\u001b[49m\u001b[43m,\u001b[49m\u001b[43m \u001b[49m\u001b[43m*\u001b[49m\u001b[43m*\u001b[49m\u001b[43mkwargs\u001b[49m\u001b[43m)\u001b[49m\n",
      "\u001b[36mFile \u001b[39m\u001b[32mc:\\Users\\arthu\\AppData\\Local\\Programs\\Python\\Python311\\Lib\\site-packages\\torch\\nn\\modules\\module.py:1747\u001b[39m, in \u001b[36mModule._call_impl\u001b[39m\u001b[34m(self, *args, **kwargs)\u001b[39m\n\u001b[32m   1742\u001b[39m \u001b[38;5;66;03m# If we don't have any hooks, we want to skip the rest of the logic in\u001b[39;00m\n\u001b[32m   1743\u001b[39m \u001b[38;5;66;03m# this function, and just call forward.\u001b[39;00m\n\u001b[32m   1744\u001b[39m \u001b[38;5;28;01mif\u001b[39;00m \u001b[38;5;129;01mnot\u001b[39;00m (\u001b[38;5;28mself\u001b[39m._backward_hooks \u001b[38;5;129;01mor\u001b[39;00m \u001b[38;5;28mself\u001b[39m._backward_pre_hooks \u001b[38;5;129;01mor\u001b[39;00m \u001b[38;5;28mself\u001b[39m._forward_hooks \u001b[38;5;129;01mor\u001b[39;00m \u001b[38;5;28mself\u001b[39m._forward_pre_hooks\n\u001b[32m   1745\u001b[39m         \u001b[38;5;129;01mor\u001b[39;00m _global_backward_pre_hooks \u001b[38;5;129;01mor\u001b[39;00m _global_backward_hooks\n\u001b[32m   1746\u001b[39m         \u001b[38;5;129;01mor\u001b[39;00m _global_forward_hooks \u001b[38;5;129;01mor\u001b[39;00m _global_forward_pre_hooks):\n\u001b[32m-> \u001b[39m\u001b[32m1747\u001b[39m     \u001b[38;5;28;01mreturn\u001b[39;00m \u001b[43mforward_call\u001b[49m\u001b[43m(\u001b[49m\u001b[43m*\u001b[49m\u001b[43margs\u001b[49m\u001b[43m,\u001b[49m\u001b[43m \u001b[49m\u001b[43m*\u001b[49m\u001b[43m*\u001b[49m\u001b[43mkwargs\u001b[49m\u001b[43m)\u001b[49m\n\u001b[32m   1749\u001b[39m result = \u001b[38;5;28;01mNone\u001b[39;00m\n\u001b[32m   1750\u001b[39m called_always_called_hooks = \u001b[38;5;28mset\u001b[39m()\n",
      "\u001b[36mFile \u001b[39m\u001b[32mc:\\Users\\arthu\\AppData\\Local\\Programs\\Python\\Python311\\Lib\\site-packages\\torch\\nn\\modules\\container.py:250\u001b[39m, in \u001b[36mSequential.forward\u001b[39m\u001b[34m(self, input)\u001b[39m\n\u001b[32m    248\u001b[39m \u001b[38;5;28;01mdef\u001b[39;00m\u001b[38;5;250m \u001b[39m\u001b[34mforward\u001b[39m(\u001b[38;5;28mself\u001b[39m, \u001b[38;5;28minput\u001b[39m):\n\u001b[32m    249\u001b[39m     \u001b[38;5;28;01mfor\u001b[39;00m module \u001b[38;5;129;01min\u001b[39;00m \u001b[38;5;28mself\u001b[39m:\n\u001b[32m--> \u001b[39m\u001b[32m250\u001b[39m         \u001b[38;5;28minput\u001b[39m = \u001b[43mmodule\u001b[49m\u001b[43m(\u001b[49m\u001b[38;5;28;43minput\u001b[39;49m\u001b[43m)\u001b[49m\n\u001b[32m    251\u001b[39m     \u001b[38;5;28;01mreturn\u001b[39;00m \u001b[38;5;28minput\u001b[39m\n",
      "\u001b[36mFile \u001b[39m\u001b[32mc:\\Users\\arthu\\AppData\\Local\\Programs\\Python\\Python311\\Lib\\site-packages\\torch\\nn\\modules\\module.py:1736\u001b[39m, in \u001b[36mModule._wrapped_call_impl\u001b[39m\u001b[34m(self, *args, **kwargs)\u001b[39m\n\u001b[32m   1734\u001b[39m     \u001b[38;5;28;01mreturn\u001b[39;00m \u001b[38;5;28mself\u001b[39m._compiled_call_impl(*args, **kwargs)  \u001b[38;5;66;03m# type: ignore[misc]\u001b[39;00m\n\u001b[32m   1735\u001b[39m \u001b[38;5;28;01melse\u001b[39;00m:\n\u001b[32m-> \u001b[39m\u001b[32m1736\u001b[39m     \u001b[38;5;28;01mreturn\u001b[39;00m \u001b[38;5;28;43mself\u001b[39;49m\u001b[43m.\u001b[49m\u001b[43m_call_impl\u001b[49m\u001b[43m(\u001b[49m\u001b[43m*\u001b[49m\u001b[43margs\u001b[49m\u001b[43m,\u001b[49m\u001b[43m \u001b[49m\u001b[43m*\u001b[49m\u001b[43m*\u001b[49m\u001b[43mkwargs\u001b[49m\u001b[43m)\u001b[49m\n",
      "\u001b[36mFile \u001b[39m\u001b[32mc:\\Users\\arthu\\AppData\\Local\\Programs\\Python\\Python311\\Lib\\site-packages\\torch\\nn\\modules\\module.py:1747\u001b[39m, in \u001b[36mModule._call_impl\u001b[39m\u001b[34m(self, *args, **kwargs)\u001b[39m\n\u001b[32m   1742\u001b[39m \u001b[38;5;66;03m# If we don't have any hooks, we want to skip the rest of the logic in\u001b[39;00m\n\u001b[32m   1743\u001b[39m \u001b[38;5;66;03m# this function, and just call forward.\u001b[39;00m\n\u001b[32m   1744\u001b[39m \u001b[38;5;28;01mif\u001b[39;00m \u001b[38;5;129;01mnot\u001b[39;00m (\u001b[38;5;28mself\u001b[39m._backward_hooks \u001b[38;5;129;01mor\u001b[39;00m \u001b[38;5;28mself\u001b[39m._backward_pre_hooks \u001b[38;5;129;01mor\u001b[39;00m \u001b[38;5;28mself\u001b[39m._forward_hooks \u001b[38;5;129;01mor\u001b[39;00m \u001b[38;5;28mself\u001b[39m._forward_pre_hooks\n\u001b[32m   1745\u001b[39m         \u001b[38;5;129;01mor\u001b[39;00m _global_backward_pre_hooks \u001b[38;5;129;01mor\u001b[39;00m _global_backward_hooks\n\u001b[32m   1746\u001b[39m         \u001b[38;5;129;01mor\u001b[39;00m _global_forward_hooks \u001b[38;5;129;01mor\u001b[39;00m _global_forward_pre_hooks):\n\u001b[32m-> \u001b[39m\u001b[32m1747\u001b[39m     \u001b[38;5;28;01mreturn\u001b[39;00m \u001b[43mforward_call\u001b[49m\u001b[43m(\u001b[49m\u001b[43m*\u001b[49m\u001b[43margs\u001b[49m\u001b[43m,\u001b[49m\u001b[43m \u001b[49m\u001b[43m*\u001b[49m\u001b[43m*\u001b[49m\u001b[43mkwargs\u001b[49m\u001b[43m)\u001b[49m\n\u001b[32m   1749\u001b[39m result = \u001b[38;5;28;01mNone\u001b[39;00m\n\u001b[32m   1750\u001b[39m called_always_called_hooks = \u001b[38;5;28mset\u001b[39m()\n",
      "\u001b[36mFile \u001b[39m\u001b[32mc:\\Users\\arthu\\AppData\\Local\\Programs\\Python\\Python311\\Lib\\site-packages\\torch\\nn\\modules\\conv.py:554\u001b[39m, in \u001b[36mConv2d.forward\u001b[39m\u001b[34m(self, input)\u001b[39m\n\u001b[32m    553\u001b[39m \u001b[38;5;28;01mdef\u001b[39;00m\u001b[38;5;250m \u001b[39m\u001b[34mforward\u001b[39m(\u001b[38;5;28mself\u001b[39m, \u001b[38;5;28minput\u001b[39m: Tensor) -> Tensor:\n\u001b[32m--> \u001b[39m\u001b[32m554\u001b[39m     \u001b[38;5;28;01mreturn\u001b[39;00m \u001b[38;5;28;43mself\u001b[39;49m\u001b[43m.\u001b[49m\u001b[43m_conv_forward\u001b[49m\u001b[43m(\u001b[49m\u001b[38;5;28;43minput\u001b[39;49m\u001b[43m,\u001b[49m\u001b[43m \u001b[49m\u001b[38;5;28;43mself\u001b[39;49m\u001b[43m.\u001b[49m\u001b[43mweight\u001b[49m\u001b[43m,\u001b[49m\u001b[43m \u001b[49m\u001b[38;5;28;43mself\u001b[39;49m\u001b[43m.\u001b[49m\u001b[43mbias\u001b[49m\u001b[43m)\u001b[49m\n",
      "\u001b[36mFile \u001b[39m\u001b[32mc:\\Users\\arthu\\AppData\\Local\\Programs\\Python\\Python311\\Lib\\site-packages\\torch\\nn\\modules\\conv.py:549\u001b[39m, in \u001b[36mConv2d._conv_forward\u001b[39m\u001b[34m(self, input, weight, bias)\u001b[39m\n\u001b[32m    537\u001b[39m \u001b[38;5;28;01mif\u001b[39;00m \u001b[38;5;28mself\u001b[39m.padding_mode != \u001b[33m\"\u001b[39m\u001b[33mzeros\u001b[39m\u001b[33m\"\u001b[39m:\n\u001b[32m    538\u001b[39m     \u001b[38;5;28;01mreturn\u001b[39;00m F.conv2d(\n\u001b[32m    539\u001b[39m         F.pad(\n\u001b[32m    540\u001b[39m             \u001b[38;5;28minput\u001b[39m, \u001b[38;5;28mself\u001b[39m._reversed_padding_repeated_twice, mode=\u001b[38;5;28mself\u001b[39m.padding_mode\n\u001b[32m   (...)\u001b[39m\u001b[32m    547\u001b[39m         \u001b[38;5;28mself\u001b[39m.groups,\n\u001b[32m    548\u001b[39m     )\n\u001b[32m--> \u001b[39m\u001b[32m549\u001b[39m \u001b[38;5;28;01mreturn\u001b[39;00m \u001b[43mF\u001b[49m\u001b[43m.\u001b[49m\u001b[43mconv2d\u001b[49m\u001b[43m(\u001b[49m\n\u001b[32m    550\u001b[39m \u001b[43m    \u001b[49m\u001b[38;5;28;43minput\u001b[39;49m\u001b[43m,\u001b[49m\u001b[43m \u001b[49m\u001b[43mweight\u001b[49m\u001b[43m,\u001b[49m\u001b[43m \u001b[49m\u001b[43mbias\u001b[49m\u001b[43m,\u001b[49m\u001b[43m \u001b[49m\u001b[38;5;28;43mself\u001b[39;49m\u001b[43m.\u001b[49m\u001b[43mstride\u001b[49m\u001b[43m,\u001b[49m\u001b[43m \u001b[49m\u001b[38;5;28;43mself\u001b[39;49m\u001b[43m.\u001b[49m\u001b[43mpadding\u001b[49m\u001b[43m,\u001b[49m\u001b[43m \u001b[49m\u001b[38;5;28;43mself\u001b[39;49m\u001b[43m.\u001b[49m\u001b[43mdilation\u001b[49m\u001b[43m,\u001b[49m\u001b[43m \u001b[49m\u001b[38;5;28;43mself\u001b[39;49m\u001b[43m.\u001b[49m\u001b[43mgroups\u001b[49m\n\u001b[32m    551\u001b[39m \u001b[43m\u001b[49m\u001b[43m)\u001b[49m\n",
      "\u001b[31mKeyboardInterrupt\u001b[39m: "
     ]
    }
   ],
   "source": [
    "torch.cuda.empty_cache()\n",
    "result = gp_minimize(\n",
    "    objective_error, # the objective function which is observed n_calls times\n",
    "    param_space, # the parameter search space\n",
    "    n_calls=50, # total function calls\n",
    "    n_initial_points=30, # number of observations before approximating the function\n",
    "    random_state=7, \n",
    "    verbose=True,\n",
    "    callback=[checkpoint_saver],\n",
    "    noise=1e-10\n",
    ")"
   ]
  },
  {
   "cell_type": "code",
   "execution_count": null,
   "metadata": {},
   "outputs": [],
   "source": [
    "# results\n",
    "res = skopt.load(save_filepath+optim_name+'.pkl')\n",
    "print(f'Hyperparameter space [ldim, hdim]: \\n {res.space}')\n",
    "print(f'Best hyperparameters: {res.x}')\n",
    "print(f'Best objective function value: {res.fun}')\n",
    "worst_index = np.argmax(res.func_vals)\n",
    "print(f'Worst Hyperparameters: {res.x_iters[worst_index]}')\n",
    "print(f'Worst objective function value: {res.func_vals[worst_index]}')"
   ]
  },
  {
   "cell_type": "code",
   "execution_count": 29,
   "metadata": {},
   "outputs": [
    {
     "data": {
      "image/png": "[encoded data removed]",
      "text/plain": [
       "<Figure size 600x400 with 1 Axes>"
      ]
     },
     "metadata": {},
     "output_type": "display_data"
    }
   ],
   "source": [
    "best_model_name = \"comp_classifier_24-36_hdim36_param23366\"\n",
    "best_model_loss = pd.read_csv(save_filepath+best_model_name+'.csv')\n",
    "\n",
    "sns.set_context(\"paper\", font_scale=1.4)\n",
    "sns.set_style(\"whitegrid\")\n",
    "\n",
    "plt.figure(figsize=(6, 4))\n",
    "plt.plot(best_model_loss['Epoch'], best_model_loss['Training Loss'], label='Training Loss', linewidth=2)\n",
    "plt.plot(best_model_loss['Epoch'], best_model_loss['Validation Loss'], label='Validation Loss', linewidth=2)\n",
    "plt.plot(best_model_loss['Epoch'], best_model_loss['Accuracy'], label='Accuracy', linewidth=2)\n",
    "\n",
    "plt.xlabel('Epoch')\n",
    "plt.ylabel('Loss / Accuracy')\n",
    "plt.legend(frameon=False)\n",
    "plt.tight_layout()\n",
    "plt.savefig('training_plot.pdf', dpi=300)  # Save as vector format\n",
    "plt.show()"
   ]
  },
  {
   "cell_type": "code",
   "execution_count": null,
   "metadata": {},
   "outputs": [
    {
     "name": "stderr",
     "output_type": "stream",
     "text": [
      "The system cannot find the file specified.\n"
     ]
    }
   ],
   "source": [
    "# remove tensorboard logs from optimization\n",
    "!rd /s /q f\"{save_filepath}tensorboard_logs\\\\\""
   ]
  }
 ],
 "metadata": {
  "kernelspec": {
   "display_name": "Python 3",
   "language": "python",
   "name": "python3"
  },
  "language_info": {
   "codemirror_mode": {
    "name": "ipython",
    "version": 3
   },
   "file_extension": ".py",
   "mimetype": "text/x-python",
   "name": "python",
   "nbconvert_exporter": "python",
   "pygments_lexer": "ipython3",
   "version": "3.11.0"
  }
 },
 "nbformat": 4,
 "nbformat_minor": 2
}
