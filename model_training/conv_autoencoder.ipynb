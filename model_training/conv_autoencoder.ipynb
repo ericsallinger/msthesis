{
 "cells": [
  {
   "cell_type": "markdown",
   "metadata": {},
   "source": [
    "#### Human activity recognition feature representations with convolutional autoencoder\n",
    "\n",
    "The model architecture and feature engineering methods from the following paper are implemented\n",
    "\n",
    "[On the Role of Features in HAR](https://dl.acm.org/doi/10.1145/3341163.3347727)\n",
    "\n",
    "Classification: probabilistic classification with MLP"
   ]
  },
  {
   "cell_type": "code",
   "execution_count": 2,
   "metadata": {},
   "outputs": [],
   "source": [
    "import torch\n",
    "import os\n",
    "import pandas as pd\n",
    "import json\n",
    "\n",
    "import torch.nn as nn\n",
    "import torch.nn.functional as F\n",
    "import torch.optim as optim\n",
    "from torch.utils.data import Dataset, DataLoader, random_split\n",
    "from torch.optim.lr_scheduler import StepLR, CosineAnnealingLR\n",
    "\n",
    "\n",
    "import csv\n",
    "from tqdm import tqdm\n",
    "\n",
    "import matplotlib.pyplot as plt\n",
    "import seaborn as sns\n",
    "%matplotlib inline"
   ]
  },
  {
   "cell_type": "code",
   "execution_count": 3,
   "metadata": {},
   "outputs": [],
   "source": [
    "import sys\n",
    "module_dir = \"../modules\"\n",
    "if module_dir not in sys.path:\n",
    "    sys.path.append(module_dir)\n",
    "    \n",
    "from frame_dataloader_heavy import WorkloadFrame\n",
    "from convolutional_autoencoder import ConvAE\n",
    "import utils"
   ]
  },
  {
   "cell_type": "markdown",
   "metadata": {},
   "source": [
    "#### Cognitive/Physical workload Dataset\n",
    "\n",
    "Input: consists of individual frames of length context_length * signal_length\n"
   ]
  },
  {
   "cell_type": "code",
   "execution_count": 4,
   "metadata": {},
   "outputs": [
    {
     "name": "stdout",
     "output_type": "stream",
     "text": [
      "Using 4 workers (CPU cores: 8, Available RAM: 0.44GB)\n"
     ]
    }
   ],
   "source": [
    "# retrieve 1-second frames from csv \n",
    "\n",
    "b_size = 64\n",
    "n_workers = utils.optimal_num_workers()\n",
    "\n",
    "# directory to .mat files\n",
    "dir='..\\\\files\\\\'\n",
    "\n",
    "#  file group: 'phys', 'cog', or 'tot'\n",
    "group='phys'\n",
    "\n",
    "# signal channel to resample to: 'temp', 'hrv, 'hr', 'hbo', 'eda'\n",
    "resample='temp'\n",
    "\n",
    "# size of sliding window relative to shortest signal length; always 50% overlap between windows\n",
    "context_length=0.5\n",
    "\n",
    "frames = WorkloadFrame(dir=dir, group=group, resample=resample, context_length=context_length)\n",
    "\n",
    "# split 'frames' dataset into train, val, and test\n",
    "g = torch.Generator().manual_seed(7)\n",
    "\n",
    "frames_trainset, frames_valset, frames_testset = random_split(frames, [0.8, 0.1, 0.1], generator=g)\n",
    "\n",
    "frames_trainloader = DataLoader(frames_trainset, batch_size=b_size, num_workers=n_workers,pin_memory=torch.cuda.is_available(),persistent_workers=True, prefetch_factor=4)\n",
    "frames_valloader = DataLoader(frames_valset, batch_size=b_size, num_workers=n_workers,pin_memory=torch.cuda.is_available(),persistent_workers=True, prefetch_factor=4)\n",
    "frames_testloader = DataLoader(frames_testset, batch_size=b_size, num_workers=n_workers,pin_memory=torch.cuda.is_available(),persistent_workers=True, prefetch_factor=4)\n",
    "\n"
   ]
  },
  {
   "cell_type": "code",
   "execution_count": 5,
   "metadata": {},
   "outputs": [
    {
     "data": {
      "text/plain": [
       "3047"
      ]
     },
     "execution_count": 5,
     "metadata": {},
     "output_type": "execute_result"
    }
   ],
   "source": [
    "frames_trainset.__len__()"
   ]
  },
  {
   "cell_type": "code",
   "execution_count": 6,
   "metadata": {},
   "outputs": [
    {
     "data": {
      "text/plain": [
       "torch.Size([1, 129, 5])"
      ]
     },
     "execution_count": 6,
     "metadata": {},
     "output_type": "execute_result"
    }
   ],
   "source": [
    "frames_trainset.__getitem__(0)[0].shape"
   ]
  },
  {
   "cell_type": "markdown",
   "metadata": {},
   "source": [
    "#### Probing"
   ]
  },
  {
   "cell_type": "code",
   "execution_count": 22,
   "metadata": {},
   "outputs": [
    {
     "data": {
      "text/plain": [
       "(torch.Size([1, 1, 5, 129]),\n",
       " torch.Size([1, 3, 5, 129]),\n",
       " torch.Size([1, 3, 5, 129]))"
      ]
     },
     "execution_count": 22,
     "metadata": {},
     "output_type": "execute_result"
    }
   ],
   "source": [
    "# locate device\n",
    "device = torch.device(\"cuda:0\" if torch.cuda.is_available() else \"cpu\")\n",
    "\n",
    "num_channels = 1\n",
    "cout = 3\n",
    "\n",
    "input_tensor = frames_trainset.__getitem__(0)[0].unsqueeze(0).to(device)\n",
    "\n",
    "\n",
    "conv = nn.Conv2d(num_channels, cout, kernel_size=(3, 3), padding=(1, 1), device=device)\n",
    "batchnorm = nn.BatchNorm2d(cout, device=device)\n",
    "\n",
    "activation_map = conv(input_tensor)\n",
    "n_activation_map = batchnorm(activation_map)\n",
    "\n",
    "input_tensor.shape, activation_map.shape, n_activation_map.shape\n"
   ]
  },
  {
   "cell_type": "code",
   "execution_count": 23,
   "metadata": {},
   "outputs": [
    {
     "data": {
      "image/png": "[encoded data removed]",
      "text/plain": [
       "<Figure size 1500x500 with 3 Axes>"
      ]
     },
     "metadata": {},
     "output_type": "display_data"
    }
   ],
   "source": [
    "fig, axes = plt.subplots(1, 3, figsize=(15, 5))\n",
    "\n",
    "for i in range(3):\n",
    "    axes[i].imshow(activation_map.cpu().detach().numpy()[0, i, :, :])\n",
    "    axes[i].set_title(f\"Channel {i}\")\n",
    "    axes[i].axis(\"off\")  \n",
    "\n",
    "plt.show()"
   ]
  },
  {
   "cell_type": "code",
   "execution_count": 24,
   "metadata": {},
   "outputs": [
    {
     "data": {
      "text/plain": [
       "tensor([[ -15.8935,  -35.2172,  -33.9146,  -34.8315,  -35.1869,  -34.7275,\n",
       "          -35.5010,  -35.1993,  -35.1323,  -35.6149,  -35.0675,  -35.9079,\n",
       "          -35.6139,  -33.1536,  -33.4540,  -34.2205,  -34.3674,  -34.2301,\n",
       "          -32.7509,  -30.2770,  -30.2010,  -30.1902,  -29.7715,  -30.1736,\n",
       "          -29.6348,  -30.0606,  -30.1935,  -28.9221,  -29.0505,  -28.8545,\n",
       "          -28.8215,  -28.9958,  -28.4117,  -29.8608,  -30.3823,  -31.1400,\n",
       "          -32.1157,  -31.5871,  -32.7816,  -33.2946,  -34.3118,  -35.4332,\n",
       "          -34.4665,  -35.5002,  -36.5288,  -36.0917,  -37.2191,  -37.6684,\n",
       "          -37.2323,  -38.0810,  -38.2334,  -37.1262,  -37.8418,  -38.2888,\n",
       "          -36.9171,  -37.5723,  -38.2725,  -37.1764,  -35.9412,  -36.6345,\n",
       "          -36.8824,  -35.4497,  -35.6416,  -36.2407,  -35.3252,  -33.2384,\n",
       "          -33.1572,  -33.1979,  -31.3822,  -31.4095,  -31.5764,  -30.2171,\n",
       "          -30.2093,  -30.4483,  -29.3121,  -29.4878,  -29.7241,  -28.7253,\n",
       "          -28.6938,  -28.5442,  -28.1307,  -28.3433,  -28.0217,  -28.8302,\n",
       "          -30.2495,  -29.0949,  -29.0890,  -28.7839,  -28.8091,  -29.1167,\n",
       "          -28.5998,  -29.2508,  -29.6871,  -30.8372,  -31.8022,  -31.8041,\n",
       "          -32.6037,  -32.6968,  -33.3591,  -33.8159,  -34.1010,  -35.0383,\n",
       "          -35.0025,  -35.9356,  -36.6880,  -36.2069,  -36.9020,  -36.9953,\n",
       "          -37.6574,  -38.2510,  -37.2547,  -37.5530,  -38.1897,  -37.2035,\n",
       "          -37.2301,  -37.4387,  -37.0877,  -36.9475,  -36.2261,  -36.3415,\n",
       "          -36.4696,  -35.3416,  -34.9460,  -34.7929,  -35.5149,  -36.0562,\n",
       "          -35.5245,  -35.9766,  -15.1688],\n",
       "        [   4.8364,   -9.9346,  -10.6524,   -9.7662,  -10.7929,  -10.8229,\n",
       "          -10.5363,  -11.2071,  -10.8578,  -10.8311,  -11.3626,  -10.1843,\n",
       "          -10.0561,  -10.0987,   -9.1700,   -9.9179,   -9.3703,   -8.4809,\n",
       "           -7.4328,   -7.0645,   -5.9012,   -6.4440,   -6.2390,   -5.9518,\n",
       "           -6.5321,   -5.7563,   -5.7863,   -5.7844,   -4.9872,   -5.5536,\n",
       "           -5.1453,   -5.3261,   -6.1754,   -5.7778,   -7.3668,   -7.1248,\n",
       "           -7.6248,   -8.5392,   -8.1614,   -9.6963,   -9.4311,   -9.6989,\n",
       "          -10.6400,   -9.9583,  -10.8102,  -11.3090,  -10.8712,  -11.5410,\n",
       "          -11.6525,  -11.2531,  -11.3972,  -11.6743,  -10.9617,  -11.2173,\n",
       "          -11.6339,  -10.8509,  -11.0158,  -10.7385,  -10.6871,  -10.0932,\n",
       "          -10.2067,  -10.4400,   -9.8277,   -9.8575,   -9.4326,   -9.7126,\n",
       "           -8.6507,   -8.7016,   -8.8277,   -7.6939,   -7.8493,   -7.8658,\n",
       "           -7.1698,   -7.0960,   -7.4064,   -6.7016,   -6.8651,   -6.9739,\n",
       "           -6.3951,   -6.7125,   -6.6623,   -6.6050,   -7.4683,   -7.4225,\n",
       "           -7.2738,   -7.8943,   -6.6396,   -7.4082,   -6.8177,   -7.0332,\n",
       "           -7.4526,   -7.3216,   -8.4268,   -8.3845,   -9.0950,   -9.5441,\n",
       "           -9.4545,  -10.4148,  -10.1482,  -10.8967,  -11.0192,  -11.0328,\n",
       "          -11.8915,  -11.4624,  -11.8510,  -12.1185,  -11.6497,  -12.5315,\n",
       "          -12.0837,  -12.1530,  -12.4330,  -11.7659,  -11.7010,  -11.9088,\n",
       "          -11.1667,  -11.3245,  -11.0728,  -10.6248,  -10.8147,  -10.1904,\n",
       "          -10.0369,  -10.0118,   -9.5146,  -10.1458,   -9.9482,  -10.2733,\n",
       "          -10.5756,  -10.1165,  -11.3945],\n",
       "        [-139.8306, -332.8409, -332.5738, -330.6153, -326.9830, -320.7430,\n",
       "         -318.1904, -318.1903, -317.8739, -318.2957, -318.8374, -320.5031,\n",
       "         -324.4870, -326.0501, -325.8139, -327.0568, -328.5298, -330.6624,\n",
       "         -332.1842, -334.4570, -333.7627, -329.1229, -322.1870, -319.3632,\n",
       "         -320.0536, -318.2598, -314.9026, -310.7522, -307.0078, -304.0710,\n",
       "         -301.0815, -299.4328, -296.7895, -292.0914, -287.3504, -283.8043,\n",
       "         -282.3430, -280.9371, -279.6607, -279.5059, -278.9609, -278.7456,\n",
       "         -279.7804, -280.6689, -284.4889, -292.4395, -303.4091, -311.5135,\n",
       "         -316.2013, -321.0063, -325.7158, -329.6348, -338.2724, -351.7100,\n",
       "         -362.5947, -371.2642, -380.5099, -388.3947, -396.4294, -402.4747,\n",
       "         -408.6354, -412.1561, -411.7704, -411.9646, -404.1252, -390.1529,\n",
       "         -376.9940, -365.8480, -354.5826, -345.9417, -340.4805, -333.2705,\n",
       "         -323.9483, -316.5525, -312.6690, -310.5129, -307.5518, -302.3366,\n",
       "         -298.1032, -296.3023, -294.6537, -293.1451, -292.1351, -290.0392,\n",
       "         -287.6682, -285.1548, -282.4289, -280.8186, -279.2155, -278.7416,\n",
       "         -278.2663, -278.1256, -278.5361, -279.9089, -282.7158, -285.3223,\n",
       "         -288.4542, -291.9092, -293.1888, -292.9923, -295.0016, -299.8203,\n",
       "         -304.6808, -308.5378, -313.5288, -315.4699, -315.9473, -315.8853,\n",
       "         -313.4828, -311.2159, -308.2800, -304.8650, -302.1116, -298.9247,\n",
       "         -295.2497, -292.1397, -287.9927, -285.4696, -284.3614, -282.9026,\n",
       "         -281.7515, -280.0125, -279.4118, -280.1567, -280.9396, -282.0537,\n",
       "         -283.1623, -287.3519, -383.3232],\n",
       "        [-141.6313, -315.3457, -313.2780, -310.5670, -307.2242, -304.9963,\n",
       "         -302.7977, -302.9088, -303.0644, -303.8628, -305.4432, -307.2617,\n",
       "         -308.7816, -310.4006, -311.3375, -312.4522, -313.8125, -315.2446,\n",
       "         -316.7004, -315.4286, -313.3944, -309.8578, -307.0966, -304.6634,\n",
       "         -302.8202, -300.9593, -297.8643, -294.7168, -291.7154, -289.3591,\n",
       "         -286.9356, -284.1034, -280.8703, -277.2426, -274.3544, -271.4994,\n",
       "         -270.3175, -269.1866, -268.5135, -268.1806, -267.9326, -269.1553,\n",
       "         -270.2541, -274.4216, -280.1562, -287.1789, -293.7263, -300.4628,\n",
       "         -304.9037, -309.3460, -314.7180, -322.5775, -330.8788, -340.3753,\n",
       "         -349.8687, -357.7466, -365.0813, -372.2204, -377.5374, -383.1114,\n",
       "         -385.2412, -386.3896, -384.8426, -377.5742, -370.1476, -359.0575,\n",
       "         -348.0687, -338.6756, -330.8919, -323.6162, -317.0158, -310.5011,\n",
       "         -304.7209, -300.0298, -296.4597, -293.2960, -290.2092, -287.1418,\n",
       "         -284.3672, -282.5266, -281.1624, -279.7988, -277.8734, -275.9520,\n",
       "         -273.7384, -271.7032, -269.8630, -268.8969, -267.8390, -267.6174,\n",
       "         -267.5329, -267.8879, -269.2422, -270.6322, -273.0793, -275.5522,\n",
       "         -277.7953, -279.3837, -280.6969, -283.1676, -285.4080, -289.3073,\n",
       "         -293.1448, -296.5931, -298.2456, -300.0031, -299.2002, -298.1307,\n",
       "         -296.1193, -293.5437, -290.9332, -288.1070, -285.2877, -282.3500,\n",
       "         -279.3541, -276.3537, -274.4050, -272.2830, -271.1920, -270.0760,\n",
       "         -269.1140, -268.9179, -268.7738, -269.6812, -270.6070, -272.6193,\n",
       "         -276.1107, -280.1859, -137.9151],\n",
       "        [  34.6001,  -96.7293,  -96.4907,  -96.5509,  -95.9260,  -94.5601,\n",
       "          -92.9947,  -92.9463,  -92.8299,  -92.9045,  -92.9540,  -93.1013,\n",
       "          -93.8030,  -94.7634,  -94.9736,  -95.0339,  -95.2595,  -95.7347,\n",
       "          -96.2559,  -96.5773,  -97.5090,  -96.9070,  -95.2332,  -93.5670,\n",
       "          -93.4684,  -93.7452,  -92.9744,  -91.9417,  -90.9870,  -90.2357,\n",
       "          -89.3927,  -88.8265,  -88.4523,  -87.6347,  -86.3485,  -84.9394,\n",
       "          -84.5176,  -84.0049,  -83.7326,  -83.5115,  -83.3265,  -83.3302,\n",
       "          -83.0302,  -83.6200,  -83.8233,  -84.9706,  -87.5116,  -90.4553,\n",
       "          -91.6771,  -92.8965,  -94.1216,  -95.1199,  -96.1542,  -99.1573,\n",
       "         -102.5162, -104.8742, -107.0944, -109.2104, -111.0906, -113.3238,\n",
       "         -114.4456, -116.0572, -116.5303, -116.2492, -116.3586, -113.0673,\n",
       "         -109.5672, -106.6400, -103.7259, -101.0280,  -99.4279,  -98.0243,\n",
       "          -96.0520,  -93.6658,  -92.0452,  -91.5056,  -91.1372,  -90.0125,\n",
       "          -88.6331,  -87.9002,  -87.5243,  -87.1483,  -86.7707,  -86.5324,\n",
       "          -85.9021,  -85.1379,  -84.4765,  -84.0528,  -83.4980,  -83.3579,\n",
       "          -83.1478,  -83.1024,  -83.1518,  -83.1335,  -83.7450,  -84.3026,\n",
       "          -85.0045,  -85.8648,  -86.5956,  -86.7470,  -86.4106,  -87.4819,\n",
       "          -88.7172,  -89.8203,  -90.8011,  -92.0474,  -92.0906,  -92.3800,\n",
       "          -92.0506,  -91.4003,  -90.7515,  -89.9949,  -89.2628,  -88.4740,\n",
       "          -87.6851,  -86.8787,  -86.0298,  -84.9206,  -84.6393,  -84.3668,\n",
       "          -84.0660,  -83.6956,  -83.2579,  -83.4511,  -83.5854,  -83.8695,\n",
       "          -83.9872,  -84.3671,  -77.6193]], device='cuda:0',\n",
       "       grad_fn=<SliceBackward0>)"
      ]
     },
     "execution_count": 24,
     "metadata": {},
     "output_type": "execute_result"
    }
   ],
   "source": [
    "activation_map[0, 0, :, :]"
   ]
  },
  {
   "cell_type": "code",
   "execution_count": 25,
   "metadata": {},
   "outputs": [
    {
     "data": {
      "image/png": "[encoded data removed]",
      "text/plain": [
       "<Figure size 1500x500 with 3 Axes>"
      ]
     },
     "metadata": {},
     "output_type": "display_data"
    }
   ],
   "source": [
    "# batchnormed activation map\n",
    "fig, axes = plt.subplots(1, 3, figsize=(15, 5))\n",
    "\n",
    "for i in range(3):\n",
    "    axes[i].imshow(n_activation_map.cpu().detach().numpy()[0, i, :, :])\n",
    "    axes[i].set_title(f\"Channel {i}\")\n",
    "    axes[i].axis(\"off\")  \n",
    "\n",
    "plt.show()"
   ]
  },
  {
   "cell_type": "code",
   "execution_count": 26,
   "metadata": {},
   "outputs": [
    {
     "data": {
      "text/plain": [
       "tensor([[ 1.0008,  0.8550,  0.8649,  0.8580,  0.8553,  0.8587,  0.8529,  0.8552,\n",
       "          0.8557,  0.8520,  0.8562,  0.8498,  0.8521,  0.8706,  0.8683,  0.8626,\n",
       "          0.8615,  0.8625,  0.8736,  0.8923,  0.8929,  0.8930,  0.8961,  0.8931,\n",
       "          0.8971,  0.8939,  0.8929,  0.9025,  0.9015,  0.9030,  0.9033,  0.9020,\n",
       "          0.9064,  0.8954,  0.8915,  0.8858,  0.8784,  0.8824,  0.8734,  0.8695,\n",
       "          0.8619,  0.8534,  0.8607,  0.8529,  0.8452,  0.8484,  0.8399,  0.8366,\n",
       "          0.8398,  0.8334,  0.8323,  0.8406,  0.8353,  0.8319,  0.8422,  0.8373,\n",
       "          0.8320,  0.8403,  0.8496,  0.8444,  0.8425,  0.8533,  0.8518,  0.8473,\n",
       "          0.8542,  0.8700,  0.8706,  0.8703,  0.8840,  0.8838,  0.8825,  0.8927,\n",
       "          0.8928,  0.8910,  0.8996,  0.8982,  0.8965,  0.9040,  0.9042,  0.9054,\n",
       "          0.9085,  0.9069,  0.9093,  0.9032,  0.8925,  0.9012,  0.9013,  0.9036,\n",
       "          0.9034,  0.9010,  0.9049,  0.9000,  0.8967,  0.8881,  0.8808,  0.8808,\n",
       "          0.8748,  0.8741,  0.8691,  0.8656,  0.8635,  0.8564,  0.8567,  0.8496,\n",
       "          0.8440,  0.8476,  0.8423,  0.8416,  0.8366,  0.8322,  0.8397,  0.8374,\n",
       "          0.8326,  0.8401,  0.8399,  0.8383,  0.8409,  0.8420,  0.8474,  0.8466,\n",
       "          0.8456,  0.8541,  0.8571,  0.8582,  0.8528,  0.8487,  0.8527,  0.8493,\n",
       "          1.0062],\n",
       "        [ 1.1571,  1.0457,  1.0403,  1.0470,  1.0392,  1.0390,  1.0412,  1.0361,\n",
       "          1.0387,  1.0389,  1.0349,  1.0438,  1.0448,  1.0445,  1.0515,  1.0458,\n",
       "          1.0500,  1.0567,  1.0646,  1.0673,  1.0761,  1.0720,  1.0736,  1.0757,\n",
       "          1.0714,  1.0772,  1.0770,  1.0770,  1.0830,  1.0787,  1.0818,  1.0805,\n",
       "          1.0740,  1.0770,  1.0651,  1.0669,  1.0631,  1.0562,  1.0591,  1.0475,\n",
       "          1.0495,  1.0475,  1.0404,  1.0455,  1.0391,  1.0353,  1.0386,  1.0336,\n",
       "          1.0327,  1.0358,  1.0347,  1.0326,  1.0380,  1.0360,  1.0329,  1.0388,\n",
       "          1.0375,  1.0396,  1.0400,  1.0445,  1.0436,  1.0419,  1.0465,  1.0463,\n",
       "          1.0495,  1.0474,  1.0554,  1.0550,  1.0540,  1.0626,  1.0614,  1.0613,\n",
       "          1.0666,  1.0671,  1.0648,  1.0701,  1.0688,  1.0680,  1.0724,  1.0700,\n",
       "          1.0704,  1.0708,  1.0643,  1.0646,  1.0658,  1.0611,  1.0705,  1.0648,\n",
       "          1.0692,  1.0676,  1.0644,  1.0654,  1.0571,  1.0574,  1.0520,  1.0486,\n",
       "          1.0493,  1.0421,  1.0441,  1.0384,  1.0375,  1.0374,  1.0309,  1.0342,\n",
       "          1.0312,  1.0292,  1.0328,  1.0261,  1.0295,  1.0290,  1.0269,  1.0319,\n",
       "          1.0324,  1.0308,  1.0364,  1.0352,  1.0371,  1.0405,  1.0391,  1.0438,\n",
       "          1.0449,  1.0451,  1.0489,  1.0441,  1.0456,  1.0431,  1.0409,  1.0443,\n",
       "          1.0347],\n",
       "        [ 0.0662, -1.3893, -1.3873, -1.3726, -1.3452, -1.2981, -1.2789, -1.2789,\n",
       "         -1.2765, -1.2797, -1.2837, -1.2963, -1.3263, -1.3381, -1.3364, -1.3457,\n",
       "         -1.3568, -1.3729, -1.3844, -1.4015, -1.3963, -1.3613, -1.3090, -1.2877,\n",
       "         -1.2929, -1.2794, -1.2541, -1.2228, -1.1945, -1.1724, -1.1498, -1.1374,\n",
       "         -1.1175, -1.0821, -1.0463, -1.0196, -1.0085, -0.9979, -0.9883, -0.9871,\n",
       "         -0.9830, -0.9814, -0.9892, -0.9959, -1.0247, -1.0847, -1.1674, -1.2285,\n",
       "         -1.2639, -1.3001, -1.3356, -1.3652, -1.4303, -1.5316, -1.6137, -1.6791,\n",
       "         -1.7488, -1.8083, -1.8689, -1.9145, -1.9609, -1.9875, -1.9846, -1.9860,\n",
       "         -1.9269, -1.8215, -1.7223, -1.6383, -1.5533, -1.4881, -1.4470, -1.3926,\n",
       "         -1.3223, -1.2665, -1.2372, -1.2210, -1.1986, -1.1593, -1.1274, -1.1138,\n",
       "         -1.1014, -1.0900, -1.0824, -1.0666, -1.0487, -1.0297, -1.0092, -0.9970,\n",
       "         -0.9850, -0.9814, -0.9778, -0.9767, -0.9798, -0.9902, -1.0114, -1.0310,\n",
       "         -1.0546, -1.0807, -1.0903, -1.0888, -1.1040, -1.1403, -1.1770, -1.2061,\n",
       "         -1.2437, -1.2584, -1.2619, -1.2615, -1.2434, -1.2263, -1.2041, -1.1784,\n",
       "         -1.1576, -1.1336, -1.1059, -1.0824, -1.0511, -1.0321, -1.0238, -1.0128,\n",
       "         -1.0041, -0.9910, -0.9864, -0.9921, -0.9980, -1.0064, -1.0147, -1.0463,\n",
       "         -1.7700],\n",
       "        [ 0.0526, -1.2574, -1.2418, -1.2214, -1.1962, -1.1794, -1.1628, -1.1636,\n",
       "         -1.1648, -1.1708, -1.1827, -1.1965, -1.2079, -1.2201, -1.2272, -1.2356,\n",
       "         -1.2459, -1.2567, -1.2676, -1.2580, -1.2427, -1.2160, -1.1952, -1.1769,\n",
       "         -1.1630, -1.1489, -1.1256, -1.1019, -1.0792, -1.0614, -1.0432, -1.0218,\n",
       "         -0.9974, -0.9701, -0.9483, -0.9268, -0.9179, -0.9093, -0.9043, -0.9017,\n",
       "         -0.8999, -0.9091, -0.9174, -0.9488, -0.9920, -1.0450, -1.0944, -1.1452,\n",
       "         -1.1787, -1.2122, -1.2527, -1.3119, -1.3745, -1.4462, -1.5178, -1.5772,\n",
       "         -1.6325, -1.6863, -1.7264, -1.7684, -1.7845, -1.7932, -1.7815, -1.7267,\n",
       "         -1.6707, -1.5870, -1.5042, -1.4333, -1.3746, -1.3198, -1.2700, -1.2209,\n",
       "         -1.1773, -1.1419, -1.1150, -1.0911, -1.0679, -1.0447, -1.0238, -1.0099,\n",
       "         -0.9996, -0.9894, -0.9748, -0.9603, -0.9437, -0.9283, -0.9144, -0.9071,\n",
       "         -0.8992, -0.8975, -0.8969, -0.8995, -0.9097, -0.9202, -0.9387, -0.9573,\n",
       "         -0.9742, -0.9862, -0.9961, -1.0148, -1.0317, -1.0611, -1.0900, -1.1160,\n",
       "         -1.1285, -1.1417, -1.1357, -1.1276, -1.1124, -1.0930, -1.0733, -1.0520,\n",
       "         -1.0307, -1.0086, -0.9860, -0.9634, -0.9487, -0.9327, -0.9244, -0.9160,\n",
       "         -0.9088, -0.9073, -0.9062, -0.9131, -0.9200, -0.9352, -0.9615, -0.9923,\n",
       "          0.0806],\n",
       "        [ 1.3815,  0.3912,  0.3930,  0.3925,  0.3972,  0.4075,  0.4193,  0.4197,\n",
       "          0.4206,  0.4200,  0.4196,  0.4185,  0.4132,  0.4060,  0.4044,  0.4040,\n",
       "          0.4023,  0.3987,  0.3947,  0.3923,  0.3853,  0.3898,  0.4025,  0.4150,\n",
       "          0.4158,  0.4137,  0.4195,  0.4273,  0.4345,  0.4401,  0.4465,  0.4508,\n",
       "          0.4536,  0.4598,  0.4695,  0.4801,  0.4833,  0.4871,  0.4892,  0.4909,\n",
       "          0.4923,  0.4922,  0.4945,  0.4900,  0.4885,  0.4799,  0.4607,  0.4385,\n",
       "          0.4293,  0.4201,  0.4108,  0.4033,  0.3955,  0.3729,  0.3475,  0.3298,\n",
       "          0.3130,  0.2971,  0.2829,  0.2660,  0.2576,  0.2454,  0.2419,  0.2440,\n",
       "          0.2432,  0.2680,  0.2944,  0.3164,  0.3384,  0.3588,  0.3708,  0.3814,\n",
       "          0.3963,  0.4143,  0.4265,  0.4306,  0.4333,  0.4418,  0.4522,  0.4578,\n",
       "          0.4606,  0.4634,  0.4663,  0.4681,  0.4728,  0.4786,  0.4836,  0.4868,\n",
       "          0.4910,  0.4920,  0.4936,  0.4939,  0.4936,  0.4937,  0.4891,  0.4849,\n",
       "          0.4796,  0.4731,  0.4676,  0.4665,  0.4690,  0.4609,  0.4516,  0.4433,\n",
       "          0.4359,  0.4265,  0.4262,  0.4240,  0.4265,  0.4314,  0.4363,  0.4420,\n",
       "          0.4475,  0.4534,  0.4594,  0.4655,  0.4719,  0.4802,  0.4824,  0.4844,\n",
       "          0.4867,  0.4895,  0.4928,  0.4913,  0.4903,  0.4882,  0.4873,  0.4844,\n",
       "          0.5353]], device='cuda:0', grad_fn=<SliceBackward0>)"
      ]
     },
     "execution_count": 26,
     "metadata": {},
     "output_type": "execute_result"
    }
   ],
   "source": [
    "n_activation_map[0, 0, :, :]"
   ]
  },
  {
   "cell_type": "code",
   "execution_count": 27,
   "metadata": {},
   "outputs": [
    {
     "data": {
      "text/plain": [
       "(tensor(-3.8443e-08, device='cuda:0', grad_fn=<MeanBackward0>),\n",
       " tensor(1.0008, device='cuda:0', grad_fn=<StdBackward0>))"
      ]
     },
     "execution_count": 27,
     "metadata": {},
     "output_type": "execute_result"
    }
   ],
   "source": [
    "# the batchnorm2d module normalizes each channel of activation map to have 0 mean and 1 standard deviation (e.g normalizes across W*H dimension)\n",
    "torch.mean(n_activation_map[0, 0, :, :]), torch.std(n_activation_map[0, 0, :, :])"
   ]
  },
  {
   "cell_type": "code",
   "execution_count": 38,
   "metadata": {},
   "outputs": [
    {
     "data": {
      "text/plain": [
       "[{'Epoch': 1.0,\n",
       "  'Training Loss': 1.0037,\n",
       "  'Validation Loss': 1.0442,\n",
       "  'Learning Rate': 0.001},\n",
       " {'Epoch': 2.0,\n",
       "  'Training Loss': 0.9987,\n",
       "  'Validation Loss': 1.0477,\n",
       "  'Learning Rate': 0.001},\n",
       " {'Epoch': 3.0,\n",
       "  'Training Loss': 0.9979,\n",
       "  'Validation Loss': 1.0477,\n",
       "  'Learning Rate': 0.001},\n",
       " {'Epoch': 4.0,\n",
       "  'Training Loss': 0.9979,\n",
       "  'Validation Loss': 1.0475,\n",
       "  'Learning Rate': 0.001},\n",
       " {'Epoch': 5.0,\n",
       "  'Training Loss': 0.9954,\n",
       "  'Validation Loss': 1.0349,\n",
       "  'Learning Rate': 0.001},\n",
       " {'Epoch': 6.0,\n",
       "  'Training Loss': 0.9765,\n",
       "  'Validation Loss': 1.0195,\n",
       "  'Learning Rate': 0.001},\n",
       " {'Epoch': 7.0,\n",
       "  'Training Loss': 0.9631,\n",
       "  'Validation Loss': 0.9986,\n",
       "  'Learning Rate': 0.001},\n",
       " {'Epoch': 8.0,\n",
       "  'Training Loss': 0.9403,\n",
       "  'Validation Loss': 0.9913,\n",
       "  'Learning Rate': 0.001},\n",
       " {'Epoch': 9.0,\n",
       "  'Training Loss': 0.9278,\n",
       "  'Validation Loss': 0.9815,\n",
       "  'Learning Rate': 0.001},\n",
       " {'Epoch': 10.0,\n",
       "  'Training Loss': 0.9219,\n",
       "  'Validation Loss': 0.9769,\n",
       "  'Learning Rate': 0.001},\n",
       " {'Epoch': 11.0,\n",
       "  'Training Loss': 0.9159,\n",
       "  'Validation Loss': 0.9706,\n",
       "  'Learning Rate': 0.001},\n",
       " {'Epoch': 12.0,\n",
       "  'Training Loss': 0.9119,\n",
       "  'Validation Loss': 0.9699,\n",
       "  'Learning Rate': 0.001},\n",
       " {'Epoch': 13.0,\n",
       "  'Training Loss': 0.9085,\n",
       "  'Validation Loss': 0.9682,\n",
       "  'Learning Rate': 0.001},\n",
       " {'Epoch': 14.0,\n",
       "  'Training Loss': 0.9051,\n",
       "  'Validation Loss': 0.9639,\n",
       "  'Learning Rate': 0.001},\n",
       " {'Epoch': 15.0,\n",
       "  'Training Loss': 0.9005,\n",
       "  'Validation Loss': 0.9588,\n",
       "  'Learning Rate': 0.001},\n",
       " {'Epoch': 16.0,\n",
       "  'Training Loss': 0.8963,\n",
       "  'Validation Loss': 0.9538,\n",
       "  'Learning Rate': 0.001},\n",
       " {'Epoch': 17.0,\n",
       "  'Training Loss': 0.8926,\n",
       "  'Validation Loss': 0.9519,\n",
       "  'Learning Rate': 0.001},\n",
       " {'Epoch': 18.0,\n",
       "  'Training Loss': 0.8892,\n",
       "  'Validation Loss': 0.9507,\n",
       "  'Learning Rate': 0.001},\n",
       " {'Epoch': 19.0,\n",
       "  'Training Loss': 0.8863,\n",
       "  'Validation Loss': 0.9511,\n",
       "  'Learning Rate': 0.001},\n",
       " {'Epoch': 20.0,\n",
       "  'Training Loss': 0.8834,\n",
       "  'Validation Loss': 0.9476,\n",
       "  'Learning Rate': 0.001},\n",
       " {'Epoch': 21.0,\n",
       "  'Training Loss': 0.8823,\n",
       "  'Validation Loss': 0.945,\n",
       "  'Learning Rate': 0.001},\n",
       " {'Epoch': 22.0,\n",
       "  'Training Loss': 0.8789,\n",
       "  'Validation Loss': 0.9429,\n",
       "  'Learning Rate': 0.001},\n",
       " {'Epoch': 23.0,\n",
       "  'Training Loss': 0.876,\n",
       "  'Validation Loss': 0.9365,\n",
       "  'Learning Rate': 0.001},\n",
       " {'Epoch': 24.0,\n",
       "  'Training Loss': 0.8708,\n",
       "  'Validation Loss': 0.9354,\n",
       "  'Learning Rate': 0.001},\n",
       " {'Epoch': 25.0,\n",
       "  'Training Loss': 0.8687,\n",
       "  'Validation Loss': 0.9322,\n",
       "  'Learning Rate': 0.001},\n",
       " {'Epoch': 26.0,\n",
       "  'Training Loss': 0.8665,\n",
       "  'Validation Loss': 0.93,\n",
       "  'Learning Rate': 0.001},\n",
       " {'Epoch': 27.0,\n",
       "  'Training Loss': 0.8648,\n",
       "  'Validation Loss': 0.9305,\n",
       "  'Learning Rate': 0.001},\n",
       " {'Epoch': 28.0,\n",
       "  'Training Loss': 0.8628,\n",
       "  'Validation Loss': 0.9259,\n",
       "  'Learning Rate': 0.001},\n",
       " {'Epoch': 29.0,\n",
       "  'Training Loss': 0.8607,\n",
       "  'Validation Loss': 0.9243,\n",
       "  'Learning Rate': 0.001},\n",
       " {'Epoch': 30.0,\n",
       "  'Training Loss': 0.8594,\n",
       "  'Validation Loss': 0.9247,\n",
       "  'Learning Rate': 0.0001},\n",
       " {'Epoch': 31.0,\n",
       "  'Training Loss': 0.8577,\n",
       "  'Validation Loss': 0.909,\n",
       "  'Learning Rate': 0.0001},\n",
       " {'Epoch': 32.0,\n",
       "  'Training Loss': 0.8535,\n",
       "  'Validation Loss': 0.9069,\n",
       "  'Learning Rate': 0.0001},\n",
       " {'Epoch': 33.0,\n",
       "  'Training Loss': 0.8517,\n",
       "  'Validation Loss': 0.9059,\n",
       "  'Learning Rate': 0.0001},\n",
       " {'Epoch': 34.0,\n",
       "  'Training Loss': 0.8504,\n",
       "  'Validation Loss': 0.9052,\n",
       "  'Learning Rate': 0.0001},\n",
       " {'Epoch': 35.0,\n",
       "  'Training Loss': 0.8492,\n",
       "  'Validation Loss': 0.9047,\n",
       "  'Learning Rate': 0.0001},\n",
       " {'Epoch': 36.0,\n",
       "  'Training Loss': 0.8482,\n",
       "  'Validation Loss': 0.9041,\n",
       "  'Learning Rate': 0.0001},\n",
       " {'Epoch': 37.0,\n",
       "  'Training Loss': 0.8473,\n",
       "  'Validation Loss': 0.9038,\n",
       "  'Learning Rate': 0.0001},\n",
       " {'Epoch': 38.0,\n",
       "  'Training Loss': 0.8464,\n",
       "  'Validation Loss': 0.9032,\n",
       "  'Learning Rate': 0.0001},\n",
       " {'Epoch': 39.0,\n",
       "  'Training Loss': 0.8455,\n",
       "  'Validation Loss': 0.9029,\n",
       "  'Learning Rate': 0.0001},\n",
       " {'Epoch': 40.0,\n",
       "  'Training Loss': 0.8446,\n",
       "  'Validation Loss': 0.9027,\n",
       "  'Learning Rate': 0.0001},\n",
       " {'Epoch': 41.0,\n",
       "  'Training Loss': 0.8438,\n",
       "  'Validation Loss': 0.9021,\n",
       "  'Learning Rate': 0.0001},\n",
       " {'Epoch': 42.0,\n",
       "  'Training Loss': 0.843,\n",
       "  'Validation Loss': 0.9023,\n",
       "  'Learning Rate': 0.0001},\n",
       " {'Epoch': 43.0,\n",
       "  'Training Loss': 0.8422,\n",
       "  'Validation Loss': 0.902,\n",
       "  'Learning Rate': 0.0001},\n",
       " {'Epoch': 44.0,\n",
       "  'Training Loss': 0.8414,\n",
       "  'Validation Loss': 0.9013,\n",
       "  'Learning Rate': 0.0001},\n",
       " {'Epoch': 45.0,\n",
       "  'Training Loss': 0.8407,\n",
       "  'Validation Loss': 0.9007,\n",
       "  'Learning Rate': 0.0001},\n",
       " {'Epoch': 46.0,\n",
       "  'Training Loss': 0.84,\n",
       "  'Validation Loss': 0.9009,\n",
       "  'Learning Rate': 0.0001},\n",
       " {'Epoch': 47.0,\n",
       "  'Training Loss': 0.8395,\n",
       "  'Validation Loss': 0.9012,\n",
       "  'Learning Rate': 0.0001},\n",
       " {'Epoch': 48.0,\n",
       "  'Training Loss': 0.839,\n",
       "  'Validation Loss': 0.9018,\n",
       "  'Learning Rate': 0.0001},\n",
       " {'Epoch': 49.0,\n",
       "  'Training Loss': 0.8387,\n",
       "  'Validation Loss': 0.9014,\n",
       "  'Learning Rate': 0.0001},\n",
       " {'Epoch': 50.0,\n",
       "  'Training Loss': 0.8383,\n",
       "  'Validation Loss': 0.9,\n",
       "  'Learning Rate': 0.0001},\n",
       " {'Epoch': 51.0,\n",
       "  'Training Loss': 0.8376,\n",
       "  'Validation Loss': 0.9026,\n",
       "  'Learning Rate': 0.0001},\n",
       " {'Epoch': 52.0,\n",
       "  'Training Loss': 0.8368,\n",
       "  'Validation Loss': 0.9022,\n",
       "  'Learning Rate': 0.0001},\n",
       " {'Epoch': 53.0,\n",
       "  'Training Loss': 0.8365,\n",
       "  'Validation Loss': 0.901,\n",
       "  'Learning Rate': 0.0001},\n",
       " {'Epoch': 54.0,\n",
       "  'Training Loss': 0.8363,\n",
       "  'Validation Loss': 0.8996,\n",
       "  'Learning Rate': 0.0001},\n",
       " {'Epoch': 55.0,\n",
       "  'Training Loss': 0.8359,\n",
       "  'Validation Loss': 0.8987,\n",
       "  'Learning Rate': 0.0001},\n",
       " {'Epoch': 56.0,\n",
       "  'Training Loss': 0.8355,\n",
       "  'Validation Loss': 0.8996,\n",
       "  'Learning Rate': 0.0001},\n",
       " {'Epoch': 57.0,\n",
       "  'Training Loss': 0.8349,\n",
       "  'Validation Loss': 0.8992,\n",
       "  'Learning Rate': 0.0001},\n",
       " {'Epoch': 58.0,\n",
       "  'Training Loss': 0.8345,\n",
       "  'Validation Loss': 0.8997,\n",
       "  'Learning Rate': 0.0001},\n",
       " {'Epoch': 59.0,\n",
       "  'Training Loss': 0.8342,\n",
       "  'Validation Loss': 0.8991,\n",
       "  'Learning Rate': 0.0001},\n",
       " {'Epoch': 60.0,\n",
       "  'Training Loss': 0.8342,\n",
       "  'Validation Loss': 0.8975,\n",
       "  'Learning Rate': 1e-05},\n",
       " {'Epoch': 61.0,\n",
       "  'Training Loss': 0.8349,\n",
       "  'Validation Loss': 0.8959,\n",
       "  'Learning Rate': 1e-05},\n",
       " {'Epoch': 62.0,\n",
       "  'Training Loss': 0.8337,\n",
       "  'Validation Loss': 0.8954,\n",
       "  'Learning Rate': 1e-05},\n",
       " {'Epoch': 63.0,\n",
       "  'Training Loss': 0.8331,\n",
       "  'Validation Loss': 0.8953,\n",
       "  'Learning Rate': 1e-05},\n",
       " {'Epoch': 64.0,\n",
       "  'Training Loss': 0.8327,\n",
       "  'Validation Loss': 0.8951,\n",
       "  'Learning Rate': 1e-05},\n",
       " {'Epoch': 65.0,\n",
       "  'Training Loss': 0.8324,\n",
       "  'Validation Loss': 0.895,\n",
       "  'Learning Rate': 1e-05},\n",
       " {'Epoch': 66.0,\n",
       "  'Training Loss': 0.8321,\n",
       "  'Validation Loss': 0.895,\n",
       "  'Learning Rate': 1e-05},\n",
       " {'Epoch': 67.0,\n",
       "  'Training Loss': 0.8319,\n",
       "  'Validation Loss': 0.8949,\n",
       "  'Learning Rate': 1e-05},\n",
       " {'Epoch': 68.0,\n",
       "  'Training Loss': 0.8317,\n",
       "  'Validation Loss': 0.8949,\n",
       "  'Learning Rate': 1e-05},\n",
       " {'Epoch': 69.0,\n",
       "  'Training Loss': 0.8316,\n",
       "  'Validation Loss': 0.8948,\n",
       "  'Learning Rate': 1e-05},\n",
       " {'Epoch': 70.0,\n",
       "  'Training Loss': 0.8314,\n",
       "  'Validation Loss': 0.8948,\n",
       "  'Learning Rate': 1e-05},\n",
       " {'Epoch': 71.0,\n",
       "  'Training Loss': 0.8312,\n",
       "  'Validation Loss': 0.8947,\n",
       "  'Learning Rate': 1e-05},\n",
       " {'Epoch': 72.0,\n",
       "  'Training Loss': 0.8311,\n",
       "  'Validation Loss': 0.8947,\n",
       "  'Learning Rate': 1e-05},\n",
       " {'Epoch': 73.0,\n",
       "  'Training Loss': 0.831,\n",
       "  'Validation Loss': 0.8947,\n",
       "  'Learning Rate': 1e-05},\n",
       " {'Epoch': 74.0,\n",
       "  'Training Loss': 0.8308,\n",
       "  'Validation Loss': 0.8946,\n",
       "  'Learning Rate': 1e-05},\n",
       " {'Epoch': 75.0,\n",
       "  'Training Loss': 0.8307,\n",
       "  'Validation Loss': 0.8946,\n",
       "  'Learning Rate': 1e-05},\n",
       " {'Epoch': 76.0,\n",
       "  'Training Loss': 0.8306,\n",
       "  'Validation Loss': 0.8946,\n",
       "  'Learning Rate': 1e-05},\n",
       " {'Epoch': 77.0,\n",
       "  'Training Loss': 0.8305,\n",
       "  'Validation Loss': 0.8945,\n",
       "  'Learning Rate': 1e-05},\n",
       " {'Epoch': 78.0,\n",
       "  'Training Loss': 0.8303,\n",
       "  'Validation Loss': 0.8945,\n",
       "  'Learning Rate': 1e-05},\n",
       " {'Epoch': 79.0,\n",
       "  'Training Loss': 0.8302,\n",
       "  'Validation Loss': 0.8945,\n",
       "  'Learning Rate': 1e-05},\n",
       " {'Epoch': 80.0,\n",
       "  'Training Loss': 0.8301,\n",
       "  'Validation Loss': 0.8945,\n",
       "  'Learning Rate': 1e-05},\n",
       " {'Epoch': 81.0,\n",
       "  'Training Loss': 0.83,\n",
       "  'Validation Loss': 0.8945,\n",
       "  'Learning Rate': 1e-05},\n",
       " {'Epoch': 82.0,\n",
       "  'Training Loss': 0.8299,\n",
       "  'Validation Loss': 0.8945,\n",
       "  'Learning Rate': 1e-05},\n",
       " {'Epoch': 83.0,\n",
       "  'Training Loss': 0.8298,\n",
       "  'Validation Loss': 0.8944,\n",
       "  'Learning Rate': 1e-05},\n",
       " {'Epoch': 84.0,\n",
       "  'Training Loss': 0.8297,\n",
       "  'Validation Loss': 0.8944,\n",
       "  'Learning Rate': 1e-05},\n",
       " {'Epoch': 85.0,\n",
       "  'Training Loss': 0.8296,\n",
       "  'Validation Loss': 0.8944,\n",
       "  'Learning Rate': 1e-05},\n",
       " {'Epoch': 86.0,\n",
       "  'Training Loss': 0.8295,\n",
       "  'Validation Loss': 0.8944,\n",
       "  'Learning Rate': 1e-05},\n",
       " {'Epoch': 87.0,\n",
       "  'Training Loss': 0.8294,\n",
       "  'Validation Loss': 0.8944,\n",
       "  'Learning Rate': 1e-05},\n",
       " {'Epoch': 88.0,\n",
       "  'Training Loss': 0.8293,\n",
       "  'Validation Loss': 0.8944,\n",
       "  'Learning Rate': 1e-05},\n",
       " {'Epoch': 89.0,\n",
       "  'Training Loss': 0.8292,\n",
       "  'Validation Loss': 0.8944,\n",
       "  'Learning Rate': 1e-05},\n",
       " {'Epoch': 90.0,\n",
       "  'Training Loss': 0.8291,\n",
       "  'Validation Loss': 0.8943,\n",
       "  'Learning Rate': 1.0000000000000002e-06},\n",
       " {'Epoch': 91.0,\n",
       "  'Training Loss': 0.8293,\n",
       "  'Validation Loss': 0.8942,\n",
       "  'Learning Rate': 1.0000000000000002e-06},\n",
       " {'Epoch': 92.0,\n",
       "  'Training Loss': 0.8292,\n",
       "  'Validation Loss': 0.8942,\n",
       "  'Learning Rate': 1.0000000000000002e-06},\n",
       " {'Epoch': 93.0,\n",
       "  'Training Loss': 0.8292,\n",
       "  'Validation Loss': 0.8942,\n",
       "  'Learning Rate': 1.0000000000000002e-06},\n",
       " {'Epoch': 94.0,\n",
       "  'Training Loss': 0.8291,\n",
       "  'Validation Loss': 0.8942,\n",
       "  'Learning Rate': 1.0000000000000002e-06},\n",
       " {'Epoch': 95.0,\n",
       "  'Training Loss': 0.8291,\n",
       "  'Validation Loss': 0.8942,\n",
       "  'Learning Rate': 1.0000000000000002e-06},\n",
       " {'Epoch': 96.0,\n",
       "  'Training Loss': 0.8291,\n",
       "  'Validation Loss': 0.8942,\n",
       "  'Learning Rate': 1.0000000000000002e-06},\n",
       " {'Epoch': 97.0,\n",
       "  'Training Loss': 0.8291,\n",
       "  'Validation Loss': 0.8943,\n",
       "  'Learning Rate': 1.0000000000000002e-06},\n",
       " {'Epoch': 98.0,\n",
       "  'Training Loss': 0.829,\n",
       "  'Validation Loss': 0.8943,\n",
       "  'Learning Rate': 1.0000000000000002e-06},\n",
       " {'Epoch': 99.0,\n",
       "  'Training Loss': 0.829,\n",
       "  'Validation Loss': 0.8943,\n",
       "  'Learning Rate': 1.0000000000000002e-06},\n",
       " {'Epoch': 100.0,\n",
       "  'Training Loss': 0.829,\n",
       "  'Validation Loss': 0.8943,\n",
       "  'Learning Rate': 1.0000000000000002e-06},\n",
       " {'Epoch': 101.0,\n",
       "  'Training Loss': 0.829,\n",
       "  'Validation Loss': 0.8943,\n",
       "  'Learning Rate': 1.0000000000000002e-06},\n",
       " {'Epoch': 102.0,\n",
       "  'Training Loss': 0.829,\n",
       "  'Validation Loss': 0.8943,\n",
       "  'Learning Rate': 9.89073800366903e-07},\n",
       " {'Epoch': 103.0,\n",
       "  'Training Loss': 0.829,\n",
       "  'Validation Loss': 0.8943,\n",
       "  'Learning Rate': 9.567727288213006e-07},\n",
       " {'Epoch': 104.0,\n",
       "  'Training Loss': 0.8289,\n",
       "  'Validation Loss': 0.8943,\n",
       "  'Learning Rate': 9.04508497187474e-07},\n",
       " {'Epoch': 105.0,\n",
       "  'Training Loss': 0.8289,\n",
       "  'Validation Loss': 0.8943,\n",
       "  'Learning Rate': 8.345653031794293e-07},\n",
       " {'Epoch': 106.0,\n",
       "  'Training Loss': 0.8289,\n",
       "  'Validation Loss': 0.8943,\n",
       "  'Learning Rate': 7.500000000000001e-07},\n",
       " {'Epoch': 107.0,\n",
       "  'Training Loss': 0.8289,\n",
       "  'Validation Loss': 0.8943,\n",
       "  'Learning Rate': 6.545084971874739e-07},\n",
       " {'Epoch': 108.0,\n",
       "  'Training Loss': 0.8289,\n",
       "  'Validation Loss': 0.8943,\n",
       "  'Learning Rate': 5.522642316338269e-07},\n",
       " {'Epoch': 109.0,\n",
       "  'Training Loss': 0.8289,\n",
       "  'Validation Loss': 0.8943,\n",
       "  'Learning Rate': 4.4773576836617357e-07},\n",
       " {'Epoch': 110.0,\n",
       "  'Training Loss': 0.8289,\n",
       "  'Validation Loss': 0.8943,\n",
       "  'Learning Rate': 3.454915028125264e-07},\n",
       " {'Epoch': 111.0,\n",
       "  'Training Loss': 0.8289,\n",
       "  'Validation Loss': 0.8943,\n",
       "  'Learning Rate': 2.5000000000000015e-07},\n",
       " {'Epoch': 112.0,\n",
       "  'Training Loss': 0.8288,\n",
       "  'Validation Loss': 0.8943,\n",
       "  'Learning Rate': 1.6543469682057106e-07},\n",
       " {'Epoch': 113.0,\n",
       "  'Training Loss': 0.8288,\n",
       "  'Validation Loss': 0.8943,\n",
       "  'Learning Rate': 9.549150281252633e-08},\n",
       " {'Epoch': 114.0,\n",
       "  'Training Loss': 0.8288,\n",
       "  'Validation Loss': 0.8943,\n",
       "  'Learning Rate': 4.3227271178699524e-08},\n",
       " {'Epoch': 115.0,\n",
       "  'Training Loss': 0.8288,\n",
       "  'Validation Loss': 0.8943,\n",
       "  'Learning Rate': 1.0926199633097158e-08},\n",
       " {'Epoch': 116.0,\n",
       "  'Training Loss': 0.8288,\n",
       "  'Validation Loss': 0.8943,\n",
       "  'Learning Rate': 0.0},\n",
       " {'Epoch': 117.0,\n",
       "  'Training Loss': 0.8288,\n",
       "  'Validation Loss': 0.8943,\n",
       "  'Learning Rate': 1.0926199633097156e-05},\n",
       " {'Epoch': 118.0,\n",
       "  'Training Loss': 0.8288,\n",
       "  'Validation Loss': 0.8944,\n",
       "  'Learning Rate': 4.322727117869957e-05},\n",
       " {'Epoch': 119.0,\n",
       "  'Training Loss': 0.829,\n",
       "  'Validation Loss': 0.8944,\n",
       "  'Learning Rate': 9.549150281252629e-05},\n",
       " {'Epoch': 120.0,\n",
       "  'Training Loss': 0.8294,\n",
       "  'Validation Loss': 0.8957,\n",
       "  'Learning Rate': 0.0001654346968205},\n",
       " {'Epoch': 121.0,\n",
       "  'Training Loss': 0.8326,\n",
       "  'Validation Loss': 0.8981,\n",
       "  'Learning Rate': 0.0002499999999999},\n",
       " {'Epoch': 122.0,\n",
       "  'Training Loss': 0.837,\n",
       "  'Validation Loss': 0.9005,\n",
       "  'Learning Rate': 0.0003454915028125},\n",
       " {'Epoch': 123.0,\n",
       "  'Training Loss': 0.8386,\n",
       "  'Validation Loss': 0.904,\n",
       "  'Learning Rate': 0.0004477357683661},\n",
       " {'Epoch': 124.0,\n",
       "  'Training Loss': 0.8397,\n",
       "  'Validation Loss': 0.9059,\n",
       "  'Learning Rate': 0.0005522642316338},\n",
       " {'Epoch': 125.0,\n",
       "  'Training Loss': 0.8408,\n",
       "  'Validation Loss': 0.9036,\n",
       "  'Learning Rate': 0.0006545084971874},\n",
       " {'Epoch': 126.0,\n",
       "  'Training Loss': 0.8414,\n",
       "  'Validation Loss': 0.9089,\n",
       "  'Learning Rate': 0.00075},\n",
       " {'Epoch': 127.0,\n",
       "  'Training Loss': 0.8421,\n",
       "  'Validation Loss': 0.9038,\n",
       "  'Learning Rate': 0.0008345653031794},\n",
       " {'Epoch': 128.0,\n",
       "  'Training Loss': 0.8428,\n",
       "  'Validation Loss': 0.907,\n",
       "  'Learning Rate': 0.0009045084971874},\n",
       " {'Epoch': 129.0,\n",
       "  'Training Loss': 0.8418,\n",
       "  'Validation Loss': 0.9083,\n",
       "  'Learning Rate': 0.0009567727288213},\n",
       " {'Epoch': 130.0,\n",
       "  'Training Loss': 0.8398,\n",
       "  'Validation Loss': 0.9108,\n",
       "  'Learning Rate': 0.0009890738003669},\n",
       " {'Epoch': 131.0,\n",
       "  'Training Loss': 0.8398,\n",
       "  'Validation Loss': 0.916,\n",
       "  'Learning Rate': 0.001},\n",
       " {'Epoch': 132.0,\n",
       "  'Training Loss': 0.8396,\n",
       "  'Validation Loss': 0.9143,\n",
       "  'Learning Rate': 0.0009890738003669},\n",
       " {'Epoch': 133.0,\n",
       "  'Training Loss': 0.8384,\n",
       "  'Validation Loss': 0.909,\n",
       "  'Learning Rate': 0.0009567727288213},\n",
       " {'Epoch': 134.0,\n",
       "  'Training Loss': 0.8379,\n",
       "  'Validation Loss': 0.9009,\n",
       "  'Learning Rate': 0.0009045084971874},\n",
       " {'Epoch': 135.0,\n",
       "  'Training Loss': 0.8364,\n",
       "  'Validation Loss': 0.8961,\n",
       "  'Learning Rate': 0.0008345653031794},\n",
       " {'Epoch': 136.0,\n",
       "  'Training Loss': 0.8358,\n",
       "  'Validation Loss': 0.8977,\n",
       "  'Learning Rate': 0.00075},\n",
       " {'Epoch': 137.0,\n",
       "  'Training Loss': 0.8339,\n",
       "  'Validation Loss': 0.902,\n",
       "  'Learning Rate': 0.0006545084971874},\n",
       " {'Epoch': 138.0,\n",
       "  'Training Loss': 0.8327,\n",
       "  'Validation Loss': 0.897,\n",
       "  'Learning Rate': 0.0005522642316338},\n",
       " {'Epoch': 139.0,\n",
       "  'Training Loss': 0.8302,\n",
       "  'Validation Loss': 0.8992,\n",
       "  'Learning Rate': 0.0004477357683661},\n",
       " {'Epoch': 140.0,\n",
       "  'Training Loss': 0.829,\n",
       "  'Validation Loss': 0.8932,\n",
       "  'Learning Rate': 0.0003454915028125},\n",
       " {'Epoch': 141.0,\n",
       "  'Training Loss': 0.8279,\n",
       "  'Validation Loss': 0.8929,\n",
       "  'Learning Rate': 0.00025},\n",
       " {'Epoch': 142.0,\n",
       "  'Training Loss': 0.826,\n",
       "  'Validation Loss': 0.887,\n",
       "  'Learning Rate': 0.0001654346968205},\n",
       " {'Epoch': 143.0,\n",
       "  'Training Loss': 0.8245,\n",
       "  'Validation Loss': 0.8843,\n",
       "  'Learning Rate': 9.54915028125264e-05},\n",
       " {'Epoch': 144.0,\n",
       "  'Training Loss': 0.8234,\n",
       "  'Validation Loss': 0.8838,\n",
       "  'Learning Rate': 4.322727117869975e-05},\n",
       " {'Epoch': 145.0,\n",
       "  'Training Loss': 0.8228,\n",
       "  'Validation Loss': 0.8818,\n",
       "  'Learning Rate': 1.0926199633097329e-05},\n",
       " {'Epoch': 146.0,\n",
       "  'Training Loss': 0.8226,\n",
       "  'Validation Loss': 0.8808,\n",
       "  'Learning Rate': 0.0},\n",
       " {'Epoch': 147.0,\n",
       "  'Training Loss': 0.8222,\n",
       "  'Validation Loss': 0.8807,\n",
       "  'Learning Rate': 1.0926199633097156e-05},\n",
       " {'Epoch': 148.0,\n",
       "  'Training Loss': 0.8221,\n",
       "  'Validation Loss': 0.8807,\n",
       "  'Learning Rate': 4.322727117869979e-05},\n",
       " {'Epoch': 149.0,\n",
       "  'Training Loss': 0.8218,\n",
       "  'Validation Loss': 0.8812,\n",
       "  'Learning Rate': 9.549150281252664e-05},\n",
       " {'Epoch': 150.0,\n",
       "  'Training Loss': 0.8215,\n",
       "  'Validation Loss': 0.8819,\n",
       "  'Learning Rate': 0.0001654346968205},\n",
       " {'Epoch': 1.0,\n",
       "  'Training Loss': 0.821,\n",
       "  'Validation Loss': 0.8825,\n",
       "  'Learning Rate': 0.00025},\n",
       " {'Epoch': 2.0,\n",
       "  'Training Loss': 0.8204,\n",
       "  'Validation Loss': 0.8833,\n",
       "  'Learning Rate': 0.0003454915028125},\n",
       " {'Epoch': 3.0,\n",
       "  'Training Loss': 0.8205,\n",
       "  'Validation Loss': 0.8844,\n",
       "  'Learning Rate': 0.0004477357683661},\n",
       " {'Epoch': 4.0,\n",
       "  'Training Loss': 0.822,\n",
       "  'Validation Loss': 0.889,\n",
       "  'Learning Rate': 0.0005522642316338},\n",
       " {'Epoch': 5.0,\n",
       "  'Training Loss': 0.8245,\n",
       "  'Validation Loss': 0.8875,\n",
       "  'Learning Rate': 0.0006545084971874},\n",
       " {'Epoch': 6.0,\n",
       "  'Training Loss': 0.8269,\n",
       "  'Validation Loss': 0.8901,\n",
       "  'Learning Rate': 0.00075},\n",
       " {'Epoch': 7.0,\n",
       "  'Training Loss': 0.829,\n",
       "  'Validation Loss': 0.8976,\n",
       "  'Learning Rate': 0.0008345653031794},\n",
       " {'Epoch': 8.0,\n",
       "  'Training Loss': 0.8305,\n",
       "  'Validation Loss': 0.8962,\n",
       "  'Learning Rate': 0.0009045084971874},\n",
       " {'Epoch': 9.0,\n",
       "  'Training Loss': 0.8304,\n",
       "  'Validation Loss': 0.9006,\n",
       "  'Learning Rate': 0.0009567727288213},\n",
       " {'Epoch': 10.0,\n",
       "  'Training Loss': 0.829,\n",
       "  'Validation Loss': 0.8974,\n",
       "  'Learning Rate': 0.0009890738003669},\n",
       " {'Epoch': 11.0,\n",
       "  'Training Loss': 0.8292,\n",
       "  'Validation Loss': 0.895,\n",
       "  'Learning Rate': 0.001},\n",
       " {'Epoch': 12.0,\n",
       "  'Training Loss': 0.8285,\n",
       "  'Validation Loss': 0.8955,\n",
       "  'Learning Rate': 0.0009890738003669},\n",
       " {'Epoch': 13.0,\n",
       "  'Training Loss': 0.8272,\n",
       "  'Validation Loss': 0.8941,\n",
       "  'Learning Rate': 0.0009567727288213},\n",
       " {'Epoch': 14.0,\n",
       "  'Training Loss': 0.8252,\n",
       "  'Validation Loss': 0.887,\n",
       "  'Learning Rate': 0.0009045084971874},\n",
       " {'Epoch': 15.0,\n",
       "  'Training Loss': 0.8247,\n",
       "  'Validation Loss': 0.8873,\n",
       "  'Learning Rate': 0.0008345653031794},\n",
       " {'Epoch': 16.0,\n",
       "  'Training Loss': 0.8237,\n",
       "  'Validation Loss': 0.8877,\n",
       "  'Learning Rate': 0.00075},\n",
       " {'Epoch': 17.0,\n",
       "  'Training Loss': 0.8228,\n",
       "  'Validation Loss': 0.8856,\n",
       "  'Learning Rate': 0.0006545084971874},\n",
       " {'Epoch': 18.0,\n",
       "  'Training Loss': 0.8217,\n",
       "  'Validation Loss': 0.8871,\n",
       "  'Learning Rate': 0.0005522642316338},\n",
       " {'Epoch': 19.0,\n",
       "  'Training Loss': 0.8196,\n",
       "  'Validation Loss': 0.8891,\n",
       "  'Learning Rate': 0.0004477357683661},\n",
       " {'Epoch': 20.0,\n",
       "  'Training Loss': 0.8181,\n",
       "  'Validation Loss': 0.8848,\n",
       "  'Learning Rate': 0.0003454915028125},\n",
       " {'Epoch': 21.0,\n",
       "  'Training Loss': 0.8176,\n",
       "  'Validation Loss': 0.8818,\n",
       "  'Learning Rate': 0.00025},\n",
       " {'Epoch': 22.0,\n",
       "  'Training Loss': 0.817,\n",
       "  'Validation Loss': 0.8798,\n",
       "  'Learning Rate': 0.0001654346968205},\n",
       " {'Epoch': 23.0,\n",
       "  'Training Loss': 0.8161,\n",
       "  'Validation Loss': 0.8799,\n",
       "  'Learning Rate': 9.549150281252694e-05},\n",
       " {'Epoch': 24.0,\n",
       "  'Training Loss': 0.8154,\n",
       "  'Validation Loss': 0.8766,\n",
       "  'Learning Rate': 4.322727117870001e-05},\n",
       " {'Epoch': 25.0,\n",
       "  'Training Loss': 0.8149,\n",
       "  'Validation Loss': 0.8752,\n",
       "  'Learning Rate': 1.092619963309721e-05},\n",
       " {'Epoch': 26.0,\n",
       "  'Training Loss': 0.8147,\n",
       "  'Validation Loss': 0.8747,\n",
       "  'Learning Rate': 0.0},\n",
       " {'Epoch': 27.0,\n",
       "  'Training Loss': 0.8144,\n",
       "  'Validation Loss': 0.8746,\n",
       "  'Learning Rate': 1.0926199633097156e-05},\n",
       " {'Epoch': 28.0,\n",
       "  'Training Loss': 0.8143,\n",
       "  'Validation Loss': 0.8746,\n",
       "  'Learning Rate': 4.322727117869962e-05},\n",
       " {'Epoch': 29.0,\n",
       "  'Training Loss': 0.8141,\n",
       "  'Validation Loss': 0.8746,\n",
       "  'Learning Rate': 9.549150281252709e-05},\n",
       " {'Epoch': 30.0,\n",
       "  'Training Loss': 0.8138,\n",
       "  'Validation Loss': 0.8754,\n",
       "  'Learning Rate': 0.0001654346968205},\n",
       " {'Epoch': 31.0,\n",
       "  'Training Loss': 0.8134,\n",
       "  'Validation Loss': 0.876,\n",
       "  'Learning Rate': 0.00025},\n",
       " {'Epoch': 32.0,\n",
       "  'Training Loss': 0.8129,\n",
       "  'Validation Loss': 0.8765,\n",
       "  'Learning Rate': 0.0003454915028125},\n",
       " {'Epoch': 33.0,\n",
       "  'Training Loss': 0.8126,\n",
       "  'Validation Loss': 0.8775,\n",
       "  'Learning Rate': 0.0004477357683661},\n",
       " {'Epoch': 34.0,\n",
       "  'Training Loss': 0.8129,\n",
       "  'Validation Loss': 0.8791,\n",
       "  'Learning Rate': 0.0005522642316338},\n",
       " {'Epoch': 35.0,\n",
       "  'Training Loss': 0.815,\n",
       "  'Validation Loss': 0.8824,\n",
       "  'Learning Rate': 0.0006545084971874},\n",
       " {'Epoch': 36.0,\n",
       "  'Training Loss': 0.8186,\n",
       "  'Validation Loss': 0.8847,\n",
       "  'Learning Rate': 0.00075},\n",
       " {'Epoch': 37.0,\n",
       "  'Training Loss': 0.8209,\n",
       "  'Validation Loss': 0.8848,\n",
       "  'Learning Rate': 0.0008345653031794},\n",
       " {'Epoch': 38.0,\n",
       "  'Training Loss': 0.8206,\n",
       "  'Validation Loss': 0.8863,\n",
       "  'Learning Rate': 0.0009045084971874},\n",
       " {'Epoch': 39.0,\n",
       "  'Training Loss': 0.8218,\n",
       "  'Validation Loss': 0.8853,\n",
       "  'Learning Rate': 0.0009567727288213},\n",
       " {'Epoch': 40.0,\n",
       "  'Training Loss': 0.8235,\n",
       "  'Validation Loss': 0.8861,\n",
       "  'Learning Rate': 0.0009890738003669},\n",
       " {'Epoch': 41.0,\n",
       "  'Training Loss': 0.8252,\n",
       "  'Validation Loss': 0.8857,\n",
       "  'Learning Rate': 0.001},\n",
       " {'Epoch': 42.0,\n",
       "  'Training Loss': 0.8209,\n",
       "  'Validation Loss': 0.8824,\n",
       "  'Learning Rate': 0.0009890738003669},\n",
       " {'Epoch': 43.0,\n",
       "  'Training Loss': 0.8185,\n",
       "  'Validation Loss': 0.8826,\n",
       "  'Learning Rate': 0.0009567727288213},\n",
       " {'Epoch': 44.0,\n",
       "  'Training Loss': 0.8176,\n",
       "  'Validation Loss': 0.881,\n",
       "  'Learning Rate': 0.0009045084971874},\n",
       " {'Epoch': 45.0,\n",
       "  'Training Loss': 0.817,\n",
       "  'Validation Loss': 0.8837,\n",
       "  'Learning Rate': 0.0008345653031794},\n",
       " {'Epoch': 46.0,\n",
       "  'Training Loss': 0.8167,\n",
       "  'Validation Loss': 0.8846,\n",
       "  'Learning Rate': 0.00075},\n",
       " {'Epoch': 47.0,\n",
       "  'Training Loss': 0.8152,\n",
       "  'Validation Loss': 0.8796,\n",
       "  'Learning Rate': 0.0006545084971874},\n",
       " {'Epoch': 48.0,\n",
       "  'Training Loss': 0.8139,\n",
       "  'Validation Loss': 0.8803,\n",
       "  'Learning Rate': 0.0005522642316338},\n",
       " {'Epoch': 49.0,\n",
       "  'Training Loss': 0.8127,\n",
       "  'Validation Loss': 0.8796,\n",
       "  'Learning Rate': 0.0004477357683661},\n",
       " {'Epoch': 50.0,\n",
       "  'Training Loss': 0.812,\n",
       "  'Validation Loss': 0.8794,\n",
       "  'Learning Rate': 0.0003454915028125},\n",
       " {'Epoch': 51.0,\n",
       "  'Training Loss': 0.8119,\n",
       "  'Validation Loss': 0.8795,\n",
       "  'Learning Rate': 0.00025},\n",
       " {'Epoch': 52.0,\n",
       "  'Training Loss': 0.8111,\n",
       "  'Validation Loss': 0.8779,\n",
       "  'Learning Rate': 0.0001654346968205},\n",
       " {'Epoch': 53.0,\n",
       "  'Training Loss': 0.8102,\n",
       "  'Validation Loss': 0.8759,\n",
       "  'Learning Rate': 9.549150281252756e-05},\n",
       " {'Epoch': 54.0,\n",
       "  'Training Loss': 0.8098,\n",
       "  'Validation Loss': 0.8742,\n",
       "  'Learning Rate': 4.322727117870068e-05},\n",
       " {'Epoch': 55.0,\n",
       "  'Training Loss': 0.8096,\n",
       "  'Validation Loss': 0.8729,\n",
       "  'Learning Rate': 1.0926199633097158e-05},\n",
       " {'Epoch': 56.0,\n",
       "  'Training Loss': 0.8094,\n",
       "  'Validation Loss': 0.8729,\n",
       "  'Learning Rate': 0.0},\n",
       " {'Epoch': 57.0,\n",
       "  'Training Loss': 0.8091,\n",
       "  'Validation Loss': 0.8728,\n",
       "  'Learning Rate': 1.0926199633097156e-05},\n",
       " {'Epoch': 58.0,\n",
       "  'Training Loss': 0.8091,\n",
       "  'Validation Loss': 0.8728,\n",
       "  'Learning Rate': 4.3227271178698906e-05},\n",
       " {'Epoch': 59.0,\n",
       "  'Training Loss': 0.8089,\n",
       "  'Validation Loss': 0.8726,\n",
       "  'Learning Rate': 9.549150281252558e-05},\n",
       " {'Epoch': 60.0,\n",
       "  'Training Loss': 0.8086,\n",
       "  'Validation Loss': 0.8734,\n",
       "  'Learning Rate': 0.0001654346968205},\n",
       " {'Epoch': 61.0,\n",
       "  'Training Loss': 0.8082,\n",
       "  'Validation Loss': 0.8741,\n",
       "  'Learning Rate': 0.0002499999999999},\n",
       " {'Epoch': 62.0,\n",
       "  'Training Loss': 0.8078,\n",
       "  'Validation Loss': 0.8744,\n",
       "  'Learning Rate': 0.0003454915028125},\n",
       " {'Epoch': 63.0,\n",
       "  'Training Loss': 0.8075,\n",
       "  'Validation Loss': 0.8752,\n",
       "  'Learning Rate': 0.0004477357683661},\n",
       " {'Epoch': 64.0,\n",
       "  'Training Loss': 0.8076,\n",
       "  'Validation Loss': 0.8758,\n",
       "  'Learning Rate': 0.0005522642316338},\n",
       " {'Epoch': 65.0,\n",
       "  'Training Loss': 0.8093,\n",
       "  'Validation Loss': 0.8789,\n",
       "  'Learning Rate': 0.0006545084971874},\n",
       " {'Epoch': 66.0,\n",
       "  'Training Loss': 0.8125,\n",
       "  'Validation Loss': 0.8783,\n",
       "  'Learning Rate': 0.0007499999999999},\n",
       " {'Epoch': 67.0,\n",
       "  'Training Loss': 0.8147,\n",
       "  'Validation Loss': 0.8803,\n",
       "  'Learning Rate': 0.0008345653031794},\n",
       " {'Epoch': 68.0,\n",
       "  'Training Loss': 0.8153,\n",
       "  'Validation Loss': 0.8812,\n",
       "  'Learning Rate': 0.0009045084971874},\n",
       " {'Epoch': 69.0,\n",
       "  'Training Loss': 0.8153,\n",
       "  'Validation Loss': 0.8793,\n",
       "  'Learning Rate': 0.0009567727288212},\n",
       " {'Epoch': 70.0,\n",
       "  'Training Loss': 0.8152,\n",
       "  'Validation Loss': 0.8782,\n",
       "  'Learning Rate': 0.0009890738003668},\n",
       " {'Epoch': 71.0,\n",
       "  'Training Loss': 0.8157,\n",
       "  'Validation Loss': 0.8902,\n",
       "  'Learning Rate': 0.0009999999999999},\n",
       " {'Epoch': 72.0,\n",
       "  'Training Loss': 0.8159,\n",
       "  'Validation Loss': 0.8792,\n",
       "  'Learning Rate': 0.0009890738003668},\n",
       " {'Epoch': 73.0,\n",
       "  'Training Loss': 0.8154,\n",
       "  'Validation Loss': 0.88,\n",
       "  'Learning Rate': 0.0009567727288212},\n",
       " {'Epoch': 74.0,\n",
       "  'Training Loss': 0.8153,\n",
       "  'Validation Loss': 0.8784,\n",
       "  'Learning Rate': 0.0009045084971874},\n",
       " {'Epoch': 75.0,\n",
       "  'Training Loss': 0.8127,\n",
       "  'Validation Loss': 0.8756,\n",
       "  'Learning Rate': 0.0008345653031794},\n",
       " {'Epoch': 76.0,\n",
       "  'Training Loss': 0.8116,\n",
       "  'Validation Loss': 0.8777,\n",
       "  'Learning Rate': 0.0007499999999999},\n",
       " {'Epoch': 77.0,\n",
       "  'Training Loss': 0.8105,\n",
       "  'Validation Loss': 0.8791,\n",
       "  'Learning Rate': 0.0006545084971874},\n",
       " {'Epoch': 78.0,\n",
       "  'Training Loss': 0.8098,\n",
       "  'Validation Loss': 0.8772,\n",
       "  'Learning Rate': 0.0005522642316338},\n",
       " {'Epoch': 79.0,\n",
       "  'Training Loss': 0.8084,\n",
       "  'Validation Loss': 0.8776,\n",
       "  'Learning Rate': 0.0004477357683661},\n",
       " {'Epoch': 80.0,\n",
       "  'Training Loss': 0.8074,\n",
       "  'Validation Loss': 0.8755,\n",
       "  'Learning Rate': 0.0003454915028125},\n",
       " {'Epoch': 81.0,\n",
       "  'Training Loss': 0.8069,\n",
       "  'Validation Loss': 0.8749,\n",
       "  'Learning Rate': 0.00025},\n",
       " {'Epoch': 82.0,\n",
       "  'Training Loss': 0.8066,\n",
       "  'Validation Loss': 0.875,\n",
       "  'Learning Rate': 0.0001654346968205},\n",
       " {'Epoch': 83.0,\n",
       "  'Training Loss': 0.8062,\n",
       "  'Validation Loss': 0.8749,\n",
       "  'Learning Rate': 9.549150281252616e-05},\n",
       " {'Epoch': 84.0,\n",
       "  'Training Loss': 0.8059,\n",
       "  'Validation Loss': 0.8733,\n",
       "  'Learning Rate': 4.3227271178699306e-05},\n",
       " {'Epoch': 85.0,\n",
       "  'Training Loss': 0.8058,\n",
       "  'Validation Loss': 0.8719,\n",
       "  'Learning Rate': 1.092619963309738e-05},\n",
       " {'Epoch': 86.0,\n",
       "  'Training Loss': 0.8058,\n",
       "  'Validation Loss': 0.8718,\n",
       "  'Learning Rate': 0.0},\n",
       " {'Epoch': 87.0,\n",
       "  'Training Loss': 0.8055,\n",
       "  'Validation Loss': 0.8718,\n",
       "  'Learning Rate': 1.0926199633097156e-05},\n",
       " {'Epoch': 88.0,\n",
       "  'Training Loss': 0.8054,\n",
       "  'Validation Loss': 0.8717,\n",
       "  'Learning Rate': 4.322727117869957e-05},\n",
       " {'Epoch': 89.0,\n",
       "  'Training Loss': 0.8052,\n",
       "  'Validation Loss': 0.8717,\n",
       "  'Learning Rate': 9.549150281252545e-05},\n",
       " {'Epoch': 90.0,\n",
       "  'Training Loss': 0.8049,\n",
       "  'Validation Loss': 0.8724,\n",
       "  'Learning Rate': 0.0001654346968205},\n",
       " {'Epoch': 91.0,\n",
       "  'Training Loss': 0.8046,\n",
       "  'Validation Loss': 0.8731,\n",
       "  'Learning Rate': 0.0002499999999999},\n",
       " {'Epoch': 92.0,\n",
       "  'Training Loss': 0.8042,\n",
       "  'Validation Loss': 0.8735,\n",
       "  'Learning Rate': 0.0003454915028125},\n",
       " {'Epoch': 93.0,\n",
       "  'Training Loss': 0.804,\n",
       "  'Validation Loss': 0.8739,\n",
       "  'Learning Rate': 0.0004477357683661},\n",
       " {'Epoch': 94.0,\n",
       "  'Training Loss': 0.8041,\n",
       "  'Validation Loss': 0.875,\n",
       "  'Learning Rate': 0.0005522642316338},\n",
       " {'Epoch': 95.0,\n",
       "  'Training Loss': 0.8053,\n",
       "  'Validation Loss': 0.8771,\n",
       "  'Learning Rate': 0.0006545084971874},\n",
       " {'Epoch': 96.0,\n",
       "  'Training Loss': 0.8083,\n",
       "  'Validation Loss': 0.8769,\n",
       "  'Learning Rate': 0.0007499999999999},\n",
       " {'Epoch': 97.0,\n",
       "  'Training Loss': 0.811,\n",
       "  'Validation Loss': 0.8771,\n",
       "  'Learning Rate': 0.0008345653031794},\n",
       " {'Epoch': 98.0,\n",
       "  'Training Loss': 0.8115,\n",
       "  'Validation Loss': 0.8764,\n",
       "  'Learning Rate': 0.0009045084971874},\n",
       " {'Epoch': 99.0,\n",
       "  'Training Loss': 0.8117,\n",
       "  'Validation Loss': 0.8773,\n",
       "  'Learning Rate': 0.0009567727288212},\n",
       " {'Epoch': 100.0,\n",
       "  'Training Loss': 0.8123,\n",
       "  'Validation Loss': 0.8794,\n",
       "  'Learning Rate': 0.0009890738003668},\n",
       " {'Epoch': 101.0,\n",
       "  'Training Loss': 0.8128,\n",
       "  'Validation Loss': 0.8787,\n",
       "  'Learning Rate': 0.0009999999999999},\n",
       " {'Epoch': 102.0,\n",
       "  'Training Loss': 0.8112,\n",
       "  'Validation Loss': 0.8782,\n",
       "  'Learning Rate': 0.0009890738003668},\n",
       " {'Epoch': 103.0,\n",
       "  'Training Loss': 0.8108,\n",
       "  'Validation Loss': 0.8801,\n",
       "  'Learning Rate': 0.0009567727288212},\n",
       " {'Epoch': 104.0,\n",
       "  'Training Loss': 0.8099,\n",
       "  'Validation Loss': 0.8792,\n",
       "  'Learning Rate': 0.0009045084971874},\n",
       " {'Epoch': 105.0,\n",
       "  'Training Loss': 0.8099,\n",
       "  'Validation Loss': 0.8757,\n",
       "  'Learning Rate': 0.0008345653031794},\n",
       " {'Epoch': 106.0,\n",
       "  'Training Loss': 0.8089,\n",
       "  'Validation Loss': 0.8739,\n",
       "  'Learning Rate': 0.0007499999999999},\n",
       " {'Epoch': 107.0,\n",
       "  'Training Loss': 0.8077,\n",
       "  'Validation Loss': 0.8759,\n",
       "  'Learning Rate': 0.0006545084971874},\n",
       " {'Epoch': 108.0,\n",
       "  'Training Loss': 0.8059,\n",
       "  'Validation Loss': 0.8743,\n",
       "  'Learning Rate': 0.0005522642316338},\n",
       " {'Epoch': 109.0,\n",
       "  'Training Loss': 0.8047,\n",
       "  'Validation Loss': 0.8735,\n",
       "  'Learning Rate': 0.0004477357683661},\n",
       " {'Epoch': 110.0,\n",
       "  'Training Loss': 0.8039,\n",
       "  'Validation Loss': 0.8755,\n",
       "  'Learning Rate': 0.0003454915028125},\n",
       " {'Epoch': 111.0,\n",
       "  'Training Loss': 0.8035,\n",
       "  'Validation Loss': 0.8764,\n",
       "  'Learning Rate': 0.00025},\n",
       " {'Epoch': 112.0,\n",
       "  'Training Loss': 0.8033,\n",
       "  'Validation Loss': 0.8744,\n",
       "  'Learning Rate': 0.0001654346968205},\n",
       " {'Epoch': 113.0,\n",
       "  'Training Loss': 0.8031,\n",
       "  'Validation Loss': 0.8737,\n",
       "  'Learning Rate': 9.549150281252625e-05},\n",
       " {'Epoch': 114.0,\n",
       "  'Training Loss': 0.803,\n",
       "  'Validation Loss': 0.8726,\n",
       "  'Learning Rate': 4.3227271178699374e-05},\n",
       " {'Epoch': 115.0,\n",
       "  'Training Loss': 0.803,\n",
       "  'Validation Loss': 0.8716,\n",
       "  'Learning Rate': 1.0926199633097773e-05},\n",
       " {'Epoch': 116.0,\n",
       "  'Training Loss': 0.803,\n",
       "  'Validation Loss': 0.8716,\n",
       "  'Learning Rate': 0.0},\n",
       " {'Epoch': 117.0,\n",
       "  'Training Loss': 0.8028,\n",
       "  'Validation Loss': 0.8716,\n",
       "  'Learning Rate': 1.0926199633097156e-05},\n",
       " {'Epoch': 118.0,\n",
       "  'Training Loss': 0.8027,\n",
       "  'Validation Loss': 0.8715,\n",
       "  'Learning Rate': 4.322727117869892e-05},\n",
       " {'Epoch': 119.0,\n",
       "  'Training Loss': 0.8025,\n",
       "  'Validation Loss': 0.8714,\n",
       "  'Learning Rate': 9.549150281252248e-05},\n",
       " {'Epoch': 120.0,\n",
       "  'Training Loss': 0.8022,\n",
       "  'Validation Loss': 0.872,\n",
       "  'Learning Rate': 0.0001654346968205},\n",
       " {'Epoch': 121.0,\n",
       "  'Training Loss': 0.8019,\n",
       "  'Validation Loss': 0.8726,\n",
       "  'Learning Rate': 0.0002499999999999},\n",
       " {'Epoch': 122.0,\n",
       "  'Training Loss': 0.8016,\n",
       "  'Validation Loss': 0.873,\n",
       "  'Learning Rate': 0.0003454915028125},\n",
       " {'Epoch': 123.0,\n",
       "  'Training Loss': 0.8014,\n",
       "  'Validation Loss': 0.8733,\n",
       "  'Learning Rate': 0.0004477357683661},\n",
       " {'Epoch': 124.0,\n",
       "  'Training Loss': 0.8015,\n",
       "  'Validation Loss': 0.8739,\n",
       "  'Learning Rate': 0.0005522642316338},\n",
       " {'Epoch': 125.0,\n",
       "  'Training Loss': 0.8026,\n",
       "  'Validation Loss': 0.8744,\n",
       "  'Learning Rate': 0.0006545084971874},\n",
       " {'Epoch': 126.0,\n",
       "  'Training Loss': 0.8056,\n",
       "  'Validation Loss': 0.8765,\n",
       "  'Learning Rate': 0.0007499999999999},\n",
       " {'Epoch': 127.0,\n",
       "  'Training Loss': 0.8087,\n",
       "  'Validation Loss': 0.8737,\n",
       "  'Learning Rate': 0.0008345653031793},\n",
       " {'Epoch': 128.0,\n",
       "  'Training Loss': 0.809,\n",
       "  'Validation Loss': 0.8781,\n",
       "  'Learning Rate': 0.0009045084971874},\n",
       " {'Epoch': 129.0,\n",
       "  'Training Loss': 0.8081,\n",
       "  'Validation Loss': 0.8773,\n",
       "  'Learning Rate': 0.0009567727288212},\n",
       " {'Epoch': 130.0,\n",
       "  'Training Loss': 0.8075,\n",
       "  'Validation Loss': 0.8753,\n",
       "  'Learning Rate': 0.0009890738003668},\n",
       " {'Epoch': 131.0,\n",
       "  'Training Loss': 0.808,\n",
       "  'Validation Loss': 0.8765,\n",
       "  'Learning Rate': 0.0009999999999999},\n",
       " {'Epoch': 132.0,\n",
       "  'Training Loss': 0.8083,\n",
       "  'Validation Loss': 0.8815,\n",
       "  'Learning Rate': 0.0009890738003668},\n",
       " {'Epoch': 133.0,\n",
       "  'Training Loss': 0.8086,\n",
       "  'Validation Loss': 0.8799,\n",
       "  'Learning Rate': 0.0009567727288212},\n",
       " {'Epoch': 134.0,\n",
       "  'Training Loss': 0.8079,\n",
       "  'Validation Loss': 0.8749,\n",
       "  'Learning Rate': 0.0009045084971874},\n",
       " {'Epoch': 135.0,\n",
       "  'Training Loss': 0.8065,\n",
       "  'Validation Loss': 0.8732,\n",
       "  'Learning Rate': 0.0008345653031794},\n",
       " {'Epoch': 136.0,\n",
       "  'Training Loss': 0.8049,\n",
       "  'Validation Loss': 0.8736,\n",
       "  'Learning Rate': 0.0007499999999999},\n",
       " {'Epoch': 137.0,\n",
       "  'Training Loss': 0.804,\n",
       "  'Validation Loss': 0.8762,\n",
       "  'Learning Rate': 0.0006545084971874},\n",
       " {'Epoch': 138.0,\n",
       "  'Training Loss': 0.8031,\n",
       "  'Validation Loss': 0.8788,\n",
       "  'Learning Rate': 0.0005522642316338},\n",
       " {'Epoch': 139.0,\n",
       "  'Training Loss': 0.8026,\n",
       "  'Validation Loss': 0.8759,\n",
       "  'Learning Rate': 0.0004477357683661},\n",
       " {'Epoch': 140.0,\n",
       "  'Training Loss': 0.8022,\n",
       "  'Validation Loss': 0.8757,\n",
       "  'Learning Rate': 0.0003454915028125},\n",
       " {'Epoch': 141.0,\n",
       "  'Training Loss': 0.8016,\n",
       "  'Validation Loss': 0.8747,\n",
       "  'Learning Rate': 0.0002499999999999},\n",
       " {'Epoch': 142.0,\n",
       "  'Training Loss': 0.8012,\n",
       "  'Validation Loss': 0.8739,\n",
       "  'Learning Rate': 0.0001654346968205},\n",
       " {'Epoch': 143.0,\n",
       "  'Training Loss': 0.8009,\n",
       "  'Validation Loss': 0.8736,\n",
       "  'Learning Rate': 9.549150281252332e-05},\n",
       " {'Epoch': 144.0,\n",
       "  'Training Loss': 0.8009,\n",
       "  'Validation Loss': 0.8726,\n",
       "  'Learning Rate': 4.322727117869808e-05},\n",
       " {'Epoch': 145.0,\n",
       "  'Training Loss': 0.8009,\n",
       "  'Validation Loss': 0.872,\n",
       "  'Learning Rate': 1.092619963309743e-05},\n",
       " {'Epoch': 146.0,\n",
       "  'Training Loss': 0.8009,\n",
       "  'Validation Loss': 0.8722,\n",
       "  'Learning Rate': 0.0},\n",
       " {'Epoch': 147.0,\n",
       "  'Training Loss': 0.8007,\n",
       "  'Validation Loss': 0.8722,\n",
       "  'Learning Rate': 1.0926199633097156e-05},\n",
       " {'Epoch': 148.0,\n",
       "  'Training Loss': 0.8006,\n",
       "  'Validation Loss': 0.8721,\n",
       "  'Learning Rate': 4.322727117870055e-05},\n",
       " {'Epoch': 149.0,\n",
       "  'Training Loss': 0.8004,\n",
       "  'Validation Loss': 0.8719,\n",
       "  'Learning Rate': 9.549150281252924e-05},\n",
       " {'Epoch': 150.0,\n",
       "  'Training Loss': 0.8001,\n",
       "  'Validation Loss': 0.8722,\n",
       "  'Learning Rate': 0.0001654346968205},\n",
       " {'Epoch': 1.0,\n",
       "  'Training Loss': 0.7998,\n",
       "  'Validation Loss': 0.8729,\n",
       "  'Learning Rate': 0.00025},\n",
       " {'Epoch': 2.0,\n",
       "  'Training Loss': 0.7996,\n",
       "  'Validation Loss': 0.873,\n",
       "  'Learning Rate': 0.0003454915028125},\n",
       " {'Epoch': 3.0,\n",
       "  'Training Loss': 0.7994,\n",
       "  'Validation Loss': 0.8736,\n",
       "  'Learning Rate': 0.0004477357683661},\n",
       " {'Epoch': 4.0,\n",
       "  'Training Loss': 0.7995,\n",
       "  'Validation Loss': 0.8747,\n",
       "  'Learning Rate': 0.0005522642316338},\n",
       " {'Epoch': 5.0,\n",
       "  'Training Loss': 0.8004,\n",
       "  'Validation Loss': 0.8749,\n",
       "  'Learning Rate': 0.0006545084971874},\n",
       " {'Epoch': 6.0,\n",
       "  'Training Loss': 0.8029,\n",
       "  'Validation Loss': 0.8765,\n",
       "  'Learning Rate': 0.00075},\n",
       " {'Epoch': 7.0,\n",
       "  'Training Loss': 0.8056,\n",
       "  'Validation Loss': 0.8791,\n",
       "  'Learning Rate': 0.0008345653031794},\n",
       " {'Epoch': 8.0,\n",
       "  'Training Loss': 0.8066,\n",
       "  'Validation Loss': 0.877,\n",
       "  'Learning Rate': 0.0009045084971875},\n",
       " {'Epoch': 9.0,\n",
       "  'Training Loss': 0.8061,\n",
       "  'Validation Loss': 0.8755,\n",
       "  'Learning Rate': 0.0009567727288213},\n",
       " {'Epoch': 10.0,\n",
       "  'Training Loss': 0.8069,\n",
       "  'Validation Loss': 0.8755,\n",
       "  'Learning Rate': 0.0009890738003669},\n",
       " {'Epoch': 11.0,\n",
       "  'Training Loss': 0.8071,\n",
       "  'Validation Loss': 0.8821,\n",
       "  'Learning Rate': 0.001},\n",
       " {'Epoch': 12.0,\n",
       "  'Training Loss': 0.8064,\n",
       "  'Validation Loss': 0.8809,\n",
       "  'Learning Rate': 0.0009890738003669},\n",
       " {'Epoch': 13.0,\n",
       "  'Training Loss': 0.8061,\n",
       "  'Validation Loss': 0.8763,\n",
       "  'Learning Rate': 0.0009567727288213},\n",
       " {'Epoch': 14.0,\n",
       "  'Training Loss': 0.8058,\n",
       "  'Validation Loss': 0.8793,\n",
       "  'Learning Rate': 0.0009045084971875},\n",
       " {'Epoch': 15.0,\n",
       "  'Training Loss': 0.8052,\n",
       "  'Validation Loss': 0.8783,\n",
       "  'Learning Rate': 0.0008345653031794},\n",
       " {'Epoch': 16.0,\n",
       "  'Training Loss': 0.8047,\n",
       "  'Validation Loss': 0.8749,\n",
       "  'Learning Rate': 0.00075},\n",
       " {'Epoch': 17.0,\n",
       "  'Training Loss': 0.8029,\n",
       "  'Validation Loss': 0.8749,\n",
       "  'Learning Rate': 0.0006545084971874},\n",
       " {'Epoch': 18.0,\n",
       "  'Training Loss': 0.8012,\n",
       "  'Validation Loss': 0.8727,\n",
       "  'Learning Rate': 0.0005522642316338},\n",
       " {'Epoch': 19.0,\n",
       "  'Training Loss': 0.8003,\n",
       "  'Validation Loss': 0.8734,\n",
       "  'Learning Rate': 0.0004477357683661},\n",
       " {'Epoch': 20.0,\n",
       "  'Training Loss': 0.7999,\n",
       "  'Validation Loss': 0.8759,\n",
       "  'Learning Rate': 0.0003454915028125},\n",
       " {'Epoch': 21.0,\n",
       "  'Training Loss': 0.7996,\n",
       "  'Validation Loss': 0.8755,\n",
       "  'Learning Rate': 0.00025},\n",
       " {'Epoch': 22.0,\n",
       "  'Training Loss': 0.7992,\n",
       "  'Validation Loss': 0.8733,\n",
       "  'Learning Rate': 0.0001654346968205},\n",
       " {'Epoch': 23.0,\n",
       "  'Training Loss': 0.799,\n",
       "  'Validation Loss': 0.8735,\n",
       "  'Learning Rate': 9.549150281253022e-05},\n",
       " {'Epoch': 24.0,\n",
       "  'Training Loss': 0.7991,\n",
       "  'Validation Loss': 0.8725,\n",
       "  'Learning Rate': 4.322727117870121e-05},\n",
       " {'Epoch': 25.0,\n",
       "  'Training Loss': 0.7991,\n",
       "  'Validation Loss': 0.8723,\n",
       "  'Learning Rate': 1.0926199633097488e-05},\n",
       " {'Epoch': 26.0,\n",
       "  'Training Loss': 0.7992,\n",
       "  'Validation Loss': 0.8725,\n",
       "  'Learning Rate': 0.0},\n",
       " {'Epoch': 27.0,\n",
       "  'Training Loss': 0.799,\n",
       "  'Validation Loss': 0.8725,\n",
       "  'Learning Rate': 1.0926199633097156e-05},\n",
       " {'Epoch': 28.0,\n",
       "  'Training Loss': 0.7989,\n",
       "  'Validation Loss': 0.8725,\n",
       "  'Learning Rate': 4.322727117870049e-05},\n",
       " {'Epoch': 29.0,\n",
       "  'Training Loss': 0.7987,\n",
       "  'Validation Loss': 0.8722,\n",
       "  'Learning Rate': 9.549150281252916e-05},\n",
       " {'Epoch': 30.0,\n",
       "  'Training Loss': 0.7984,\n",
       "  'Validation Loss': 0.8724,\n",
       "  'Learning Rate': 0.0001654346968205},\n",
       " {'Epoch': 31.0,\n",
       "  'Training Loss': 0.7982,\n",
       "  'Validation Loss': 0.873,\n",
       "  'Learning Rate': 0.00025},\n",
       " {'Epoch': 32.0,\n",
       "  'Training Loss': 0.7979,\n",
       "  'Validation Loss': 0.873,\n",
       "  'Learning Rate': 0.0003454915028125},\n",
       " {'Epoch': 33.0,\n",
       "  'Training Loss': 0.7978,\n",
       "  'Validation Loss': 0.8736,\n",
       "  'Learning Rate': 0.0004477357683661},\n",
       " {'Epoch': 34.0,\n",
       "  'Training Loss': 0.7979,\n",
       "  'Validation Loss': 0.8736,\n",
       "  'Learning Rate': 0.0005522642316338},\n",
       " {'Epoch': 35.0,\n",
       "  'Training Loss': 0.7986,\n",
       "  'Validation Loss': 0.8749,\n",
       "  'Learning Rate': 0.0006545084971874},\n",
       " {'Epoch': 36.0,\n",
       "  'Training Loss': 0.801,\n",
       "  'Validation Loss': 0.8759,\n",
       "  'Learning Rate': 0.00075},\n",
       " {'Epoch': 37.0,\n",
       "  'Training Loss': 0.8037,\n",
       "  'Validation Loss': 0.8765,\n",
       "  'Learning Rate': 0.0008345653031794},\n",
       " {'Epoch': 38.0,\n",
       "  'Training Loss': 0.8047,\n",
       "  'Validation Loss': 0.8763,\n",
       "  'Learning Rate': 0.0009045084971875},\n",
       " {'Epoch': 39.0,\n",
       "  'Training Loss': 0.8042,\n",
       "  'Validation Loss': 0.8744,\n",
       "  'Learning Rate': 0.0009567727288213},\n",
       " {'Epoch': 40.0,\n",
       "  'Training Loss': 0.8042,\n",
       "  'Validation Loss': 0.8758,\n",
       "  'Learning Rate': 0.0009890738003669},\n",
       " {'Epoch': 41.0,\n",
       "  'Training Loss': 0.804,\n",
       "  'Validation Loss': 0.8795,\n",
       "  'Learning Rate': 0.001},\n",
       " {'Epoch': 42.0,\n",
       "  'Training Loss': 0.804,\n",
       "  'Validation Loss': 0.8776,\n",
       "  'Learning Rate': 0.0009890738003669},\n",
       " {'Epoch': 43.0,\n",
       "  'Training Loss': 0.8034,\n",
       "  'Validation Loss': 0.8763,\n",
       "  'Learning Rate': 0.0009567727288213},\n",
       " {'Epoch': 44.0,\n",
       "  'Training Loss': 0.8024,\n",
       "  'Validation Loss': 0.8741,\n",
       "  'Learning Rate': 0.0009045084971875},\n",
       " {'Epoch': 45.0,\n",
       "  'Training Loss': 0.8015,\n",
       "  'Validation Loss': 0.8727,\n",
       "  'Learning Rate': 0.0008345653031794},\n",
       " {'Epoch': 46.0,\n",
       "  'Training Loss': 0.801,\n",
       "  'Validation Loss': 0.873,\n",
       "  'Learning Rate': 0.00075},\n",
       " {'Epoch': 47.0,\n",
       "  'Training Loss': 0.8005,\n",
       "  'Validation Loss': 0.8729,\n",
       "  'Learning Rate': 0.0006545084971874},\n",
       " {'Epoch': 48.0,\n",
       "  'Training Loss': 0.8,\n",
       "  'Validation Loss': 0.8733,\n",
       "  'Learning Rate': 0.0005522642316338},\n",
       " {'Epoch': 49.0,\n",
       "  'Training Loss': 0.7993,\n",
       "  'Validation Loss': 0.8737,\n",
       "  'Learning Rate': 0.0004477357683661},\n",
       " {'Epoch': 50.0,\n",
       "  'Training Loss': 0.7985,\n",
       "  'Validation Loss': 0.8747,\n",
       "  'Learning Rate': 0.0003454915028125},\n",
       " {'Epoch': 51.0,\n",
       "  'Training Loss': 0.7979,\n",
       "  'Validation Loss': 0.8737,\n",
       "  'Learning Rate': 0.00025},\n",
       " {'Epoch': 52.0,\n",
       "  'Training Loss': 0.7975,\n",
       "  'Validation Loss': 0.873,\n",
       "  'Learning Rate': 0.0001654346968205},\n",
       " {'Epoch': 53.0,\n",
       "  'Training Loss': 0.7974,\n",
       "  'Validation Loss': 0.8733,\n",
       "  'Learning Rate': 9.549150281253028e-05},\n",
       " {'Epoch': 54.0,\n",
       "  'Training Loss': 0.7974,\n",
       "  'Validation Loss': 0.8726,\n",
       "  'Learning Rate': 4.322727117870127e-05},\n",
       " {'Epoch': 55.0,\n",
       "  'Training Loss': 0.7976,\n",
       "  'Validation Loss': 0.8724,\n",
       "  'Learning Rate': 1.0926199633097544e-05},\n",
       " {'Epoch': 56.0,\n",
       "  'Training Loss': 0.7976,\n",
       "  'Validation Loss': 0.8726,\n",
       "  'Learning Rate': 0.0},\n",
       " {'Epoch': 57.0,\n",
       "  'Training Loss': 0.7975,\n",
       "  'Validation Loss': 0.8727,\n",
       "  'Learning Rate': 1.0926199633097156e-05},\n",
       " {'Epoch': 58.0,\n",
       "  'Training Loss': 0.7974,\n",
       "  'Validation Loss': 0.8726,\n",
       "  'Learning Rate': 4.3227271178700654e-05},\n",
       " {'Epoch': 59.0,\n",
       "  'Training Loss': 0.7972,\n",
       "  'Validation Loss': 0.8723,\n",
       "  'Learning Rate': 9.549150281252954e-05},\n",
       " {'Epoch': 60.0,\n",
       "  'Training Loss': 0.797,\n",
       "  'Validation Loss': 0.8724,\n",
       "  'Learning Rate': 0.0001654346968205},\n",
       " {'Epoch': 61.0,\n",
       "  'Training Loss': 0.7967,\n",
       "  'Validation Loss': 0.8728,\n",
       "  'Learning Rate': 0.00025},\n",
       " {'Epoch': 62.0,\n",
       "  'Training Loss': 0.7965,\n",
       "  'Validation Loss': 0.8732,\n",
       "  'Learning Rate': 0.0003454915028125},\n",
       " {'Epoch': 63.0,\n",
       "  'Training Loss': 0.7964,\n",
       "  'Validation Loss': 0.8734,\n",
       "  'Learning Rate': 0.0004477357683661},\n",
       " {'Epoch': 64.0,\n",
       "  'Training Loss': 0.7965,\n",
       "  'Validation Loss': 0.8738,\n",
       "  'Learning Rate': 0.0005522642316338},\n",
       " {'Epoch': 65.0,\n",
       "  'Training Loss': 0.7973,\n",
       "  'Validation Loss': 0.8743,\n",
       "  'Learning Rate': 0.0006545084971874},\n",
       " {'Epoch': 66.0,\n",
       "  'Training Loss': 0.7995,\n",
       "  'Validation Loss': 0.8742,\n",
       "  'Learning Rate': 0.00075},\n",
       " {'Epoch': 67.0,\n",
       "  'Training Loss': 0.802,\n",
       "  'Validation Loss': 0.8761,\n",
       "  'Learning Rate': 0.0008345653031794},\n",
       " {'Epoch': 68.0,\n",
       "  'Training Loss': 0.8028,\n",
       "  'Validation Loss': 0.8761,\n",
       "  'Learning Rate': 0.0009045084971875},\n",
       " {'Epoch': 69.0,\n",
       "  'Training Loss': 0.8026,\n",
       "  'Validation Loss': 0.8763,\n",
       "  'Learning Rate': 0.0009567727288213},\n",
       " {'Epoch': 70.0,\n",
       "  'Training Loss': 0.8025,\n",
       "  'Validation Loss': 0.8752,\n",
       "  'Learning Rate': 0.0009890738003669},\n",
       " {'Epoch': 71.0,\n",
       "  'Training Loss': 0.803,\n",
       "  'Validation Loss': 0.8765,\n",
       "  'Learning Rate': 0.001},\n",
       " {'Epoch': 72.0,\n",
       "  'Training Loss': 0.8031,\n",
       "  'Validation Loss': 0.8745,\n",
       "  'Learning Rate': 0.0009890738003669},\n",
       " {'Epoch': 73.0,\n",
       "  'Training Loss': 0.8029,\n",
       "  'Validation Loss': 0.8776,\n",
       "  'Learning Rate': 0.0009567727288213},\n",
       " {'Epoch': 74.0,\n",
       "  'Training Loss': 0.8026,\n",
       "  'Validation Loss': 0.8748,\n",
       "  'Learning Rate': 0.0009045084971875},\n",
       " {'Epoch': 75.0,\n",
       "  'Training Loss': 0.8015,\n",
       "  'Validation Loss': 0.8751,\n",
       "  'Learning Rate': 0.0008345653031794},\n",
       " {'Epoch': 76.0,\n",
       "  'Training Loss': 0.8007,\n",
       "  'Validation Loss': 0.8744,\n",
       "  'Learning Rate': 0.00075},\n",
       " {'Epoch': 77.0,\n",
       "  'Training Loss': 0.799,\n",
       "  'Validation Loss': 0.8739,\n",
       "  'Learning Rate': 0.0006545084971875},\n",
       " {'Epoch': 78.0,\n",
       "  'Training Loss': 0.7979,\n",
       "  'Validation Loss': 0.8738,\n",
       "  'Learning Rate': 0.0005522642316338},\n",
       " {'Epoch': 79.0,\n",
       "  'Training Loss': 0.7972,\n",
       "  'Validation Loss': 0.8734,\n",
       "  'Learning Rate': 0.0004477357683661},\n",
       " {'Epoch': 80.0,\n",
       "  'Training Loss': 0.7968,\n",
       "  'Validation Loss': 0.875,\n",
       "  'Learning Rate': 0.0003454915028125},\n",
       " {'Epoch': 81.0,\n",
       "  'Training Loss': 0.7966,\n",
       "  'Validation Loss': 0.8732,\n",
       "  'Learning Rate': 0.00025},\n",
       " {'Epoch': 82.0,\n",
       "  'Training Loss': 0.7963,\n",
       "  'Validation Loss': 0.873,\n",
       "  'Learning Rate': 0.0001654346968205},\n",
       " {'Epoch': 83.0,\n",
       "  'Training Loss': 0.7963,\n",
       "  'Validation Loss': 0.8732,\n",
       "  'Learning Rate': 9.549150281253076e-05},\n",
       " {'Epoch': 84.0,\n",
       "  'Training Loss': 0.7963,\n",
       "  'Validation Loss': 0.8726,\n",
       "  'Learning Rate': 4.322727117870152e-05},\n",
       " {'Epoch': 85.0,\n",
       "  'Training Loss': 0.7964,\n",
       "  'Validation Loss': 0.8727,\n",
       "  'Learning Rate': 1.0926199633097591e-05},\n",
       " {'Epoch': 86.0,\n",
       "  'Training Loss': 0.7965,\n",
       "  'Validation Loss': 0.8728,\n",
       "  'Learning Rate': 0.0},\n",
       " {'Epoch': 87.0,\n",
       "  'Training Loss': 0.7964,\n",
       "  'Validation Loss': 0.8728,\n",
       "  'Learning Rate': 1.0926199633097156e-05},\n",
       " {'Epoch': 88.0,\n",
       "  'Training Loss': 0.7963,\n",
       "  'Validation Loss': 0.8728,\n",
       "  'Learning Rate': 4.322727117869775e-05},\n",
       " {'Epoch': 89.0,\n",
       "  'Training Loss': 0.7961,\n",
       "  'Validation Loss': 0.8725,\n",
       "  'Learning Rate': 9.549150281252318e-05},\n",
       " {'Epoch': 90.0,\n",
       "  'Training Loss': 0.7959,\n",
       "  'Validation Loss': 0.8725,\n",
       "  'Learning Rate': 0.0001654346968205},\n",
       " {'Epoch': 91.0,\n",
       "  'Training Loss': 0.7956,\n",
       "  'Validation Loss': 0.8729,\n",
       "  'Learning Rate': 0.0002499999999999},\n",
       " {'Epoch': 92.0,\n",
       "  'Training Loss': 0.7955,\n",
       "  'Validation Loss': 0.8732,\n",
       "  'Learning Rate': 0.0003454915028125},\n",
       " {'Epoch': 93.0,\n",
       "  'Training Loss': 0.7954,\n",
       "  'Validation Loss': 0.8735,\n",
       "  'Learning Rate': 0.0004477357683661},\n",
       " {'Epoch': 94.0,\n",
       "  'Training Loss': 0.7955,\n",
       "  'Validation Loss': 0.8742,\n",
       "  'Learning Rate': 0.0005522642316338},\n",
       " {'Epoch': 95.0,\n",
       "  'Training Loss': 0.7962,\n",
       "  'Validation Loss': 0.8741,\n",
       "  'Learning Rate': 0.0006545084971874},\n",
       " {'Epoch': 96.0,\n",
       "  'Training Loss': 0.7985,\n",
       "  'Validation Loss': 0.8744,\n",
       "  'Learning Rate': 0.0007499999999999},\n",
       " {'Epoch': 97.0,\n",
       "  'Training Loss': 0.8008,\n",
       "  'Validation Loss': 0.8758,\n",
       "  'Learning Rate': 0.0008345653031794},\n",
       " {'Epoch': 98.0,\n",
       "  'Training Loss': 0.8014,\n",
       "  'Validation Loss': 0.875,\n",
       "  'Learning Rate': 0.0009045084971874},\n",
       " {'Epoch': 99.0,\n",
       "  'Training Loss': 0.8013,\n",
       "  'Validation Loss': 0.8751,\n",
       "  'Learning Rate': 0.0009567727288212},\n",
       " {'Epoch': 100.0,\n",
       "  'Training Loss': 0.8012,\n",
       "  'Validation Loss': 0.8761,\n",
       "  'Learning Rate': 0.0009890738003668},\n",
       " {'Epoch': 101.0,\n",
       "  'Training Loss': 0.801,\n",
       "  'Validation Loss': 0.8772,\n",
       "  'Learning Rate': 0.0009999999999999},\n",
       " {'Epoch': 102.0,\n",
       "  'Training Loss': 0.8008,\n",
       "  'Validation Loss': 0.8769,\n",
       "  'Learning Rate': 0.0009890738003668},\n",
       " {'Epoch': 103.0,\n",
       "  'Training Loss': 0.8008,\n",
       "  'Validation Loss': 0.8751,\n",
       "  'Learning Rate': 0.0009567727288212},\n",
       " {'Epoch': 104.0,\n",
       "  'Training Loss': 0.8006,\n",
       "  'Validation Loss': 0.8769,\n",
       "  'Learning Rate': 0.0009045084971874},\n",
       " {'Epoch': 105.0,\n",
       "  'Training Loss': 0.8001,\n",
       "  'Validation Loss': 0.8749,\n",
       "  'Learning Rate': 0.0008345653031794},\n",
       " {'Epoch': 106.0,\n",
       "  'Training Loss': 0.7993,\n",
       "  'Validation Loss': 0.875,\n",
       "  'Learning Rate': 0.0007499999999999},\n",
       " {'Epoch': 107.0,\n",
       "  'Training Loss': 0.7981,\n",
       "  'Validation Loss': 0.8735,\n",
       "  'Learning Rate': 0.0006545084971874},\n",
       " {'Epoch': 108.0,\n",
       "  'Training Loss': 0.7971,\n",
       "  'Validation Loss': 0.8738,\n",
       "  'Learning Rate': 0.0005522642316338},\n",
       " {'Epoch': 109.0,\n",
       "  'Training Loss': 0.7964,\n",
       "  'Validation Loss': 0.8743,\n",
       "  'Learning Rate': 0.0004477357683661},\n",
       " {'Epoch': 110.0,\n",
       "  'Training Loss': 0.796,\n",
       "  'Validation Loss': 0.8746,\n",
       "  'Learning Rate': 0.0003454915028125},\n",
       " {'Epoch': 111.0,\n",
       "  'Training Loss': 0.7957,\n",
       "  'Validation Loss': 0.8725,\n",
       "  'Learning Rate': 0.0002499999999999},\n",
       " {'Epoch': 112.0,\n",
       "  'Training Loss': 0.7954,\n",
       "  'Validation Loss': 0.8728,\n",
       "  'Learning Rate': 0.0001654346968205},\n",
       " {'Epoch': 113.0,\n",
       "  'Training Loss': 0.7954,\n",
       "  'Validation Loss': 0.8731,\n",
       "  'Learning Rate': 9.54915028125246e-05},\n",
       " {'Epoch': 114.0,\n",
       "  'Training Loss': 0.7954,\n",
       "  'Validation Loss': 0.8727,\n",
       "  'Learning Rate': 4.322727117869874e-05},\n",
       " {'Epoch': 115.0,\n",
       "  'Training Loss': 0.7955,\n",
       "  'Validation Loss': 0.8726,\n",
       "  'Learning Rate': 1.0926199633096932e-05},\n",
       " {'Epoch': 116.0,\n",
       "  'Training Loss': 0.7956,\n",
       "  'Validation Loss': 0.8726,\n",
       "  'Learning Rate': 0.0},\n",
       " {'Epoch': 117.0,\n",
       "  'Training Loss': 0.7955,\n",
       "  'Validation Loss': 0.8726,\n",
       "  'Learning Rate': 1.0926199633097156e-05},\n",
       " {'Epoch': 118.0,\n",
       "  'Training Loss': 0.7954,\n",
       "  'Validation Loss': 0.8726,\n",
       "  'Learning Rate': 4.322727117869936e-05},\n",
       " {'Epoch': 119.0,\n",
       "  'Training Loss': 0.7952,\n",
       "  'Validation Loss': 0.8724,\n",
       "  'Learning Rate': 9.549150281252568e-05},\n",
       " {'Epoch': 120.0,\n",
       "  'Training Loss': 0.795,\n",
       "  'Validation Loss': 0.8725,\n",
       "  'Learning Rate': 0.0001654346968205},\n",
       " {'Epoch': 121.0,\n",
       "  'Training Loss': 0.7948,\n",
       "  'Validation Loss': 0.8727,\n",
       "  'Learning Rate': 0.0002499999999999},\n",
       " {'Epoch': 122.0,\n",
       "  'Training Loss': 0.7946,\n",
       "  'Validation Loss': 0.873,\n",
       "  'Learning Rate': 0.0003454915028125},\n",
       " {'Epoch': 123.0,\n",
       "  'Training Loss': 0.7945,\n",
       "  'Validation Loss': 0.8732,\n",
       "  'Learning Rate': 0.0004477357683661},\n",
       " {'Epoch': 124.0,\n",
       "  'Training Loss': 0.7946,\n",
       "  'Validation Loss': 0.8735,\n",
       "  'Learning Rate': 0.0005522642316338},\n",
       " {'Epoch': 125.0,\n",
       "  'Training Loss': 0.7954,\n",
       "  'Validation Loss': 0.8742,\n",
       "  'Learning Rate': 0.0006545084971874},\n",
       " {'Epoch': 126.0,\n",
       "  'Training Loss': 0.7974,\n",
       "  'Validation Loss': 0.8764,\n",
       "  'Learning Rate': 0.0007499999999999},\n",
       " {'Epoch': 127.0,\n",
       "  'Training Loss': 0.7997,\n",
       "  'Validation Loss': 0.8743,\n",
       "  'Learning Rate': 0.0008345653031794},\n",
       " {'Epoch': 128.0,\n",
       "  'Training Loss': 0.7999,\n",
       "  'Validation Loss': 0.8742,\n",
       "  'Learning Rate': 0.0009045084971874},\n",
       " {'Epoch': 129.0,\n",
       "  'Training Loss': 0.7995,\n",
       "  'Validation Loss': 0.8738,\n",
       "  'Learning Rate': 0.0009567727288212},\n",
       " {'Epoch': 130.0,\n",
       "  'Training Loss': 0.7996,\n",
       "  'Validation Loss': 0.8752,\n",
       "  'Learning Rate': 0.0009890738003668},\n",
       " {'Epoch': 131.0,\n",
       "  'Training Loss': 0.7997,\n",
       "  'Validation Loss': 0.8737,\n",
       "  'Learning Rate': 0.0009999999999999},\n",
       " {'Epoch': 132.0,\n",
       "  'Training Loss': 0.8003,\n",
       "  'Validation Loss': 0.8763,\n",
       "  'Learning Rate': 0.0009890738003668},\n",
       " {'Epoch': 133.0,\n",
       "  'Training Loss': 0.8006,\n",
       "  'Validation Loss': 0.8747,\n",
       "  'Learning Rate': 0.0009567727288212},\n",
       " {'Epoch': 134.0,\n",
       "  'Training Loss': 0.8002,\n",
       "  'Validation Loss': 0.8795,\n",
       "  'Learning Rate': 0.0009045084971874},\n",
       " {'Epoch': 135.0,\n",
       "  'Training Loss': 0.7996,\n",
       "  'Validation Loss': 0.8741,\n",
       "  'Learning Rate': 0.0008345653031794},\n",
       " {'Epoch': 136.0,\n",
       "  'Training Loss': 0.7985,\n",
       "  'Validation Loss': 0.8736,\n",
       "  'Learning Rate': 0.0007499999999999},\n",
       " {'Epoch': 137.0,\n",
       "  'Training Loss': 0.7975,\n",
       "  'Validation Loss': 0.8727,\n",
       "  'Learning Rate': 0.0006545084971874},\n",
       " {'Epoch': 138.0,\n",
       "  'Training Loss': 0.7963,\n",
       "  'Validation Loss': 0.8732,\n",
       "  'Learning Rate': 0.0005522642316338},\n",
       " {'Epoch': 139.0,\n",
       "  'Training Loss': 0.7955,\n",
       "  'Validation Loss': 0.8735,\n",
       "  'Learning Rate': 0.0004477357683661},\n",
       " {'Epoch': 140.0,\n",
       "  'Training Loss': 0.7949,\n",
       "  'Validation Loss': 0.8731,\n",
       "  'Learning Rate': 0.0003454915028125},\n",
       " {'Epoch': 141.0,\n",
       "  'Training Loss': 0.7947,\n",
       "  'Validation Loss': 0.8727,\n",
       "  'Learning Rate': 0.0002499999999999},\n",
       " {'Epoch': 142.0,\n",
       "  'Training Loss': 0.7945,\n",
       "  'Validation Loss': 0.8725,\n",
       "  'Learning Rate': 0.0001654346968205},\n",
       " {'Epoch': 143.0,\n",
       "  'Training Loss': 0.7945,\n",
       "  'Validation Loss': 0.8728,\n",
       "  'Learning Rate': 9.54915028125273e-05},\n",
       " {'Epoch': 144.0,\n",
       "  'Training Loss': 0.7946,\n",
       "  'Validation Loss': 0.8724,\n",
       "  'Learning Rate': 4.322727117869759e-05},\n",
       " {'Epoch': 145.0,\n",
       "  'Training Loss': 0.7947,\n",
       "  'Validation Loss': 0.8721,\n",
       "  'Learning Rate': 1.092619963309777e-05},\n",
       " {'Epoch': 146.0,\n",
       "  'Training Loss': 0.7948,\n",
       "  'Validation Loss': 0.8722,\n",
       "  'Learning Rate': 0.0},\n",
       " {'Epoch': 147.0,\n",
       "  'Training Loss': 0.7947,\n",
       "  'Validation Loss': 0.8722,\n",
       "  'Learning Rate': 1.0926199633097156e-05},\n",
       " {'Epoch': 148.0,\n",
       "  'Training Loss': 0.7947,\n",
       "  'Validation Loss': 0.8722,\n",
       "  'Learning Rate': 4.322727117870071e-05},\n",
       " {'Epoch': 149.0,\n",
       "  'Training Loss': 0.7945,\n",
       "  'Validation Loss': 0.8721,\n",
       "  'Learning Rate': 9.54915028125298e-05},\n",
       " {'Epoch': 150.0,\n",
       "  'Training Loss': 0.7942,\n",
       "  'Validation Loss': 0.8722,\n",
       "  'Learning Rate': 0.0001654346968205}]"
      ]
     },
     "execution_count": 38,
     "metadata": {},
     "output_type": "execute_result"
    }
   ],
   "source": [
    "# reading existing logs for continous updating\n",
    "df = pd.read_csv(\"..\\\\saved_models\\\\convolutional_autoencoder\\\\conv_ae_9374595.csv\")\n",
    "list(df.T.to_dict().values())"
   ]
  },
  {
   "cell_type": "markdown",
   "metadata": {},
   "source": [
    "#### Convolutional Autoencoder"
   ]
  },
  {
   "cell_type": "code",
   "execution_count": null,
   "metadata": {},
   "outputs": [],
   "source": [
    "# TODO: make this stuff modular and less error prone (e.g resetting model parameters accidentally)"
   ]
  },
  {
   "cell_type": "code",
   "execution_count": 9,
   "metadata": {},
   "outputs": [],
   "source": [
    "# load model architecture\n",
    "\n",
    "device = torch.device(\"cuda:0\" if torch.cuda.is_available() else \"cpu\")\n",
    "\n",
    "dim=2084\n",
    "c = [1, 64, 128, 256, 512]\n",
    "\n",
    "conv_ae = ConvAE(latent_dim=dim, channels=c, kernel=(3, 2))\n",
    "conv_ae.to(device);"
   ]
  },
  {
   "cell_type": "code",
   "execution_count": 12,
   "metadata": {},
   "outputs": [],
   "source": [
    "model_filepath = \"..\\\\saved_models\\\\convolutional_autoencoder\\\\\"\n",
    "\n",
    "model_name = f'conv_ae_{utils.num_parameters(conv_ae)}'\n",
    "\n",
    "\n",
    "meta_data = {\n",
    "    'model name':model_name,\n",
    "    'learning rate':1e-3,\n",
    "    'optimizer':'Adam',\n",
    "    'latent dim': 2084,\n",
    "    'channel sizes': c,\n",
    "    'kernel size':(3, 2)\n",
    "}\n",
    "\n",
    "with open(model_filepath+model_name+'.json', 'w') as file:\n",
    "    json.dump(meta_data, file, indent=4)\n"
   ]
  },
  {
   "cell_type": "code",
   "execution_count": 13,
   "metadata": {},
   "outputs": [
    {
     "data": {
      "text/plain": [
       "(torch.Size([1, 1, 129, 5]), torch.Size([1, 1, 129, 5]), 1.1089777946472168)"
      ]
     },
     "execution_count": 13,
     "metadata": {},
     "output_type": "execute_result"
    }
   ],
   "source": [
    "# initialise model architecture with forward pass (this needs to be fixed :c )\n",
    "with torch.no_grad():\n",
    "    sample_input = frames_trainset.__getitem__(0)[0].unsqueeze(0).to(device)\n",
    "    sample_output = conv_ae(sample_input)\n",
    "    loss = F.mse_loss(sample_input, sample_output, reduction='mean')\n",
    "\n",
    "sample_input.shape, sample_output.shape, loss.item()"
   ]
  },
  {
   "cell_type": "code",
   "execution_count": 14,
   "metadata": {},
   "outputs": [
    {
     "name": "stdout",
     "output_type": "stream",
     "text": [
      "No saved weights found for conv_ae_40428143 in ..\\saved_models\\convolutional_autoencoder\\\n"
     ]
    }
   ],
   "source": [
    "# check for existing state dicts\n",
    "\n",
    "if f'{model_name}.pth' in os.listdir(model_filepath):\n",
    "    conv_ae.load_state_dict(torch.load(model_filepath+model_name+'.pth'))\n",
    "    print(f'Loaded state dict for {model_name}')\n",
    "else:\n",
    "    print(f'No saved weights found for {model_name} in {model_filepath}')"
   ]
  },
  {
   "cell_type": "code",
   "execution_count": 11,
   "metadata": {},
   "outputs": [
    {
     "name": "stdout",
     "output_type": "stream",
     "text": [
      "Existing log data found for 202 epochs\n"
     ]
    }
   ],
   "source": [
    "# check for existing logs\n",
    "\n",
    "if f'{model_name}.csv' in os.listdir(model_filepath):\n",
    "    df = pd.read_csv(model_filepath+model_name+'.csv')\n",
    "    log = list(df.T.to_dict().values())\n",
    "    print(f'Existing log data found for {len(log)} epochs')\n",
    "else:\n",
    "    log = []\n",
    "    print(f'No existing log data found for {model_name} in {model_filepath}. Creating new one')"
   ]
  },
  {
   "cell_type": "code",
   "execution_count": 21,
   "metadata": {},
   "outputs": [],
   "source": [
    "# one time parameters\n",
    "\n",
    "def loss_function(y, y_hat, red='mean'):\n",
    "    return F.mse_loss(y, y_hat, reduction=red)\n",
    "\n",
    "activation_stats = {}\n",
    "\n",
    "def forward_hook(module, input, output):\n",
    "    if conv_ae.log_stats:\n",
    "        activation_stats[module] = {\n",
    "            \"mean\": output.mean().item(),\n",
    "            \"std\": output.std().item()\n",
    "        }\n",
    "\n",
    "for name, layer in conv_ae.named_modules(remove_duplicate=True):\n",
    "    layer.register_forward_hook(forward_hook)"
   ]
  },
  {
   "cell_type": "code",
   "execution_count": 13,
   "metadata": {},
   "outputs": [
    {
     "data": {
      "text/plain": [
       "(device(type='cuda', index=0),\n",
       " '..\\\\saved_models\\\\convolutional_autoencoder\\\\',\n",
       " 'conv_ae_6253059')"
      ]
     },
     "execution_count": 13,
     "metadata": {},
     "output_type": "execute_result"
    }
   ],
   "source": [
    "device, model_filepath, model_name"
   ]
  },
  {
   "cell_type": "code",
   "execution_count": 14,
   "metadata": {},
   "outputs": [],
   "source": [
    "# parameters tunable during training\n",
    "\n",
    "epochs = 150\n",
    "patience = 10\n",
    "best_val_loss = float('inf')\n",
    "epochs_without_improvement = 0\n",
    "optimizer = optim.Adam(conv_ae.parameters(), lr=1e-3)\n",
    "\n",
    "step_lr = StepLR(optimizer, step_size=50, gamma=0.1)\n",
    "cos_lr = CosineAnnealingLR(optimizer, T_max=epochs//10, eta_min=0)\n",
    "\n",
    "scheduler = step_lr"
   ]
  },
  {
   "cell_type": "markdown",
   "metadata": {},
   "source": [
    "#### Autoencoder Training Loop"
   ]
  },
  {
   "cell_type": "code",
   "execution_count": 55,
   "metadata": {},
   "outputs": [
    {
     "name": "stderr",
     "output_type": "stream",
     "text": [
      "                                                                         \r"
     ]
    },
    {
     "name": "stdout",
     "output_type": "stream",
     "text": [
      "Epoch 1/150, Train Loss: 0.3967, Val Loss: 0.3931\n"
     ]
    },
    {
     "name": "stderr",
     "output_type": "stream",
     "text": [
      "                                                                         \r"
     ]
    },
    {
     "name": "stdout",
     "output_type": "stream",
     "text": [
      "Epoch 2/150, Train Loss: 0.3938, Val Loss: 0.3930\n"
     ]
    },
    {
     "name": "stderr",
     "output_type": "stream",
     "text": [
      "                                                                         \r"
     ]
    },
    {
     "name": "stdout",
     "output_type": "stream",
     "text": [
      "Epoch 3/150, Train Loss: 0.3929, Val Loss: 0.3935\n"
     ]
    },
    {
     "name": "stderr",
     "output_type": "stream",
     "text": [
      "                                                                         \r"
     ]
    },
    {
     "name": "stdout",
     "output_type": "stream",
     "text": [
      "Epoch 4/150, Train Loss: 0.3925, Val Loss: 0.3949\n"
     ]
    },
    {
     "name": "stderr",
     "output_type": "stream",
     "text": [
      "                                                                         \r"
     ]
    },
    {
     "name": "stdout",
     "output_type": "stream",
     "text": [
      "Epoch 5/150, Train Loss: 0.3934, Val Loss: 0.3944\n"
     ]
    },
    {
     "name": "stderr",
     "output_type": "stream",
     "text": [
      "                                                                         \r"
     ]
    },
    {
     "name": "stdout",
     "output_type": "stream",
     "text": [
      "Epoch 6/150, Train Loss: 0.3927, Val Loss: 0.3951\n"
     ]
    },
    {
     "name": "stderr",
     "output_type": "stream",
     "text": [
      "                                                                         \r"
     ]
    },
    {
     "name": "stdout",
     "output_type": "stream",
     "text": [
      "Epoch 7/150, Train Loss: 0.3923, Val Loss: 0.3936\n"
     ]
    },
    {
     "name": "stderr",
     "output_type": "stream",
     "text": [
      "                                                                         \r"
     ]
    },
    {
     "name": "stdout",
     "output_type": "stream",
     "text": [
      "Epoch 8/150, Train Loss: 0.3927, Val Loss: 0.3947\n"
     ]
    },
    {
     "name": "stderr",
     "output_type": "stream",
     "text": [
      "                                                                         \r"
     ]
    },
    {
     "name": "stdout",
     "output_type": "stream",
     "text": [
      "Epoch 9/150, Train Loss: 0.3925, Val Loss: 0.3937\n"
     ]
    },
    {
     "name": "stderr",
     "output_type": "stream",
     "text": [
      "                                                                          \r"
     ]
    },
    {
     "name": "stdout",
     "output_type": "stream",
     "text": [
      "Epoch 10/150, Train Loss: 0.3928, Val Loss: 0.3969\n"
     ]
    },
    {
     "name": "stderr",
     "output_type": "stream",
     "text": [
      "                                                                          \r"
     ]
    },
    {
     "name": "stdout",
     "output_type": "stream",
     "text": [
      "Epoch 11/150, Train Loss: 0.3936, Val Loss: 0.3992\n"
     ]
    },
    {
     "name": "stderr",
     "output_type": "stream",
     "text": [
      "                                                                          \r"
     ]
    },
    {
     "name": "stdout",
     "output_type": "stream",
     "text": [
      "Epoch 12/150, Train Loss: 0.3941, Val Loss: 0.3979\n",
      "Plateaued at 12, switching to cosine annealing \n"
     ]
    },
    {
     "name": "stderr",
     "output_type": "stream",
     "text": [
      "                                                                          \r"
     ]
    },
    {
     "name": "stdout",
     "output_type": "stream",
     "text": [
      "Epoch 13/150, Train Loss: 0.3929, Val Loss: 0.3969\n"
     ]
    },
    {
     "name": "stderr",
     "output_type": "stream",
     "text": [
      "                                                                          \r"
     ]
    },
    {
     "name": "stdout",
     "output_type": "stream",
     "text": [
      "Epoch 14/150, Train Loss: 0.3923, Val Loss: 0.3946\n"
     ]
    },
    {
     "name": "stderr",
     "output_type": "stream",
     "text": [
      "                                                                          \r"
     ]
    },
    {
     "name": "stdout",
     "output_type": "stream",
     "text": [
      "Epoch 15/150, Train Loss: 0.3911, Val Loss: 0.3926\n"
     ]
    },
    {
     "name": "stderr",
     "output_type": "stream",
     "text": [
      "                                                                          \r"
     ]
    },
    {
     "name": "stdout",
     "output_type": "stream",
     "text": [
      "Epoch 16/150, Train Loss: 0.3898, Val Loss: 0.3904\n"
     ]
    },
    {
     "name": "stderr",
     "output_type": "stream",
     "text": [
      "                                                                          \r"
     ]
    },
    {
     "name": "stdout",
     "output_type": "stream",
     "text": [
      "Epoch 17/150, Train Loss: 0.3893, Val Loss: 0.3910\n"
     ]
    },
    {
     "name": "stderr",
     "output_type": "stream",
     "text": [
      "                                                                          \r"
     ]
    },
    {
     "name": "stdout",
     "output_type": "stream",
     "text": [
      "Epoch 18/150, Train Loss: 0.3889, Val Loss: 0.3913\n"
     ]
    },
    {
     "name": "stderr",
     "output_type": "stream",
     "text": [
      "                                                                          \r"
     ]
    },
    {
     "name": "stdout",
     "output_type": "stream",
     "text": [
      "Epoch 19/150, Train Loss: 0.3887, Val Loss: 0.3903\n"
     ]
    },
    {
     "name": "stderr",
     "output_type": "stream",
     "text": [
      "                                                                          \r"
     ]
    },
    {
     "name": "stdout",
     "output_type": "stream",
     "text": [
      "Epoch 20/150, Train Loss: 0.3878, Val Loss: 0.3901\n"
     ]
    },
    {
     "name": "stderr",
     "output_type": "stream",
     "text": [
      "                                                                          \r"
     ]
    },
    {
     "name": "stdout",
     "output_type": "stream",
     "text": [
      "Epoch 21/150, Train Loss: 0.3864, Val Loss: 0.3865\n"
     ]
    },
    {
     "name": "stderr",
     "output_type": "stream",
     "text": [
      "                                                                          \r"
     ]
    },
    {
     "name": "stdout",
     "output_type": "stream",
     "text": [
      "Epoch 22/150, Train Loss: 0.3854, Val Loss: 0.3857\n",
      "Plateaued at 22, switching to cosine annealing \n"
     ]
    },
    {
     "name": "stderr",
     "output_type": "stream",
     "text": [
      "                                                                          \r"
     ]
    },
    {
     "name": "stdout",
     "output_type": "stream",
     "text": [
      "Epoch 23/150, Train Loss: 0.3848, Val Loss: 0.3836\n"
     ]
    },
    {
     "name": "stderr",
     "output_type": "stream",
     "text": [
      "                                                                          \r"
     ]
    },
    {
     "name": "stdout",
     "output_type": "stream",
     "text": [
      "Epoch 24/150, Train Loss: 0.3842, Val Loss: 0.3834\n"
     ]
    },
    {
     "name": "stderr",
     "output_type": "stream",
     "text": [
      "                                                                          \r"
     ]
    },
    {
     "name": "stdout",
     "output_type": "stream",
     "text": [
      "Epoch 25/150, Train Loss: 0.3835, Val Loss: 0.3827\n"
     ]
    },
    {
     "name": "stderr",
     "output_type": "stream",
     "text": [
      "                                                                          \r"
     ]
    },
    {
     "name": "stdout",
     "output_type": "stream",
     "text": [
      "Epoch 26/150, Train Loss: 0.3827, Val Loss: 0.3823\n"
     ]
    },
    {
     "name": "stderr",
     "output_type": "stream",
     "text": [
      "                                                                          \r"
     ]
    },
    {
     "name": "stdout",
     "output_type": "stream",
     "text": [
      "Epoch 27/150, Train Loss: 0.3824, Val Loss: 0.3822\n"
     ]
    },
    {
     "name": "stderr",
     "output_type": "stream",
     "text": [
      "                                                                          \r"
     ]
    },
    {
     "name": "stdout",
     "output_type": "stream",
     "text": [
      "Epoch 28/150, Train Loss: 0.3823, Val Loss: 0.3822\n"
     ]
    },
    {
     "name": "stderr",
     "output_type": "stream",
     "text": [
      "                                                                          \r"
     ]
    },
    {
     "name": "stdout",
     "output_type": "stream",
     "text": [
      "Epoch 29/150, Train Loss: 0.3824, Val Loss: 0.3822\n"
     ]
    },
    {
     "name": "stderr",
     "output_type": "stream",
     "text": [
      "                                                                          \r"
     ]
    },
    {
     "name": "stdout",
     "output_type": "stream",
     "text": [
      "Epoch 30/150, Train Loss: 0.3825, Val Loss: 0.3822\n"
     ]
    },
    {
     "name": "stderr",
     "output_type": "stream",
     "text": [
      "                                                                          \r"
     ]
    },
    {
     "name": "stdout",
     "output_type": "stream",
     "text": [
      "Epoch 31/150, Train Loss: 0.3827, Val Loss: 0.3825\n"
     ]
    },
    {
     "name": "stderr",
     "output_type": "stream",
     "text": [
      "                                                                          \r"
     ]
    },
    {
     "name": "stdout",
     "output_type": "stream",
     "text": [
      "Epoch 32/150, Train Loss: 0.3828, Val Loss: 0.3824\n",
      "Plateaued at 32, switching to cosine annealing \n"
     ]
    },
    {
     "name": "stderr",
     "output_type": "stream",
     "text": [
      "                                                                          \r"
     ]
    },
    {
     "name": "stdout",
     "output_type": "stream",
     "text": [
      "Epoch 33/150, Train Loss: 0.3827, Val Loss: 0.3825\n"
     ]
    },
    {
     "name": "stderr",
     "output_type": "stream",
     "text": [
      "                                                                          \r"
     ]
    },
    {
     "name": "stdout",
     "output_type": "stream",
     "text": [
      "Epoch 34/150, Train Loss: 0.3825, Val Loss: 0.3829\n"
     ]
    },
    {
     "name": "stderr",
     "output_type": "stream",
     "text": [
      "                                                                          \r"
     ]
    },
    {
     "name": "stdout",
     "output_type": "stream",
     "text": [
      "Epoch 35/150, Train Loss: 0.3823, Val Loss: 0.3831\n"
     ]
    },
    {
     "name": "stderr",
     "output_type": "stream",
     "text": [
      "                                                                          \r"
     ]
    },
    {
     "name": "stdout",
     "output_type": "stream",
     "text": [
      "Epoch 36/150, Train Loss: 0.3824, Val Loss: 0.3830\n"
     ]
    },
    {
     "name": "stderr",
     "output_type": "stream",
     "text": [
      "                                                                          \r"
     ]
    },
    {
     "name": "stdout",
     "output_type": "stream",
     "text": [
      "Epoch 37/150, Train Loss: 0.3828, Val Loss: 0.3845\n"
     ]
    },
    {
     "name": "stderr",
     "output_type": "stream",
     "text": [
      "                                                                          \r"
     ]
    },
    {
     "name": "stdout",
     "output_type": "stream",
     "text": [
      "Epoch 38/150, Train Loss: 0.3841, Val Loss: 0.3851\n"
     ]
    },
    {
     "name": "stderr",
     "output_type": "stream",
     "text": [
      "                                                                          \r"
     ]
    },
    {
     "name": "stdout",
     "output_type": "stream",
     "text": [
      "Epoch 39/150, Train Loss: 0.3842, Val Loss: 0.3853\n"
     ]
    },
    {
     "name": "stderr",
     "output_type": "stream",
     "text": [
      "                                                                          \r"
     ]
    },
    {
     "name": "stdout",
     "output_type": "stream",
     "text": [
      "Epoch 40/150, Train Loss: 0.3847, Val Loss: 0.3854\n"
     ]
    },
    {
     "name": "stderr",
     "output_type": "stream",
     "text": [
      "                                                                          \r"
     ]
    },
    {
     "name": "stdout",
     "output_type": "stream",
     "text": [
      "Epoch 41/150, Train Loss: 0.3843, Val Loss: 0.3862\n"
     ]
    },
    {
     "name": "stderr",
     "output_type": "stream",
     "text": [
      "                                                                          \r"
     ]
    },
    {
     "name": "stdout",
     "output_type": "stream",
     "text": [
      "Epoch 42/150, Train Loss: 0.3843, Val Loss: 0.3849\n",
      "Plateaued at 42, switching to cosine annealing \n"
     ]
    },
    {
     "name": "stderr",
     "output_type": "stream",
     "text": [
      "                                                                          \r"
     ]
    },
    {
     "name": "stdout",
     "output_type": "stream",
     "text": [
      "Epoch 43/150, Train Loss: 0.3857, Val Loss: 0.3880\n"
     ]
    },
    {
     "name": "stderr",
     "output_type": "stream",
     "text": [
      "                                                                          \r"
     ]
    },
    {
     "name": "stdout",
     "output_type": "stream",
     "text": [
      "Epoch 44/150, Train Loss: 0.3862, Val Loss: 0.3882\n"
     ]
    },
    {
     "name": "stderr",
     "output_type": "stream",
     "text": [
      "                                                                          \r"
     ]
    },
    {
     "name": "stdout",
     "output_type": "stream",
     "text": [
      "Epoch 45/150, Train Loss: 0.3865, Val Loss: 0.3898\n"
     ]
    },
    {
     "name": "stderr",
     "output_type": "stream",
     "text": [
      "                                                                          \r"
     ]
    },
    {
     "name": "stdout",
     "output_type": "stream",
     "text": [
      "Epoch 46/150, Train Loss: 0.3848, Val Loss: 0.3870\n"
     ]
    },
    {
     "name": "stderr",
     "output_type": "stream",
     "text": [
      "                                                                          \r"
     ]
    },
    {
     "name": "stdout",
     "output_type": "stream",
     "text": [
      "Epoch 47/150, Train Loss: 0.3837, Val Loss: 0.3849\n"
     ]
    },
    {
     "name": "stderr",
     "output_type": "stream",
     "text": [
      "                                                                          \r"
     ]
    },
    {
     "name": "stdout",
     "output_type": "stream",
     "text": [
      "Epoch 48/150, Train Loss: 0.3831, Val Loss: 0.3848\n"
     ]
    },
    {
     "name": "stderr",
     "output_type": "stream",
     "text": [
      "                                                                          \r"
     ]
    },
    {
     "name": "stdout",
     "output_type": "stream",
     "text": [
      "Epoch 49/150, Train Loss: 0.3828, Val Loss: 0.3866\n"
     ]
    },
    {
     "name": "stderr",
     "output_type": "stream",
     "text": [
      "                                                                          \r"
     ]
    },
    {
     "name": "stdout",
     "output_type": "stream",
     "text": [
      "Epoch 50/150, Train Loss: 0.3828, Val Loss: 0.3843\n"
     ]
    },
    {
     "name": "stderr",
     "output_type": "stream",
     "text": [
      "                                                                          \r"
     ]
    },
    {
     "name": "stdout",
     "output_type": "stream",
     "text": [
      "Epoch 51/150, Train Loss: 0.3815, Val Loss: 0.3820\n"
     ]
    },
    {
     "name": "stderr",
     "output_type": "stream",
     "text": [
      "                                                                          \r"
     ]
    },
    {
     "name": "stdout",
     "output_type": "stream",
     "text": [
      "Epoch 52/150, Train Loss: 0.3804, Val Loss: 0.3806\n",
      "Plateaued at 52, switching to cosine annealing \n"
     ]
    },
    {
     "name": "stderr",
     "output_type": "stream",
     "text": [
      "                                                                          \r"
     ]
    },
    {
     "name": "stdout",
     "output_type": "stream",
     "text": [
      "Epoch 53/150, Train Loss: 0.3798, Val Loss: 0.3793\n"
     ]
    },
    {
     "name": "stderr",
     "output_type": "stream",
     "text": [
      "                                                                          \r"
     ]
    },
    {
     "name": "stdout",
     "output_type": "stream",
     "text": [
      "Epoch 54/150, Train Loss: 0.3793, Val Loss: 0.3790\n"
     ]
    },
    {
     "name": "stderr",
     "output_type": "stream",
     "text": [
      "                                                                          \r"
     ]
    },
    {
     "name": "stdout",
     "output_type": "stream",
     "text": [
      "Epoch 55/150, Train Loss: 0.3786, Val Loss: 0.3782\n"
     ]
    },
    {
     "name": "stderr",
     "output_type": "stream",
     "text": [
      "                                                                          \r"
     ]
    },
    {
     "name": "stdout",
     "output_type": "stream",
     "text": [
      "Epoch 56/150, Train Loss: 0.3779, Val Loss: 0.3780\n"
     ]
    },
    {
     "name": "stderr",
     "output_type": "stream",
     "text": [
      "                                                                          \r"
     ]
    },
    {
     "name": "stdout",
     "output_type": "stream",
     "text": [
      "Epoch 57/150, Train Loss: 0.3776, Val Loss: 0.3779\n"
     ]
    },
    {
     "name": "stderr",
     "output_type": "stream",
     "text": [
      "                                                                          \r"
     ]
    },
    {
     "name": "stdout",
     "output_type": "stream",
     "text": [
      "Epoch 58/150, Train Loss: 0.3775, Val Loss: 0.3779\n"
     ]
    },
    {
     "name": "stderr",
     "output_type": "stream",
     "text": [
      "                                                                          \r"
     ]
    },
    {
     "name": "stdout",
     "output_type": "stream",
     "text": [
      "Epoch 59/150, Train Loss: 0.3776, Val Loss: 0.3779\n"
     ]
    },
    {
     "name": "stderr",
     "output_type": "stream",
     "text": [
      "                                                                          \r"
     ]
    },
    {
     "name": "stdout",
     "output_type": "stream",
     "text": [
      "Epoch 60/150, Train Loss: 0.3777, Val Loss: 0.3779\n"
     ]
    },
    {
     "name": "stderr",
     "output_type": "stream",
     "text": [
      "                                                                          \r"
     ]
    },
    {
     "name": "stdout",
     "output_type": "stream",
     "text": [
      "Epoch 61/150, Train Loss: 0.3779, Val Loss: 0.3780\n"
     ]
    },
    {
     "name": "stderr",
     "output_type": "stream",
     "text": [
      "                                                                          \r"
     ]
    },
    {
     "name": "stdout",
     "output_type": "stream",
     "text": [
      "Epoch 62/150, Train Loss: 0.3780, Val Loss: 0.3780\n",
      "Plateaued at 62, switching to cosine annealing \n"
     ]
    },
    {
     "name": "stderr",
     "output_type": "stream",
     "text": [
      "                                                                          \r"
     ]
    },
    {
     "name": "stdout",
     "output_type": "stream",
     "text": [
      "Epoch 63/150, Train Loss: 0.3779, Val Loss: 0.3780\n"
     ]
    },
    {
     "name": "stderr",
     "output_type": "stream",
     "text": [
      "                                                                          \r"
     ]
    },
    {
     "name": "stdout",
     "output_type": "stream",
     "text": [
      "Epoch 64/150, Train Loss: 0.3776, Val Loss: 0.3782\n"
     ]
    },
    {
     "name": "stderr",
     "output_type": "stream",
     "text": [
      "                                                                          \r"
     ]
    },
    {
     "name": "stdout",
     "output_type": "stream",
     "text": [
      "Epoch 65/150, Train Loss: 0.3773, Val Loss: 0.3785\n"
     ]
    },
    {
     "name": "stderr",
     "output_type": "stream",
     "text": [
      "                                                                          \r"
     ]
    },
    {
     "name": "stdout",
     "output_type": "stream",
     "text": [
      "Epoch 66/150, Train Loss: 0.3772, Val Loss: 0.3792\n"
     ]
    },
    {
     "name": "stderr",
     "output_type": "stream",
     "text": [
      "                                                                          \r"
     ]
    },
    {
     "name": "stdout",
     "output_type": "stream",
     "text": [
      "Epoch 67/150, Train Loss: 0.3775, Val Loss: 0.3797\n"
     ]
    },
    {
     "name": "stderr",
     "output_type": "stream",
     "text": [
      "                                                                          \r"
     ]
    },
    {
     "name": "stdout",
     "output_type": "stream",
     "text": [
      "Epoch 68/150, Train Loss: 0.3789, Val Loss: 0.3824\n"
     ]
    },
    {
     "name": "stderr",
     "output_type": "stream",
     "text": [
      "                                                                          \r"
     ]
    },
    {
     "name": "stdout",
     "output_type": "stream",
     "text": [
      "Epoch 69/150, Train Loss: 0.3810, Val Loss: 0.3847\n"
     ]
    },
    {
     "name": "stderr",
     "output_type": "stream",
     "text": [
      "                                                                          \r"
     ]
    },
    {
     "name": "stdout",
     "output_type": "stream",
     "text": [
      "Epoch 70/150, Train Loss: 0.3817, Val Loss: 0.3833\n"
     ]
    },
    {
     "name": "stderr",
     "output_type": "stream",
     "text": [
      "                                                                          \r"
     ]
    },
    {
     "name": "stdout",
     "output_type": "stream",
     "text": [
      "Epoch 71/150, Train Loss: 0.3819, Val Loss: 0.3839\n"
     ]
    },
    {
     "name": "stderr",
     "output_type": "stream",
     "text": [
      "                                                                          \r"
     ]
    },
    {
     "name": "stdout",
     "output_type": "stream",
     "text": [
      "Epoch 72/150, Train Loss: 0.3822, Val Loss: 0.3835\n",
      "Plateaued at 72, switching to cosine annealing \n"
     ]
    },
    {
     "name": "stderr",
     "output_type": "stream",
     "text": [
      "                                                                          \r"
     ]
    },
    {
     "name": "stdout",
     "output_type": "stream",
     "text": [
      "Epoch 73/150, Train Loss: 0.3822, Val Loss: 0.3817\n"
     ]
    },
    {
     "name": "stderr",
     "output_type": "stream",
     "text": [
      "                                                                          \r"
     ]
    },
    {
     "name": "stdout",
     "output_type": "stream",
     "text": [
      "Epoch 74/150, Train Loss: 0.3812, Val Loss: 0.3812\n"
     ]
    },
    {
     "name": "stderr",
     "output_type": "stream",
     "text": [
      "                                                                          \r"
     ]
    },
    {
     "name": "stdout",
     "output_type": "stream",
     "text": [
      "Epoch 75/150, Train Loss: 0.3811, Val Loss: 0.3837\n"
     ]
    },
    {
     "name": "stderr",
     "output_type": "stream",
     "text": [
      "                                                                          \r"
     ]
    },
    {
     "name": "stdout",
     "output_type": "stream",
     "text": [
      "Epoch 76/150, Train Loss: 0.3805, Val Loss: 0.3833\n"
     ]
    },
    {
     "name": "stderr",
     "output_type": "stream",
     "text": [
      "                                                                          \r"
     ]
    },
    {
     "name": "stdout",
     "output_type": "stream",
     "text": [
      "Epoch 77/150, Train Loss: 0.3801, Val Loss: 0.3816\n"
     ]
    },
    {
     "name": "stderr",
     "output_type": "stream",
     "text": [
      "                                                                          \r"
     ]
    },
    {
     "name": "stdout",
     "output_type": "stream",
     "text": [
      "Epoch 78/150, Train Loss: 0.3789, Val Loss: 0.3810\n"
     ]
    },
    {
     "name": "stderr",
     "output_type": "stream",
     "text": [
      "                                                                          \r"
     ]
    },
    {
     "name": "stdout",
     "output_type": "stream",
     "text": [
      "Epoch 79/150, Train Loss: 0.3786, Val Loss: 0.3813\n"
     ]
    },
    {
     "name": "stderr",
     "output_type": "stream",
     "text": [
      "                                                                          \r"
     ]
    },
    {
     "name": "stdout",
     "output_type": "stream",
     "text": [
      "Epoch 80/150, Train Loss: 0.3785, Val Loss: 0.3799\n"
     ]
    },
    {
     "name": "stderr",
     "output_type": "stream",
     "text": [
      "                                                                          \r"
     ]
    },
    {
     "name": "stdout",
     "output_type": "stream",
     "text": [
      "Epoch 81/150, Train Loss: 0.3777, Val Loss: 0.3787\n"
     ]
    },
    {
     "name": "stderr",
     "output_type": "stream",
     "text": [
      "                                                                          \r"
     ]
    },
    {
     "name": "stdout",
     "output_type": "stream",
     "text": [
      "Epoch 82/150, Train Loss: 0.3770, Val Loss: 0.3776\n",
      "Plateaued at 82, switching to cosine annealing \n"
     ]
    },
    {
     "name": "stderr",
     "output_type": "stream",
     "text": [
      "                                                                          \r"
     ]
    },
    {
     "name": "stdout",
     "output_type": "stream",
     "text": [
      "Epoch 83/150, Train Loss: 0.3765, Val Loss: 0.3767\n"
     ]
    },
    {
     "name": "stderr",
     "output_type": "stream",
     "text": [
      "                                                                          \r"
     ]
    },
    {
     "name": "stdout",
     "output_type": "stream",
     "text": [
      "Epoch 84/150, Train Loss: 0.3762, Val Loss: 0.3763\n"
     ]
    },
    {
     "name": "stderr",
     "output_type": "stream",
     "text": [
      "                                                                          \r"
     ]
    },
    {
     "name": "stdout",
     "output_type": "stream",
     "text": [
      "Epoch 85/150, Train Loss: 0.3756, Val Loss: 0.3756\n"
     ]
    },
    {
     "name": "stderr",
     "output_type": "stream",
     "text": [
      "                                                                          \r"
     ]
    },
    {
     "name": "stdout",
     "output_type": "stream",
     "text": [
      "Epoch 86/150, Train Loss: 0.3749, Val Loss: 0.3753\n"
     ]
    },
    {
     "name": "stderr",
     "output_type": "stream",
     "text": [
      "                                                                          \r"
     ]
    },
    {
     "name": "stdout",
     "output_type": "stream",
     "text": [
      "Epoch 87/150, Train Loss: 0.3746, Val Loss: 0.3752\n"
     ]
    },
    {
     "name": "stderr",
     "output_type": "stream",
     "text": [
      "                                                                          \r"
     ]
    },
    {
     "name": "stdout",
     "output_type": "stream",
     "text": [
      "Epoch 88/150, Train Loss: 0.3745, Val Loss: 0.3751\n"
     ]
    },
    {
     "name": "stderr",
     "output_type": "stream",
     "text": [
      "                                                                          \r"
     ]
    },
    {
     "name": "stdout",
     "output_type": "stream",
     "text": [
      "Epoch 89/150, Train Loss: 0.3745, Val Loss: 0.3751\n"
     ]
    },
    {
     "name": "stderr",
     "output_type": "stream",
     "text": [
      "                                                                          \r"
     ]
    },
    {
     "name": "stdout",
     "output_type": "stream",
     "text": [
      "Epoch 90/150, Train Loss: 0.3746, Val Loss: 0.3752\n"
     ]
    },
    {
     "name": "stderr",
     "output_type": "stream",
     "text": [
      "                                                                          \r"
     ]
    },
    {
     "name": "stdout",
     "output_type": "stream",
     "text": [
      "Epoch 91/150, Train Loss: 0.3748, Val Loss: 0.3753\n"
     ]
    },
    {
     "name": "stderr",
     "output_type": "stream",
     "text": [
      "                                                                          \r"
     ]
    },
    {
     "name": "stdout",
     "output_type": "stream",
     "text": [
      "Epoch 92/150, Train Loss: 0.3748, Val Loss: 0.3753\n",
      "Plateaued at 92, switching to cosine annealing \n"
     ]
    },
    {
     "name": "stderr",
     "output_type": "stream",
     "text": [
      "                                                                          \r"
     ]
    },
    {
     "name": "stdout",
     "output_type": "stream",
     "text": [
      "Epoch 93/150, Train Loss: 0.3747, Val Loss: 0.3753\n"
     ]
    },
    {
     "name": "stderr",
     "output_type": "stream",
     "text": [
      "                                                                          \r"
     ]
    },
    {
     "name": "stdout",
     "output_type": "stream",
     "text": [
      "Epoch 94/150, Train Loss: 0.3745, Val Loss: 0.3754\n"
     ]
    },
    {
     "name": "stderr",
     "output_type": "stream",
     "text": [
      "                                                                          \r"
     ]
    },
    {
     "name": "stdout",
     "output_type": "stream",
     "text": [
      "Epoch 95/150, Train Loss: 0.3742, Val Loss: 0.3754\n"
     ]
    },
    {
     "name": "stderr",
     "output_type": "stream",
     "text": [
      "                                                                          \r"
     ]
    },
    {
     "name": "stdout",
     "output_type": "stream",
     "text": [
      "Epoch 96/150, Train Loss: 0.3740, Val Loss: 0.3754\n"
     ]
    },
    {
     "name": "stderr",
     "output_type": "stream",
     "text": [
      "                                                                          \r"
     ]
    },
    {
     "name": "stdout",
     "output_type": "stream",
     "text": [
      "Epoch 97/150, Train Loss: 0.3740, Val Loss: 0.3757\n"
     ]
    },
    {
     "name": "stderr",
     "output_type": "stream",
     "text": [
      "                                                                          \r"
     ]
    },
    {
     "name": "stdout",
     "output_type": "stream",
     "text": [
      "Epoch 98/150, Train Loss: 0.3743, Val Loss: 0.3762\n"
     ]
    },
    {
     "name": "stderr",
     "output_type": "stream",
     "text": [
      "                                                                          \r"
     ]
    },
    {
     "name": "stdout",
     "output_type": "stream",
     "text": [
      "Epoch 99/150, Train Loss: 0.3754, Val Loss: 0.3789\n"
     ]
    },
    {
     "name": "stderr",
     "output_type": "stream",
     "text": [
      "                                                                           \r"
     ]
    },
    {
     "name": "stdout",
     "output_type": "stream",
     "text": [
      "Epoch 100/150, Train Loss: 0.3773, Val Loss: 0.3811\n"
     ]
    },
    {
     "name": "stderr",
     "output_type": "stream",
     "text": [
      "                                                                           \r"
     ]
    },
    {
     "name": "stdout",
     "output_type": "stream",
     "text": [
      "Epoch 101/150, Train Loss: 0.3795, Val Loss: 0.3815\n"
     ]
    },
    {
     "name": "stderr",
     "output_type": "stream",
     "text": [
      "                                                                           \r"
     ]
    },
    {
     "name": "stdout",
     "output_type": "stream",
     "text": [
      "Epoch 102/150, Train Loss: 0.3810, Val Loss: 0.3803\n",
      "Plateaued at 102, switching to cosine annealing \n"
     ]
    },
    {
     "name": "stderr",
     "output_type": "stream",
     "text": [
      "                                                                           \r"
     ]
    },
    {
     "name": "stdout",
     "output_type": "stream",
     "text": [
      "Epoch 103/150, Train Loss: 0.3801, Val Loss: 0.3821\n"
     ]
    },
    {
     "name": "stderr",
     "output_type": "stream",
     "text": [
      "                                                                           \r"
     ]
    },
    {
     "name": "stdout",
     "output_type": "stream",
     "text": [
      "Epoch 104/150, Train Loss: 0.3787, Val Loss: 0.3790\n"
     ]
    },
    {
     "name": "stderr",
     "output_type": "stream",
     "text": [
      "                                                                           \r"
     ]
    },
    {
     "name": "stdout",
     "output_type": "stream",
     "text": [
      "Epoch 105/150, Train Loss: 0.3783, Val Loss: 0.3802\n"
     ]
    },
    {
     "name": "stderr",
     "output_type": "stream",
     "text": [
      "                                                                           \r"
     ]
    },
    {
     "name": "stdout",
     "output_type": "stream",
     "text": [
      "Epoch 106/150, Train Loss: 0.3778, Val Loss: 0.3794\n"
     ]
    },
    {
     "name": "stderr",
     "output_type": "stream",
     "text": [
      "                                                                           \r"
     ]
    },
    {
     "name": "stdout",
     "output_type": "stream",
     "text": [
      "Epoch 107/150, Train Loss: 0.3774, Val Loss: 0.3792\n"
     ]
    },
    {
     "name": "stderr",
     "output_type": "stream",
     "text": [
      "                                                                           \r"
     ]
    },
    {
     "name": "stdout",
     "output_type": "stream",
     "text": [
      "Epoch 108/150, Train Loss: 0.3770, Val Loss: 0.3787\n"
     ]
    },
    {
     "name": "stderr",
     "output_type": "stream",
     "text": [
      "                                                                           \r"
     ]
    },
    {
     "name": "stdout",
     "output_type": "stream",
     "text": [
      "Epoch 109/150, Train Loss: 0.3760, Val Loss: 0.3767\n"
     ]
    },
    {
     "name": "stderr",
     "output_type": "stream",
     "text": [
      "                                                                           \r"
     ]
    },
    {
     "name": "stdout",
     "output_type": "stream",
     "text": [
      "Epoch 110/150, Train Loss: 0.3751, Val Loss: 0.3762\n"
     ]
    },
    {
     "name": "stderr",
     "output_type": "stream",
     "text": [
      "                                                                           \r"
     ]
    },
    {
     "name": "stdout",
     "output_type": "stream",
     "text": [
      "Epoch 111/150, Train Loss: 0.3744, Val Loss: 0.3759\n"
     ]
    },
    {
     "name": "stderr",
     "output_type": "stream",
     "text": [
      "                                                                           \r"
     ]
    },
    {
     "name": "stdout",
     "output_type": "stream",
     "text": [
      "Epoch 112/150, Train Loss: 0.3741, Val Loss: 0.3754\n",
      "Plateaued at 112, switching to cosine annealing \n"
     ]
    },
    {
     "name": "stderr",
     "output_type": "stream",
     "text": [
      "                                                                           \r"
     ]
    },
    {
     "name": "stdout",
     "output_type": "stream",
     "text": [
      "Epoch 113/150, Train Loss: 0.3741, Val Loss: 0.3746\n"
     ]
    },
    {
     "name": "stderr",
     "output_type": "stream",
     "text": [
      "                                                                           \r"
     ]
    },
    {
     "name": "stdout",
     "output_type": "stream",
     "text": [
      "Epoch 114/150, Train Loss: 0.3738, Val Loss: 0.3740\n"
     ]
    },
    {
     "name": "stderr",
     "output_type": "stream",
     "text": [
      "                                                                           \r"
     ]
    },
    {
     "name": "stdout",
     "output_type": "stream",
     "text": [
      "Epoch 115/150, Train Loss: 0.3731, Val Loss: 0.3738\n"
     ]
    },
    {
     "name": "stderr",
     "output_type": "stream",
     "text": [
      "                                                                           \r"
     ]
    },
    {
     "name": "stdout",
     "output_type": "stream",
     "text": [
      "Epoch 116/150, Train Loss: 0.3725, Val Loss: 0.3734\n"
     ]
    },
    {
     "name": "stderr",
     "output_type": "stream",
     "text": [
      "                                                                           \r"
     ]
    },
    {
     "name": "stdout",
     "output_type": "stream",
     "text": [
      "Epoch 117/150, Train Loss: 0.3723, Val Loss: 0.3732\n"
     ]
    },
    {
     "name": "stderr",
     "output_type": "stream",
     "text": [
      "                                                                           \r"
     ]
    },
    {
     "name": "stdout",
     "output_type": "stream",
     "text": [
      "Epoch 118/150, Train Loss: 0.3721, Val Loss: 0.3731\n"
     ]
    },
    {
     "name": "stderr",
     "output_type": "stream",
     "text": [
      "                                                                           \r"
     ]
    },
    {
     "name": "stdout",
     "output_type": "stream",
     "text": [
      "Epoch 119/150, Train Loss: 0.3722, Val Loss: 0.3731\n"
     ]
    },
    {
     "name": "stderr",
     "output_type": "stream",
     "text": [
      "                                                                           \r"
     ]
    },
    {
     "name": "stdout",
     "output_type": "stream",
     "text": [
      "Epoch 120/150, Train Loss: 0.3723, Val Loss: 0.3734\n"
     ]
    },
    {
     "name": "stderr",
     "output_type": "stream",
     "text": [
      "                                                                           \r"
     ]
    },
    {
     "name": "stdout",
     "output_type": "stream",
     "text": [
      "Epoch 121/150, Train Loss: 0.3724, Val Loss: 0.3734\n"
     ]
    },
    {
     "name": "stderr",
     "output_type": "stream",
     "text": [
      "                                                                           \r"
     ]
    },
    {
     "name": "stdout",
     "output_type": "stream",
     "text": [
      "Epoch 122/150, Train Loss: 0.3724, Val Loss: 0.3732\n",
      "Plateaued at 122, switching to cosine annealing \n"
     ]
    },
    {
     "name": "stderr",
     "output_type": "stream",
     "text": [
      "                                                                           \r"
     ]
    },
    {
     "name": "stdout",
     "output_type": "stream",
     "text": [
      "Epoch 123/150, Train Loss: 0.3724, Val Loss: 0.3733\n"
     ]
    },
    {
     "name": "stderr",
     "output_type": "stream",
     "text": [
      "                                                                           \r"
     ]
    },
    {
     "name": "stdout",
     "output_type": "stream",
     "text": [
      "Epoch 124/150, Train Loss: 0.3721, Val Loss: 0.3734\n"
     ]
    },
    {
     "name": "stderr",
     "output_type": "stream",
     "text": [
      "                                                                           \r"
     ]
    },
    {
     "name": "stdout",
     "output_type": "stream",
     "text": [
      "Epoch 125/150, Train Loss: 0.3718, Val Loss: 0.3733\n"
     ]
    },
    {
     "name": "stderr",
     "output_type": "stream",
     "text": [
      "                                                                           \r"
     ]
    },
    {
     "name": "stdout",
     "output_type": "stream",
     "text": [
      "Epoch 126/150, Train Loss: 0.3716, Val Loss: 0.3734\n"
     ]
    },
    {
     "name": "stderr",
     "output_type": "stream",
     "text": [
      "                                                                           \r"
     ]
    },
    {
     "name": "stdout",
     "output_type": "stream",
     "text": [
      "Epoch 127/150, Train Loss: 0.3715, Val Loss: 0.3734\n"
     ]
    },
    {
     "name": "stderr",
     "output_type": "stream",
     "text": [
      "                                                                           \r"
     ]
    },
    {
     "name": "stdout",
     "output_type": "stream",
     "text": [
      "Epoch 128/150, Train Loss: 0.3717, Val Loss: 0.3739\n"
     ]
    },
    {
     "name": "stderr",
     "output_type": "stream",
     "text": [
      "                                                                           \r"
     ]
    },
    {
     "name": "stdout",
     "output_type": "stream",
     "text": [
      "Epoch 129/150, Train Loss: 0.3728, Val Loss: 0.3753\n"
     ]
    },
    {
     "name": "stderr",
     "output_type": "stream",
     "text": [
      "                                                                           \r"
     ]
    },
    {
     "name": "stdout",
     "output_type": "stream",
     "text": [
      "Epoch 130/150, Train Loss: 0.3744, Val Loss: 0.3769\n"
     ]
    },
    {
     "name": "stderr",
     "output_type": "stream",
     "text": [
      "                                                                           \r"
     ]
    },
    {
     "name": "stdout",
     "output_type": "stream",
     "text": [
      "Epoch 131/150, Train Loss: 0.3761, Val Loss: 0.3800\n"
     ]
    },
    {
     "name": "stderr",
     "output_type": "stream",
     "text": [
      "                                                                           \r"
     ]
    },
    {
     "name": "stdout",
     "output_type": "stream",
     "text": [
      "Epoch 132/150, Train Loss: 0.3782, Val Loss: 0.3792\n",
      "Plateaued at 132, switching to cosine annealing \n"
     ]
    },
    {
     "name": "stderr",
     "output_type": "stream",
     "text": [
      "                                                                           \r"
     ]
    },
    {
     "name": "stdout",
     "output_type": "stream",
     "text": [
      "Epoch 133/150, Train Loss: 0.3773, Val Loss: 0.3789\n"
     ]
    },
    {
     "name": "stderr",
     "output_type": "stream",
     "text": [
      "                                                                           \r"
     ]
    },
    {
     "name": "stdout",
     "output_type": "stream",
     "text": [
      "Epoch 134/150, Train Loss: 0.3772, Val Loss: 0.3801\n"
     ]
    },
    {
     "name": "stderr",
     "output_type": "stream",
     "text": [
      "                                                                           \r"
     ]
    },
    {
     "name": "stdout",
     "output_type": "stream",
     "text": [
      "Epoch 135/150, Train Loss: 0.3784, Val Loss: 0.3800\n"
     ]
    },
    {
     "name": "stderr",
     "output_type": "stream",
     "text": [
      "                                                                           \r"
     ]
    },
    {
     "name": "stdout",
     "output_type": "stream",
     "text": [
      "Epoch 136/150, Train Loss: 0.3785, Val Loss: 0.3828\n"
     ]
    },
    {
     "name": "stderr",
     "output_type": "stream",
     "text": [
      "                                                                           \r"
     ]
    },
    {
     "name": "stdout",
     "output_type": "stream",
     "text": [
      "Epoch 137/150, Train Loss: 0.3764, Val Loss: 0.3763\n"
     ]
    },
    {
     "name": "stderr",
     "output_type": "stream",
     "text": [
      "                                                                           \r"
     ]
    },
    {
     "name": "stdout",
     "output_type": "stream",
     "text": [
      "Epoch 138/150, Train Loss: 0.3749, Val Loss: 0.3765\n"
     ]
    },
    {
     "name": "stderr",
     "output_type": "stream",
     "text": [
      "                                                                           \r"
     ]
    },
    {
     "name": "stdout",
     "output_type": "stream",
     "text": [
      "Epoch 139/150, Train Loss: 0.3740, Val Loss: 0.3758\n"
     ]
    },
    {
     "name": "stderr",
     "output_type": "stream",
     "text": [
      "                                                                           \r"
     ]
    },
    {
     "name": "stdout",
     "output_type": "stream",
     "text": [
      "Epoch 140/150, Train Loss: 0.3730, Val Loss: 0.3735\n"
     ]
    },
    {
     "name": "stderr",
     "output_type": "stream",
     "text": [
      "                                                                           \r"
     ]
    },
    {
     "name": "stdout",
     "output_type": "stream",
     "text": [
      "Epoch 141/150, Train Loss: 0.3721, Val Loss: 0.3734\n"
     ]
    },
    {
     "name": "stderr",
     "output_type": "stream",
     "text": [
      "                                                                           \r"
     ]
    },
    {
     "name": "stdout",
     "output_type": "stream",
     "text": [
      "Epoch 142/150, Train Loss: 0.3720, Val Loss: 0.3733\n",
      "Plateaued at 142, switching to cosine annealing \n"
     ]
    },
    {
     "name": "stderr",
     "output_type": "stream",
     "text": [
      "                                                                           \r"
     ]
    },
    {
     "name": "stdout",
     "output_type": "stream",
     "text": [
      "Epoch 143/150, Train Loss: 0.3721, Val Loss: 0.3732\n"
     ]
    },
    {
     "name": "stderr",
     "output_type": "stream",
     "text": [
      "                                                                           \r"
     ]
    },
    {
     "name": "stdout",
     "output_type": "stream",
     "text": [
      "Epoch 144/150, Train Loss: 0.3718, Val Loss: 0.3723\n"
     ]
    },
    {
     "name": "stderr",
     "output_type": "stream",
     "text": [
      "                                                                           \r"
     ]
    },
    {
     "name": "stdout",
     "output_type": "stream",
     "text": [
      "Epoch 145/150, Train Loss: 0.3710, Val Loss: 0.3725\n"
     ]
    },
    {
     "name": "stderr",
     "output_type": "stream",
     "text": [
      "                                                                           \r"
     ]
    },
    {
     "name": "stdout",
     "output_type": "stream",
     "text": [
      "Epoch 146/150, Train Loss: 0.3708, Val Loss: 0.3719\n"
     ]
    },
    {
     "name": "stderr",
     "output_type": "stream",
     "text": [
      "                                                                           \r"
     ]
    },
    {
     "name": "stdout",
     "output_type": "stream",
     "text": [
      "Epoch 147/150, Train Loss: 0.3704, Val Loss: 0.3715\n"
     ]
    },
    {
     "name": "stderr",
     "output_type": "stream",
     "text": [
      "                                                                           \r"
     ]
    },
    {
     "name": "stdout",
     "output_type": "stream",
     "text": [
      "Epoch 148/150, Train Loss: 0.3703, Val Loss: 0.3715\n"
     ]
    },
    {
     "name": "stderr",
     "output_type": "stream",
     "text": [
      "                                                                           \r"
     ]
    },
    {
     "name": "stdout",
     "output_type": "stream",
     "text": [
      "Epoch 149/150, Train Loss: 0.3703, Val Loss: 0.3715\n"
     ]
    },
    {
     "name": "stderr",
     "output_type": "stream",
     "text": [
      "                                                                           \r"
     ]
    },
    {
     "name": "stdout",
     "output_type": "stream",
     "text": [
      "Epoch 150/150, Train Loss: 0.3704, Val Loss: 0.3718\n"
     ]
    }
   ],
   "source": [
    "for e in range(epochs):\n",
    "    conv_ae.train()\n",
    "    train_loss = 0.0\n",
    "    for data, _ in tqdm(frames_trainloader, desc=f\"Epoch {e+1}/{epochs} [Training]\", leave=False):\n",
    "        data = data.to(device)\n",
    "\n",
    "        optimizer.zero_grad()\n",
    "        recon_data = conv_ae(data)\n",
    "        loss = loss_function(recon_data, data, red='mean')\n",
    "        loss.backward()\n",
    "        optimizer.step()\n",
    "\n",
    "        train_loss += loss.item()\n",
    "    \n",
    "    scheduler.step()\n",
    "\n",
    "    conv_ae.eval()\n",
    "    val_loss = 0.0\n",
    "    with torch.no_grad():\n",
    "        for data, _ in tqdm(frames_trainloader, desc=f\"Epoch {e+1}/{epochs} [Validation]\", leave=False):\n",
    "            data = data.to(device)\n",
    "            recon_data = conv_ae(data)\n",
    "            loss = loss_function(recon_data, data, red='mean')\n",
    "\n",
    "            val_loss += loss.item()\n",
    "\n",
    "    # average losses\n",
    "    train_loss /= len(frames_trainloader)\n",
    "    val_loss /= len(frames_trainloader)\n",
    "\n",
    "    print(f\"Epoch {e+1}/{epochs}, Train Loss: {train_loss:.4f}, Val Loss: {val_loss:.4f}\")\n",
    "\n",
    "    log.append({'Epoch':e+1, 'Training Loss':round(train_loss, 4), 'Validation Loss':round(val_loss, 4), 'Learning Rate':scheduler.get_last_lr()[0]})\n",
    "\n",
    "    if val_loss < best_val_loss:\n",
    "        best_val_loss = val_loss\n",
    "        epochs_without_improvement = 0\n",
    "    else:\n",
    "        epochs_without_improvement += 1\n",
    "\n",
    "    if epochs_without_improvement >= patience:\n",
    "        epochs_without_improvement = 0\n",
    "        best_val_loss = 0.0\n",
    "        print(f'Plateaued at {e+1}, switching to cosine annealing ')\n",
    "        scheduler = cos_lr\n",
    "\n",
    "    if e % 5 == 0:\n",
    "        torch.save(conv_ae.state_dict(), model_filepath + model_name + '.pth')\n",
    "        loss_data = pd.DataFrame(log)\n",
    "        loss_data.to_csv(model_filepath+model_name+'.csv', index=False)\n",
    "\n",
    "\n",
    "torch.save(conv_ae.state_dict(), model_filepath + model_name + '.pth')\n",
    "loss_data = pd.DataFrame(log)\n",
    "loss_data.to_csv(model_filepath+model_name+'.csv', index=False)"
   ]
  },
  {
   "cell_type": "markdown",
   "metadata": {},
   "source": [
    "#### Autoencoder Model Parameters"
   ]
  },
  {
   "cell_type": "code",
   "execution_count": 17,
   "metadata": {},
   "outputs": [
    {
     "data": {
      "image/png": "[encoded data removed]",
      "text/plain": [
       "<Figure size 640x480 with 1 Axes>"
      ]
     },
     "metadata": {},
     "output_type": "display_data"
    }
   ],
   "source": [
    "training_data = pd.read_csv(model_filepath+model_name+'.csv')\n",
    "sns.lineplot(data=training_data, x='Training Loss', y='Validation Loss', sort=False)\n",
    "plt.title('Training Loss vs Validation Loss')\n",
    "plt.show()"
   ]
  },
  {
   "cell_type": "code",
   "execution_count": 18,
   "metadata": {},
   "outputs": [
    {
     "data": {
      "image/png": "[encoded data removed]",
      "text/plain": [
       "<Figure size 640x480 with 1 Axes>"
      ]
     },
     "metadata": {},
     "output_type": "display_data"
    }
   ],
   "source": [
    "training_data = pd.read_csv(model_filepath+model_name+'.csv')\n",
    "sns.lineplot(data=training_data, x=training_data.index, y='Training Loss', sort=False)\n",
    "plt.title('Training Loss over epochs')\n",
    "plt.show()"
   ]
  },
  {
   "cell_type": "code",
   "execution_count": 19,
   "metadata": {},
   "outputs": [
    {
     "data": {
      "image/png": "[encoded data removed]",
      "text/plain": [
       "<Figure size 640x480 with 1 Axes>"
      ]
     },
     "metadata": {},
     "output_type": "display_data"
    }
   ],
   "source": [
    "training_data = pd.read_csv(model_filepath+model_name+'.csv')\n",
    "sns.lineplot(data=training_data, x=training_data.index, y='Validation Loss', sort=False)\n",
    "plt.title('Validation loss over epochs')\n",
    "plt.show()"
   ]
  },
  {
   "cell_type": "code",
   "execution_count": 20,
   "metadata": {},
   "outputs": [
    {
     "data": {
      "image/png": "[encoded data removed]",
      "text/plain": [
       "<Figure size 640x480 with 1 Axes>"
      ]
     },
     "metadata": {},
     "output_type": "display_data"
    }
   ],
   "source": [
    "training_data = pd.read_csv(model_filepath+model_name+'.csv')\n",
    "sns.lineplot(data=training_data, x=training_data.index, y='Learning Rate', sort=False)\n",
    "plt.title('Learning rate over epochs')\n",
    "plt.show()"
   ]
  },
  {
   "cell_type": "code",
   "execution_count": 21,
   "metadata": {},
   "outputs": [
    {
     "data": {
      "image/png": "[encoded data removed]",
      "text/plain": [
       "<Figure size 2000x400 with 1 Axes>"
      ]
     },
     "metadata": {},
     "output_type": "display_data"
    }
   ],
   "source": [
    "plt.figure(figsize=(20, 4)) # width and height of the plot\n",
    "\n",
    "legends = []\n",
    "for i, p in enumerate(conv_ae.parameters()):\n",
    "    t = p.cpu()\n",
    "    hy, hx = torch.histogram(t, density=True)\n",
    "    plt.plot(hx[:-1].detach(), hy.detach())\n",
    "plt.title('Distribution of all parameters');"
   ]
  },
  {
   "cell_type": "code",
   "execution_count": 22,
   "metadata": {},
   "outputs": [
    {
     "name": "stdout",
     "output_type": "stream",
     "text": [
      "name: encoders.0.1.weight Shape: torch.Size([64]) Mean: 0.9781014323234558, Std: 0.10790280997753143, saturated: 50.0\n",
      "name: encoders.0.4.weight Shape: torch.Size([64]) Mean: 0.9971997737884521, Std: 0.0541766881942749, saturated: 68.75\n",
      "name: encoders.1.1.weight Shape: torch.Size([128]) Mean: 0.9934070706367493, Std: 0.07297272980213165, saturated: 60.9375\n",
      "name: encoders.1.4.weight Shape: torch.Size([128]) Mean: 0.9888308048248291, Std: 0.06526418775320053, saturated: 58.59375\n",
      "name: encoders.2.1.weight Shape: torch.Size([256]) Mean: 0.9591447710990906, Std: 0.08788279443979263, saturated: 48.046875\n",
      "name: encoders.2.4.weight Shape: torch.Size([256]) Mean: 0.9602075219154358, Std: 0.11138902604579926, saturated: 46.875\n",
      "name: encoders.3.1.weight Shape: torch.Size([512]) Mean: 0.942874550819397, Std: 0.1756574809551239, saturated: 34.5703125\n",
      "name: encoders.3.4.weight Shape: torch.Size([512]) Mean: 0.9173712134361267, Std: 0.21261057257652283, saturated: 27.1484375\n",
      "name: decoders.0.1.weight Shape: torch.Size([512]) Mean: 0.93160480260849, Std: 0.14637917280197144, saturated: 32.8125\n",
      "name: decoders.0.4.weight Shape: torch.Size([256]) Mean: 1.0141208171844482, Std: 0.10363533347845078, saturated: 64.0625\n",
      "name: decoders.1.1.weight Shape: torch.Size([256]) Mean: 0.9724894762039185, Std: 0.11351189017295837, saturated: 37.109375\n",
      "name: decoders.1.4.weight Shape: torch.Size([128]) Mean: 1.0274896621704102, Std: 0.0918549969792366, saturated: 67.96875\n",
      "name: decoders.2.1.weight Shape: torch.Size([128]) Mean: 0.9883947372436523, Std: 0.07390499860048294, saturated: 59.375\n",
      "name: decoders.2.4.weight Shape: torch.Size([64]) Mean: 0.984150230884552, Std: 0.07991474121809006, saturated: 51.5625\n",
      "name: decoders.3.1.weight Shape: torch.Size([64]) Mean: 1.0175219774246216, Std: 0.13476234674453735, saturated: 53.125\n",
      "name: decoders.3.4.weight Shape: torch.Size([1]) Mean: 1.1626276969909668, Std: nan, saturated: 100.0\n",
      "name: bn.1.weight Shape: torch.Size([2084]) Mean: 0.9933292269706726, Std: 0.15400215983390808, saturated: 58.49327850341797\n"
     ]
    },
    {
     "name": "stderr",
     "output_type": "stream",
     "text": [
      "C:\\Users\\arthu\\AppData\\Local\\Temp\\ipykernel_21776\\1795396973.py:5: UserWarning: std(): degrees of freedom is <= 0. Correction should be strictly less than the reduction factor (input numel divided by output numel). (Triggered internally at C:\\actions-runner\\_work\\pytorch\\pytorch\\builder\\windows\\pytorch\\aten\\src\\ATen\\native\\ReduceOps.cpp:1823.)\n",
      "  print(f'name: {name} Shape: {t.shape} Mean: {t.mean()}, Std: {t.std()}, saturated: {saturated}')\n"
     ]
    },
    {
     "name": "stdout",
     "output_type": "stream",
     "text": [
      "name: fc.1.weight Shape: torch.Size([8192]) Mean: 1.0044004917144775, Std: 0.09016864001750946, saturated: 67.05322265625\n"
     ]
    },
    {
     "data": {
      "image/png": "[encoded data removed]",
      "text/plain": [
       "<Figure size 640x480 with 1 Axes>"
      ]
     },
     "metadata": {},
     "output_type": "display_data"
    }
   ],
   "source": [
    "for name, param in conv_ae.named_parameters():\n",
    "    t = param.cpu()\n",
    "    saturated = (t.abs() > 0.97).float().mean()*100\n",
    "    if saturated > 0.0:\n",
    "        print(f'name: {name} Shape: {t.shape} Mean: {t.mean()}, Std: {t.std()}, saturated: {saturated}')\n",
    "        hy, hx = torch.histogram(t, density=True)\n",
    "        plt.plot(hx[:-1].detach(), hy.detach())\n",
    "plt.title('distribution of saturated parameters');\n"
   ]
  },
  {
   "cell_type": "code",
   "execution_count": 23,
   "metadata": {},
   "outputs": [
    {
     "name": "stdout",
     "output_type": "stream",
     "text": [
      "name: encoders.0.3.bias Shape: torch.Size([64]) Mean: -0.007649094797670841, Std: 0.03222028166055679, saturated: 0.0\n",
      "name: encoders.1.0.bias Shape: torch.Size([128]) Mean: -0.004181188996881247, Std: 0.028927311301231384, saturated: 0.0\n",
      "name: encoders.1.3.bias Shape: torch.Size([128]) Mean: -0.00226973881945014, Std: 0.021202336996793747, saturated: 0.0\n",
      "name: encoders.2.0.bias Shape: torch.Size([256]) Mean: -0.0016211217734962702, Std: 0.021876174956560135, saturated: 0.0\n",
      "name: encoders.2.3.bias Shape: torch.Size([256]) Mean: -0.0013051407877355814, Std: 0.01661158725619316, saturated: 0.0\n",
      "name: encoders.3.0.bias Shape: torch.Size([512]) Mean: 0.00045792863238602877, Std: 0.01475407462567091, saturated: 0.0\n",
      "name: encoders.3.3.bias Shape: torch.Size([512]) Mean: 0.0002818211796693504, Std: 0.011990330182015896, saturated: 0.0\n",
      "name: decoders.0.0.bias Shape: torch.Size([512]) Mean: -2.3961212718859315e-05, Std: 0.012295850552618504, saturated: 0.0\n",
      "name: decoders.0.3.bias Shape: torch.Size([256]) Mean: 0.00021950846712570637, Std: 0.011354700662195683, saturated: 0.0\n",
      "name: decoders.1.0.bias Shape: torch.Size([256]) Mean: -0.0019665516447275877, Std: 0.01650867983698845, saturated: 0.0\n",
      "name: decoders.1.3.bias Shape: torch.Size([128]) Mean: -0.0003438984276726842, Std: 0.015812527388334274, saturated: 0.0\n",
      "name: decoders.2.0.bias Shape: torch.Size([128]) Mean: -0.0042489273473620415, Std: 0.020962577313184738, saturated: 0.0\n",
      "name: decoders.2.3.bias Shape: torch.Size([64]) Mean: -0.002872930373996496, Std: 0.02259497530758381, saturated: 0.0\n",
      "name: decoders.3.0.bias Shape: torch.Size([64]) Mean: 0.0028590031433850527, Std: 0.031021350994706154, saturated: 0.0\n",
      "name: bn.0.bias Shape: torch.Size([2084]) Mean: -0.007771805860102177, Std: 0.04600432142615318, saturated: 0.0\n"
     ]
    },
    {
     "name": "stderr",
     "output_type": "stream",
     "text": [
      "C:\\Users\\arthu\\AppData\\Local\\Temp\\ipykernel_21776\\2010225207.py:4: UserWarning: std(): degrees of freedom is <= 0. Correction should be strictly less than the reduction factor (input numel divided by output numel). (Triggered internally at C:\\actions-runner\\_work\\pytorch\\pytorch\\builder\\windows\\pytorch\\aten\\src\\ATen\\native\\ReduceOps.cpp:1823.)\n",
      "  if t.std() < 0.05:\n"
     ]
    },
    {
     "name": "stdout",
     "output_type": "stream",
     "text": [
      "name: fc.0.bias Shape: torch.Size([8192]) Mean: -0.005736543331295252, Std: 0.04386531561613083, saturated: 0.0\n"
     ]
    },
    {
     "data": {
      "image/png": "[encoded data removed]",
      "text/plain": [
       "<Figure size 640x480 with 1 Axes>"
      ]
     },
     "metadata": {},
     "output_type": "display_data"
    }
   ],
   "source": [
    "for name, param in conv_ae.named_parameters():\n",
    "    t = param.cpu()\n",
    "    saturated = (t.abs() > 0.97).float().mean()*100\n",
    "    if t.std() < 0.05:\n",
    "        print(f'name: {name} Shape: {t.shape} Mean: {t.mean()}, Std: {t.std()}, saturated: {saturated}')\n",
    "        hy, hx = torch.histogram(t, density=True)\n",
    "        plt.plot(hx[:-1].detach(), hy.detach())\n",
    "plt.title('distribution of collapsed parameters');"
   ]
  },
  {
   "cell_type": "code",
   "execution_count": 17,
   "metadata": {},
   "outputs": [
    {
     "data": {
      "text/plain": [
       "torch.Size([1, 1, 129, 5])"
      ]
     },
     "execution_count": 17,
     "metadata": {},
     "output_type": "execute_result"
    }
   ],
   "source": [
    "with torch.no_grad():\n",
    "    sample_input = frames_trainset.__getitem__(0)[0].unsqueeze(0).to(device)\n",
    "sample_input.shape"
   ]
  },
  {
   "cell_type": "code",
   "execution_count": 22,
   "metadata": {},
   "outputs": [
    {
     "data": {
      "text/plain": [
       "(tensor([[[[0.0000e+00, 0.0000e+00, 3.7057e-01, 4.6624e-01, 0.0000e+00],\n",
       "           [0.0000e+00, 0.0000e+00, 7.4848e-01, 3.1600e-01, 1.3604e-01],\n",
       "           [0.0000e+00, 0.0000e+00, 1.1264e+00, 1.6576e-01, 2.7207e-01],\n",
       "           [0.0000e+00, 0.0000e+00, 8.7717e-01, 8.4270e-02, 4.0525e-01],\n",
       "           [0.0000e+00, 0.0000e+00, 6.0738e-01, 5.0310e-03, 5.3834e-01],\n",
       "           [0.0000e+00, 0.0000e+00, 9.2429e-01, 2.4305e-01, 4.9191e-01],\n",
       "           [0.0000e+00, 0.0000e+00, 1.2810e+00, 5.0258e-01, 4.3330e-01],\n",
       "           [0.0000e+00, 0.0000e+00, 1.3205e+00, 5.7904e-01, 3.8668e-01],\n",
       "           [0.0000e+00, 0.0000e+00, 1.3266e+00, 6.3624e-01, 3.4133e-01],\n",
       "           [0.0000e+00, 0.0000e+00, 1.1576e+00, 6.4277e-01, 3.3261e-01],\n",
       "           [0.0000e+00, 0.0000e+00, 9.6320e-01, 6.4194e-01, 3.2922e-01],\n",
       "           [0.0000e+00, 0.0000e+00, 8.2434e-01, 6.3328e-01, 1.9259e-01],\n",
       "           [0.0000e+00, 0.0000e+00, 6.9597e-01, 6.2315e-01, 3.0814e-02],\n",
       "           [0.0000e+00, 0.0000e+00, 7.2169e-01, 6.1810e-01, 0.0000e+00],\n",
       "           [0.0000e+00, 0.0000e+00, 7.8368e-01, 6.1425e-01, 0.0000e+00],\n",
       "           [0.0000e+00, 0.0000e+00, 7.6952e-01, 6.1652e-01, 0.0000e+00],\n",
       "           [0.0000e+00, 0.0000e+00, 7.3361e-01, 6.2054e-01, 0.0000e+00],\n",
       "           [0.0000e+00, 0.0000e+00, 6.7493e-01, 6.9225e-01, 0.0000e+00],\n",
       "           [0.0000e+00, 0.0000e+00, 6.0851e-01, 7.8699e-01, 0.0000e+00],\n",
       "           [0.0000e+00, 0.0000e+00, 6.3584e-01, 9.3022e-01, 0.0000e+00],\n",
       "           [0.0000e+00, 0.0000e+00, 7.0067e-01, 1.0928e+00, 0.0000e+00],\n",
       "           [0.0000e+00, 0.0000e+00, 6.5810e-01, 1.2682e+00, 0.0000e+00],\n",
       "           [0.0000e+00, 0.0000e+00, 5.6559e-01, 1.4494e+00, 0.0000e+00],\n",
       "           [0.0000e+00, 0.0000e+00, 5.0190e-01, 1.6325e+00, 0.0000e+00],\n",
       "           [0.0000e+00, 0.0000e+00, 4.5369e-01, 1.8165e+00, 0.0000e+00],\n",
       "           [0.0000e+00, 0.0000e+00, 4.2924e-01, 1.8860e+00, 0.0000e+00],\n",
       "           [0.0000e+00, 0.0000e+00, 4.1941e-01, 1.8849e+00, 0.0000e+00],\n",
       "           [0.0000e+00, 8.6284e-02, 3.2879e-01, 1.9678e+00, 2.4245e-02],\n",
       "           [0.0000e+00, 2.3320e-01, 1.8140e-01, 2.1096e+00, 6.5526e-02],\n",
       "           [0.0000e+00, 2.6947e-01, 8.4207e-02, 2.2853e+00, 1.1462e-01],\n",
       "           [0.0000e+00, 2.1723e-01, 2.7164e-02, 2.4879e+00, 1.6998e-01],\n",
       "           [0.0000e+00, 1.4684e-01, 0.0000e+00, 2.6603e+00, 1.9652e-01],\n",
       "           [0.0000e+00, 5.9947e-02, 0.0000e+00, 2.8051e+00, 1.9688e-01],\n",
       "           [0.0000e+00, 1.1983e-02, 0.0000e+00, 2.9249e+00, 1.7176e-01],\n",
       "           [0.0000e+00, 4.2003e-03, 0.0000e+00, 3.0189e+00, 1.2033e-01],\n",
       "           [0.0000e+00, 0.0000e+00, 0.0000e+00, 3.0659e+00, 1.0489e-01],\n",
       "           [0.0000e+00, 0.0000e+00, 0.0000e+00, 3.0579e+00, 1.3165e-01],\n",
       "           [0.0000e+00, 0.0000e+00, 0.0000e+00, 3.0332e+00, 1.6547e-01],\n",
       "           [0.0000e+00, 0.0000e+00, 0.0000e+00, 2.9864e+00, 2.0870e-01],\n",
       "           [0.0000e+00, 0.0000e+00, 0.0000e+00, 2.9179e+00, 2.5594e-01],\n",
       "           [0.0000e+00, 0.0000e+00, 0.0000e+00, 2.8164e+00, 3.0928e-01],\n",
       "           [0.0000e+00, 0.0000e+00, 0.0000e+00, 2.6720e+00, 3.6687e-01],\n",
       "           [0.0000e+00, 0.0000e+00, 0.0000e+00, 2.4530e+00, 4.3186e-01],\n",
       "           [0.0000e+00, 0.0000e+00, 0.0000e+00, 2.2382e+00, 4.7727e-01],\n",
       "           [0.0000e+00, 0.0000e+00, 0.0000e+00, 2.0322e+00, 4.8352e-01],\n",
       "           [0.0000e+00, 0.0000e+00, 2.1677e-02, 1.8029e+00, 4.9656e-01],\n",
       "           [0.0000e+00, 0.0000e+00, 9.3553e-02, 1.5198e+00, 5.2532e-01],\n",
       "           [0.0000e+00, 0.0000e+00, 1.9123e-01, 1.2239e+00, 5.5515e-01],\n",
       "           [0.0000e+00, 0.0000e+00, 3.5872e-01, 8.9299e-01, 5.8788e-01],\n",
       "           [0.0000e+00, 0.0000e+00, 4.9234e-01, 6.0544e-01, 6.1871e-01],\n",
       "           [0.0000e+00, 0.0000e+00, 5.1757e-01, 4.5652e-01, 6.4348e-01],\n",
       "           [0.0000e+00, 0.0000e+00, 5.5629e-01, 3.4450e-01, 6.6576e-01],\n",
       "           [0.0000e+00, 0.0000e+00, 6.4696e-01, 3.7444e-01, 6.7851e-01],\n",
       "           [0.0000e+00, 0.0000e+00, 7.2786e-01, 3.8735e-01, 6.9706e-01],\n",
       "           [0.0000e+00, 0.0000e+00, 7.6266e-01, 3.1975e-01, 7.4310e-01],\n",
       "           [0.0000e+00, 0.0000e+00, 7.7924e-01, 2.6350e-01, 7.9348e-01],\n",
       "           [0.0000e+00, 0.0000e+00, 6.8647e-01, 2.7542e-01, 8.6998e-01],\n",
       "           [0.0000e+00, 0.0000e+00, 5.9061e-01, 2.8469e-01, 9.3796e-01],\n",
       "           [0.0000e+00, 0.0000e+00, 4.6996e-01, 2.7290e-01, 9.3777e-01],\n",
       "           [0.0000e+00, 0.0000e+00, 3.4527e-01, 2.5313e-01, 9.3440e-01],\n",
       "           [0.0000e+00, 0.0000e+00, 1.7383e-01, 1.4084e-01, 8.9410e-01],\n",
       "           [0.0000e+00, 0.0000e+00, 1.0311e-02, 3.5367e-02, 8.5381e-01],\n",
       "           [0.0000e+00, 0.0000e+00, 5.1143e-03, 6.6175e-02, 8.1396e-01],\n",
       "           [0.0000e+00, 0.0000e+00, 0.0000e+00, 9.7645e-02, 7.7437e-01],\n",
       "           [0.0000e+00, 0.0000e+00, 0.0000e+00, 1.7014e-01, 7.5129e-01],\n",
       "           [0.0000e+00, 0.0000e+00, 0.0000e+00, 2.4263e-01, 7.2821e-01],\n",
       "           [0.0000e+00, 0.0000e+00, 0.0000e+00, 2.3969e-01, 7.3102e-01],\n",
       "           [0.0000e+00, 0.0000e+00, 0.0000e+00, 2.3553e-01, 7.3424e-01],\n",
       "           [0.0000e+00, 1.7659e-01, 0.0000e+00, 1.8402e-01, 7.5309e-01],\n",
       "           [0.0000e+00, 3.6201e-01, 0.0000e+00, 1.3015e-01, 7.7273e-01],\n",
       "           [0.0000e+00, 6.1075e-01, 0.0000e+00, 6.8840e-02, 7.8959e-01],\n",
       "           [0.0000e+00, 8.6495e-01, 0.0000e+00, 6.8840e-03, 8.0620e-01],\n",
       "           [0.0000e+00, 1.1107e+00, 1.5688e-02, 0.0000e+00, 8.3252e-01],\n",
       "           [0.0000e+00, 1.3555e+00, 3.3338e-02, 0.0000e+00, 8.6005e-01],\n",
       "           [0.0000e+00, 1.5099e+00, 5.7267e-02, 0.0000e+00, 8.7946e-01],\n",
       "           [0.0000e+00, 1.6493e+00, 8.2242e-02, 0.0000e+00, 8.9752e-01],\n",
       "           [0.0000e+00, 1.6756e+00, 8.3204e-02, 0.0000e+00, 8.5782e-01],\n",
       "           [0.0000e+00, 1.6780e+00, 7.9085e-02, 0.0000e+00, 8.0589e-01],\n",
       "           [0.0000e+00, 1.6192e+00, 4.7675e-02, 0.0000e+00, 7.5164e-01],\n",
       "           [0.0000e+00, 1.5444e+00, 9.1682e-03, 0.0000e+00, 6.9678e-01],\n",
       "           [0.0000e+00, 1.4912e+00, 0.0000e+00, 0.0000e+00, 6.6476e-01],\n",
       "           [0.0000e+00, 1.4446e+00, 0.0000e+00, 0.0000e+00, 6.3989e-01],\n",
       "           [0.0000e+00, 1.3078e+00, 0.0000e+00, 0.0000e+00, 6.2657e-01],\n",
       "           [0.0000e+00, 1.1377e+00, 0.0000e+00, 0.0000e+00, 6.1752e-01],\n",
       "           [0.0000e+00, 9.5868e-01, 1.6721e-03, 0.0000e+00, 6.1574e-01],\n",
       "           [0.0000e+00, 7.7586e-01, 4.0661e-03, 0.0000e+00, 6.1709e-01],\n",
       "           [0.0000e+00, 5.7518e-01, 3.2681e-03, 0.0000e+00, 6.0676e-01],\n",
       "           [0.0000e+00, 3.6557e-01, 8.7403e-04, 0.0000e+00, 5.9060e-01],\n",
       "           [0.0000e+00, 1.9872e-01, 0.0000e+00, 0.0000e+00, 5.9619e-01],\n",
       "           [0.0000e+00, 5.6454e-02, 0.0000e+00, 0.0000e+00, 6.1430e-01],\n",
       "           [0.0000e+00, 0.0000e+00, 0.0000e+00, 0.0000e+00, 6.1039e-01],\n",
       "           [0.0000e+00, 0.0000e+00, 0.0000e+00, 0.0000e+00, 5.9199e-01],\n",
       "           [0.0000e+00, 0.0000e+00, 0.0000e+00, 0.0000e+00, 5.7889e-01],\n",
       "           [0.0000e+00, 0.0000e+00, 0.0000e+00, 0.0000e+00, 5.6977e-01],\n",
       "           [0.0000e+00, 0.0000e+00, 0.0000e+00, 0.0000e+00, 5.8262e-01],\n",
       "           [0.0000e+00, 0.0000e+00, 0.0000e+00, 0.0000e+00, 6.1420e-01],\n",
       "           [0.0000e+00, 0.0000e+00, 0.0000e+00, 0.0000e+00, 6.0929e-01],\n",
       "           [0.0000e+00, 0.0000e+00, 0.0000e+00, 0.0000e+00, 5.6903e-01],\n",
       "           [0.0000e+00, 0.0000e+00, 0.0000e+00, 0.0000e+00, 5.3946e-01],\n",
       "           [0.0000e+00, 0.0000e+00, 0.0000e+00, 0.0000e+00, 5.2165e-01],\n",
       "           [0.0000e+00, 0.0000e+00, 0.0000e+00, 1.2320e-01, 4.9380e-01],\n",
       "           [0.0000e+00, 0.0000e+00, 0.0000e+00, 4.0039e-01, 4.5340e-01],\n",
       "           [0.0000e+00, 0.0000e+00, 4.1693e-03, 7.1268e-01, 4.4023e-01],\n",
       "           [0.0000e+00, 0.0000e+00, 1.4272e-02, 1.0749e+00, 4.6580e-01],\n",
       "           [0.0000e+00, 0.0000e+00, 4.3888e-02, 1.4071e+00, 5.1293e-01],\n",
       "           [0.0000e+00, 0.0000e+00, 1.0521e-01, 1.6902e+00, 5.9510e-01],\n",
       "           [0.0000e+00, 0.0000e+00, 1.6418e-01, 1.9492e+00, 6.9187e-01],\n",
       "           [0.0000e+00, 0.0000e+00, 2.1875e-01, 2.1632e+00, 8.1583e-01],\n",
       "           [0.0000e+00, 0.0000e+00, 2.3246e-01, 2.3540e+00, 9.2322e-01],\n",
       "           [0.0000e+00, 0.0000e+00, 1.5833e-01, 2.4948e+00, 9.9498e-01],\n",
       "           [0.0000e+00, 0.0000e+00, 9.0567e-02, 2.5768e+00, 1.0426e+00],\n",
       "           [0.0000e+00, 0.0000e+00, 3.8697e-02, 2.5118e+00, 1.0301e+00],\n",
       "           [0.0000e+00, 0.0000e+00, 0.0000e+00, 2.4611e+00, 1.0089e+00],\n",
       "           [0.0000e+00, 0.0000e+00, 0.0000e+00, 2.4522e+00, 9.6232e-01],\n",
       "           [0.0000e+00, 0.0000e+00, 0.0000e+00, 2.4621e+00, 9.2366e-01],\n",
       "           [0.0000e+00, 0.0000e+00, 0.0000e+00, 2.5380e+00, 9.1261e-01],\n",
       "           [0.0000e+00, 0.0000e+00, 4.6598e-03, 2.5861e+00, 9.0051e-01],\n",
       "           [0.0000e+00, 0.0000e+00, 2.9124e-02, 2.5161e+00, 8.8395e-01],\n",
       "           [0.0000e+00, 0.0000e+00, 7.5643e-02, 2.3981e+00, 8.8325e-01],\n",
       "           [0.0000e+00, 0.0000e+00, 2.3905e-01, 2.0254e+00, 9.6660e-01],\n",
       "           [0.0000e+00, 0.0000e+00, 3.7909e-01, 1.6429e+00, 1.0266e+00],\n",
       "           [0.0000e+00, 0.0000e+00, 3.5846e-01, 1.1919e+00, 9.2611e-01],\n",
       "           [0.0000e+00, 0.0000e+00, 3.4271e-01, 7.7065e-01, 8.2303e-01],\n",
       "           [0.0000e+00, 0.0000e+00, 3.7337e-01, 6.3120e-01, 6.9542e-01],\n",
       "           [0.0000e+00, 0.0000e+00, 3.8952e-01, 5.0188e-01, 5.8047e-01],\n",
       "           [0.0000e+00, 0.0000e+00, 1.9162e-01, 5.2202e-01, 6.5234e-01],\n",
       "           [0.0000e+00, 0.0000e+00, 0.0000e+00, 5.3306e-01, 7.1065e-01],\n",
       "           [0.0000e+00, 0.0000e+00, 0.0000e+00, 2.6653e-01, 3.5532e-01],\n",
       "           [0.0000e+00, 0.0000e+00, 0.0000e+00, 0.0000e+00, 0.0000e+00]]]],\n",
       "        device='cuda:0'),\n",
       " torch.Size([1, 1, 129, 5]))"
      ]
     },
     "execution_count": 22,
     "metadata": {},
     "output_type": "execute_result"
    }
   ],
   "source": [
    "# set log_stats flag to true to log activation statistics for each module\n",
    "conv_ae.log_stats = True\n",
    "with torch.no_grad():\n",
    "    sample_output = conv_ae(sample_input)\n",
    "conv_ae.log_stats = False\n",
    "sample_output, sample_output.shape"
   ]
  },
  {
   "cell_type": "code",
   "execution_count": 23,
   "metadata": {},
   "outputs": [
    {
     "data": {
      "text/plain": [
       "tensor(1.1090, device='cuda:0')"
      ]
     },
     "execution_count": 23,
     "metadata": {},
     "output_type": "execute_result"
    }
   ],
   "source": [
    "with torch.no_grad():\n",
    "    loss = loss_function(sample_input, sample_output, red='mean')\n",
    "loss"
   ]
  },
  {
   "cell_type": "code",
   "execution_count": 24,
   "metadata": {},
   "outputs": [
    {
     "data": {
      "image/png": "[encoded data removed]",
      "text/plain": [
       "<Figure size 2000x400 with 1 Axes>"
      ]
     },
     "metadata": {},
     "output_type": "display_data"
    }
   ],
   "source": [
    "# accessing activation statistics saved to activation_stats by the forward hook\n",
    "plt.figure(figsize=(20, 4))\n",
    "s = []\n",
    "m = []\n",
    "for module, stats in activation_stats.items():\n",
    "    s.append(stats['std'])\n",
    "    m.append(stats['mean'])\n",
    "\n",
    "plt.hist(s, len(s), label='Std of preactivations'); #  blue\n",
    "plt.hist(m, len(m), label='Mean of preactivations'); # orange\n"
   ]
  }
 ],
 "metadata": {
  "kernelspec": {
   "display_name": "Python 3",
   "language": "python",
   "name": "python3"
  },
  "language_info": {
   "codemirror_mode": {
    "name": "ipython",
    "version": 3
   },
   "file_extension": ".py",
   "mimetype": "text/x-python",
   "name": "python",
   "nbconvert_exporter": "python",
   "pygments_lexer": "ipython3",
   "version": "3.12.9"
  }
 },
 "nbformat": 4,
 "nbformat_minor": 2
}
